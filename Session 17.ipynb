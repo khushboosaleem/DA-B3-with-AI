{
 "cells": [
  {
   "cell_type": "markdown",
   "id": "4943f8fc-4b7b-4886-bb57-e2341501764a",
   "metadata": {},
   "source": [
    "### OOP (Object Oriented Programming)\n",
    "\n",
    "OOP is a programming paradigm based on the concept of objects, which can contain data and code:\n",
    "\n",
    "- Data in the form of fields (often called attributes or properties)\n",
    "\n",
    "- Code in the form of procedures (often called methods)\n",
    "\n",
    "The main principles of OOP are:\n",
    "\n",
    "Encapsulation — bundling data and methods that operate on the data within one unit (class).\n",
    "\n",
    "Inheritance — a way to form new classes using classes that have already been defined.\n",
    "\n",
    "Polymorphism — ability to use a common interface for multiple forms (data types).\n",
    "\n",
    "Abstraction — hiding complex implementation details and showing only the necessary features."
   ]
  },
  {
   "cell_type": "code",
   "execution_count": 2,
   "id": "302673bd-b3ee-4155-9ded-44f82b48d480",
   "metadata": {},
   "outputs": [],
   "source": [
    "class Person:\n",
    "    def say_hello():\n",
    "        print(\"Hello!\")\n",
    "\n",
    "p = Person() #OBJECT\n",
    "# p.say_hello()"
   ]
  },
  {
   "cell_type": "code",
   "execution_count": 9,
   "id": "f765a910-536d-4584-87bb-494e2f76b03c",
   "metadata": {},
   "outputs": [
    {
     "name": "stdout",
     "output_type": "stream",
     "text": [
      "Hello! <__main__.Person object at 0x00000236AF623FE0>\n"
     ]
    }
   ],
   "source": [
    "class Person:\n",
    "    def say_hello(self):\n",
    "        print(f\"Hello! {self}\")\n",
    "\n",
    "p = Person() #OBJECT\n",
    "p.say_hello()"
   ]
  },
  {
   "cell_type": "code",
   "execution_count": 3,
   "id": "1c1c38c3-94f5-48c1-8fd1-25a286f17771",
   "metadata": {},
   "outputs": [
    {
     "ename": "TypeError",
     "evalue": "Person.say_hello() takes 0 positional arguments but 1 was given",
     "output_type": "error",
     "traceback": [
      "\u001b[1;31m---------------------------------------------------------------------------\u001b[0m",
      "\u001b[1;31mTypeError\u001b[0m                                 Traceback (most recent call last)",
      "Cell \u001b[1;32mIn[3], line 1\u001b[0m\n\u001b[1;32m----> 1\u001b[0m p\u001b[38;5;241m.\u001b[39msay_hello()\n",
      "\u001b[1;31mTypeError\u001b[0m: Person.say_hello() takes 0 positional arguments but 1 was given"
     ]
    }
   ],
   "source": [
    "p.say_hello() #calling method of class"
   ]
  },
  {
   "cell_type": "code",
   "execution_count": 4,
   "id": "224488ca-f00d-43f9-abe2-ae3cff67d2c3",
   "metadata": {},
   "outputs": [],
   "source": [
    "class Person:\n",
    "    def say_hello(self):\n",
    "        print(\"Hello!\")\n",
    "\n",
    "p = Person()"
   ]
  },
  {
   "cell_type": "code",
   "execution_count": 5,
   "id": "1e428805-632d-46ed-80dc-d71ddaea6426",
   "metadata": {},
   "outputs": [
    {
     "name": "stdout",
     "output_type": "stream",
     "text": [
      "Hello!\n"
     ]
    }
   ],
   "source": [
    "p.say_hello()"
   ]
  },
  {
   "cell_type": "code",
   "execution_count": 12,
   "id": "be753a50-67c5-43f7-9baa-e3a7a4b84839",
   "metadata": {},
   "outputs": [
    {
     "name": "stdout",
     "output_type": "stream",
     "text": [
      "This is example\n"
     ]
    }
   ],
   "source": [
    "class Car:\n",
    "    def __init__(self, color, brand):\n",
    "        self.color = color    # attribute\n",
    "        self.brand = brand\n",
    "        print('This is example')\n",
    "\n",
    "my_car = Car(\"red\", \"Toyota\")"
   ]
  },
  {
   "cell_type": "code",
   "execution_count": 8,
   "id": "9b3f16cb-ca3f-4d30-aa41-4cd6c3de491a",
   "metadata": {},
   "outputs": [
    {
     "ename": "TypeError",
     "evalue": "Car.__init__() takes 3 positional arguments but 4 were given",
     "output_type": "error",
     "traceback": [
      "\u001b[1;31m---------------------------------------------------------------------------\u001b[0m",
      "\u001b[1;31mTypeError\u001b[0m                                 Traceback (most recent call last)",
      "Cell \u001b[1;32mIn[8], line 1\u001b[0m\n\u001b[1;32m----> 1\u001b[0m my_car \u001b[38;5;241m=\u001b[39m Car(\u001b[38;5;124m\"\u001b[39m\u001b[38;5;124mred\u001b[39m\u001b[38;5;124m\"\u001b[39m, \u001b[38;5;124m\"\u001b[39m\u001b[38;5;124mToyota\u001b[39m\u001b[38;5;124m\"\u001b[39m, \u001b[38;5;241m2012\u001b[39m)\n",
      "\u001b[1;31mTypeError\u001b[0m: Car.__init__() takes 3 positional arguments but 4 were given"
     ]
    }
   ],
   "source": [
    "my_car = Car(\"red\", \"Toyota\", 2012)"
   ]
  },
  {
   "cell_type": "code",
   "execution_count": 7,
   "id": "27877095-6944-441c-b12b-3bc31f81db6e",
   "metadata": {},
   "outputs": [
    {
     "data": {
      "text/plain": [
       "'red'"
      ]
     },
     "execution_count": 7,
     "metadata": {},
     "output_type": "execute_result"
    }
   ],
   "source": [
    "my_car.color #attribute calling"
   ]
  },
  {
   "cell_type": "code",
   "execution_count": 10,
   "id": "c146293e-c390-4606-a75c-19681e40937d",
   "metadata": {},
   "outputs": [
    {
     "data": {
      "text/plain": [
       "'Toyota'"
      ]
     },
     "execution_count": 10,
     "metadata": {},
     "output_type": "execute_result"
    }
   ],
   "source": [
    "my_car.brand"
   ]
  },
  {
   "cell_type": "code",
   "execution_count": 11,
   "id": "26eed2db-1336-45b6-9f70-da89bf75cfdd",
   "metadata": {},
   "outputs": [
    {
     "data": {
      "text/plain": [
       "['__class__',\n",
       " '__delattr__',\n",
       " '__dict__',\n",
       " '__dir__',\n",
       " '__doc__',\n",
       " '__eq__',\n",
       " '__format__',\n",
       " '__ge__',\n",
       " '__getattribute__',\n",
       " '__getstate__',\n",
       " '__gt__',\n",
       " '__hash__',\n",
       " '__init__',\n",
       " '__init_subclass__',\n",
       " '__le__',\n",
       " '__lt__',\n",
       " '__module__',\n",
       " '__ne__',\n",
       " '__new__',\n",
       " '__reduce__',\n",
       " '__reduce_ex__',\n",
       " '__repr__',\n",
       " '__setattr__',\n",
       " '__sizeof__',\n",
       " '__str__',\n",
       " '__subclasshook__',\n",
       " '__weakref__']"
      ]
     },
     "execution_count": 11,
     "metadata": {},
     "output_type": "execute_result"
    }
   ],
   "source": [
    "dir(Car)"
   ]
  },
  {
   "cell_type": "code",
   "execution_count": null,
   "id": "ed617b14-f059-4a13-9138-3e194455e85c",
   "metadata": {},
   "outputs": [],
   "source": [
    "class Car:\n",
    "    def __init__(self, color, brand):\n",
    "        self.color = color    # attribute\n",
    "        self.brand = brand    # attribute\n",
    "\n",
    "    def start_engine(self):   # method\n",
    "        print(f\"The {self.brand} car's engine has started.\")\n",
    "\n",
    "    def describe(self):       # method\n",
    "        print(f\"This car is a {self.color} {self.brand}.\")\n",
    "\n",
    "# Creating an object\n",
    "my_car = Car(\"red\", \"Toyota\")\n",
    "\n",
    "# Accessing attributes\n",
    "print(my_car.color)\n",
    "print(my_car.brand) \n",
    "\n",
    "# Calling methods\n",
    "my_car.start_engine() \n",
    "my_car.describe() \n"
   ]
  },
  {
   "cell_type": "markdown",
   "id": "f5ca97c9-8680-4821-babd-e8ca663fb056",
   "metadata": {},
   "source": [
    "# ***Inheritance***\n",
    "Inheritance is a fundamental concept in object-oriented programming (OOP) where a new class, called the child class or subclass, is derived from an existing class, known as the parent class or superclass. The child class inherits the attributes and methods of the parent class, allowing for code reusability and the ability to extend or modify the behavior of the parent class without altering its original code.\n",
    "\n",
    "**Key Points:**\n",
    "\n",
    "* Purpose: To promote reusability, maintainability, and scalability of code.\n",
    "* Access: The child class can use or override the methods and properties of the parent class."
   ]
  },
  {
   "cell_type": "markdown",
   "id": "ec3b89a0-6a1b-4b59-9822-bb8c7b9677f9",
   "metadata": {},
   "source": [
    "* parent class -> base class, superclass\n",
    "* child class-> derived class, subclass"
   ]
  },
  {
   "cell_type": "code",
   "execution_count": 13,
   "id": "4df1e22c-9fdd-43b0-bd65-0f0d24e4287b",
   "metadata": {},
   "outputs": [],
   "source": [
    "class Employee:\n",
    "    def __init__(self,name,Employee_id,salary):\n",
    "        self.name = name\n",
    "        self.Employee_id = Employee_id\n",
    "        self.salary = salary\n",
    "\n",
    "    def work(self):\n",
    "        print(f'{self.name} is working')\n",
    "\n",
    "    def get_details(self):\n",
    "        print(f'name: {self.name},Employee_id: {self.Employee_id}, salary: {self.salary}')"
   ]
  },
  {
   "cell_type": "code",
   "execution_count": 14,
   "id": "f008d4b4-d124-404c-a923-454e07b63312",
   "metadata": {},
   "outputs": [],
   "source": [
    "employee = Employee('amjad',101,50000)"
   ]
  },
  {
   "cell_type": "code",
   "execution_count": 15,
   "id": "31136fa3-35e8-4e0f-8fe5-8e2f6f8b2505",
   "metadata": {},
   "outputs": [
    {
     "data": {
      "text/plain": [
       "'amjad'"
      ]
     },
     "execution_count": 15,
     "metadata": {},
     "output_type": "execute_result"
    }
   ],
   "source": [
    "employee.name"
   ]
  },
  {
   "cell_type": "code",
   "execution_count": 16,
   "id": "8d04b5a0-a378-4192-8fc7-bf29c4d61c98",
   "metadata": {},
   "outputs": [
    {
     "data": {
      "text/plain": [
       "101"
      ]
     },
     "execution_count": 16,
     "metadata": {},
     "output_type": "execute_result"
    }
   ],
   "source": [
    "employee.Employee_id"
   ]
  },
  {
   "cell_type": "code",
   "execution_count": 17,
   "id": "08179124-d175-476e-baa5-4f88c81652b4",
   "metadata": {},
   "outputs": [
    {
     "data": {
      "text/plain": [
       "50000"
      ]
     },
     "execution_count": 17,
     "metadata": {},
     "output_type": "execute_result"
    }
   ],
   "source": [
    "employee.salary"
   ]
  },
  {
   "cell_type": "code",
   "execution_count": 18,
   "id": "787c66a0-3516-4e08-a16f-afedfc5a23f9",
   "metadata": {},
   "outputs": [
    {
     "name": "stdout",
     "output_type": "stream",
     "text": [
      "amjad is working\n"
     ]
    }
   ],
   "source": [
    "employee.work()"
   ]
  },
  {
   "cell_type": "code",
   "execution_count": 19,
   "id": "d89eafa2-69a6-495b-b2cc-09e405394ba6",
   "metadata": {},
   "outputs": [
    {
     "name": "stdout",
     "output_type": "stream",
     "text": [
      "name: amjad,Employee_id: 101, salary: 50000\n"
     ]
    }
   ],
   "source": [
    "employee.get_details()"
   ]
  },
  {
   "cell_type": "code",
   "execution_count": 20,
   "id": "13b84433-6ef3-4872-8a0a-1e1c9cd137f2",
   "metadata": {},
   "outputs": [],
   "source": [
    "class Manager(Employee): #inheritance\n",
    "    def __init__(self,name,Employee_id,salary,team_size):\n",
    "        self.name = name\n",
    "        self.Employee_id = Employee_id\n",
    "        self.salary = salary\n",
    "        self.team_size = team_size"
   ]
  },
  {
   "cell_type": "code",
   "execution_count": 21,
   "id": "e810f28d-77eb-428c-8273-7eb251f85282",
   "metadata": {},
   "outputs": [],
   "source": [
    "employe = Manager(\"faiz\",102,25000,20)"
   ]
  },
  {
   "cell_type": "code",
   "execution_count": 23,
   "id": "6cc016ef-2daa-4d3b-9524-09de4da910d8",
   "metadata": {},
   "outputs": [
    {
     "data": {
      "text/plain": [
       "25000"
      ]
     },
     "execution_count": 23,
     "metadata": {},
     "output_type": "execute_result"
    }
   ],
   "source": [
    "employe.salary"
   ]
  },
  {
   "cell_type": "code",
   "execution_count": 24,
   "id": "61b65dbd-2d03-4659-b264-d42832df279e",
   "metadata": {},
   "outputs": [
    {
     "name": "stdout",
     "output_type": "stream",
     "text": [
      "faiz is working\n"
     ]
    }
   ],
   "source": [
    "employe.work()"
   ]
  },
  {
   "cell_type": "code",
   "execution_count": 25,
   "id": "5f12b1e1-bb4c-496d-9856-84c9748b2cb7",
   "metadata": {},
   "outputs": [
    {
     "name": "stdout",
     "output_type": "stream",
     "text": [
      "name: faiz,Employee_id: 102, salary: 25000\n"
     ]
    }
   ],
   "source": [
    "employe.get_details()"
   ]
  },
  {
   "cell_type": "code",
   "execution_count": null,
   "id": "1b793aca-1897-436c-ab88-db59eab2d2f0",
   "metadata": {},
   "outputs": [],
   "source": [
    "class Employee:    # parent class\n",
    "    def __init__(self,name,Employee_id,salary):\n",
    "        self.name = name\n",
    "        self.Employee_id = Employee_id\n",
    "        self.salary = salary\n",
    "\n",
    "    def work(self):\n",
    "        print(f'{self.name} is working')\n",
    "\n",
    "    def get_details(self):\n",
    "        print(f'name: {self.name},Employee_id: {self.Employee_id}, salary: {self.salary}')\n",
    "\n",
    "class Manager(Employee):   #child class\n",
    "    def __init__(self,name,Employee_id,salary,team_size):\n",
    "    super().__init__(name,Employee_id,salary)  #using super() method/shorthand\n",
    "        self.team_size = team_size"
   ]
  },
  {
   "cell_type": "code",
   "execution_count": 26,
   "id": "23b3867a-cf03-4731-8d14-b5e283817e9e",
   "metadata": {},
   "outputs": [],
   "source": [
    "employee = Manager(\"faiz\",103,26000,40)"
   ]
  },
  {
   "cell_type": "code",
   "execution_count": 27,
   "id": "1d387203-ed2e-414a-822a-d43f32066a5a",
   "metadata": {},
   "outputs": [
    {
     "data": {
      "text/plain": [
       "26000"
      ]
     },
     "execution_count": 27,
     "metadata": {},
     "output_type": "execute_result"
    }
   ],
   "source": [
    "employee.salary"
   ]
  },
  {
   "cell_type": "code",
   "execution_count": 28,
   "id": "5db885f0-7aab-49f4-a6ba-6783bfe28e6d",
   "metadata": {},
   "outputs": [
    {
     "data": {
      "text/plain": [
       "40"
      ]
     },
     "execution_count": 28,
     "metadata": {},
     "output_type": "execute_result"
    }
   ],
   "source": [
    "employee.team_size"
   ]
  },
  {
   "cell_type": "code",
   "execution_count": 29,
   "id": "28870174-d71f-4698-b18a-4074dc1a73c0",
   "metadata": {},
   "outputs": [
    {
     "data": {
      "text/plain": [
       "103"
      ]
     },
     "execution_count": 29,
     "metadata": {},
     "output_type": "execute_result"
    }
   ],
   "source": [
    "employee.Employee_id"
   ]
  },
  {
   "cell_type": "code",
   "execution_count": 30,
   "id": "ede2d3bc-97ab-49e2-ae86-3c38503df16f",
   "metadata": {},
   "outputs": [],
   "source": [
    "class Developer(Employee):\n",
    "    def __init__(self,name,Employee_id,salary,prog_lang):\n",
    "        super().__init__(name,Employee_id,salary)\n",
    "        self.prog_lang = prog_lang\n",
    "\n",
    "    def code(self):\n",
    "        print(f'{self.name} is writing a code in {self.prog_lang}')"
   ]
  },
  {
   "cell_type": "code",
   "execution_count": 31,
   "id": "01836a92-3724-4ec4-bd64-5671dc393919",
   "metadata": {},
   "outputs": [],
   "source": [
    "dev = Developer('Aliyan',104,50000,'python')"
   ]
  },
  {
   "cell_type": "code",
   "execution_count": 32,
   "id": "f2bd603b-4a94-4aec-9d0f-0461788bdbb1",
   "metadata": {},
   "outputs": [
    {
     "name": "stdout",
     "output_type": "stream",
     "text": [
      "Aliyan is writing a code in python\n"
     ]
    }
   ],
   "source": [
    "dev.code()"
   ]
  },
  {
   "cell_type": "code",
   "execution_count": 33,
   "id": "1f8e5c65-21e0-49e4-ad17-9862a49d95d0",
   "metadata": {},
   "outputs": [
    {
     "name": "stdout",
     "output_type": "stream",
     "text": [
      "name: Aliyan,Employee_id: 104, salary: 50000\n"
     ]
    }
   ],
   "source": [
    "dev.get_details()"
   ]
  },
  {
   "cell_type": "code",
   "execution_count": 34,
   "id": "3cb1ce00-4306-4d32-ba79-bed81a377710",
   "metadata": {},
   "outputs": [
    {
     "name": "stdout",
     "output_type": "stream",
     "text": [
      "Aliyan is working\n"
     ]
    }
   ],
   "source": [
    "dev.work()"
   ]
  },
  {
   "cell_type": "markdown",
   "id": "94685c1d-89c2-46be-adad-bb6147d6250c",
   "metadata": {},
   "source": [
    "## ***Polymorphism (many forms)***"
   ]
  },
  {
   "cell_type": "markdown",
   "id": "d3b5ef59-9e68-4e0a-a335-faf7e0aa741c",
   "metadata": {},
   "source": [
    "Polymorphism means same function name (but different sigtnatures) being uses for different types."
   ]
  },
  {
   "cell_type": "code",
   "execution_count": 35,
   "id": "10da08b6-72f8-4053-9dd8-78a9b37adb82",
   "metadata": {},
   "outputs": [
    {
     "data": {
      "text/plain": [
       "4"
      ]
     },
     "execution_count": 35,
     "metadata": {},
     "output_type": "execute_result"
    }
   ],
   "source": [
    "l = [1,2,3,4]\n",
    "len(l)"
   ]
  },
  {
   "cell_type": "code",
   "execution_count": 36,
   "id": "78adb312-7c34-4c51-83ed-3e1419a996a6",
   "metadata": {},
   "outputs": [
    {
     "data": {
      "text/plain": [
       "5"
      ]
     },
     "execution_count": 36,
     "metadata": {},
     "output_type": "execute_result"
    }
   ],
   "source": [
    "len('hello')"
   ]
  },
  {
   "cell_type": "code",
   "execution_count": 37,
   "id": "912727a3-008e-4465-961a-ba22f557f274",
   "metadata": {},
   "outputs": [
    {
     "data": {
      "text/plain": [
       "str"
      ]
     },
     "execution_count": 37,
     "metadata": {},
     "output_type": "execute_result"
    }
   ],
   "source": [
    "type('123')"
   ]
  },
  {
   "cell_type": "code",
   "execution_count": 38,
   "id": "a40ee13c-c715-493d-9451-3c6c414b59ac",
   "metadata": {},
   "outputs": [
    {
     "data": {
      "text/plain": [
       "int"
      ]
     },
     "execution_count": 38,
     "metadata": {},
     "output_type": "execute_result"
    }
   ],
   "source": [
    "type(123)"
   ]
  },
  {
   "cell_type": "markdown",
   "id": "9918c92e-7c8d-42fc-9dd9-86983abdb5de",
   "metadata": {},
   "source": [
    "## ***Overloading***"
   ]
  },
  {
   "cell_type": "code",
   "execution_count": 49,
   "id": "1eccb832-607c-436e-88ae-529702c48f84",
   "metadata": {},
   "outputs": [],
   "source": [
    " class Greet():\n",
    "    def welcome(self, name=''):\n",
    "         print('welcome' + \" \" +  name)\n",
    "        # print(f'welcome {name}')\n"
   ]
  },
  {
   "cell_type": "code",
   "execution_count": 50,
   "id": "e6bd572f-410a-4320-a927-1591be5bec35",
   "metadata": {},
   "outputs": [],
   "source": [
    "greet = Greet()"
   ]
  },
  {
   "cell_type": "code",
   "execution_count": 51,
   "id": "a9a7706c-e876-4c47-940a-15e9507c68aa",
   "metadata": {},
   "outputs": [
    {
     "name": "stdout",
     "output_type": "stream",
     "text": [
      "welcome \n"
     ]
    }
   ],
   "source": [
    "greet.welcome()"
   ]
  },
  {
   "cell_type": "code",
   "execution_count": 52,
   "id": "e67f9f98-ce09-4987-9ad5-8eaccefb43d3",
   "metadata": {},
   "outputs": [
    {
     "name": "stdout",
     "output_type": "stream",
     "text": [
      "welcome sara\n"
     ]
    }
   ],
   "source": [
    "greet.welcome(\"sara\")"
   ]
  },
  {
   "cell_type": "code",
   "execution_count": null,
   "id": "fb296ada-3438-472c-b734-2e3fbb98ebca",
   "metadata": {},
   "outputs": [],
   "source": [
    "class Greet():\n",
    "    def welcome(self, name):\n",
    "        print('welcome' + \" \" +  name)\n",
    "        # print(f'welcome {name}')"
   ]
  },
  {
   "cell_type": "code",
   "execution_count": 43,
   "id": "41257d7c-c2b6-41ca-8ff5-c75041f5ff94",
   "metadata": {},
   "outputs": [],
   "source": [
    "greet1 = Greet()"
   ]
  },
  {
   "cell_type": "code",
   "execution_count": 44,
   "id": "6f6b62cd-4877-4c9e-92ba-d69a98403492",
   "metadata": {},
   "outputs": [
    {
     "name": "stdout",
     "output_type": "stream",
     "text": [
      "welcome \n"
     ]
    }
   ],
   "source": [
    "greet1.welcome()"
   ]
  },
  {
   "cell_type": "code",
   "execution_count": 45,
   "id": "36eaa324-6aee-4254-b4c4-9d85894ed28a",
   "metadata": {},
   "outputs": [
    {
     "name": "stdout",
     "output_type": "stream",
     "text": [
      "welcome amir\n"
     ]
    }
   ],
   "source": [
    "greet1.welcome('amir')"
   ]
  },
  {
   "cell_type": "markdown",
   "id": "f33d0f16-cb67-401a-958b-21ace6e20bb3",
   "metadata": {},
   "source": [
    " ### **ATM Withdrawal System**"
   ]
  },
  {
   "cell_type": "code",
   "execution_count": 53,
   "id": "1edbc503-3c49-467a-bb8e-cb4acd28be39",
   "metadata": {},
   "outputs": [],
   "source": [
    "class ATM:\n",
    "    def withdraw(self, amount, currency=\"USD\"):\n",
    "        if currency == \"USD\":\n",
    "            print(f\"Withdrawing {amount} dollars.\")\n",
    "        elif currency == \"INR\":\n",
    "            print(f\"Withdrawing {amount} rupees.\")\n",
    "        elif currency == \"PKR\":\n",
    "            print(f\"Withdrawing {amount} rupees.\")\n",
    "        else:\n",
    "            print(\"Currency not supported.\")\n"
   ]
  },
  {
   "cell_type": "code",
   "execution_count": 54,
   "id": "de1bd773-cfea-4f8a-9b2e-4bb969ff352c",
   "metadata": {},
   "outputs": [],
   "source": [
    "atm = ATM()"
   ]
  },
  {
   "cell_type": "code",
   "execution_count": 55,
   "id": "a039ca5c-7534-414f-8713-5e93fe2845d2",
   "metadata": {},
   "outputs": [
    {
     "name": "stdout",
     "output_type": "stream",
     "text": [
      "Withdrawing 100 dollars.\n"
     ]
    }
   ],
   "source": [
    "atm.withdraw(100)"
   ]
  },
  {
   "cell_type": "code",
   "execution_count": 56,
   "id": "5dc708a6-d11c-4b90-852f-b1c302f0a91a",
   "metadata": {},
   "outputs": [
    {
     "name": "stdout",
     "output_type": "stream",
     "text": [
      "Withdrawing 5000 rupees.\n"
     ]
    }
   ],
   "source": [
    "atm.withdraw(5000, \"INR\")"
   ]
  },
  {
   "cell_type": "code",
   "execution_count": 57,
   "id": "3dc982e9-ca4d-43f9-9ba5-7e7f7766830d",
   "metadata": {},
   "outputs": [
    {
     "name": "stdout",
     "output_type": "stream",
     "text": [
      "Withdrawing 10000 rupees.\n"
     ]
    }
   ],
   "source": [
    "atm.withdraw(10000, \"PKR\")"
   ]
  },
  {
   "cell_type": "code",
   "execution_count": 58,
   "id": "8846f03f-1ee3-4e13-aa1d-481b2c40d4ca",
   "metadata": {},
   "outputs": [
    {
     "name": "stdout",
     "output_type": "stream",
     "text": [
      "Currency not supported.\n"
     ]
    }
   ],
   "source": [
    "atm.withdraw(100, \"USDT\")"
   ]
  },
  {
   "cell_type": "markdown",
   "id": "ed2efaa1-2348-4324-904a-ce6315e6b567",
   "metadata": {},
   "source": [
    "## ***Overriding***"
   ]
  },
  {
   "cell_type": "code",
   "execution_count": 59,
   "id": "7eedeb10-203e-4356-833a-5d4c4d354aa0",
   "metadata": {},
   "outputs": [],
   "source": [
    "class greet():\n",
    "    def welcome(self):\n",
    "         print('welcome to the class')\n",
    "\n",
    "class greet1(greet):\n",
    "    def welcome(self):\n",
    "        return 'welcome to the 1st class'"
   ]
  },
  {
   "cell_type": "code",
   "execution_count": 60,
   "id": "7af45e4a-15df-4aa7-b857-ffdcccda4b69",
   "metadata": {},
   "outputs": [],
   "source": [
    "obj = greet1()"
   ]
  },
  {
   "cell_type": "code",
   "execution_count": 61,
   "id": "16d4867b-5792-4764-99b6-f61cede726f9",
   "metadata": {},
   "outputs": [
    {
     "data": {
      "text/plain": [
       "'welcome to the 1st class'"
      ]
     },
     "execution_count": 61,
     "metadata": {},
     "output_type": "execute_result"
    }
   ],
   "source": [
    "obj.welcome()"
   ]
  },
  {
   "cell_type": "code",
   "execution_count": 62,
   "id": "32e2323b-9eab-446d-8730-4ad36c956b94",
   "metadata": {},
   "outputs": [],
   "source": [
    "class greet():\n",
    "    def welcome(self):\n",
    "         print('welcome to the class')\n",
    "\n",
    "class greet1(greet):\n",
    "    def welcome(self):\n",
    "        super().welcome() #print('welcome to the class')\n",
    "        return 'welcome to the 1st class'"
   ]
  },
  {
   "cell_type": "code",
   "execution_count": 63,
   "id": "fa3201c9-a35a-4b8d-abc9-50ed9a13735c",
   "metadata": {},
   "outputs": [],
   "source": [
    "obj = greet1()"
   ]
  },
  {
   "cell_type": "code",
   "execution_count": 64,
   "id": "622b3f2a-473d-4d11-9ccb-dcdf2c01cf54",
   "metadata": {},
   "outputs": [
    {
     "name": "stdout",
     "output_type": "stream",
     "text": [
      "welcome to the class\n"
     ]
    },
    {
     "data": {
      "text/plain": [
       "'welcome to the 1st class'"
      ]
     },
     "execution_count": 64,
     "metadata": {},
     "output_type": "execute_result"
    }
   ],
   "source": [
    "obj.welcome()"
   ]
  },
  {
   "cell_type": "markdown",
   "id": "c6f92677-deb5-479f-8eb2-acad1fe788d2",
   "metadata": {},
   "source": [
    "## ***Payment Processing System***"
   ]
  },
  {
   "cell_type": "code",
   "execution_count": 66,
   "id": "a9b3917b-5abb-430b-bbd7-c91104017e28",
   "metadata": {},
   "outputs": [],
   "source": [
    "class Payment:\n",
    "    def process_payment(self, amount):\n",
    "        print(f\"Processing payment of {amount}.\")\n",
    "\n",
    "class CreditCardPayment(Payment):\n",
    "    def process_payment(self, amount):\n",
    "        super().process_payment(amount)  #print(f\"Processing payment of {amount}.\")\n",
    "        print(f\"Processing credit card payment of {amount}.\")\n"
   ]
  },
  {
   "cell_type": "code",
   "execution_count": 67,
   "id": "5e4766b6-ea71-49dd-92f5-8ee4661f3c4e",
   "metadata": {},
   "outputs": [],
   "source": [
    "pay = Payment()"
   ]
  },
  {
   "cell_type": "code",
   "execution_count": 68,
   "id": "3b30d306-3e3e-44d3-81c2-1709a8387b00",
   "metadata": {},
   "outputs": [
    {
     "name": "stdout",
     "output_type": "stream",
     "text": [
      "Processing payment of 100.\n"
     ]
    }
   ],
   "source": [
    "pay.process_payment(100)"
   ]
  },
  {
   "cell_type": "code",
   "execution_count": 69,
   "id": "c68c1e44-95be-4964-a951-fe1a707c5181",
   "metadata": {},
   "outputs": [],
   "source": [
    "credit_card_payment = CreditCardPayment()"
   ]
  },
  {
   "cell_type": "code",
   "execution_count": 70,
   "id": "4a267c23-6287-4ae5-8aaf-271c03d5c0be",
   "metadata": {},
   "outputs": [
    {
     "name": "stdout",
     "output_type": "stream",
     "text": [
      "Processing payment of 2000.\n",
      "Processing credit card payment of 2000.\n"
     ]
    }
   ],
   "source": [
    "credit_card_payment.process_payment(2000)"
   ]
  },
  {
   "cell_type": "markdown",
   "id": "096e55bb-a649-4a68-b043-c4b4622df11b",
   "metadata": {},
   "source": [
    "## ***Abstraction***"
   ]
  },
  {
   "cell_type": "markdown",
   "id": "98c40972-c0db-45a4-abdf-a93266674e92",
   "metadata": {},
   "source": [
    "Hiding the implementation details of a class and only showing the essential features to the users."
   ]
  },
  {
   "cell_type": "code",
   "execution_count": 71,
   "id": "ad8ebc9f-3fac-4d70-a506-dc6bcb4b8e93",
   "metadata": {},
   "outputs": [],
   "source": [
    "class Car:\n",
    "    def __init__(self,model, year):\n",
    "        self.model = model\n",
    "        self.year = year\n",
    "\n",
    "    def start(self):\n",
    "        self.clutch = True\n",
    "        print(\"Starting the car\")\n",
    "\n",
    "    def accelerate(self):\n",
    "        self.acc = True \n",
    "        print(\"Accelerating\")\n",
    "\n",
    "    def brake(self):\n",
    "        print(\"Braking\")\n",
    "\n",
    "    def steer(self):\n",
    "        print(\"Steering...\")\n"
   ]
  },
  {
   "cell_type": "code",
   "execution_count": 72,
   "id": "731aedf5-fd54-4bd1-8b88-704b5eeefffa",
   "metadata": {},
   "outputs": [],
   "source": [
    "car = Car(\"Toyota\", 2023)"
   ]
  },
  {
   "cell_type": "code",
   "execution_count": 73,
   "id": "420ea8d3-1820-4f4f-ba6f-6c4e9c5acab4",
   "metadata": {},
   "outputs": [
    {
     "name": "stdout",
     "output_type": "stream",
     "text": [
      "Starting the car\n"
     ]
    }
   ],
   "source": [
    "car.start()"
   ]
  },
  {
   "cell_type": "code",
   "execution_count": 74,
   "id": "b7d04af9-4f72-44bb-b4de-7b432371325e",
   "metadata": {},
   "outputs": [
    {
     "name": "stdout",
     "output_type": "stream",
     "text": [
      "Accelerating\n"
     ]
    }
   ],
   "source": [
    "car.accelerate()"
   ]
  },
  {
   "cell_type": "markdown",
   "id": "12a25ad7-17d7-4306-a212-f0d263a1ac53",
   "metadata": {},
   "source": [
    "## ***Encapsulation***"
   ]
  },
  {
   "cell_type": "markdown",
   "id": "0beb6184-fc30-416a-9077-0e386b0b3359",
   "metadata": {},
   "source": [
    "**Encapsulation is a fundamental principle in object-oriented programming that focuses on bundling data and the methods that operate on that data into a single unit called a class. It allows you to control the access and visibility of the data and methods, providing a way to protect and organize your code**\n",
    "\n",
    "\n",
    "\n",
    "## ***Access Modifiers***\n",
    "**Public:** Accessible from anywhere in the program.\n",
    "\n",
    "**Private:** Restricted access, typically indicated by a double underscore (__) prefix. Private members are not directly accessible outside the class.\n",
    "\n",
    "**Protected:** Indicated by a single underscore (_), and are meant to be accessed within the class and its subclasses."
   ]
  },
  {
   "cell_type": "code",
   "execution_count": 75,
   "id": "23aa5a8f-1772-4a71-acd9-b02162764f3e",
   "metadata": {},
   "outputs": [],
   "source": [
    "class Account:\n",
    "    def __init__(self, username, password):\n",
    "        self.__username = username  # Private attribute\n",
    "        self.__password = password  # Private attribute\n",
    "\n",
    "    # Getter for username\n",
    "    def get_username(self):\n",
    "        return self.__username\n",
    "\n",
    "    # Setter for username\n",
    "    def set_username(self, new_username):\n",
    "        self.__username = new_username\n",
    "\n",
    "    # Getter for password\n",
    "    def get_password(self):\n",
    "        return self.__password\n",
    "\n",
    "    # Setter for password\n",
    "    def set_password(self, new_password):\n",
    "        self.__password = new_password\n",
    "\n",
    "\n",
    "# account1 = Account(\"sara\", \"1234\")"
   ]
  },
  {
   "cell_type": "code",
   "execution_count": 76,
   "id": "dc903ba5-58cc-411d-a20c-57220134fb12",
   "metadata": {},
   "outputs": [],
   "source": [
    "account1 = Account(\"sara\", \"1234\")"
   ]
  },
  {
   "cell_type": "code",
   "execution_count": 77,
   "id": "83203848-9816-4023-9d59-9596c02e57ec",
   "metadata": {},
   "outputs": [
    {
     "ename": "AttributeError",
     "evalue": "'Account' object has no attribute '__username'",
     "output_type": "error",
     "traceback": [
      "\u001b[1;31m---------------------------------------------------------------------------\u001b[0m",
      "\u001b[1;31mAttributeError\u001b[0m                            Traceback (most recent call last)",
      "Cell \u001b[1;32mIn[77], line 1\u001b[0m\n\u001b[1;32m----> 1\u001b[0m account1\u001b[38;5;241m.\u001b[39m__username\n",
      "\u001b[1;31mAttributeError\u001b[0m: 'Account' object has no attribute '__username'"
     ]
    }
   ],
   "source": [
    "account1.__username #attribute"
   ]
  },
  {
   "cell_type": "code",
   "execution_count": 79,
   "id": "b52365d0-4752-4545-ab40-eed25c57c296",
   "metadata": {},
   "outputs": [
    {
     "data": {
      "text/plain": [
       "'sara'"
      ]
     },
     "execution_count": 79,
     "metadata": {},
     "output_type": "execute_result"
    }
   ],
   "source": [
    "account1.get_username() #getter"
   ]
  },
  {
   "cell_type": "code",
   "execution_count": 80,
   "id": "2b959952-f34f-4c2b-b17b-262399419317",
   "metadata": {},
   "outputs": [],
   "source": [
    "account1.set_username('amin') #setter"
   ]
  },
  {
   "cell_type": "code",
   "execution_count": 81,
   "id": "9d10964e-f0cc-4569-a3f3-270f4715e50e",
   "metadata": {},
   "outputs": [
    {
     "data": {
      "text/plain": [
       "'amin'"
      ]
     },
     "execution_count": 81,
     "metadata": {},
     "output_type": "execute_result"
    }
   ],
   "source": [
    "account1.get_username() #getter"
   ]
  },
  {
   "cell_type": "code",
   "execution_count": 82,
   "id": "587099ec-01a1-4d01-b34f-d321665161d5",
   "metadata": {},
   "outputs": [
    {
     "data": {
      "text/plain": [
       "'1234'"
      ]
     },
     "execution_count": 82,
     "metadata": {},
     "output_type": "execute_result"
    }
   ],
   "source": [
    "account1.get_password() #getter"
   ]
  },
  {
   "cell_type": "code",
   "execution_count": 83,
   "id": "a298f45d-bbbb-4aa2-85dd-2f949dff6a97",
   "metadata": {},
   "outputs": [],
   "source": [
    "account1.set_password(123565)"
   ]
  },
  {
   "cell_type": "code",
   "execution_count": 84,
   "id": "3b5d5e61-dd80-486c-ab27-5d0967309dec",
   "metadata": {},
   "outputs": [
    {
     "data": {
      "text/plain": [
       "123565"
      ]
     },
     "execution_count": 84,
     "metadata": {},
     "output_type": "execute_result"
    }
   ],
   "source": [
    "account1.get_password()"
   ]
  },
  {
   "cell_type": "code",
   "execution_count": null,
   "id": "39a07615-4769-4cd8-9cc5-98444af49b20",
   "metadata": {},
   "outputs": [],
   "source": []
  },
  {
   "cell_type": "code",
   "execution_count": null,
   "id": "29b78a1d-557f-4d49-af89-c23f232cd06d",
   "metadata": {},
   "outputs": [],
   "source": []
  },
  {
   "cell_type": "code",
   "execution_count": null,
   "id": "1af2c4a1-27d0-4c45-ad2d-a267e0df1cc6",
   "metadata": {},
   "outputs": [],
   "source": []
  },
  {
   "cell_type": "code",
   "execution_count": null,
   "id": "4e50eb6e-0572-4a77-a158-a99bdfac4cde",
   "metadata": {},
   "outputs": [],
   "source": []
  },
  {
   "cell_type": "code",
   "execution_count": null,
   "id": "2fe547a0-e7d8-4819-b8c6-3ee53a38a397",
   "metadata": {},
   "outputs": [],
   "source": [
    "class Parent:\n",
    "    def __init__(self, name):\n",
    "        self.__name = name  # Private attribute\n",
    "\n",
    "class Child(Parent):\n",
    "    def print_name(self):\n",
    "        # Trying to access private attribute\n",
    "        print(self.__name)\n",
    "\n",
    "child = Child(\"Sara\")\n",
    "child.print_name()  # This will raise an AttributeError\n"
   ]
  },
  {
   "cell_type": "code",
   "execution_count": null,
   "id": "4ec46b7d-7b27-4064-a52e-2b2aa5dd351b",
   "metadata": {},
   "outputs": [],
   "source": []
  },
  {
   "cell_type": "markdown",
   "id": "253efe74-099f-487a-8de3-41d29977151f",
   "metadata": {},
   "source": [
    "Design a Python program using inheritance to model different types of vehicles.\n",
    "\n",
    "1- Create a base class called Vehicle with:\n",
    "\n",
    "An attribute brand\n",
    "\n",
    "A method start() that prints a generic start message.\n",
    "\n",
    "2- Create two derived classes:\n",
    "\n",
    "Car (inherits from Vehicle)\n",
    "\n",
    "Bike (inherits from Vehicle)\n",
    "\n",
    "3- In each derived class, override the start() method to print a specific message, such as:\n",
    "\n",
    "\"Toyota car is starting with a key.\"\n",
    "\n",
    "\"Yamaha bike is starting with a button.\"\n",
    "\n",
    "4- In the main part of the program, create one object of each derived class and call their start() methods."
   ]
  },
  {
   "cell_type": "code",
   "execution_count": null,
   "id": "cff7d33f-3972-44fc-a706-35dfc011da7c",
   "metadata": {},
   "outputs": [],
   "source": []
  }
 ],
 "metadata": {
  "kernelspec": {
   "display_name": "Python 3 (ipykernel)",
   "language": "python",
   "name": "python3"
  },
  "language_info": {
   "codemirror_mode": {
    "name": "ipython",
    "version": 3
   },
   "file_extension": ".py",
   "mimetype": "text/x-python",
   "name": "python",
   "nbconvert_exporter": "python",
   "pygments_lexer": "ipython3",
   "version": "3.12.7"
  }
 },
 "nbformat": 4,
 "nbformat_minor": 5
}
