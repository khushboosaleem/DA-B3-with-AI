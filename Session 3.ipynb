{
 "cells": [
  {
   "cell_type": "markdown",
   "id": "016c5931-2f1f-4c7c-8e0b-c2a72ccff601",
   "metadata": {},
   "source": [
    "# Session 3 --> H1"
   ]
  },
  {
   "cell_type": "markdown",
   "id": "22fc1a80-cd10-4586-a3d3-4f40f699f5d2",
   "metadata": {},
   "source": [
    "## Session 3 --> H2"
   ]
  },
  {
   "cell_type": "markdown",
   "id": "cff41736-1408-48f1-bb62-da4c912156e9",
   "metadata": {},
   "source": [
    "###### Session 3 ----> h6"
   ]
  },
  {
   "cell_type": "raw",
   "id": "7bebe300-8a03-4ca7-9bd3-424447f37af2",
   "metadata": {},
   "source": [
    "print('hello world')"
   ]
  },
  {
   "cell_type": "code",
   "execution_count": 4,
   "id": "fb20eba1-e2d2-4feb-b313-09f07af7d9c2",
   "metadata": {},
   "outputs": [
    {
     "name": "stdout",
     "output_type": "stream",
     "text": [
      "hello world\n"
     ]
    }
   ],
   "source": [
    "print('hello world')"
   ]
  },
  {
   "cell_type": "markdown",
   "id": "1a2d4d99-c89c-469e-b1f5-dbd81a8148cc",
   "metadata": {},
   "source": [
    "# Typecasting"
   ]
  },
  {
   "cell_type": "code",
   "execution_count": 6,
   "id": "93af1ec2-efd9-4df0-b2d0-af7e5981db8b",
   "metadata": {},
   "outputs": [
    {
     "data": {
      "text/plain": [
       "'123000'"
      ]
     },
     "execution_count": 6,
     "metadata": {},
     "output_type": "execute_result"
    }
   ],
   "source": [
    "\"123000\""
   ]
  },
  {
   "cell_type": "code",
   "execution_count": 7,
   "id": "927ca8a0-a08c-483c-8227-53fe4bd59523",
   "metadata": {},
   "outputs": [
    {
     "data": {
      "text/plain": [
       "'123456'"
      ]
     },
     "execution_count": 7,
     "metadata": {},
     "output_type": "execute_result"
    }
   ],
   "source": [
    "'123'+'456'"
   ]
  },
  {
   "cell_type": "code",
   "execution_count": 8,
   "id": "a7f83a87-bf24-467f-a1fb-a0d6db2b202e",
   "metadata": {},
   "outputs": [
    {
     "data": {
      "text/plain": [
       "int"
      ]
     },
     "execution_count": 8,
     "metadata": {},
     "output_type": "execute_result"
    }
   ],
   "source": [
    "type(456+123)"
   ]
  },
  {
   "cell_type": "code",
   "execution_count": 9,
   "id": "ba6c776d-e0df-4f33-99fe-0ceb48d3c057",
   "metadata": {},
   "outputs": [
    {
     "data": {
      "text/plain": [
       "str"
      ]
     },
     "execution_count": 9,
     "metadata": {},
     "output_type": "execute_result"
    }
   ],
   "source": [
    "type(\"12356\")"
   ]
  },
  {
   "cell_type": "code",
   "execution_count": 10,
   "id": "e94735ae-bfd2-494b-bd1f-4a046d1d6f29",
   "metadata": {},
   "outputs": [
    {
     "data": {
      "text/plain": [
       "12356"
      ]
     },
     "execution_count": 10,
     "metadata": {},
     "output_type": "execute_result"
    }
   ],
   "source": [
    "int('12356')"
   ]
  },
  {
   "cell_type": "code",
   "execution_count": 11,
   "id": "12aba12e-999c-4f2f-9a97-2da75d166952",
   "metadata": {},
   "outputs": [
    {
     "data": {
      "text/plain": [
       "int"
      ]
     },
     "execution_count": 11,
     "metadata": {},
     "output_type": "execute_result"
    }
   ],
   "source": [
    "type(int('123456'))"
   ]
  },
  {
   "cell_type": "code",
   "execution_count": 12,
   "id": "248ff998-bcad-4b17-b3d0-ca50e7ddfe6c",
   "metadata": {},
   "outputs": [
    {
     "name": "stdout",
     "output_type": "stream",
     "text": [
      "<class 'int'>\n"
     ]
    }
   ],
   "source": [
    "print(type(int('123456')))"
   ]
  },
  {
   "cell_type": "code",
   "execution_count": 13,
   "id": "c3cfce44-52f6-43a4-ace6-42d73d690542",
   "metadata": {},
   "outputs": [
    {
     "data": {
      "text/plain": [
       "'we are learning python \\njawan pakistan'"
      ]
     },
     "execution_count": 13,
     "metadata": {},
     "output_type": "execute_result"
    }
   ],
   "source": [
    "\"\"\"we are learning python \n",
    "jawan pakistan\"\"\""
   ]
  },
  {
   "cell_type": "code",
   "execution_count": 14,
   "id": "9b1179aa-2987-41bc-af3e-f8eb7ccac671",
   "metadata": {},
   "outputs": [
    {
     "name": "stdout",
     "output_type": "stream",
     "text": [
      "we are learning python \n",
      "jawan pakistan\n"
     ]
    }
   ],
   "source": [
    "print(\"\"\"we are learning python \n",
    "jawan pakistan\"\"\")"
   ]
  },
  {
   "cell_type": "code",
   "execution_count": 15,
   "id": "fbf694e2-17c2-44d6-ba27-cc7205ccf964",
   "metadata": {},
   "outputs": [
    {
     "data": {
      "text/plain": [
       "'we are learning python \\njawan pakistan'"
      ]
     },
     "execution_count": 15,
     "metadata": {},
     "output_type": "execute_result"
    }
   ],
   "source": [
    "'''we are learning python \n",
    "jawan pakistan'''"
   ]
  },
  {
   "cell_type": "code",
   "execution_count": 16,
   "id": "21d9440e-4383-4090-943c-e73f48f5f942",
   "metadata": {},
   "outputs": [
    {
     "name": "stdout",
     "output_type": "stream",
     "text": [
      "we are learning python \n",
      "jawan pakistan\n"
     ]
    }
   ],
   "source": [
    "print('''we are learning python \n",
    "jawan pakistan''')"
   ]
  },
  {
   "cell_type": "code",
   "execution_count": 17,
   "id": "f319dd4a-e4c8-45c9-b523-e5a06938f103",
   "metadata": {},
   "outputs": [
    {
     "ename": "SyntaxError",
     "evalue": "invalid syntax (2473195617.py, line 1)",
     "output_type": "error",
     "traceback": [
      "\u001b[1;36m  Cell \u001b[1;32mIn[17], line 1\u001b[1;36m\u001b[0m\n\u001b[1;33m    ''we are learning python\u001b[0m\n\u001b[1;37m      ^\u001b[0m\n\u001b[1;31mSyntaxError\u001b[0m\u001b[1;31m:\u001b[0m invalid syntax\n"
     ]
    }
   ],
   "source": [
    "''we are learning python \n",
    "jawan pakistan''"
   ]
  },
  {
   "cell_type": "code",
   "execution_count": 26,
   "id": "e97a3979-d765-4856-ba98-b93545e62767",
   "metadata": {},
   "outputs": [
    {
     "ename": "SyntaxError",
     "evalue": "unterminated string literal (detected at line 1) (1146748348.py, line 1)",
     "output_type": "error",
     "traceback": [
      "\u001b[1;36m  Cell \u001b[1;32mIn[26], line 1\u001b[1;36m\u001b[0m\n\u001b[1;33m    'we are learning python\u001b[0m\n\u001b[1;37m    ^\u001b[0m\n\u001b[1;31mSyntaxError\u001b[0m\u001b[1;31m:\u001b[0m unterminated string literal (detected at line 1)\n"
     ]
    }
   ],
   "source": [
    "'we are learning python \n",
    "jawan pakistan'"
   ]
  },
  {
   "cell_type": "code",
   "execution_count": 28,
   "id": "c7cc184a-3b71-48b3-b907-4395ba0f88a7",
   "metadata": {},
   "outputs": [
    {
     "ename": "SyntaxError",
     "evalue": "invalid syntax (2983898417.py, line 1)",
     "output_type": "error",
     "traceback": [
      "\u001b[1;36m  Cell \u001b[1;32mIn[28], line 1\u001b[1;36m\u001b[0m\n\u001b[1;33m    \"\"we are learning python\u001b[0m\n\u001b[1;37m      ^\u001b[0m\n\u001b[1;31mSyntaxError\u001b[0m\u001b[1;31m:\u001b[0m invalid syntax\n"
     ]
    }
   ],
   "source": [
    "\"\"we are learning python \n",
    "jawan pakistan\"\""
   ]
  },
  {
   "cell_type": "code",
   "execution_count": 30,
   "id": "29bb8043-e04d-4515-a679-604d7d616558",
   "metadata": {},
   "outputs": [],
   "source": [
    "# int()\n",
    "# Print()\n",
    "# type()\n",
    "# str()\n",
    "# float()"
   ]
  },
  {
   "cell_type": "code",
   "execution_count": 32,
   "id": "3b26e6d9-d997-4d72-8cd1-dea4aa815c9c",
   "metadata": {},
   "outputs": [
    {
     "data": {
      "text/plain": [
       "123.45"
      ]
     },
     "execution_count": 32,
     "metadata": {},
     "output_type": "execute_result"
    }
   ],
   "source": [
    "float(\"123.45\")"
   ]
  },
  {
   "cell_type": "code",
   "execution_count": 34,
   "id": "33e01aaa-71ae-4aba-a93c-991b8a7b299a",
   "metadata": {},
   "outputs": [
    {
     "data": {
      "text/plain": [
       "float"
      ]
     },
     "execution_count": 34,
     "metadata": {},
     "output_type": "execute_result"
    }
   ],
   "source": [
    "type(float(\"123.45\"))"
   ]
  },
  {
   "cell_type": "code",
   "execution_count": 36,
   "id": "db918c4c-a416-4005-a2e9-6f7ba0d4b3ea",
   "metadata": {},
   "outputs": [
    {
     "data": {
      "text/plain": [
       "456"
      ]
     },
     "execution_count": 36,
     "metadata": {},
     "output_type": "execute_result"
    }
   ],
   "source": [
    "456"
   ]
  },
  {
   "cell_type": "code",
   "execution_count": 38,
   "id": "a9aa6ff6-996d-4640-a685-63318ccc54a7",
   "metadata": {},
   "outputs": [
    {
     "name": "stdout",
     "output_type": "stream",
     "text": [
      "456\n"
     ]
    }
   ],
   "source": [
    "print(str(456))"
   ]
  },
  {
   "cell_type": "code",
   "execution_count": 40,
   "id": "7a0cb2f3-db33-4c9e-b1a5-9a0e7c45f3f7",
   "metadata": {},
   "outputs": [
    {
     "ename": "ValueError",
     "evalue": "invalid literal for int() with base 10: '123.45'",
     "output_type": "error",
     "traceback": [
      "\u001b[1;31m---------------------------------------------------------------------------\u001b[0m",
      "\u001b[1;31mValueError\u001b[0m                                Traceback (most recent call last)",
      "Cell \u001b[1;32mIn[40], line 1\u001b[0m\n\u001b[1;32m----> 1\u001b[0m \u001b[38;5;28mint\u001b[39m(\u001b[38;5;124m\"\u001b[39m\u001b[38;5;124m123.45\u001b[39m\u001b[38;5;124m\"\u001b[39m)\n",
      "\u001b[1;31mValueError\u001b[0m: invalid literal for int() with base 10: '123.45'"
     ]
    }
   ],
   "source": [
    "int(\"123.45\")"
   ]
  },
  {
   "cell_type": "code",
   "execution_count": null,
   "id": "502fc186-2ff3-4568-8585-fefdd51d8341",
   "metadata": {},
   "outputs": [],
   "source": [
    "float(\"123\")"
   ]
  },
  {
   "cell_type": "code",
   "execution_count": null,
   "id": "45c11748-857d-4d6e-aabe-ac17d47bb5c1",
   "metadata": {},
   "outputs": [],
   "source": [
    "int(243.456)"
   ]
  },
  {
   "cell_type": "code",
   "execution_count": 44,
   "id": "2e688929-beb0-498c-8a6e-d137163a7d2e",
   "metadata": {},
   "outputs": [
    {
     "ename": "ValueError",
     "evalue": "invalid literal for int() with base 10: 'khushboo'",
     "output_type": "error",
     "traceback": [
      "\u001b[1;31m---------------------------------------------------------------------------\u001b[0m",
      "\u001b[1;31mValueError\u001b[0m                                Traceback (most recent call last)",
      "Cell \u001b[1;32mIn[44], line 1\u001b[0m\n\u001b[1;32m----> 1\u001b[0m \u001b[38;5;28mint\u001b[39m(\u001b[38;5;124m\"\u001b[39m\u001b[38;5;124mkhushboo\u001b[39m\u001b[38;5;124m\"\u001b[39m)\n",
      "\u001b[1;31mValueError\u001b[0m: invalid literal for int() with base 10: 'khushboo'"
     ]
    }
   ],
   "source": [
    "int(\"khushboo\")"
   ]
  },
  {
   "cell_type": "code",
   "execution_count": 46,
   "id": "290f3d9d-a34f-4674-89d0-15cee1abadbf",
   "metadata": {},
   "outputs": [
    {
     "ename": "SyntaxError",
     "evalue": "invalid syntax (1356669233.py, line 1)",
     "output_type": "error",
     "traceback": [
      "\u001b[1;36m  Cell \u001b[1;32mIn[46], line 1\u001b[1;36m\u001b[0m\n\u001b[1;33m    my name = 'khushboo'\u001b[0m\n\u001b[1;37m       ^\u001b[0m\n\u001b[1;31mSyntaxError\u001b[0m\u001b[1;31m:\u001b[0m invalid syntax\n"
     ]
    }
   ],
   "source": [
    "my name = 'khushboo'\n",
    "my name"
   ]
  },
  {
   "cell_type": "code",
   "execution_count": 48,
   "id": "36cba37b-031a-4ea5-ad5e-fd18c8332af3",
   "metadata": {},
   "outputs": [
    {
     "name": "stdout",
     "output_type": "stream",
     "text": [
      "khushboo\n"
     ]
    }
   ],
   "source": [
    "name = 'khushboo'\n",
    "print(name)"
   ]
  },
  {
   "cell_type": "code",
   "execution_count": 50,
   "id": "19d04ab2-afd2-4797-9640-71a120f67bc5",
   "metadata": {},
   "outputs": [
    {
     "ename": "SyntaxError",
     "evalue": "invalid decimal literal (510609823.py, line 1)",
     "output_type": "error",
     "traceback": [
      "\u001b[1;36m  Cell \u001b[1;32mIn[50], line 1\u001b[1;36m\u001b[0m\n\u001b[1;33m    2name = 'ali'\u001b[0m\n\u001b[1;37m    ^\u001b[0m\n\u001b[1;31mSyntaxError\u001b[0m\u001b[1;31m:\u001b[0m invalid decimal literal\n"
     ]
    }
   ],
   "source": [
    "2name = 'ali'\n",
    "2name"
   ]
  },
  {
   "cell_type": "code",
   "execution_count": 52,
   "id": "bc9a6bd4-8956-4a35-a6a2-5db19cb77056",
   "metadata": {},
   "outputs": [],
   "source": [
    "Name = 'ali mughal'"
   ]
  },
  {
   "cell_type": "code",
   "execution_count": 54,
   "id": "6fb0cf68-cf30-41ac-abaa-aff0d05185d3",
   "metadata": {},
   "outputs": [
    {
     "data": {
      "text/plain": [
       "'ali mughal'"
      ]
     },
     "execution_count": 54,
     "metadata": {},
     "output_type": "execute_result"
    }
   ],
   "source": [
    "Name"
   ]
  },
  {
   "cell_type": "code",
   "execution_count": 56,
   "id": "7bf81c18-9e53-40c3-8c49-8bae1bfd206c",
   "metadata": {},
   "outputs": [
    {
     "ename": "SyntaxError",
     "evalue": "invalid syntax (1133671739.py, line 1)",
     "output_type": "error",
     "traceback": [
      "\u001b[1;36m  Cell \u001b[1;32mIn[56], line 1\u001b[1;36m\u001b[0m\n\u001b[1;33m    if = 'khus'\u001b[0m\n\u001b[1;37m       ^\u001b[0m\n\u001b[1;31mSyntaxError\u001b[0m\u001b[1;31m:\u001b[0m invalid syntax\n"
     ]
    }
   ],
   "source": [
    "if = 'khus'"
   ]
  },
  {
   "cell_type": "code",
   "execution_count": 58,
   "id": "5965d8b0-b8a2-469c-8c4b-0d4d2a977387",
   "metadata": {},
   "outputs": [
    {
     "ename": "SyntaxError",
     "evalue": "invalid syntax (1102136943.py, line 1)",
     "output_type": "error",
     "traceback": [
      "\u001b[1;36m  Cell \u001b[1;32mIn[58], line 1\u001b[1;36m\u001b[0m\n\u001b[1;33m    def\u001b[0m\n\u001b[1;37m       ^\u001b[0m\n\u001b[1;31mSyntaxError\u001b[0m\u001b[1;31m:\u001b[0m invalid syntax\n"
     ]
    }
   ],
   "source": [
    "def"
   ]
  },
  {
   "cell_type": "code",
   "execution_count": 60,
   "id": "cbfcaff9-01ed-4929-ab94-5d6f4c1b9656",
   "metadata": {},
   "outputs": [
    {
     "data": {
      "text/plain": [
       "'khush'"
      ]
     },
     "execution_count": 60,
     "metadata": {},
     "output_type": "execute_result"
    }
   ],
   "source": [
    "my_name = 'khush'\n",
    "my_name"
   ]
  },
  {
   "cell_type": "code",
   "execution_count": 62,
   "id": "45bddd13-05d0-49b0-902b-c1532133c51c",
   "metadata": {},
   "outputs": [
    {
     "ename": "NameError",
     "evalue": "name 'my_nam' is not defined",
     "output_type": "error",
     "traceback": [
      "\u001b[1;31m---------------------------------------------------------------------------\u001b[0m",
      "\u001b[1;31mNameError\u001b[0m                                 Traceback (most recent call last)",
      "Cell \u001b[1;32mIn[62], line 2\u001b[0m\n\u001b[0;32m      1\u001b[0m m_name1 \u001b[38;5;241m=\u001b[39m \u001b[38;5;124m'\u001b[39m\u001b[38;5;124mkhus\u001b[39m\u001b[38;5;124m'\u001b[39m\n\u001b[1;32m----> 2\u001b[0m my_nam\n",
      "\u001b[1;31mNameError\u001b[0m: name 'my_nam' is not defined"
     ]
    }
   ],
   "source": [
    "m_name1 = 'khus'\n",
    "my_nam"
   ]
  },
  {
   "cell_type": "code",
   "execution_count": 64,
   "id": "bf65477d-6d06-4e0c-a2ee-b168837f20d7",
   "metadata": {},
   "outputs": [
    {
     "ename": "NameError",
     "evalue": "name 'my_name1' is not defined",
     "output_type": "error",
     "traceback": [
      "\u001b[1;31m---------------------------------------------------------------------------\u001b[0m",
      "\u001b[1;31mNameError\u001b[0m                                 Traceback (most recent call last)",
      "Cell \u001b[1;32mIn[64], line 2\u001b[0m\n\u001b[0;32m      1\u001b[0m y_name1 \u001b[38;5;241m=\u001b[39m \u001b[38;5;124m'\u001b[39m\u001b[38;5;124mkhus\u001b[39m\u001b[38;5;124m'\u001b[39m\n\u001b[1;32m----> 2\u001b[0m my_name1\n",
      "\u001b[1;31mNameError\u001b[0m: name 'my_name1' is not defined"
     ]
    }
   ],
   "source": [
    "y_name1 = 'khus'\n",
    "my_name1"
   ]
  },
  {
   "cell_type": "code",
   "execution_count": 68,
   "id": "48c7104d-5077-44c1-be16-75785d1e5aef",
   "metadata": {},
   "outputs": [
    {
     "data": {
      "text/plain": [
       "'khus'"
      ]
     },
     "execution_count": 68,
     "metadata": {},
     "output_type": "execute_result"
    }
   ],
   "source": [
    "y_name1 = 'khus'\n",
    "y_name1"
   ]
  },
  {
   "cell_type": "code",
   "execution_count": 70,
   "id": "6af1cc0e-7e56-4fae-aced-a7e68714d857",
   "metadata": {},
   "outputs": [
    {
     "data": {
      "text/plain": [
       "50"
      ]
     },
     "execution_count": 70,
     "metadata": {},
     "output_type": "execute_result"
    }
   ],
   "source": [
    "45+5"
   ]
  },
  {
   "cell_type": "code",
   "execution_count": 72,
   "id": "ae82a368-1c86-459c-86d1-bf7da8b7de15",
   "metadata": {},
   "outputs": [
    {
     "data": {
      "text/plain": [
       "40"
      ]
     },
     "execution_count": 72,
     "metadata": {},
     "output_type": "execute_result"
    }
   ],
   "source": [
    "45-5"
   ]
  },
  {
   "cell_type": "code",
   "execution_count": 74,
   "id": "1a0992b6-c783-432f-b3e3-706cc029b324",
   "metadata": {},
   "outputs": [
    {
     "data": {
      "text/plain": [
       "25"
      ]
     },
     "execution_count": 74,
     "metadata": {},
     "output_type": "execute_result"
    }
   ],
   "source": [
    "5*5"
   ]
  },
  {
   "cell_type": "code",
   "execution_count": 76,
   "id": "717e52bf-f250-4873-b0be-a8239f0db66d",
   "metadata": {},
   "outputs": [
    {
     "data": {
      "text/plain": [
       "0.8"
      ]
     },
     "execution_count": 76,
     "metadata": {},
     "output_type": "execute_result"
    }
   ],
   "source": [
    "4/5"
   ]
  },
  {
   "cell_type": "code",
   "execution_count": 78,
   "id": "3cd68784-5238-4fc2-af78-513dba79315a",
   "metadata": {},
   "outputs": [
    {
     "data": {
      "text/plain": [
       "8.0"
      ]
     },
     "execution_count": 78,
     "metadata": {},
     "output_type": "execute_result"
    }
   ],
   "source": [
    "40/5"
   ]
  },
  {
   "cell_type": "code",
   "execution_count": 80,
   "id": "08377a09-9cbc-45b3-9214-22d5d7452965",
   "metadata": {},
   "outputs": [
    {
     "data": {
      "text/plain": [
       "8"
      ]
     },
     "execution_count": 80,
     "metadata": {},
     "output_type": "execute_result"
    }
   ],
   "source": [
    "40//5"
   ]
  },
  {
   "cell_type": "code",
   "execution_count": 84,
   "id": "e5e6db82-a6f1-4c85-81eb-3b60eafa5c58",
   "metadata": {},
   "outputs": [
    {
     "data": {
      "text/plain": [
       "25"
      ]
     },
     "execution_count": 84,
     "metadata": {},
     "output_type": "execute_result"
    }
   ],
   "source": [
    "5**2   #5*5"
   ]
  },
  {
   "cell_type": "code",
   "execution_count": 86,
   "id": "e74f6146-e719-432a-bd73-77eca2b2bc6b",
   "metadata": {},
   "outputs": [
    {
     "data": {
      "text/plain": [
       "3125"
      ]
     },
     "execution_count": 86,
     "metadata": {},
     "output_type": "execute_result"
    }
   ],
   "source": [
    "5**5   # 5*5*5*5*5"
   ]
  },
  {
   "cell_type": "code",
   "execution_count": 88,
   "id": "9a91263a-ed39-4dcf-bd64-0efc74dd2102",
   "metadata": {},
   "outputs": [
    {
     "data": {
      "text/plain": [
       "1"
      ]
     },
     "execution_count": 88,
     "metadata": {},
     "output_type": "execute_result"
    }
   ],
   "source": [
    "4%3"
   ]
  },
  {
   "cell_type": "code",
   "execution_count": 92,
   "id": "57dbe073-5706-451f-a40f-b0ec93312096",
   "metadata": {},
   "outputs": [
    {
     "data": {
      "text/plain": [
       "0.6666666666666666"
      ]
     },
     "execution_count": 92,
     "metadata": {},
     "output_type": "execute_result"
    }
   ],
   "source": [
    "a = 2\n",
    "b = 3\n",
    "a*b\n",
    "a/b"
   ]
  },
  {
   "cell_type": "code",
   "execution_count": 98,
   "id": "1814cb1d-35ec-4f96-8837-c504ada06c4a",
   "metadata": {},
   "outputs": [
    {
     "name": "stdout",
     "output_type": "stream",
     "text": [
      "6\n",
      "0.6666666666666666\n",
      "0\n",
      "2\n"
     ]
    }
   ],
   "source": [
    "a = 2\n",
    "b = 3\n",
    "print(a*b)\n",
    "print(a/b)\n",
    "print(a//b)\n",
    "print(a%b)"
   ]
  },
  {
   "cell_type": "code",
   "execution_count": 100,
   "id": "c48897cd-00c0-44b6-b96d-15a835db8a79",
   "metadata": {},
   "outputs": [
    {
     "data": {
      "text/plain": [
       "2"
      ]
     },
     "execution_count": 100,
     "metadata": {},
     "output_type": "execute_result"
    }
   ],
   "source": [
    "2%3"
   ]
  },
  {
   "cell_type": "code",
   "execution_count": 102,
   "id": "4c3087b0-c058-4bb0-b317-f497523d5725",
   "metadata": {},
   "outputs": [
    {
     "data": {
      "text/plain": [
       "1"
      ]
     },
     "execution_count": 102,
     "metadata": {},
     "output_type": "execute_result"
    }
   ],
   "source": [
    "3%2"
   ]
  },
  {
   "cell_type": "markdown",
   "id": "fe1fd171-490d-4a68-abca-5c0a74289338",
   "metadata": {},
   "source": [
    "# List"
   ]
  },
  {
   "cell_type": "code",
   "execution_count": 107,
   "id": "c38de06e-7174-4117-b41a-70d0a5e3c1b8",
   "metadata": {},
   "outputs": [
    {
     "data": {
      "text/plain": [
       "['khushboo', 25, 'python']"
      ]
     },
     "execution_count": 107,
     "metadata": {},
     "output_type": "execute_result"
    }
   ],
   "source": [
    "my_list = [\"khushboo\",25,'python']\n",
    "my_list"
   ]
  },
  {
   "cell_type": "code",
   "execution_count": 109,
   "id": "7b33ed6b-6aa9-4333-abaa-94227c091cf8",
   "metadata": {},
   "outputs": [
    {
     "data": {
      "text/plain": [
       "3"
      ]
     },
     "execution_count": 109,
     "metadata": {},
     "output_type": "execute_result"
    }
   ],
   "source": [
    "len(my_list)"
   ]
  },
  {
   "cell_type": "code",
   "execution_count": 119,
   "id": "44b8b031-cff1-478d-bf3e-14ab496b57cd",
   "metadata": {},
   "outputs": [
    {
     "data": {
      "text/plain": [
       "list"
      ]
     },
     "execution_count": 119,
     "metadata": {},
     "output_type": "execute_result"
    }
   ],
   "source": [
    "type(my_list)"
   ]
  },
  {
   "cell_type": "code",
   "execution_count": 113,
   "id": "3f8832b5-231d-4477-b3e0-85bec76b0afc",
   "metadata": {},
   "outputs": [
    {
     "data": {
      "text/plain": [
       "'khushboo'"
      ]
     },
     "execution_count": 113,
     "metadata": {},
     "output_type": "execute_result"
    }
   ],
   "source": [
    "my_list[0]"
   ]
  },
  {
   "cell_type": "code",
   "execution_count": 115,
   "id": "545f198f-fd42-4e7c-ac49-886ff51bbe51",
   "metadata": {},
   "outputs": [
    {
     "data": {
      "text/plain": [
       "'python'"
      ]
     },
     "execution_count": 115,
     "metadata": {},
     "output_type": "execute_result"
    }
   ],
   "source": [
    "my_list[2]"
   ]
  },
  {
   "cell_type": "code",
   "execution_count": 117,
   "id": "23442170-1438-46e5-88b4-5f4b0ab92193",
   "metadata": {},
   "outputs": [
    {
     "ename": "IndexError",
     "evalue": "list index out of range",
     "output_type": "error",
     "traceback": [
      "\u001b[1;31m---------------------------------------------------------------------------\u001b[0m",
      "\u001b[1;31mIndexError\u001b[0m                                Traceback (most recent call last)",
      "Cell \u001b[1;32mIn[117], line 1\u001b[0m\n\u001b[1;32m----> 1\u001b[0m my_list[\u001b[38;5;241m3\u001b[39m]\n",
      "\u001b[1;31mIndexError\u001b[0m: list index out of range"
     ]
    }
   ],
   "source": [
    "my_list[3]"
   ]
  },
  {
   "cell_type": "code",
   "execution_count": 121,
   "id": "4c635c60-3db7-4603-b9f1-538cf949be81",
   "metadata": {},
   "outputs": [
    {
     "data": {
      "text/plain": [
       "['__add__',\n",
       " '__class__',\n",
       " '__class_getitem__',\n",
       " '__contains__',\n",
       " '__delattr__',\n",
       " '__delitem__',\n",
       " '__dir__',\n",
       " '__doc__',\n",
       " '__eq__',\n",
       " '__format__',\n",
       " '__ge__',\n",
       " '__getattribute__',\n",
       " '__getitem__',\n",
       " '__getstate__',\n",
       " '__gt__',\n",
       " '__hash__',\n",
       " '__iadd__',\n",
       " '__imul__',\n",
       " '__init__',\n",
       " '__init_subclass__',\n",
       " '__iter__',\n",
       " '__le__',\n",
       " '__len__',\n",
       " '__lt__',\n",
       " '__mul__',\n",
       " '__ne__',\n",
       " '__new__',\n",
       " '__reduce__',\n",
       " '__reduce_ex__',\n",
       " '__repr__',\n",
       " '__reversed__',\n",
       " '__rmul__',\n",
       " '__setattr__',\n",
       " '__setitem__',\n",
       " '__sizeof__',\n",
       " '__str__',\n",
       " '__subclasshook__',\n",
       " 'append',\n",
       " 'clear',\n",
       " 'copy',\n",
       " 'count',\n",
       " 'extend',\n",
       " 'index',\n",
       " 'insert',\n",
       " 'pop',\n",
       " 'remove',\n",
       " 'reverse',\n",
       " 'sort']"
      ]
     },
     "execution_count": 121,
     "metadata": {},
     "output_type": "execute_result"
    }
   ],
   "source": [
    "dir(list)"
   ]
  },
  {
   "cell_type": "code",
   "execution_count": null,
   "id": "603bee44-fb3b-4838-adc7-f0fd289036ae",
   "metadata": {},
   "outputs": [],
   "source": []
  }
 ],
 "metadata": {
  "kernelspec": {
   "display_name": "Python 3 (ipykernel)",
   "language": "python",
   "name": "python3"
  },
  "language_info": {
   "codemirror_mode": {
    "name": "ipython",
    "version": 3
   },
   "file_extension": ".py",
   "mimetype": "text/x-python",
   "name": "python",
   "nbconvert_exporter": "python",
   "pygments_lexer": "ipython3",
   "version": "3.12.4"
  }
 },
 "nbformat": 4,
 "nbformat_minor": 5
}
