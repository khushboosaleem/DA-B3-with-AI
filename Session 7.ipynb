{
 "cells": [
  {
   "cell_type": "markdown",
   "id": "433cee70-1a72-49fc-91ae-7edddf9a3d97",
   "metadata": {},
   "source": [
    "### Comparison Operators (== , != , < , > , >= , <=)\n",
    "\n"
   ]
  },
  {
   "cell_type": "markdown",
   "id": "8f94590b-b34d-44f2-b959-c72e2834dd3e",
   "metadata": {},
   "source": [
    "Comparison operators are used to compare two values. These operators return a Boolean value (True or False)\n"
   ]
  },
  {
   "cell_type": "code",
   "execution_count": 2,
   "id": "fe379754-6520-45e7-ba61-238ed59d0a1c",
   "metadata": {},
   "outputs": [],
   "source": [
    "x = 1\n",
    "y = 2\n",
    "z = 4\n",
    "p = 9\n",
    "a = 5\n",
    "b = 6\n",
    "u = 2 "
   ]
  },
  {
   "cell_type": "code",
   "execution_count": 3,
   "id": "617971b5-0486-4848-a4e2-ac1270b1e686",
   "metadata": {},
   "outputs": [
    {
     "data": {
      "text/plain": [
       "False"
      ]
     },
     "execution_count": 3,
     "metadata": {},
     "output_type": "execute_result"
    }
   ],
   "source": [
    "x > y"
   ]
  },
  {
   "cell_type": "code",
   "execution_count": 4,
   "id": "2c93bf67-32cb-4394-b3e4-090b3f1922c0",
   "metadata": {},
   "outputs": [
    {
     "data": {
      "text/plain": [
       "True"
      ]
     },
     "execution_count": 4,
     "metadata": {},
     "output_type": "execute_result"
    }
   ],
   "source": [
    "u == u"
   ]
  },
  {
   "cell_type": "code",
   "execution_count": 5,
   "id": "23fc954f-81ca-41cb-9300-21716563574c",
   "metadata": {},
   "outputs": [
    {
     "data": {
      "text/plain": [
       "True"
      ]
     },
     "execution_count": 5,
     "metadata": {},
     "output_type": "execute_result"
    }
   ],
   "source": [
    "a != b"
   ]
  },
  {
   "cell_type": "code",
   "execution_count": 26,
   "id": "c13cb7c6-d0fc-468b-bfa2-6aba5717aa9b",
   "metadata": {},
   "outputs": [
    {
     "ename": "SyntaxError",
     "evalue": "invalid syntax (4259039768.py, line 1)",
     "output_type": "error",
     "traceback": [
      "\u001b[1;36m  Cell \u001b[1;32mIn[26], line 1\u001b[1;36m\u001b[0m\n\u001b[1;33m    print(x =! b)\u001b[0m\n\u001b[1;37m             ^\u001b[0m\n\u001b[1;31mSyntaxError\u001b[0m\u001b[1;31m:\u001b[0m invalid syntax\n"
     ]
    }
   ],
   "source": [
    "print(x =! b)"
   ]
  },
  {
   "cell_type": "code",
   "execution_count": 28,
   "id": "b039a9e7-a5db-45f8-9100-57ec92bdfdfd",
   "metadata": {},
   "outputs": [
    {
     "data": {
      "text/plain": [
       "[\"'b' is not recognized as an internal or external command,\",\n",
       " 'operable program or batch file.']"
      ]
     },
     "execution_count": 28,
     "metadata": {},
     "output_type": "execute_result"
    }
   ],
   "source": [
    "x =! b\n",
    "x"
   ]
  },
  {
   "cell_type": "code",
   "execution_count": 29,
   "id": "df28f10d-ed3d-4575-bae9-2e606190b047",
   "metadata": {},
   "outputs": [
    {
     "name": "stdout",
     "output_type": "stream",
     "text": [
      "[\"'b' is not recognized as an internal or external command,\", 'operable program or batch file.']\n"
     ]
    }
   ],
   "source": [
    "x =! b\n",
    "print(x)"
   ]
  },
  {
   "cell_type": "code",
   "execution_count": 21,
   "id": "f9cda949-2bcc-4ba7-91cf-698b5f1f5d66",
   "metadata": {},
   "outputs": [
    {
     "data": {
      "text/plain": [
       "'! b'"
      ]
     },
     "execution_count": 21,
     "metadata": {},
     "output_type": "execute_result"
    }
   ],
   "source": [
    "x = '! b'\n",
    "x"
   ]
  },
  {
   "cell_type": "code",
   "execution_count": 19,
   "id": "e8c21fb1-5eff-4b57-8313-1288fd31b12e",
   "metadata": {},
   "outputs": [],
   "source": [
    "x = 'apple'"
   ]
  },
  {
   "cell_type": "code",
   "execution_count": 13,
   "id": "08391a37-70d4-4d78-acac-2ba8541519a4",
   "metadata": {},
   "outputs": [
    {
     "data": {
      "text/plain": [
       "True"
      ]
     },
     "execution_count": 13,
     "metadata": {},
     "output_type": "execute_result"
    }
   ],
   "source": [
    "x != b"
   ]
  },
  {
   "cell_type": "code",
   "execution_count": 14,
   "id": "0bb2cba4-eedc-43e9-ad50-6fc5cd2e86be",
   "metadata": {},
   "outputs": [
    {
     "ename": "SyntaxError",
     "evalue": "invalid syntax (3881400707.py, line 1)",
     "output_type": "error",
     "traceback": [
      "\u001b[1;36m  Cell \u001b[1;32mIn[14], line 1\u001b[1;36m\u001b[0m\n\u001b[1;33m    x !== b\u001b[0m\n\u001b[1;37m        ^\u001b[0m\n\u001b[1;31mSyntaxError\u001b[0m\u001b[1;31m:\u001b[0m invalid syntax\n"
     ]
    }
   ],
   "source": [
    "x !== b"
   ]
  },
  {
   "cell_type": "code",
   "execution_count": 22,
   "id": "d155e271-e7da-49fe-9144-6ef9fc7af57f",
   "metadata": {},
   "outputs": [],
   "source": [
    "x = 1\n",
    "y = 2\n",
    "z = 4\n",
    "p = 9\n",
    "a = 5\n",
    "b = 6\n",
    "u = 2 "
   ]
  },
  {
   "cell_type": "code",
   "execution_count": 23,
   "id": "7e42888c-ecfd-4a48-8828-dd68bcfa012c",
   "metadata": {},
   "outputs": [
    {
     "data": {
      "text/plain": [
       "False"
      ]
     },
     "execution_count": 23,
     "metadata": {},
     "output_type": "execute_result"
    }
   ],
   "source": [
    "u >= a"
   ]
  },
  {
   "cell_type": "code",
   "execution_count": 24,
   "id": "621a3923-5309-4fcd-87e3-cd5671844c40",
   "metadata": {},
   "outputs": [
    {
     "data": {
      "text/plain": [
       "True"
      ]
     },
     "execution_count": 24,
     "metadata": {},
     "output_type": "execute_result"
    }
   ],
   "source": [
    "100 > 22"
   ]
  },
  {
   "cell_type": "code",
   "execution_count": 25,
   "id": "4c0dbdd0-bc40-4fa2-b2f0-4ef468e5f8ec",
   "metadata": {},
   "outputs": [
    {
     "data": {
      "text/plain": [
       "True"
      ]
     },
     "execution_count": 25,
     "metadata": {},
     "output_type": "execute_result"
    }
   ],
   "source": [
    "(a+b) > u"
   ]
  },
  {
   "cell_type": "code",
   "execution_count": 30,
   "id": "362cd6dc-e4eb-43f0-9ae5-f6553ac4109f",
   "metadata": {},
   "outputs": [
    {
     "data": {
      "text/plain": [
       "False"
      ]
     },
     "execution_count": 30,
     "metadata": {},
     "output_type": "execute_result"
    }
   ],
   "source": [
    "(22+1) < 1"
   ]
  },
  {
   "cell_type": "code",
   "execution_count": 31,
   "id": "9d6b14be-c6a6-4193-9698-62da1b370097",
   "metadata": {},
   "outputs": [
    {
     "ename": "TypeError",
     "evalue": "'>' not supported between instances of 'str' and 'int'",
     "output_type": "error",
     "traceback": [
      "\u001b[1;31m---------------------------------------------------------------------------\u001b[0m",
      "\u001b[1;31mTypeError\u001b[0m                                 Traceback (most recent call last)",
      "Cell \u001b[1;32mIn[31], line 1\u001b[0m\n\u001b[1;32m----> 1\u001b[0m \u001b[38;5;124m'\u001b[39m\u001b[38;5;124mpython\u001b[39m\u001b[38;5;124m'\u001b[39m \u001b[38;5;241m>\u001b[39m \u001b[38;5;241m22\u001b[39m\n",
      "\u001b[1;31mTypeError\u001b[0m: '>' not supported between instances of 'str' and 'int'"
     ]
    }
   ],
   "source": [
    "'python' > 22"
   ]
  },
  {
   "cell_type": "code",
   "execution_count": 32,
   "id": "30a21d37-7c75-471f-9962-191755a4bc91",
   "metadata": {},
   "outputs": [
    {
     "data": {
      "text/plain": [
       "True"
      ]
     },
     "execution_count": 32,
     "metadata": {},
     "output_type": "execute_result"
    }
   ],
   "source": [
    "'world' > 'programming'"
   ]
  },
  {
   "cell_type": "code",
   "execution_count": 33,
   "id": "24534faa-2653-4007-875e-b8edbe41ce65",
   "metadata": {},
   "outputs": [
    {
     "data": {
      "text/plain": [
       "True"
      ]
     },
     "execution_count": 33,
     "metadata": {},
     "output_type": "execute_result"
    }
   ],
   "source": [
    "'python' == 'python'"
   ]
  },
  {
   "cell_type": "code",
   "execution_count": 34,
   "id": "71d6e109-7e5e-4acf-8906-83c0066a0287",
   "metadata": {},
   "outputs": [
    {
     "data": {
      "text/plain": [
       "False"
      ]
     },
     "execution_count": 34,
     "metadata": {},
     "output_type": "execute_result"
    }
   ],
   "source": [
    "'Python' == 'python'"
   ]
  },
  {
   "cell_type": "code",
   "execution_count": 35,
   "id": "821ec9df-b875-45bb-8313-85b6fed375c5",
   "metadata": {},
   "outputs": [
    {
     "data": {
      "text/plain": [
       "False"
      ]
     },
     "execution_count": 35,
     "metadata": {},
     "output_type": "execute_result"
    }
   ],
   "source": [
    "'python' > 'python'"
   ]
  },
  {
   "cell_type": "code",
   "execution_count": 36,
   "id": "45b48886-f1cc-4d25-830c-a7a80e7cab7e",
   "metadata": {},
   "outputs": [
    {
     "name": "stdout",
     "output_type": "stream",
     "text": [
      "False\n"
     ]
    }
   ],
   "source": [
    "# Check if a person is old enough to vote (age >= 18). Just print the Boolean result.\n",
    "\n",
    "age = 12\n",
    "print(age >= 18)"
   ]
  },
  {
   "cell_type": "code",
   "execution_count": 37,
   "id": "1f676730-963b-4acd-b47e-cc27f67c0e22",
   "metadata": {},
   "outputs": [
    {
     "name": "stdout",
     "output_type": "stream",
     "text": [
      "True\n"
     ]
    }
   ],
   "source": [
    "# Compare the lengths of two strings and print if they are equal.\n",
    "\n",
    "s1 = 'hello'\n",
    "s2 = 'world'\n",
    "print(len(s1) == len(s2))"
   ]
  },
  {
   "cell_type": "code",
   "execution_count": 41,
   "id": "7d50dee8-207a-4323-b30e-004ee544246d",
   "metadata": {},
   "outputs": [
    {
     "name": "stdout",
     "output_type": "stream",
     "text": [
      "False\n"
     ]
    }
   ],
   "source": [
    "# Compare the lengths of two lists and check if the first is longer.\n",
    "\n",
    "list1 = ['apple', 'mango', 'cherry']\n",
    "list2 = ['carrot', 'brinjal']\n",
    "print(len(list1) == len(list2))"
   ]
  },
  {
   "cell_type": "code",
   "execution_count": 42,
   "id": "7088faeb-a5f0-48fa-89a0-83362014912e",
   "metadata": {},
   "outputs": [
    {
     "data": {
      "text/plain": [
       "False"
      ]
     },
     "execution_count": 42,
     "metadata": {},
     "output_type": "execute_result"
    }
   ],
   "source": [
    "list1 == list2"
   ]
  },
  {
   "cell_type": "code",
   "execution_count": 43,
   "id": "e2f982e3-be04-4ac0-b052-abdb04a781e0",
   "metadata": {},
   "outputs": [
    {
     "name": "stdout",
     "output_type": "stream",
     "text": [
      "False\n"
     ]
    }
   ],
   "source": [
    "print(list1 == list2)"
   ]
  },
  {
   "cell_type": "code",
   "execution_count": 40,
   "id": "078d0048-cbbd-434b-9755-2792fe2f9352",
   "metadata": {},
   "outputs": [
    {
     "data": {
      "text/plain": [
       "3"
      ]
     },
     "execution_count": 40,
     "metadata": {},
     "output_type": "execute_result"
    }
   ],
   "source": [
    "len(list1)"
   ]
  },
  {
   "cell_type": "code",
   "execution_count": 44,
   "id": "7cd13a57-ba89-4d75-9fc8-31a696559f9a",
   "metadata": {},
   "outputs": [],
   "source": [
    "list1 = ['apple', 'mango', 'cherry']\n",
    "list2 = ['carrot', 'brinjal', 'coconut']"
   ]
  },
  {
   "cell_type": "code",
   "execution_count": 46,
   "id": "28d113a8-b418-4815-8f47-fd953a8ed008",
   "metadata": {},
   "outputs": [],
   "source": [
    "list1 = ['apple', 'mango', 'cherry']\n",
    "list2 = ['apple', 'mango', 'cherry']"
   ]
  },
  {
   "cell_type": "code",
   "execution_count": 48,
   "id": "cf1db840-1fcb-439c-93bc-f93a0fc70c3e",
   "metadata": {},
   "outputs": [],
   "source": [
    "list1 = ['apple', 'mango', 'cherry']\n",
    "list2 = ['cherry', 'mango', 'apple']"
   ]
  },
  {
   "cell_type": "code",
   "execution_count": 49,
   "id": "70889f1b-1434-4eab-9750-e363227cf59d",
   "metadata": {},
   "outputs": [
    {
     "name": "stdout",
     "output_type": "stream",
     "text": [
      "False\n"
     ]
    }
   ],
   "source": [
    "print(list1 == list2)"
   ]
  },
  {
   "cell_type": "code",
   "execution_count": 47,
   "id": "2dda2643-e68f-4736-8856-ce4c73c16723",
   "metadata": {},
   "outputs": [
    {
     "name": "stdout",
     "output_type": "stream",
     "text": [
      "True\n"
     ]
    }
   ],
   "source": [
    "print(list1 == list2)"
   ]
  },
  {
   "cell_type": "code",
   "execution_count": 45,
   "id": "6e51a4e3-0ce4-4ef9-9596-44a4e89d2729",
   "metadata": {},
   "outputs": [
    {
     "name": "stdout",
     "output_type": "stream",
     "text": [
      "False\n"
     ]
    }
   ],
   "source": [
    "print(list1 == list2)"
   ]
  },
  {
   "cell_type": "markdown",
   "id": "ed37ba10-7d57-4361-a4d9-b98fa48254d9",
   "metadata": {},
   "source": [
    "### Logical Operator  (and, or, not)"
   ]
  },
  {
   "cell_type": "markdown",
   "id": "3534996a-9a37-41ce-ab89-909cbea60e28",
   "metadata": {},
   "source": [
    "Logical operators allow you to combine multiple conditions into one complex condition. These operators are commonly used to combine relational conditions and make decisions based on multiple criteria."
   ]
  },
  {
   "cell_type": "code",
   "execution_count": 50,
   "id": "bfda19b4-a6ff-464f-abc5-45f1b507d2da",
   "metadata": {},
   "outputs": [],
   "source": [
    "x = 1\n",
    "y = 2\n",
    "z = 4\n",
    "p = 9\n",
    "a = 5\n",
    "b = 6\n",
    "u = 2 "
   ]
  },
  {
   "cell_type": "code",
   "execution_count": 52,
   "id": "aecb4450-7cfa-4a55-8ac9-a61a14b3e484",
   "metadata": {},
   "outputs": [
    {
     "data": {
      "text/plain": [
       "True"
      ]
     },
     "execution_count": 52,
     "metadata": {},
     "output_type": "execute_result"
    }
   ],
   "source": [
    "x == x"
   ]
  },
  {
   "cell_type": "code",
   "execution_count": 53,
   "id": "2d972410-b502-4cd5-a28d-2d578c2e44a0",
   "metadata": {},
   "outputs": [
    {
     "data": {
      "text/plain": [
       "True"
      ]
     },
     "execution_count": 53,
     "metadata": {},
     "output_type": "execute_result"
    }
   ],
   "source": [
    "b > a"
   ]
  },
  {
   "cell_type": "code",
   "execution_count": 54,
   "id": "13c76637-7aab-478f-9a20-90345e86471e",
   "metadata": {},
   "outputs": [
    {
     "data": {
      "text/plain": [
       "True"
      ]
     },
     "execution_count": 54,
     "metadata": {},
     "output_type": "execute_result"
    }
   ],
   "source": [
    "x == x and b > a"
   ]
  },
  {
   "cell_type": "code",
   "execution_count": 58,
   "id": "240306bc-5347-4bb4-b583-25be9c60141c",
   "metadata": {},
   "outputs": [
    {
     "data": {
      "text/plain": [
       "False"
      ]
     },
     "execution_count": 58,
     "metadata": {},
     "output_type": "execute_result"
    }
   ],
   "source": [
    "x > u"
   ]
  },
  {
   "cell_type": "code",
   "execution_count": 59,
   "id": "ad842e5e-77e5-445e-a16c-fd6cd3cead84",
   "metadata": {},
   "outputs": [
    {
     "data": {
      "text/plain": [
       "False"
      ]
     },
     "execution_count": 59,
     "metadata": {},
     "output_type": "execute_result"
    }
   ],
   "source": [
    "x == x and x > u"
   ]
  },
  {
   "cell_type": "code",
   "execution_count": 60,
   "id": "8667dcdb-198a-4e16-9c73-eba47839da08",
   "metadata": {},
   "outputs": [
    {
     "data": {
      "text/plain": [
       "True"
      ]
     },
     "execution_count": 60,
     "metadata": {},
     "output_type": "execute_result"
    }
   ],
   "source": [
    "33 > 11"
   ]
  },
  {
   "cell_type": "code",
   "execution_count": 61,
   "id": "79dd5bbf-a2b0-40bf-8244-c35c6b012d49",
   "metadata": {},
   "outputs": [
    {
     "data": {
      "text/plain": [
       "True"
      ]
     },
     "execution_count": 61,
     "metadata": {},
     "output_type": "execute_result"
    }
   ],
   "source": [
    "33 > 11 and 22 == 22"
   ]
  },
  {
   "cell_type": "code",
   "execution_count": 62,
   "id": "7d1a7bf7-6b9b-49fe-a1bc-d93499ca0a86",
   "metadata": {},
   "outputs": [
    {
     "data": {
      "text/plain": [
       "True"
      ]
     },
     "execution_count": 62,
     "metadata": {},
     "output_type": "execute_result"
    }
   ],
   "source": [
    "33 > 11 and (22 == 22 and 55 > 1)"
   ]
  },
  {
   "cell_type": "code",
   "execution_count": 63,
   "id": "5b70e95e-d915-4dbd-8606-828a28840e51",
   "metadata": {},
   "outputs": [
    {
     "data": {
      "text/plain": [
       "True"
      ]
     },
     "execution_count": 63,
     "metadata": {},
     "output_type": "execute_result"
    }
   ],
   "source": [
    "12 > 2"
   ]
  },
  {
   "cell_type": "code",
   "execution_count": 65,
   "id": "20e9226b-30b5-4a77-b830-48e604b7d3e6",
   "metadata": {},
   "outputs": [
    {
     "data": {
      "text/plain": [
       "False"
      ]
     },
     "execution_count": 65,
     "metadata": {},
     "output_type": "execute_result"
    }
   ],
   "source": [
    "1 > 9"
   ]
  },
  {
   "cell_type": "code",
   "execution_count": 66,
   "id": "4cc25237-9df2-49a4-8faf-a1d34824a3f2",
   "metadata": {},
   "outputs": [
    {
     "data": {
      "text/plain": [
       "True"
      ]
     },
     "execution_count": 66,
     "metadata": {},
     "output_type": "execute_result"
    }
   ],
   "source": [
    "12 > 2 or 1 > 9"
   ]
  },
  {
   "cell_type": "code",
   "execution_count": 67,
   "id": "92a67477-0611-4ed2-ad14-ff6cc09e7019",
   "metadata": {},
   "outputs": [
    {
     "data": {
      "text/plain": [
       "True"
      ]
     },
     "execution_count": 67,
     "metadata": {},
     "output_type": "execute_result"
    }
   ],
   "source": [
    "1 > 2 or (11 > 9 and 9 == 9)"
   ]
  },
  {
   "cell_type": "code",
   "execution_count": 68,
   "id": "6da40c43-7fcf-41ea-bc1f-d57adbc05d3c",
   "metadata": {},
   "outputs": [
    {
     "data": {
      "text/plain": [
       "True"
      ]
     },
     "execution_count": 68,
     "metadata": {},
     "output_type": "execute_result"
    }
   ],
   "source": [
    "11 > 3"
   ]
  },
  {
   "cell_type": "code",
   "execution_count": 69,
   "id": "4360a5c8-b7cc-4129-b78d-efe8d2098cf2",
   "metadata": {},
   "outputs": [
    {
     "data": {
      "text/plain": [
       "False"
      ]
     },
     "execution_count": 69,
     "metadata": {},
     "output_type": "execute_result"
    }
   ],
   "source": [
    "not 11 > 3"
   ]
  },
  {
   "cell_type": "code",
   "execution_count": 70,
   "id": "93f98844-463c-41ad-8b18-80ee75e41976",
   "metadata": {},
   "outputs": [
    {
     "data": {
      "text/plain": [
       "True"
      ]
     },
     "execution_count": 70,
     "metadata": {},
     "output_type": "execute_result"
    }
   ],
   "source": [
    "not (11 > 3) or (11 > 9 and 9 == 9)"
   ]
  },
  {
   "cell_type": "code",
   "execution_count": 71,
   "id": "713e02d4-60de-430c-a58e-80e610710a8e",
   "metadata": {},
   "outputs": [
    {
     "data": {
      "text/plain": [
       "False"
      ]
     },
     "execution_count": 71,
     "metadata": {},
     "output_type": "execute_result"
    }
   ],
   "source": [
    "not (11 > 3) and (11 > 9 and 9 == 9)"
   ]
  },
  {
   "cell_type": "code",
   "execution_count": 72,
   "id": "aea510fb-6097-4529-8a6d-dd749df6ea10",
   "metadata": {},
   "outputs": [
    {
     "ename": "SyntaxError",
     "evalue": "invalid syntax (1586527610.py, line 1)",
     "output_type": "error",
     "traceback": [
      "\u001b[1;36m  Cell \u001b[1;32mIn[72], line 1\u001b[1;36m\u001b[0m\n\u001b[1;33m    (11 > 3) not (11 > 9 and 9 == 9)\u001b[0m\n\u001b[1;37m                 ^\u001b[0m\n\u001b[1;31mSyntaxError\u001b[0m\u001b[1;31m:\u001b[0m invalid syntax\n"
     ]
    }
   ],
   "source": [
    "(11 > 3) not (11 > 9 and 9 == 9)"
   ]
  },
  {
   "cell_type": "code",
   "execution_count": 73,
   "id": "4d8d2b4b-9b6a-478d-8b92-880a5c5a4d51",
   "metadata": {},
   "outputs": [
    {
     "data": {
      "text/plain": [
       "0"
      ]
     },
     "execution_count": 73,
     "metadata": {},
     "output_type": "execute_result"
    }
   ],
   "source": [
    "12 % 2"
   ]
  },
  {
   "cell_type": "code",
   "execution_count": 74,
   "id": "aa01171d-8659-4e67-bc19-5ffeca21cac5",
   "metadata": {},
   "outputs": [
    {
     "name": "stdout",
     "output_type": "stream",
     "text": [
      "True\n"
     ]
    }
   ],
   "source": [
    "# Are two numbers both even? check remainder\n",
    "\n",
    "num1 = 12\n",
    "num2 = 20\n",
    "print(num1 % 2 == 0 and num2 % 2 == 0)"
   ]
  },
  {
   "cell_type": "code",
   "execution_count": 75,
   "id": "09dd8cdb-70a0-433b-ae29-207f23edfcbb",
   "metadata": {},
   "outputs": [
    {
     "name": "stdout",
     "output_type": "stream",
     "text": [
      "0\n"
     ]
    }
   ],
   "source": [
    "num1 = 12\n",
    "num2 = 20\n",
    "print(num1 % 2 and num2 % 2)"
   ]
  },
  {
   "cell_type": "code",
   "execution_count": 76,
   "id": "e7cefddc-fc5a-44b9-8091-e69f5406657c",
   "metadata": {},
   "outputs": [
    {
     "data": {
      "text/plain": [
       "0"
      ]
     },
     "execution_count": 76,
     "metadata": {},
     "output_type": "execute_result"
    }
   ],
   "source": [
    "0 and 0"
   ]
  },
  {
   "cell_type": "code",
   "execution_count": 77,
   "id": "6633ceef-5f80-4234-9708-e2aacebb648c",
   "metadata": {},
   "outputs": [
    {
     "data": {
      "text/plain": [
       "True"
      ]
     },
     "execution_count": 77,
     "metadata": {},
     "output_type": "execute_result"
    }
   ],
   "source": [
    "True and True"
   ]
  },
  {
   "cell_type": "code",
   "execution_count": 78,
   "id": "2f35099f-0484-4c33-a7fd-37ffc77d0b80",
   "metadata": {},
   "outputs": [
    {
     "data": {
      "text/plain": [
       "1"
      ]
     },
     "execution_count": 78,
     "metadata": {},
     "output_type": "execute_result"
    }
   ],
   "source": [
    "True and 1"
   ]
  },
  {
   "cell_type": "code",
   "execution_count": null,
   "id": "12c7be2f-fb2e-484d-b1c4-611e57b890b4",
   "metadata": {},
   "outputs": [],
   "source": [
    "# Is a number divisible by 3 or 5?\n",
    "\n"
   ]
  },
  {
   "cell_type": "markdown",
   "id": "68a136e5-b07f-49ae-9e3c-2b884c1a93a6",
   "metadata": {},
   "source": [
    "### Membership Operators (IN - NOT IN)"
   ]
  },
  {
   "cell_type": "markdown",
   "id": "621e61f1-2eef-493f-9071-bffef1ac49f3",
   "metadata": {},
   "source": [
    "Membership operators are used to test whether a value is present in a sequence (such as a list, tuple, or string). (returns Ture or False)"
   ]
  },
  {
   "cell_type": "code",
   "execution_count": 79,
   "id": "d70db37d-9c38-4276-9dd2-d3b1a9913a23",
   "metadata": {},
   "outputs": [
    {
     "name": "stdout",
     "output_type": "stream",
     "text": [
      "True\n"
     ]
    }
   ],
   "source": [
    "#basic example\n",
    "text = \"python\"\n",
    "print('p' in text)"
   ]
  },
  {
   "cell_type": "code",
   "execution_count": 80,
   "id": "79315b0c-e108-439b-bc5d-69eab0440c7a",
   "metadata": {},
   "outputs": [
    {
     "name": "stdout",
     "output_type": "stream",
     "text": [
      "False\n"
     ]
    }
   ],
   "source": [
    "cars = ['mehran','ferrari','sportage']\n",
    "print('city' in cars)"
   ]
  },
  {
   "cell_type": "code",
   "execution_count": 81,
   "id": "d679396b-6f60-4c27-b730-4adc88e2a9bf",
   "metadata": {},
   "outputs": [
    {
     "name": "stdout",
     "output_type": "stream",
     "text": [
      "False\n"
     ]
    }
   ],
   "source": [
    "#not in\n",
    "item1 = ['mehran','ferrari','sportage'] \n",
    "print('mehran' not in item1)"
   ]
  },
  {
   "cell_type": "code",
   "execution_count": 82,
   "id": "905cfb8f-f251-4e18-bbf5-3b7c42665acb",
   "metadata": {},
   "outputs": [
    {
     "name": "stdout",
     "output_type": "stream",
     "text": [
      "False\n"
     ]
    }
   ],
   "source": [
    "# Case-sensitivity\n",
    "basic = 'Java'\n",
    "print('j' in basic)"
   ]
  },
  {
   "cell_type": "code",
   "execution_count": 83,
   "id": "50d10e00-eef8-4be9-9bfc-7cabf407ca2e",
   "metadata": {},
   "outputs": [
    {
     "ename": "SyntaxError",
     "evalue": "invalid syntax (3477198431.py, line 2)",
     "output_type": "error",
     "traceback": [
      "\u001b[1;36m  Cell \u001b[1;32mIn[83], line 2\u001b[1;36m\u001b[0m\n\u001b[1;33m    print('j' in not basic)\u001b[0m\n\u001b[1;37m                 ^\u001b[0m\n\u001b[1;31mSyntaxError\u001b[0m\u001b[1;31m:\u001b[0m invalid syntax\n"
     ]
    }
   ],
   "source": [
    "basic = 'Java'\n",
    "print('j' in not basic)"
   ]
  },
  {
   "cell_type": "code",
   "execution_count": 84,
   "id": "6e9eea2a-b0e1-4d7e-a1e0-2fa8252c5088",
   "metadata": {},
   "outputs": [
    {
     "name": "stdout",
     "output_type": "stream",
     "text": [
      "True\n"
     ]
    }
   ],
   "source": [
    "basic = 'Java'\n",
    "print('j' not in basic)"
   ]
  },
  {
   "cell_type": "code",
   "execution_count": 85,
   "id": "94b9fc59-388c-4205-b532-88f3f4686602",
   "metadata": {},
   "outputs": [
    {
     "name": "stdout",
     "output_type": "stream",
     "text": [
      "False\n"
     ]
    }
   ],
   "source": [
    "# Empty sequences []\n",
    "empty = []\n",
    "print('apple' in empty)"
   ]
  },
  {
   "cell_type": "code",
   "execution_count": 86,
   "id": "f28f70a9-4a8c-4e48-854e-76ee36e8340d",
   "metadata": {},
   "outputs": [
    {
     "name": "stdout",
     "output_type": "stream",
     "text": [
      "True\n"
     ]
    }
   ],
   "source": [
    "# Check if 'banana' is in the list\n",
    "fruits = ['apple', 'banana', 'cherry']\n",
    "print('banana' in fruits)"
   ]
  },
  {
   "cell_type": "code",
   "execution_count": 87,
   "id": "577e4a2d-08dc-4a9d-b538-8049c254def0",
   "metadata": {},
   "outputs": [
    {
     "name": "stdout",
     "output_type": "stream",
     "text": [
      "True\n"
     ]
    }
   ],
   "source": [
    "# Check if the word 'code' is in the sentence\n",
    "sentence = \"I love to write code every day\"\n",
    "print('code' in sentence)"
   ]
  },
  {
   "cell_type": "code",
   "execution_count": 88,
   "id": "69e344fd-7d64-4ff8-b1f7-ddd802c6c4de",
   "metadata": {},
   "outputs": [
    {
     "name": "stdout",
     "output_type": "stream",
     "text": [
      "True\n"
     ]
    }
   ],
   "source": [
    "#and\n",
    "box1 = ['red','green','pink']\n",
    "box2 = ['ball', 'pin', 'pencil', 'erase']\n",
    "\n",
    "print('red' in box1 and 'pencil' in box2)"
   ]
  },
  {
   "cell_type": "markdown",
   "id": "66846cfa-f85f-4fad-9153-bd1d78c41074",
   "metadata": {},
   "source": [
    "### Assignment Operators"
   ]
  },
  {
   "cell_type": "code",
   "execution_count": 89,
   "id": "5041d458-8f92-44cc-b3c4-c9b9ceee853c",
   "metadata": {},
   "outputs": [
    {
     "data": {
      "text/plain": [
       "3"
      ]
     },
     "execution_count": 89,
     "metadata": {},
     "output_type": "execute_result"
    }
   ],
   "source": [
    "x = 1\n",
    "x = x + 2\n",
    "x"
   ]
  },
  {
   "cell_type": "code",
   "execution_count": 90,
   "id": "cfd6ad62-d7fe-4745-a4bb-661db65c4c8f",
   "metadata": {},
   "outputs": [
    {
     "data": {
      "text/plain": [
       "10"
      ]
     },
     "execution_count": 90,
     "metadata": {},
     "output_type": "execute_result"
    }
   ],
   "source": [
    "y = 2\n",
    "y = y * 3\n",
    "y = y + 4\n",
    "y"
   ]
  },
  {
   "cell_type": "code",
   "execution_count": 91,
   "id": "5f8d2259-ed1a-4441-b88f-2382a2249cf5",
   "metadata": {},
   "outputs": [
    {
     "data": {
      "text/plain": [
       "11"
      ]
     },
     "execution_count": 91,
     "metadata": {},
     "output_type": "execute_result"
    }
   ],
   "source": [
    "m = 9\n",
    "m += 2\n",
    "m"
   ]
  },
  {
   "cell_type": "code",
   "execution_count": 92,
   "id": "25c794c2-f562-4b95-b399-20b886bb212b",
   "metadata": {},
   "outputs": [
    {
     "data": {
      "text/plain": [
       "55"
      ]
     },
     "execution_count": 92,
     "metadata": {},
     "output_type": "execute_result"
    }
   ],
   "source": [
    "c = 22\n",
    "c *= 2\n",
    "c += 11\n",
    "c"
   ]
  },
  {
   "cell_type": "code",
   "execution_count": null,
   "id": "12759b64-fb93-4421-b85c-4de5f24e4cee",
   "metadata": {},
   "outputs": [],
   "source": []
  },
  {
   "cell_type": "code",
   "execution_count": null,
   "id": "4bd7a265-aef2-4c47-b230-37f800c16320",
   "metadata": {},
   "outputs": [],
   "source": [
    "# What’s the final value of x?\n",
    "#practice\n",
    "x = 10\n",
    "x += 5\n",
    "x *= 2\n"
   ]
  },
  {
   "cell_type": "code",
   "execution_count": null,
   "id": "c2be44c2-dc7c-4a76-aabc-aeb673ddf71b",
   "metadata": {},
   "outputs": [],
   "source": [
    "x = 9\n",
    "x //= 2\n",
    "x -= 1\n"
   ]
  },
  {
   "cell_type": "code",
   "execution_count": null,
   "id": "c1919f78-67e1-43b2-a7ef-ea410858fb47",
   "metadata": {},
   "outputs": [],
   "source": [
    "x = 3\n",
    "x **= 3\n",
    "x += 5\n",
    "x"
   ]
  },
  {
   "cell_type": "code",
   "execution_count": 93,
   "id": "b50aff6f-4cb6-4ed4-94fe-b8140c970620",
   "metadata": {},
   "outputs": [
    {
     "name": "stdin",
     "output_type": "stream",
     "text": [
      "enter name:  shahmir\n"
     ]
    },
    {
     "data": {
      "text/plain": [
       "'shahmir'"
      ]
     },
     "execution_count": 93,
     "metadata": {},
     "output_type": "execute_result"
    }
   ],
   "source": [
    "#input function\n",
    "#str\n",
    "\n",
    "input('enter name: ')"
   ]
  },
  {
   "cell_type": "code",
   "execution_count": 94,
   "id": "1451f431-14f5-4c07-9e54-24a3c8987ceb",
   "metadata": {},
   "outputs": [
    {
     "name": "stdin",
     "output_type": "stream",
     "text": [
      "enter num1:  11\n",
      "enter num2:  33\n"
     ]
    },
    {
     "data": {
      "text/plain": [
       "'33'"
      ]
     },
     "execution_count": 94,
     "metadata": {},
     "output_type": "execute_result"
    }
   ],
   "source": [
    "input('enter num1: ')\n",
    "input('enter num2: ')"
   ]
  },
  {
   "cell_type": "code",
   "execution_count": 95,
   "id": "b11cf722-933c-406d-9547-b74b3ac48517",
   "metadata": {},
   "outputs": [
    {
     "name": "stdin",
     "output_type": "stream",
     "text": [
      "enter num1:  3\n",
      "enter num2:  3\n"
     ]
    },
    {
     "name": "stdout",
     "output_type": "stream",
     "text": [
      "33\n"
     ]
    }
   ],
   "source": [
    "v = input('enter num1: ')\n",
    "s = input('enter num2: ')\n",
    "add = v + s\n",
    "print(add)"
   ]
  },
  {
   "cell_type": "code",
   "execution_count": 96,
   "id": "92cc2a70-5c3c-4b39-9e3c-35b780dd21dc",
   "metadata": {},
   "outputs": [
    {
     "name": "stdin",
     "output_type": "stream",
     "text": [
      "enter num1:  3\n",
      "enter num2:  5\n"
     ]
    },
    {
     "name": "stdout",
     "output_type": "stream",
     "text": [
      "35\n"
     ]
    }
   ],
   "source": [
    "v = input('enter num1: ')\n",
    "s = input('enter num2: ')\n",
    "add = int(v + s)\n",
    "print(add)"
   ]
  },
  {
   "cell_type": "code",
   "execution_count": 97,
   "id": "7dfd9b18-1cf2-4e4f-afce-e2dc9e04c9dd",
   "metadata": {},
   "outputs": [
    {
     "name": "stdin",
     "output_type": "stream",
     "text": [
      "enter num1:  1\n",
      "enter num2:  2\n"
     ]
    },
    {
     "name": "stdout",
     "output_type": "stream",
     "text": [
      "3\n"
     ]
    }
   ],
   "source": [
    "v = int(input('enter num1: '))\n",
    "s = int(input('enter num2: '))\n",
    "add = v + s\n",
    "print(add)"
   ]
  },
  {
   "cell_type": "code",
   "execution_count": 98,
   "id": "0c273f5c-f472-4041-af12-51ca520a415b",
   "metadata": {},
   "outputs": [
    {
     "name": "stdin",
     "output_type": "stream",
     "text": [
      "enter your name:  shahmir\n"
     ]
    },
    {
     "data": {
      "text/plain": [
       "'Welcomeshahmir'"
      ]
     },
     "execution_count": 98,
     "metadata": {},
     "output_type": "execute_result"
    }
   ],
   "source": [
    "#WAP to print welcome message to user\n",
    "\n",
    "user = input('enter your name: ')\n",
    "user = 'Welcome' + user\n",
    "user"
   ]
  },
  {
   "cell_type": "code",
   "execution_count": 99,
   "id": "d43a1e44-0455-4d16-9464-d30e9b51f2b6",
   "metadata": {},
   "outputs": [
    {
     "name": "stdin",
     "output_type": "stream",
     "text": [
      "enter your name:  james\n"
     ]
    },
    {
     "data": {
      "text/plain": [
       "'Welcome james'"
      ]
     },
     "execution_count": 99,
     "metadata": {},
     "output_type": "execute_result"
    }
   ],
   "source": [
    "user = input('enter your name: ')\n",
    "user = 'Welcome' + \" \" + user\n",
    "user"
   ]
  },
  {
   "cell_type": "code",
   "execution_count": 100,
   "id": "70d0c408-5aa7-41c1-8d81-d491ef6ad45a",
   "metadata": {},
   "outputs": [
    {
     "name": "stdin",
     "output_type": "stream",
     "text": [
      "enter your name:  ali\n"
     ]
    },
    {
     "name": "stdout",
     "output_type": "stream",
     "text": [
      "Welcome! ali\n"
     ]
    }
   ],
   "source": [
    "user = input('enter your name: ')\n",
    "print('Welcome! ' + user) "
   ]
  },
  {
   "cell_type": "code",
   "execution_count": 101,
   "id": "cf760d10-ebf7-4fb8-b389-9f49a0eef3cb",
   "metadata": {},
   "outputs": [
    {
     "name": "stdin",
     "output_type": "stream",
     "text": [
      "enter your name:  shahmir\n"
     ]
    },
    {
     "name": "stdout",
     "output_type": "stream",
     "text": [
      "Welcome! shahmir\n"
     ]
    }
   ],
   "source": [
    "user = input('enter your name: ')\n",
    "print('Welcome!', user) "
   ]
  },
  {
   "cell_type": "code",
   "execution_count": null,
   "id": "fe5e95e5-66b5-4c20-b27b-72241b499164",
   "metadata": {},
   "outputs": [],
   "source": []
  },
  {
   "cell_type": "code",
   "execution_count": null,
   "id": "ca5714bb-8a2a-4d5a-8f5f-193325c2e4c8",
   "metadata": {},
   "outputs": [],
   "source": []
  }
 ],
 "metadata": {
  "kernelspec": {
   "display_name": "Python 3 (ipykernel)",
   "language": "python",
   "name": "python3"
  },
  "language_info": {
   "codemirror_mode": {
    "name": "ipython",
    "version": 3
   },
   "file_extension": ".py",
   "mimetype": "text/x-python",
   "name": "python",
   "nbconvert_exporter": "python",
   "pygments_lexer": "ipython3",
   "version": "3.12.7"
  }
 },
 "nbformat": 4,
 "nbformat_minor": 5
}
