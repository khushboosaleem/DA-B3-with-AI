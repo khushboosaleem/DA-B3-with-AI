{
 "cells": [
  {
   "cell_type": "code",
   "execution_count": 13,
   "id": "fc8f5b95-cdc4-44df-8015-886af9ccda55",
   "metadata": {},
   "outputs": [
    {
     "name": "stdout",
     "output_type": "stream",
     "text": [
      "---------MY QUIZ APP---------\n",
      "['Who is the founder of Pakistan?']\n",
      "your oprions are: \n",
      " A: Quaid e azam \n",
      " B: Allama Iqbal\n",
      " C: All of above\n",
      " D: None of above\n",
      "your options are: A B C D\n"
     ]
    },
    {
     "name": "stdin",
     "output_type": "stream",
     "text": [
      "choose the correct answer:  A\n"
     ]
    },
    {
     "name": "stdout",
     "output_type": "stream",
     "text": [
      "your answer is correct and you got 1 point\n",
      "___________________________________\n",
      "What is the name of your country?\n",
      "your oprions are: \n",
      " A: India \n",
      " B: America\n",
      " C: Pakistan\n",
      " D: None of above\n",
      "your options are: A B C D\n"
     ]
    },
    {
     "name": "stdin",
     "output_type": "stream",
     "text": [
      "choose the correct answer:  B\n"
     ]
    },
    {
     "name": "stdout",
     "output_type": "stream",
     "text": [
      "you entered wrong answer\n",
      "___________________________________\n",
      "What is the name of your city?\n",
      "your oprions are: \n",
      " A: Karachi \n",
      " B: Dubai\n",
      " C: Multan\n",
      " D: None of above\n",
      "your options are: A B C D\n"
     ]
    },
    {
     "name": "stdin",
     "output_type": "stream",
     "text": [
      "choose the correct answer:  A\n"
     ]
    },
    {
     "name": "stdout",
     "output_type": "stream",
     "text": [
      "your answer is correct and you got 1 point\n",
      "___________________________________\n",
      "What is the full form of SQL ?\n",
      "your oprions are: \n",
      " A: Sequential Query Language \n",
      " B: Structured Query Language\n",
      " C: Serial Query Language\n",
      " D: None of above\n",
      "your options are: A B C D\n"
     ]
    },
    {
     "name": "stdin",
     "output_type": "stream",
     "text": [
      "choose the correct answer:  B\n"
     ]
    },
    {
     "name": "stdout",
     "output_type": "stream",
     "text": [
      "your answer is correct and you got 1 point\n",
      "___________________________________\n",
      "What is PYTHON ?\n",
      "your oprions are: \n",
      " A: None of below \n",
      " B: Low Level Language\n",
      " C: Structured Query Language\n",
      " D: High level Language\n",
      "your options are: A B C D\n"
     ]
    },
    {
     "name": "stdin",
     "output_type": "stream",
     "text": [
      "choose the correct answer:  D\n"
     ]
    },
    {
     "name": "stdout",
     "output_type": "stream",
     "text": [
      "your answer is correct and you got 1 point\n",
      "your final score is: 4\n"
     ]
    }
   ],
   "source": [
    "print (\"---------MY QUIZ APP---------\")\n",
    "\n",
    "\n",
    "score = 0\n",
    "\n",
    "ques1 = [\"Who is the founder of Pakistan?\"]\n",
    "print (ques1)\n",
    "A = 'Quaid e azam'\n",
    "B = 'Allama Iqbal'\n",
    "C = 'All of above'\n",
    "D = 'None of above'\n",
    "print (f\"your oprions are: \\n A: {A} \\n B: {B}\\n C: {C}\\n D: {D}\")\n",
    "\n",
    "print (\"your options are: A B C D\")\n",
    "a=input('choose the correct answer: ')\n",
    "if a == 'A':\n",
    "    print ('your answer is correct and you got 1 point')\n",
    "    score +=1\n",
    "else:\n",
    "    print('you entered wrong answer')\n",
    "\n",
    "print (\"___________________________________\")\n",
    "ques2 = \"What is the name of your country?\"\n",
    "print (ques2)\n",
    "A1 = 'India'\n",
    "B1 = 'America'\n",
    "C1 = 'Pakistan'\n",
    "D1 = 'None of above'\n",
    "print (f\"your oprions are: \\n A: {A1} \\n B: {B1}\\n C: {C1}\\n D: {D1}\")\n",
    "\n",
    "print (\"your options are: A B C D\")\n",
    "a=input('choose the correct answer: ')\n",
    "if a == 'C':\n",
    "    print ('your answer is correct and you got 1 point')\n",
    "    score +=1\n",
    "else:\n",
    "    print('you entered wrong answer')\n",
    "print (\"___________________________________\")\n",
    "ques3 = \"What is the name of your city?\"\n",
    "print (ques3)\n",
    "A2 = 'Karachi'\n",
    "B2 = 'Dubai'\n",
    "C2 = 'Multan'\n",
    "D2 = 'None of above'\n",
    "print (f\"your oprions are: \\n A: {A2} \\n B: {B2}\\n C: {C2}\\n D: {D2}\")\n",
    "\n",
    "print (\"your options are: A B C D\")\n",
    "a=input('choose the correct answer: ')\n",
    "if a == 'A':\n",
    "    print ('your answer is correct and you got 1 point')\n",
    "    score +=1\n",
    "else:\n",
    "    print('you entered wrong answer')\n",
    "\n",
    "print (\"___________________________________\")\n",
    "ques4 = \"What is the full form of SQL ?\"\n",
    "print (ques4)\n",
    "A3 = 'Sequential Query Language'\n",
    "B3 = 'Structured Query Language'\n",
    "C3 = 'Serial Query Language'\n",
    "D3 = 'None of above'\n",
    "print (f\"your oprions are: \\n A: {A3} \\n B: {B3}\\n C: {C3}\\n D: {D3}\")\n",
    "\n",
    "print (\"your options are: A B C D\")\n",
    "a=input('choose the correct answer: ')\n",
    "if a == 'B':\n",
    "    print ('your answer is correct and you got 1 point')\n",
    "    score +=1\n",
    "else:\n",
    "    print('you entered wrong answer')\n",
    "    \n",
    "print (\"___________________________________\")\n",
    "ques5 = \"What is PYTHON ?\"\n",
    "print (ques5)\n",
    "A4 = 'None of below'\n",
    "B4 = 'Low Level Language'\n",
    "C4 = 'Structured Query Language'\n",
    "D4 = 'High level Language'\n",
    "print (f\"your oprions are: \\n A: {A4} \\n B: {B4}\\n C: {C4}\\n D: {D4}\")\n",
    "\n",
    "print (\"your options are: A B C D\")\n",
    "a=input('choose the correct answer: ')\n",
    "if a == 'D':\n",
    "    print ('your answer is correct and you got 1 point')\n",
    "    score +=1\n",
    "else:\n",
    "    print('you entered wrong answer')\n",
    "\n",
    "print ( \"your final score is:\", score)"
   ]
  },
  {
   "cell_type": "code",
   "execution_count": 16,
   "id": "e31cd4ec-8c2b-4df8-8dc5-9c09c36b69ea",
   "metadata": {},
   "outputs": [
    {
     "name": "stdout",
     "output_type": "stream",
     "text": [
      "---------MY QUIZ APP---------\n",
      "\n",
      "Who is the founder of Pakistan?\n",
      "A: Quaid e Azam\n",
      "B: Allama Iqbal\n",
      "C: All of above\n",
      "D: None of above\n"
     ]
    },
    {
     "name": "stdin",
     "output_type": "stream",
     "text": [
      "Choose the correct answer (A/B/C/D):  a\n"
     ]
    },
    {
     "name": "stdout",
     "output_type": "stream",
     "text": [
      "Your answer is correct and you got 1 point\n",
      "___________________________________\n",
      "\n",
      "What is the name of your country?\n",
      "A: India\n",
      "B: America\n",
      "C: Pakistan\n",
      "D: None of above\n"
     ]
    },
    {
     "name": "stdin",
     "output_type": "stream",
     "text": [
      "Choose the correct answer (A/B/C/D):  c\n"
     ]
    },
    {
     "name": "stdout",
     "output_type": "stream",
     "text": [
      "Your answer is correct and you got 1 point\n",
      "___________________________________\n",
      "\n",
      "What is the name of your city?\n",
      "A: Karachi\n",
      "B: Dubai\n",
      "C: Multan\n",
      "D: None of above\n"
     ]
    },
    {
     "name": "stdin",
     "output_type": "stream",
     "text": [
      "Choose the correct answer (A/B/C/D):  a\n"
     ]
    },
    {
     "name": "stdout",
     "output_type": "stream",
     "text": [
      "Your answer is correct and you got 1 point\n",
      "___________________________________\n",
      "\n",
      "What is the full form of SQL?\n",
      "A: Sequential Query Language\n",
      "B: Structured Query Language\n",
      "C: Serial Query Language\n",
      "D: None of above\n"
     ]
    },
    {
     "name": "stdin",
     "output_type": "stream",
     "text": [
      "Choose the correct answer (A/B/C/D):  b\n"
     ]
    },
    {
     "name": "stdout",
     "output_type": "stream",
     "text": [
      "Your answer is correct and you got 1 point\n",
      "___________________________________\n",
      "\n",
      "What is PYTHON?\n",
      "A: None of below\n",
      "B: Low Level Language\n",
      "C: Structured Query Language\n",
      "D: High level Language\n"
     ]
    },
    {
     "name": "stdin",
     "output_type": "stream",
     "text": [
      "Choose the correct answer (A/B/C/D):  c\n"
     ]
    },
    {
     "name": "stdout",
     "output_type": "stream",
     "text": [
      "You entered the wrong answer\n",
      "___________________________________\n",
      "Your final score is: 4\n",
      "Good\n"
     ]
    }
   ],
   "source": [
    "print(\"---------MY QUIZ APP---------\")\n",
    "\n",
    "score = 0\n",
    "\n",
    "# List of questions with options and correct answers\n",
    "quiz = [\n",
    "    {\n",
    "        \"question\": \"Who is the founder of Pakistan?\",\n",
    "        \"options\": {\"A\": \"Quaid e Azam\", \"B\": \"Allama Iqbal\", \"C\": \"All of above\", \"D\": \"None of above\"},\n",
    "        \"answer\": \"A\"\n",
    "    },\n",
    "    {\n",
    "        \"question\": \"What is the name of your country?\",\n",
    "        \"options\": {\"A\": \"India\", \"B\": \"America\", \"C\": \"Pakistan\", \"D\": \"None of above\"},\n",
    "        \"answer\": \"C\"\n",
    "    },\n",
    "    {\n",
    "        \"question\": \"What is the name of your city?\",\n",
    "        \"options\": {\"A\": \"Karachi\", \"B\": \"Dubai\", \"C\": \"Multan\", \"D\": \"None of above\"},\n",
    "        \"answer\": \"A\"\n",
    "    },\n",
    "    {\n",
    "        \"question\": \"What is the full form of SQL?\",\n",
    "        \"options\": {\"A\": \"Sequential Query Language\", \"B\": \"Structured Query Language\", \"C\": \"Serial Query Language\", \"D\": \"None of above\"},\n",
    "        \"answer\": \"B\"\n",
    "    },\n",
    "    {\n",
    "        \"question\": \"What is PYTHON?\",\n",
    "        \"options\": {\"A\": \"None of below\", \"B\": \"Low Level Language\", \"C\": \"Structured Query Language\", \"D\": \"High level Language\"},\n",
    "        \"answer\": \"D\"\n",
    "    }\n",
    "]\n",
    "\n",
    "# Quiz loop\n",
    "for q in quiz:\n",
    "    print(\"\\n\" + q[\"question\"])\n",
    "    for key, value in q[\"options\"].items():\n",
    "        print(f\"{key}: {value}\")\n",
    "    \n",
    "    user_input = input(\"Choose the correct answer (A/B/C/D): \").upper()\n",
    "    if user_input == q[\"answer\"]:\n",
    "        print(\"Your answer is correct and you got 1 point\")\n",
    "        score += 1\n",
    "    else:\n",
    "        print(\"You entered the wrong answer\")\n",
    "    print(\"___________________________________\")\n",
    "\n",
    "print(\"Your final score is:\", score)\n",
    "if score == 5:\n",
    "    print (\"Excellent job\")\n",
    "elif score == 4:\n",
    "    print (\"Good\")\n",
    "elif score == 3:\n",
    "    print (\"Need improvement\")\n",
    "else: \n",
    "    print (\"try again\")"
   ]
  },
  {
   "cell_type": "code",
   "execution_count": 5,
   "id": "d29bf798-d55d-412b-b224-4e44cd0048f1",
   "metadata": {},
   "outputs": [],
   "source": [
    "# ques3 = \"What is the name of your city?\"\n",
    "# print (ques2)\n",
    "# A2 = 'Karachi'\n",
    "# B2 = 'Dubai'\n",
    "# C2 = 'Multan'\n",
    "# D2 = 'None of above'\n",
    "# print (f\"your oprions are: \\n A: {A2} \\n B: {B2}\\n C: {C2}\\n D: {D2}\")\n",
    "\n",
    "# print (\"your options are: A B C D\")\n",
    "# a=input('choose the correct answer: ')\n",
    "# if a == 'A':\n",
    "#     print ('your answer is correct and you got 1 point')\n",
    "# else:\n",
    "#     print('you entered wrong answer')"
   ]
  },
  {
   "cell_type": "code",
   "execution_count": 6,
   "id": "8243218e-453a-4103-ba70-474e3eddc06a",
   "metadata": {},
   "outputs": [],
   "source": [
    "\n",
    "# ques4 = \"What is the full form of SQL ?\"\n",
    "# print (ques4)\n",
    "# A3 = 'Sequential Query Language'\n",
    "# B3 = 'Structured Query Language'\n",
    "# C3 = 'Serial Query Language'\n",
    "# D3 = 'None of above'\n",
    "# print (f\"your oprions are: \\n A: {A3} \\n B: {B3}\\n C: {C3}\\n D: {D3}\")\n",
    "\n",
    "# print (\"your options are: A B C D\")\n",
    "# a=input('choose the correct answer: ')\n",
    "# if a == 'B':\n",
    "#     print ('your answer is correct and you got 1 point')\n",
    "# else:\n",
    "#     print('you entered wrong answer')"
   ]
  },
  {
   "cell_type": "code",
   "execution_count": 15,
   "id": "b7a9e331-8e52-404b-af9e-482eb429a786",
   "metadata": {},
   "outputs": [
    {
     "name": "stdout",
     "output_type": "stream",
     "text": [
      "---------MY QUIZ APP---------\n",
      "\n",
      "Who is the founder of Pakistan?\n",
      "Your options are:\n",
      "A. Quaid e Azam\n",
      "B. Allama Iqbal\n",
      "C. All of above\n",
      "D. None of above\n"
     ]
    },
    {
     "name": "stdin",
     "output_type": "stream",
     "text": [
      "Choose the correct answer (A/B/C/D):  A\n"
     ]
    },
    {
     "name": "stdout",
     "output_type": "stream",
     "text": [
      "Your answer is correct and you got 1 point\n",
      "___________________________________\n",
      "\n",
      "What is the name of your country?\n",
      "Your options are:\n",
      "A. India\n",
      "B. America\n",
      "C. Pakistan\n",
      "D. None of above\n"
     ]
    },
    {
     "name": "stdin",
     "output_type": "stream",
     "text": [
      "Choose the correct answer (A/B/C/D):  C\n"
     ]
    },
    {
     "name": "stdout",
     "output_type": "stream",
     "text": [
      "Your answer is correct and you got 1 point\n",
      "___________________________________\n",
      "\n",
      "What is the name of your city?\n",
      "Your options are:\n",
      "A. Karachi\n",
      "B. Dubai\n",
      "C. Multan\n",
      "D. None of above\n"
     ]
    },
    {
     "name": "stdin",
     "output_type": "stream",
     "text": [
      "Choose the correct answer (A/B/C/D):  A\n"
     ]
    },
    {
     "name": "stdout",
     "output_type": "stream",
     "text": [
      "Your answer is correct and you got 1 point\n",
      "___________________________________\n",
      "\n",
      "What is the full form of SQL?\n",
      "Your options are:\n",
      "A. Sequential Query Language\n",
      "B. Structured Query Language\n",
      "C. Serial Query Language\n",
      "D. None of above\n"
     ]
    },
    {
     "name": "stdin",
     "output_type": "stream",
     "text": [
      "Choose the correct answer (A/B/C/D):  C\n"
     ]
    },
    {
     "name": "stdout",
     "output_type": "stream",
     "text": [
      "You entered wrong answer\n",
      "___________________________________\n",
      "\n",
      "What is PYTHON?\n",
      "Your options are:\n",
      "A. None of below\n",
      "B. Low Level Language\n",
      "C. Structured Query Language\n",
      "D. High level Language\n"
     ]
    },
    {
     "name": "stdin",
     "output_type": "stream",
     "text": [
      "Choose the correct answer (A/B/C/D):  c\n"
     ]
    },
    {
     "name": "stdout",
     "output_type": "stream",
     "text": [
      "You entered wrong answer\n",
      "___________________________________\n",
      "Your final score is: 3\n"
     ]
    }
   ],
   "source": [
    "print(\"---------MY QUIZ APP---------\")\n",
    "\n",
    "score = 0\n",
    "\n",
    "# Questions and correct answers\n",
    "questions = [\n",
    "    \"Who is the founder of Pakistan?\",\n",
    "    \"What is the name of your country?\",\n",
    "    \"What is the name of your city?\",\n",
    "    \"What is the full form of SQL?\",\n",
    "    \"What is PYTHON?\"\n",
    "]\n",
    "\n",
    "# Options\n",
    "options = [\n",
    "    [\"A. Quaid e Azam\", \"B. Allama Iqbal\", \"C. All of above\", \"D. None of above\"],\n",
    "    [\"A. India\", \"B. America\", \"C. Pakistan\", \"D. None of above\"],\n",
    "    [\"A. Karachi\", \"B. Dubai\", \"C. Multan\", \"D. None of above\"],\n",
    "    [\"A. Sequential Query Language\", \"B. Structured Query Language\", \"C. Serial Query Language\", \"D. None of above\"],\n",
    "    [\"A. None of below\", \"B. Low Level Language\", \"C. Structured Query Language\", \"D. High level Language\"]\n",
    "]\n",
    "\n",
    "# Correct answers\n",
    "answers = ['A', 'C', 'A', 'B', 'D']\n",
    "\n",
    "# Loop for asking questions\n",
    "i = 0\n",
    "while i < 5:\n",
    "    print()\n",
    "    print(questions[i])\n",
    "    print(\"Your options are:\")\n",
    "    print(options[i][0])\n",
    "    print(options[i][1])\n",
    "    print(options[i][2])\n",
    "    print(options[i][3])\n",
    "    \n",
    "    a = input(\"Choose the correct answer (A/B/C/D): \")\n",
    "    \n",
    "    if a == answers[i]:\n",
    "        print(\"Your answer is correct and you got 1 point\")\n",
    "        score = score + 1\n",
    "    else:\n",
    "        print(\"You entered wrong answer\")\n",
    "\n",
    "    print(\"___________________________________\")\n",
    "    i = i + 1\n",
    "\n",
    "print(\"Your final score is:\", score)\n"
   ]
  },
  {
   "cell_type": "code",
   "execution_count": null,
   "id": "cd296df2-1ca1-4375-ab2b-806caf89080b",
   "metadata": {},
   "outputs": [],
   "source": [
    "import tkinter as tk\n",
    "\n",
    "# Quiz Data\n",
    "questions = [\n",
    "    \"Who is the founder of Pakistan?\",\n",
    "    \"What is the name of your country?\",\n",
    "    \"What is the name of your city?\",\n",
    "    \"What is the full form of SQL?\",\n",
    "    \"What is PYTHON?\"\n",
    "]\n",
    "\n",
    "options = [\n",
    "    [\"A. Quaid e Azam\", \"B. Allama Iqbal\", \"C. All of above\", \"D. None of above\"],\n",
    "    [\"A. India\", \"B. America\", \"C. Pakistan\", \"D. None of above\"],\n",
    "    [\"A. Karachi\", \"B. Dubai\", \"C. Multan\", \"D. None of above\"],\n",
    "    [\"A. Sequential Query Language\", \"B. Structured Query Language\", \"C. Serial Query Language\", \"D. None of above\"],\n",
    "    [\"A. None of below\", \"B. Low Level Language\", \"C. Structured Query Language\", \"D. High level Language\"]\n",
    "]\n",
    "\n",
    "answers = ['A', 'C', 'A', 'B', 'D']\n",
    "\n",
    "# GUI App\n",
    "class QuizApp:\n",
    "    def __init__(self, root):\n",
    "        self.root = root\n",
    "        self.root.title(\"My Quiz App\")\n",
    "        self.score = 0\n",
    "        self.q_index = 0\n",
    "\n",
    "        self.question_label = tk.Label(root, text=\"\", font=('Arial', 16), wraplength=400)\n",
    "        self.question_label.pack(pady=20)\n",
    "\n",
    "        self.buttons = []\n",
    "        for i in range(4):\n",
    "            btn = tk.Button(root, text=\"\", width=50, command=lambda i=i: self.check_answer(i))\n",
    "            btn.pack(pady=5)\n",
    "            self.buttons.append(btn)\n",
    "\n",
    "        self.result_label = tk.Label(root, text=\"\", font=('Arial', 14))\n",
    "        self.result_label.pack(pady=20)\n",
    "\n",
    "        self.next_question()\n",
    "\n",
    "    def next_question(self):\n",
    "        if self.q_index < len(questions):\n",
    "            self.question_label.config(text=questions[self.q_index])\n",
    "            for i in range(4):\n",
    "                self.buttons[i].config(text=options[self.q_index][i])\n",
    "            self.result_label.config(text=\"\")\n",
    "        else:\n",
    "            self.question_label.config(text=\"Quiz Finished!\")\n",
    "            for btn in self.buttons:\n",
    "                btn.pack_forget()\n",
    "            self.result_label.config(text=f\"Your final score is: {self.score}/{len(questions)}\")\n",
    "\n",
    "    def check_answer(self, selected_index):\n",
    "        selected_option = options[self.q_index][selected_index][0]  # Get 'A', 'B', etc.\n",
    "        if selected_option == answers[self.q_index]:\n",
    "            self.score += 1\n",
    "            self.result_label.config(text=\"Correct! +1 point\", fg=\"green\")\n",
    "        else:\n",
    "            self.result_label.config(text=\"Wrong answer\", fg=\"red\")\n",
    "        self.q_index += 1\n",
    "        self.root.after(1000, self.next_question)\n",
    "\n",
    "# Create GUI window\n",
    "root = tk.Tk()\n",
    "app = QuizApp(root)\n",
    "root.mainloop()\n"
   ]
  },
  {
   "cell_type": "code",
   "execution_count": null,
   "id": "9af0184f-e63d-42f4-8a2a-66a52b1e6feb",
   "metadata": {},
   "outputs": [],
   "source": []
  }
 ],
 "metadata": {
  "kernelspec": {
   "display_name": "Python [conda env:base] *",
   "language": "python",
   "name": "conda-base-py"
  },
  "language_info": {
   "codemirror_mode": {
    "name": "ipython",
    "version": 3
   },
   "file_extension": ".py",
   "mimetype": "text/x-python",
   "name": "python",
   "nbconvert_exporter": "python",
   "pygments_lexer": "ipython3",
   "version": "3.12.4"
  }
 },
 "nbformat": 4,
 "nbformat_minor": 5
}
