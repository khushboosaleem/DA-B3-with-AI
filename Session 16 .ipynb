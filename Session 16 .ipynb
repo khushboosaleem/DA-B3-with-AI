{
 "cells": [
  {
   "cell_type": "markdown",
   "id": "9b08504e-afe6-4fbc-afdc-0f83c4a57ee6",
   "metadata": {},
   "source": [
    "# Lambda Function"
   ]
  },
  {
   "cell_type": "markdown",
   "id": "0234fcd5-de4e-482a-b2ae-763568b93391",
   "metadata": {},
   "source": [
    "### The function is one-liner and doesn’t require multiple expressions or statements.\n",
    "### lambda arguments: expression"
   ]
  },
  {
   "cell_type": "code",
   "execution_count": 1,
   "id": "d24e7f9e-3b97-4161-a1f6-6c1a8917f4a9",
   "metadata": {},
   "outputs": [],
   "source": [
    "square = lambda x: x**2"
   ]
  },
  {
   "cell_type": "code",
   "execution_count": 3,
   "id": "285eeb37-88fe-4805-8a7e-298ec162a23e",
   "metadata": {},
   "outputs": [
    {
     "name": "stdout",
     "output_type": "stream",
     "text": [
      "25\n"
     ]
    }
   ],
   "source": [
    "print(square(5))"
   ]
  },
  {
   "cell_type": "code",
   "execution_count": 5,
   "id": "9284faea-ddef-42f9-b02e-154baaf38fcf",
   "metadata": {},
   "outputs": [],
   "source": [
    "add = lambda x,y: x+y"
   ]
  },
  {
   "cell_type": "code",
   "execution_count": 7,
   "id": "d75f6432-18da-4105-b758-b1512ee6421f",
   "metadata": {},
   "outputs": [
    {
     "ename": "TypeError",
     "evalue": "<lambda>() missing 1 required positional argument: 'y'",
     "output_type": "error",
     "traceback": [
      "\u001b[1;31m---------------------------------------------------------------------------\u001b[0m",
      "\u001b[1;31mTypeError\u001b[0m                                 Traceback (most recent call last)",
      "Cell \u001b[1;32mIn[7], line 1\u001b[0m\n\u001b[1;32m----> 1\u001b[0m add(\u001b[38;5;241m5\u001b[39m)\n",
      "\u001b[1;31mTypeError\u001b[0m: <lambda>() missing 1 required positional argument: 'y'"
     ]
    }
   ],
   "source": [
    "add(5)"
   ]
  },
  {
   "cell_type": "code",
   "execution_count": 9,
   "id": "47ac4ddd-3331-406d-9196-4d1eb6d06cac",
   "metadata": {},
   "outputs": [
    {
     "data": {
      "text/plain": [
       "5"
      ]
     },
     "execution_count": 9,
     "metadata": {},
     "output_type": "execute_result"
    }
   ],
   "source": [
    "add(2,3)"
   ]
  },
  {
   "cell_type": "markdown",
   "id": "c0f880c1-4eb4-4e65-be2f-79fe76fee128",
   "metadata": {},
   "source": [
    "# Nested Function"
   ]
  },
  {
   "cell_type": "code",
   "execution_count": 13,
   "id": "485de7f7-2765-43da-900d-3179d41910db",
   "metadata": {},
   "outputs": [
    {
     "name": "stdout",
     "output_type": "stream",
     "text": [
      "outer variable: 5\n",
      "inner variable: 10\n"
     ]
    }
   ],
   "source": [
    "def outer_function(outer_variable):\n",
    "    def inner_function(inner_variable):\n",
    "        print(f'outer variable: {outer_variable}')\n",
    "        print(f'inner variable: {inner_variable}')\n",
    "    inner_function(10)\n",
    "outer_function(5)\n",
    "    \n",
    "        "
   ]
  },
  {
   "cell_type": "code",
   "execution_count": 15,
   "id": "f31111b7-460b-4f41-af4a-a6c98db9667b",
   "metadata": {},
   "outputs": [
    {
     "name": "stdout",
     "output_type": "stream",
     "text": [
      "outer variable: 5\n",
      "inner variable: 10\n",
      "outer variable inside outer function: 5\n"
     ]
    }
   ],
   "source": [
    "def outer_function(outer_variable):\n",
    "    def inner_function(inner_variable):\n",
    "        print(f'outer variable: {outer_variable}')\n",
    "        print(f'inner variable: {inner_variable}')\n",
    "    inner_function(10)\n",
    "    print(f'outer variable inside outer function: {outer_variable}')\n",
    "outer_function(5)\n",
    "    "
   ]
  },
  {
   "cell_type": "code",
   "execution_count": 17,
   "id": "75fb2f5b-9051-4f23-bc24-c20754204fd2",
   "metadata": {},
   "outputs": [
    {
     "name": "stdout",
     "output_type": "stream",
     "text": [
      "outer variable inside outer function: 5\n",
      "outer variable: 5\n",
      "inner variable: 10\n"
     ]
    }
   ],
   "source": [
    "def outer_function(outer_variable):\n",
    "    def inner_function(inner_variable):\n",
    "        print(f'outer variable: {outer_variable}')\n",
    "        print(f'inner variable: {inner_variable}')\n",
    "    \n",
    "    print(f'outer variable inside outer function: {outer_variable}')\n",
    "    inner_function(10)\n",
    "outer_function(5)\n",
    "    "
   ]
  },
  {
   "cell_type": "code",
   "execution_count": 21,
   "id": "b23da385-4879-4911-bcac-f84ce1b7dfdf",
   "metadata": {},
   "outputs": [
    {
     "name": "stdout",
     "output_type": "stream",
     "text": [
      "5\n"
     ]
    }
   ],
   "source": [
    "def add(a,b):\n",
    "    print(a+b)\n",
    "add(2,3)"
   ]
  },
  {
   "cell_type": "code",
   "execution_count": 25,
   "id": "0b9cbb34-1a6e-425e-abc5-8706d46e4cf2",
   "metadata": {},
   "outputs": [
    {
     "name": "stdout",
     "output_type": "stream",
     "text": [
      "inner variable:\n",
      "outer variable: 5\n",
      "outer variable inside outer function: 5\n"
     ]
    }
   ],
   "source": [
    "def outer_function(outer_variable):\n",
    "    def inner_function(inner_variable):\n",
    "        print(f'outer variable: {outer_variable}')\n",
    "    print(f'inner variable:')\n",
    "    inner_function(10)\n",
    "    print(f'outer variable inside outer function: {outer_variable}')\n",
    "outer_function(5)"
   ]
  },
  {
   "cell_type": "markdown",
   "id": "f4a30712-39c2-4d42-96ad-4b328f0ed466",
   "metadata": {},
   "source": [
    "## Object Oriented Programming (oop)"
   ]
  },
  {
   "cell_type": "markdown",
   "id": "e723e9ae-e9eb-4233-a2c2-035ebda9edca",
   "metadata": {},
   "source": [
    " Object-Oriented Programming (OOP) is a programming approach that organizes code into objects. These objects combine data (attributes) and functions (methods) into a single unit, based on real-world entities.\n",
    "\n",
    "**Why We Use OOP:**\n",
    "\n",
    "**Modularity:** Breaks programs into smaller, reusable parts (classes and objects).\n",
    "\n",
    "**Reusability:** Code can be reused through inheritance.\n",
    "\n",
    "**Maintainability:** Easy to update and debug large programs.\n",
    "\n",
    "**Abstraction:** Hides unnecessary details, focusing on the essential.\n",
    "\n",
    "**Encapsulation:** Protects data by restricting access.\n",
    "\n",
    "**Real-World Modeling:** Represents real-world scenarios effectively.\n",
    "\n",
    "**Example:** A \"Car\" object can have attributes like color and speed, and methods like drive or stop."
   ]
  },
  {
   "cell_type": "code",
   "execution_count": 27,
   "id": "b4a59385-be27-44b7-9b32-5dd44a6f5a41",
   "metadata": {},
   "outputs": [],
   "source": [
    "name = 'ali'"
   ]
  },
  {
   "cell_type": "code",
   "execution_count": 29,
   "id": "ec5f79a1-1e6c-4e32-bb3e-1f24d42e1a9b",
   "metadata": {},
   "outputs": [
    {
     "name": "stdout",
     "output_type": "stream",
     "text": [
      "<class 'str'>\n"
     ]
    }
   ],
   "source": [
    "print(type(name))"
   ]
  },
  {
   "cell_type": "code",
   "execution_count": 31,
   "id": "7e8cb41d-4706-4833-8a13-c26a2d401414",
   "metadata": {},
   "outputs": [],
   "source": [
    "class Student:\n",
    "    def greet():\n",
    "        print('Welcome')"
   ]
  },
  {
   "cell_type": "code",
   "execution_count": 33,
   "id": "56aee0d5-cb0c-41f1-a27e-88ebfe1abe13",
   "metadata": {},
   "outputs": [],
   "source": [
    "stud = Student()"
   ]
  },
  {
   "cell_type": "code",
   "execution_count": 35,
   "id": "1692d265-e9a3-4915-a314-2f6584e83c02",
   "metadata": {},
   "outputs": [
    {
     "data": {
      "text/plain": [
       "<__main__.Student at 0x1b976fd78c0>"
      ]
     },
     "execution_count": 35,
     "metadata": {},
     "output_type": "execute_result"
    }
   ],
   "source": [
    "stud"
   ]
  },
  {
   "cell_type": "code",
   "execution_count": 37,
   "id": "3e8ee57f-78b2-484b-9825-36a8fc214c95",
   "metadata": {},
   "outputs": [
    {
     "ename": "TypeError",
     "evalue": "Student.greet() takes 0 positional arguments but 1 was given",
     "output_type": "error",
     "traceback": [
      "\u001b[1;31m---------------------------------------------------------------------------\u001b[0m",
      "\u001b[1;31mTypeError\u001b[0m                                 Traceback (most recent call last)",
      "Cell \u001b[1;32mIn[37], line 1\u001b[0m\n\u001b[1;32m----> 1\u001b[0m stud\u001b[38;5;241m.\u001b[39mgreet()\n",
      "\u001b[1;31mTypeError\u001b[0m: Student.greet() takes 0 positional arguments but 1 was given"
     ]
    }
   ],
   "source": [
    "stud.greet()"
   ]
  },
  {
   "cell_type": "code",
   "execution_count": 39,
   "id": "9f414c09-c03c-4c3b-84d6-bf12f5f708cf",
   "metadata": {},
   "outputs": [],
   "source": [
    "class Student:\n",
    "    def greet(self):\n",
    "        print('Welcome')"
   ]
  },
  {
   "cell_type": "code",
   "execution_count": 41,
   "id": "f2e9a61c-6ef4-44a9-bd2e-9cf1799c4cce",
   "metadata": {},
   "outputs": [],
   "source": [
    "stud = Student()"
   ]
  },
  {
   "cell_type": "code",
   "execution_count": 43,
   "id": "0c8067aa-5f20-46eb-9e1f-4d415d5d0752",
   "metadata": {},
   "outputs": [
    {
     "name": "stdout",
     "output_type": "stream",
     "text": [
      "Welcome\n"
     ]
    }
   ],
   "source": [
    "stud.greet()"
   ]
  },
  {
   "cell_type": "code",
   "execution_count": 51,
   "id": "286c6a89-e4ed-46f1-a150-d76042c67939",
   "metadata": {},
   "outputs": [],
   "source": [
    "class Student:\n",
    "    def greet(name):\n",
    "        print(f'Welcome {name}')"
   ]
  },
  {
   "cell_type": "code",
   "execution_count": 53,
   "id": "ad8df0f4-0514-43ad-88b9-6dbe209fe85e",
   "metadata": {},
   "outputs": [],
   "source": [
    "stud = Student()"
   ]
  },
  {
   "cell_type": "code",
   "execution_count": 55,
   "id": "3f6d4ef4-d41c-4c73-a5a4-091165a6fc46",
   "metadata": {},
   "outputs": [
    {
     "name": "stdout",
     "output_type": "stream",
     "text": [
      "Welcome <__main__.Student object at 0x000001B978FFE690>\n"
     ]
    }
   ],
   "source": [
    "stud.greet()"
   ]
  },
  {
   "cell_type": "code",
   "execution_count": 57,
   "id": "5f865c49-c28c-4a45-8df6-aafb7e38b957",
   "metadata": {},
   "outputs": [],
   "source": [
    "class Student:\n",
    "    def greet(self):\n",
    "        print('Welcome')\n",
    "    def subj(self):\n",
    "        print('we are learning OOP')"
   ]
  },
  {
   "cell_type": "code",
   "execution_count": 59,
   "id": "8c620127-d27a-47e6-a200-39fc2704dbb1",
   "metadata": {},
   "outputs": [],
   "source": [
    "stud = Student()"
   ]
  },
  {
   "cell_type": "code",
   "execution_count": 61,
   "id": "312b20aa-86b2-4b91-8e3d-36a2209388aa",
   "metadata": {},
   "outputs": [
    {
     "name": "stdout",
     "output_type": "stream",
     "text": [
      "we are learning OOP\n"
     ]
    }
   ],
   "source": [
    "stud.subj()"
   ]
  },
  {
   "cell_type": "code",
   "execution_count": 63,
   "id": "d29292bf-98f6-48e1-ba82-a5345f32ae29",
   "metadata": {},
   "outputs": [
    {
     "name": "stdout",
     "output_type": "stream",
     "text": [
      "Welcome\n"
     ]
    }
   ],
   "source": [
    "stud.greet()"
   ]
  },
  {
   "cell_type": "code",
   "execution_count": 65,
   "id": "4380b518-44a2-4221-8031-dafe98dd109d",
   "metadata": {},
   "outputs": [],
   "source": [
    "class Student:\n",
    "    def greet(self, name, age):\n",
    "        self.name1 = name\n",
    "        self.age1 = age\n",
    "        print('welcome')\n",
    "        "
   ]
  },
  {
   "cell_type": "code",
   "execution_count": 67,
   "id": "625d466a-8327-489f-965d-cc2153bbe73b",
   "metadata": {},
   "outputs": [],
   "source": [
    "stud = Student()"
   ]
  },
  {
   "cell_type": "code",
   "execution_count": 69,
   "id": "b5017fa6-613b-4f22-bf0b-e636b3a05726",
   "metadata": {},
   "outputs": [
    {
     "name": "stdout",
     "output_type": "stream",
     "text": [
      "welcome\n"
     ]
    }
   ],
   "source": [
    "stud.greet('sana', 12)"
   ]
  },
  {
   "cell_type": "code",
   "execution_count": 71,
   "id": "018c73a9-3337-4fff-9648-ede396fa073e",
   "metadata": {},
   "outputs": [
    {
     "data": {
      "text/plain": [
       "'sana'"
      ]
     },
     "execution_count": 71,
     "metadata": {},
     "output_type": "execute_result"
    }
   ],
   "source": [
    "stud.name1"
   ]
  },
  {
   "cell_type": "code",
   "execution_count": 73,
   "id": "36209d03-5546-4a09-97fb-838c5da6a481",
   "metadata": {},
   "outputs": [
    {
     "data": {
      "text/plain": [
       "12"
      ]
     },
     "execution_count": 73,
     "metadata": {},
     "output_type": "execute_result"
    }
   ],
   "source": [
    "stud.age1"
   ]
  },
  {
   "cell_type": "code",
   "execution_count": 77,
   "id": "039e2940-fadf-41c5-870a-a7fa2545525e",
   "metadata": {},
   "outputs": [
    {
     "data": {
      "text/plain": [
       "['__class__',\n",
       " '__delattr__',\n",
       " '__dict__',\n",
       " '__dir__',\n",
       " '__doc__',\n",
       " '__eq__',\n",
       " '__format__',\n",
       " '__ge__',\n",
       " '__getattribute__',\n",
       " '__getstate__',\n",
       " '__gt__',\n",
       " '__hash__',\n",
       " '__init__',\n",
       " '__init_subclass__',\n",
       " '__le__',\n",
       " '__lt__',\n",
       " '__module__',\n",
       " '__ne__',\n",
       " '__new__',\n",
       " '__reduce__',\n",
       " '__reduce_ex__',\n",
       " '__repr__',\n",
       " '__setattr__',\n",
       " '__sizeof__',\n",
       " '__str__',\n",
       " '__subclasshook__',\n",
       " '__weakref__',\n",
       " 'greet']"
      ]
     },
     "execution_count": 77,
     "metadata": {},
     "output_type": "execute_result"
    }
   ],
   "source": [
    "dir(Student)"
   ]
  },
  {
   "cell_type": "code",
   "execution_count": 79,
   "id": "76013bba-c6f2-4c6f-a3ec-1a6833fdee78",
   "metadata": {},
   "outputs": [],
   "source": [
    "class School:\n",
    "    def __init__(self, name, location): #dunder \n",
    "        self.name = name\n",
    "        self.location = location\n",
    "    def greet(self, name, age):\n",
    "        self.name = name\n",
    "        self.age = age\n",
    "        print('welcome')"
   ]
  },
  {
   "cell_type": "code",
   "execution_count": 81,
   "id": "c6bdce7d-26da-4615-a8ab-e19a81777fc2",
   "metadata": {},
   "outputs": [
    {
     "ename": "TypeError",
     "evalue": "School.__init__() missing 2 required positional arguments: 'name' and 'location'",
     "output_type": "error",
     "traceback": [
      "\u001b[1;31m---------------------------------------------------------------------------\u001b[0m",
      "\u001b[1;31mTypeError\u001b[0m                                 Traceback (most recent call last)",
      "Cell \u001b[1;32mIn[81], line 1\u001b[0m\n\u001b[1;32m----> 1\u001b[0m school \u001b[38;5;241m=\u001b[39m School()\n",
      "\u001b[1;31mTypeError\u001b[0m: School.__init__() missing 2 required positional arguments: 'name' and 'location'"
     ]
    }
   ],
   "source": [
    "school = School()"
   ]
  },
  {
   "cell_type": "code",
   "execution_count": 83,
   "id": "0f8e8e6a-d1a7-4689-b0f9-39850743a282",
   "metadata": {},
   "outputs": [],
   "source": [
    "school = School('The Smart School', 'Karachi')"
   ]
  },
  {
   "cell_type": "code",
   "execution_count": 85,
   "id": "377d8c58-57e1-4df6-a1a4-e476fe498ad1",
   "metadata": {},
   "outputs": [
    {
     "data": {
      "text/plain": [
       "'The Smart School'"
      ]
     },
     "execution_count": 85,
     "metadata": {},
     "output_type": "execute_result"
    }
   ],
   "source": [
    "school.name"
   ]
  },
  {
   "cell_type": "code",
   "execution_count": 87,
   "id": "b6286fc8-bf8a-4772-8315-539e32d8eba3",
   "metadata": {},
   "outputs": [
    {
     "data": {
      "text/plain": [
       "'Karachi'"
      ]
     },
     "execution_count": 87,
     "metadata": {},
     "output_type": "execute_result"
    }
   ],
   "source": [
    "school.location"
   ]
  },
  {
   "cell_type": "code",
   "execution_count": 89,
   "id": "d9400875-ce21-4306-987b-9c82fd35cf5b",
   "metadata": {},
   "outputs": [
    {
     "name": "stdout",
     "output_type": "stream",
     "text": [
      "welcome\n"
     ]
    }
   ],
   "source": [
    "school.greet('sana',12)"
   ]
  },
  {
   "cell_type": "code",
   "execution_count": 91,
   "id": "704d6d1b-5e15-4cae-aaa7-994624eb09ca",
   "metadata": {},
   "outputs": [
    {
     "data": {
      "text/plain": [
       "'sana'"
      ]
     },
     "execution_count": 91,
     "metadata": {},
     "output_type": "execute_result"
    }
   ],
   "source": [
    "school.name"
   ]
  },
  {
   "cell_type": "code",
   "execution_count": 93,
   "id": "65a331b3-92e8-4902-9a09-9ef28215245d",
   "metadata": {},
   "outputs": [],
   "source": [
    "class School:\n",
    "    def __init__(self, name, location): #dunder \n",
    "        self.name = name\n",
    "        self.location = location\n",
    "    def greet(self, name, age):\n",
    "        self.name1 = name\n",
    "        self.age = age\n",
    "        print('welcome')"
   ]
  },
  {
   "cell_type": "code",
   "execution_count": 95,
   "id": "9470690a-3d27-4a28-b99b-ea9edb3c6a2f",
   "metadata": {},
   "outputs": [],
   "source": [
    "school = School('The Smart School', 'Karachi')"
   ]
  },
  {
   "cell_type": "code",
   "execution_count": 97,
   "id": "628001c1-c16d-4eb8-bc0d-a7d8db7387ea",
   "metadata": {},
   "outputs": [
    {
     "data": {
      "text/plain": [
       "'The Smart School'"
      ]
     },
     "execution_count": 97,
     "metadata": {},
     "output_type": "execute_result"
    }
   ],
   "source": [
    "school.name"
   ]
  },
  {
   "cell_type": "code",
   "execution_count": 99,
   "id": "4af39ba5-52fd-4c24-bd85-6ddf985e4bb2",
   "metadata": {},
   "outputs": [
    {
     "name": "stdout",
     "output_type": "stream",
     "text": [
      "welcome\n"
     ]
    }
   ],
   "source": [
    "school.greet('sana',13)"
   ]
  },
  {
   "cell_type": "code",
   "execution_count": 101,
   "id": "a0fdc31f-b570-4faa-86e8-453a5048fb6a",
   "metadata": {},
   "outputs": [
    {
     "data": {
      "text/plain": [
       "'sana'"
      ]
     },
     "execution_count": 101,
     "metadata": {},
     "output_type": "execute_result"
    }
   ],
   "source": [
    "school.name1"
   ]
  },
  {
   "cell_type": "code",
   "execution_count": 103,
   "id": "0da1b24f-4d87-4aa0-a309-edd7c455c398",
   "metadata": {},
   "outputs": [
    {
     "data": {
      "text/plain": [
       "'The Smart School'"
      ]
     },
     "execution_count": 103,
     "metadata": {},
     "output_type": "execute_result"
    }
   ],
   "source": [
    "school.name"
   ]
  }
 ],
 "metadata": {
  "kernelspec": {
   "display_name": "Python 3 (ipykernel)",
   "language": "python",
   "name": "python3"
  },
  "language_info": {
   "codemirror_mode": {
    "name": "ipython",
    "version": 3
   },
   "file_extension": ".py",
   "mimetype": "text/x-python",
   "name": "python",
   "nbconvert_exporter": "python",
   "pygments_lexer": "ipython3",
   "version": "3.12.4"
  }
 },
 "nbformat": 4,
 "nbformat_minor": 5
}
