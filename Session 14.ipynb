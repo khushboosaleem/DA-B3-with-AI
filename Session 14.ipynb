{
 "cells": [
  {
   "cell_type": "markdown",
   "id": "76df218b-3de9-4090-b7aa-82aa429275bd",
   "metadata": {},
   "source": [
    "### Functions\n",
    "\n",
    "A function is a reusable block of code that performs a specific task. \n",
    "\n",
    "- Reusability: Once a function is defined, you can call it multiple times without having to rewrite the same code.\n",
    "\n",
    "- Abstraction: Functions can hide complex implementation details, exposing only what’s necessary."
   ]
  },
  {
   "cell_type": "code",
   "execution_count": 1,
   "id": "d0917075-c70d-4dbd-89f4-920fd345dea8",
   "metadata": {},
   "outputs": [
    {
     "data": {
      "text/plain": [
       "5"
      ]
     },
     "execution_count": 1,
     "metadata": {},
     "output_type": "execute_result"
    }
   ],
   "source": [
    " # Global variable\n",
    "a = 5\n",
    "a"
   ]
  },
  {
   "cell_type": "code",
   "execution_count": 2,
   "id": "f5ac2d11-fb57-410d-87bb-5766f335482f",
   "metadata": {},
   "outputs": [],
   "source": [
    "y = 2 #global variable\n",
    "\n",
    "def print_my_y():\n",
    "    y = 3 #local variable\n",
    "    print('inside function:',y)"
   ]
  },
  {
   "cell_type": "code",
   "execution_count": 3,
   "id": "df286370-b1e7-46f1-a049-9daaa3090d5c",
   "metadata": {},
   "outputs": [
    {
     "name": "stdout",
     "output_type": "stream",
     "text": [
      "2\n"
     ]
    }
   ],
   "source": [
    "print(y)"
   ]
  },
  {
   "cell_type": "code",
   "execution_count": 4,
   "id": "e9ac0260-d557-4892-9768-27dc25aeaf5b",
   "metadata": {},
   "outputs": [
    {
     "name": "stdout",
     "output_type": "stream",
     "text": [
      "inside function: 3\n"
     ]
    }
   ],
   "source": [
    "print_my_y()"
   ]
  },
  {
   "cell_type": "code",
   "execution_count": 5,
   "id": "3e2ddaf5-ed54-4f38-9982-ca8905cf1658",
   "metadata": {},
   "outputs": [
    {
     "name": "stdout",
     "output_type": "stream",
     "text": [
      "inside function: 3\n",
      "3\n"
     ]
    }
   ],
   "source": [
    "y = 12 \n",
    "\n",
    "def print_my_y():\n",
    "    global y\n",
    "    y = 3\n",
    "    print('inside function:',y)\n",
    "\n",
    "print_my_y()\n",
    "print(y)"
   ]
  },
  {
   "cell_type": "code",
   "execution_count": 6,
   "id": "af57e441-0046-4dc6-9e17-e987a386618e",
   "metadata": {},
   "outputs": [
    {
     "name": "stdout",
     "output_type": "stream",
     "text": [
      "inside function: 3\n",
      "3\n"
     ]
    }
   ],
   "source": [
    "print_my_y()\n",
    "print(y)"
   ]
  },
  {
   "cell_type": "code",
   "execution_count": 7,
   "id": "9c5c2140-8455-4255-9e25-28c48d1b0421",
   "metadata": {},
   "outputs": [
    {
     "data": {
      "text/plain": [
       "4"
      ]
     },
     "execution_count": 7,
     "metadata": {},
     "output_type": "execute_result"
    }
   ],
   "source": [
    "x=2\n",
    "x=4\n",
    "x"
   ]
  },
  {
   "cell_type": "markdown",
   "id": "7825e552-0efb-42e5-a1ff-34da73acef19",
   "metadata": {},
   "source": [
    "### Function in Function"
   ]
  },
  {
   "cell_type": "code",
   "execution_count": 8,
   "id": "8c2efba4-2a4e-45dd-aa6b-83077d266eaa",
   "metadata": {},
   "outputs": [
    {
     "name": "stdout",
     "output_type": "stream",
     "text": [
      "11\n"
     ]
    }
   ],
   "source": [
    "def add(num1,num2):\n",
    "    total = num1 + num2\n",
    "    print(total)\n",
    "\n",
    "add(3,8)"
   ]
  },
  {
   "cell_type": "code",
   "execution_count": null,
   "id": "55e9eaa7-fe7f-4a86-a13c-43873d524cf3",
   "metadata": {},
   "outputs": [],
   "source": []
  },
  {
   "cell_type": "code",
   "execution_count": 9,
   "id": "6bb6e30a-be90-4f2a-8b05-d33797b2b0e6",
   "metadata": {},
   "outputs": [
    {
     "data": {
      "text/plain": [
       "11"
      ]
     },
     "execution_count": 9,
     "metadata": {},
     "output_type": "execute_result"
    }
   ],
   "source": [
    "def add2(num1,num2):\n",
    "    total = num1 + num2\n",
    "    return total\n",
    "\n",
    "add2(3,8)"
   ]
  },
  {
   "cell_type": "code",
   "execution_count": 10,
   "id": "496dd175-326e-46b2-8ba7-30e0b273e2a7",
   "metadata": {},
   "outputs": [
    {
     "name": "stdout",
     "output_type": "stream",
     "text": [
      "3\n",
      "8\n",
      "11\n"
     ]
    }
   ],
   "source": [
    "def add2(num1,num2):\n",
    "    total = num1 + num2\n",
    "    print(num1)\n",
    "    print(num2)\n",
    "    print(total)\n",
    "\n",
    "add2(3,8)"
   ]
  },
  {
   "cell_type": "code",
   "execution_count": 11,
   "id": "f22ecdd1-9e3a-4e8e-bfa4-d2f28f00b186",
   "metadata": {},
   "outputs": [
    {
     "data": {
      "text/plain": [
       "3"
      ]
     },
     "execution_count": 11,
     "metadata": {},
     "output_type": "execute_result"
    }
   ],
   "source": [
    "def add2(num1,num2):\n",
    "    total = num1 + num2\n",
    "    return num1\n",
    "    return num2\n",
    "    return total\n",
    "\n",
    "add2(3,8)"
   ]
  },
  {
   "cell_type": "code",
   "execution_count": 12,
   "id": "a8aed991-100f-4925-b8dd-5636204c7859",
   "metadata": {},
   "outputs": [
    {
     "name": "stdout",
     "output_type": "stream",
     "text": [
      "<function add1 at 0x0000021A3005E020>\n"
     ]
    }
   ],
   "source": [
    "def add1(num1,num2):\n",
    "    total = num1 + num2\n",
    "    print(add1)\n",
    "\n",
    "add1(3,8)"
   ]
  },
  {
   "cell_type": "code",
   "execution_count": 13,
   "id": "7032dafa-9d0b-41a6-a91d-e79ceda3cc98",
   "metadata": {},
   "outputs": [
    {
     "name": "stdout",
     "output_type": "stream",
     "text": [
      "my name is ali and 27651\n",
      "7\n"
     ]
    }
   ],
   "source": [
    "def bio(name, idc):\n",
    "    print(f\"my name is {name} and {idc}\")\n",
    "    add(2,5) #calling\n",
    "\n",
    "bio('ali',27651)"
   ]
  },
  {
   "cell_type": "code",
   "execution_count": null,
   "id": "46902a95-2fc2-4580-87af-39760157bf7d",
   "metadata": {},
   "outputs": [],
   "source": []
  },
  {
   "cell_type": "markdown",
   "id": "7ec2146d-e2ae-420b-a5e0-eda3f5d166a6",
   "metadata": {},
   "source": [
    "Practice\n",
    "\n",
    "Write a Python function to convert KILOMETERS TO MILES"
   ]
  },
  {
   "cell_type": "code",
   "execution_count": null,
   "id": "eb280c60-0059-4882-835c-add53e55a640",
   "metadata": {},
   "outputs": [],
   "source": []
  },
  {
   "cell_type": "markdown",
   "id": "78519416-a66a-41c2-8ee5-b35578b5c253",
   "metadata": {},
   "source": [
    "### ERROR HANDLING\n",
    "\n",
    "try, except, else, finally"
   ]
  },
  {
   "cell_type": "code",
   "execution_count": 14,
   "id": "49067665-54a6-4b75-9d1e-08845ea4ef3c",
   "metadata": {},
   "outputs": [
    {
     "ename": "ZeroDivisionError",
     "evalue": "division by zero",
     "output_type": "error",
     "traceback": [
      "\u001b[1;31m---------------------------------------------------------------------------\u001b[0m",
      "\u001b[1;31mZeroDivisionError\u001b[0m                         Traceback (most recent call last)",
      "Cell \u001b[1;32mIn[14], line 1\u001b[0m\n\u001b[1;32m----> 1\u001b[0m \u001b[38;5;28mprint\u001b[39m(\u001b[38;5;241m1\u001b[39m\u001b[38;5;241m/\u001b[39m\u001b[38;5;241m0\u001b[39m)\n",
      "\u001b[1;31mZeroDivisionError\u001b[0m: division by zero"
     ]
    }
   ],
   "source": [
    "print(1/0)"
   ]
  },
  {
   "cell_type": "code",
   "execution_count": 15,
   "id": "a4e2aed5-b1df-4808-8521-236951dff7e0",
   "metadata": {},
   "outputs": [
    {
     "name": "stdout",
     "output_type": "stream",
     "text": [
      "4\n"
     ]
    },
    {
     "ename": "ZeroDivisionError",
     "evalue": "division by zero",
     "output_type": "error",
     "traceback": [
      "\u001b[1;31m---------------------------------------------------------------------------\u001b[0m",
      "\u001b[1;31mZeroDivisionError\u001b[0m                         Traceback (most recent call last)",
      "Cell \u001b[1;32mIn[15], line 2\u001b[0m\n\u001b[0;32m      1\u001b[0m \u001b[38;5;28mprint\u001b[39m(\u001b[38;5;241m1\u001b[39m\u001b[38;5;241m+\u001b[39m\u001b[38;5;241m3\u001b[39m)\n\u001b[1;32m----> 2\u001b[0m \u001b[38;5;28mprint\u001b[39m(\u001b[38;5;241m1\u001b[39m\u001b[38;5;241m/\u001b[39m\u001b[38;5;241m0\u001b[39m)\n\u001b[0;32m      3\u001b[0m \u001b[38;5;28mprint\u001b[39m(\u001b[38;5;241m2\u001b[39m\u001b[38;5;241m+\u001b[39m\u001b[38;5;241m5\u001b[39m)\n",
      "\u001b[1;31mZeroDivisionError\u001b[0m: division by zero"
     ]
    }
   ],
   "source": [
    "print(1+3)\n",
    "print(1/0)\n",
    "print(2+5)"
   ]
  },
  {
   "cell_type": "code",
   "execution_count": 16,
   "id": "fec8ae87-2d6d-4644-af66-a03198d2b4a2",
   "metadata": {},
   "outputs": [],
   "source": [
    "#try\n",
    "#except\n"
   ]
  },
  {
   "cell_type": "code",
   "execution_count": 17,
   "id": "0af67f91-1e99-4f3b-8dfb-b01bd4089c8a",
   "metadata": {},
   "outputs": [
    {
     "name": "stdout",
     "output_type": "stream",
     "text": [
      "error\n"
     ]
    }
   ],
   "source": [
    "try:\n",
    "    print(1/0)\n",
    "except:\n",
    "    print('error')"
   ]
  },
  {
   "cell_type": "code",
   "execution_count": 18,
   "id": "2a779bbf-a5ed-41ac-8862-7ef3a21b0cb6",
   "metadata": {},
   "outputs": [
    {
     "name": "stdout",
     "output_type": "stream",
     "text": [
      "4\n",
      "error\n",
      "7\n"
     ]
    }
   ],
   "source": [
    "print(1+3)\n",
    "\n",
    "try:\n",
    "    print(1/0)\n",
    "except:\n",
    "    print('error')\n",
    "\n",
    "print(2+5)"
   ]
  },
  {
   "cell_type": "code",
   "execution_count": 19,
   "id": "76579ef0-cd24-4162-a724-aa75569717a7",
   "metadata": {},
   "outputs": [
    {
     "name": "stdout",
     "output_type": "stream",
     "text": [
      "6\n"
     ]
    }
   ],
   "source": [
    "try:\n",
    "    print(1+5)\n",
    "except:\n",
    "    print('error')"
   ]
  },
  {
   "cell_type": "code",
   "execution_count": 20,
   "id": "afadd14c-0936-4fc6-9bc5-bc9ab9bd5844",
   "metadata": {},
   "outputs": [
    {
     "name": "stdout",
     "output_type": "stream",
     "text": [
      "error\n"
     ]
    }
   ],
   "source": [
    "try:\n",
    "    print(1/0)\n",
    "except ZeroDivisionError:\n",
    "    print('error')"
   ]
  },
  {
   "cell_type": "code",
   "execution_count": 21,
   "id": "c79a9e6d-3e00-4e82-86d4-cccda19b3e6c",
   "metadata": {},
   "outputs": [
    {
     "name": "stdout",
     "output_type": "stream",
     "text": [
      "error\n"
     ]
    }
   ],
   "source": [
    "try:\n",
    "    print(1/'a')\n",
    "except:\n",
    "    print('error')"
   ]
  },
  {
   "cell_type": "code",
   "execution_count": 23,
   "id": "e1b7987d-0399-402e-988a-b93f0ef62cf8",
   "metadata": {},
   "outputs": [
    {
     "ename": "TypeError",
     "evalue": "unsupported operand type(s) for /: 'int' and 'str'",
     "output_type": "error",
     "traceback": [
      "\u001b[1;31m---------------------------------------------------------------------------\u001b[0m",
      "\u001b[1;31mTypeError\u001b[0m                                 Traceback (most recent call last)",
      "Cell \u001b[1;32mIn[23], line 2\u001b[0m\n\u001b[0;32m      1\u001b[0m \u001b[38;5;28;01mtry\u001b[39;00m:\n\u001b[1;32m----> 2\u001b[0m     \u001b[38;5;28mprint\u001b[39m(\u001b[38;5;241m1\u001b[39m\u001b[38;5;241m/\u001b[39m\u001b[38;5;124m'\u001b[39m\u001b[38;5;124ma\u001b[39m\u001b[38;5;124m'\u001b[39m)\n\u001b[0;32m      3\u001b[0m \u001b[38;5;28;01mexcept\u001b[39;00m \u001b[38;5;167;01mZeroDivisionError\u001b[39;00m:\n\u001b[0;32m      4\u001b[0m     \u001b[38;5;28mprint\u001b[39m(\u001b[38;5;124m'\u001b[39m\u001b[38;5;124merror\u001b[39m\u001b[38;5;124m'\u001b[39m)\n",
      "\u001b[1;31mTypeError\u001b[0m: unsupported operand type(s) for /: 'int' and 'str'"
     ]
    }
   ],
   "source": [
    "try:\n",
    "    print(1/'a')\n",
    "except ZeroDivisionError:\n",
    "    print('error')"
   ]
  },
  {
   "cell_type": "code",
   "execution_count": 24,
   "id": "76e6bcc1-51ad-4d5c-a6d2-cc08867b9490",
   "metadata": {},
   "outputs": [
    {
     "name": "stdout",
     "output_type": "stream",
     "text": [
      "error\n"
     ]
    }
   ],
   "source": [
    "try:\n",
    "    print(1/'a')\n",
    "except TypeError:\n",
    "    print('error')"
   ]
  },
  {
   "cell_type": "code",
   "execution_count": 22,
   "id": "11e379f9-4e38-4284-a867-5b156aecc776",
   "metadata": {},
   "outputs": [
    {
     "ename": "TypeError",
     "evalue": "unsupported operand type(s) for /: 'int' and 'str'",
     "output_type": "error",
     "traceback": [
      "\u001b[1;31m---------------------------------------------------------------------------\u001b[0m",
      "\u001b[1;31mTypeError\u001b[0m                                 Traceback (most recent call last)",
      "Cell \u001b[1;32mIn[22], line 1\u001b[0m\n\u001b[1;32m----> 1\u001b[0m \u001b[38;5;28mprint\u001b[39m(\u001b[38;5;241m1\u001b[39m\u001b[38;5;241m/\u001b[39m\u001b[38;5;124m'\u001b[39m\u001b[38;5;124ma\u001b[39m\u001b[38;5;124m'\u001b[39m)\n",
      "\u001b[1;31mTypeError\u001b[0m: unsupported operand type(s) for /: 'int' and 'str'"
     ]
    }
   ],
   "source": [
    "print(1/'a')"
   ]
  },
  {
   "cell_type": "code",
   "execution_count": 25,
   "id": "112ed45e-1a76-42ba-b161-7ddaa4643ac4",
   "metadata": {},
   "outputs": [
    {
     "name": "stdout",
     "output_type": "stream",
     "text": [
      "invalid integer\n"
     ]
    }
   ],
   "source": [
    "#more than one exception\n",
    "try:\n",
    "    x = input(int(\"enter num1:\"))\n",
    "    y = input(int(\"enter num2:\"))\n",
    "\n",
    "    result = x/y\n",
    "    print(result)\n",
    "\n",
    "except ZeroDivisionError:\n",
    "    print('cannot divided by zero')\n",
    "except ValueError:\n",
    "    print('invalid integer')"
   ]
  },
  {
   "cell_type": "code",
   "execution_count": 26,
   "id": "48fd3840-8c4b-49b1-80ef-4cc1e72e33c2",
   "metadata": {},
   "outputs": [
    {
     "name": "stdin",
     "output_type": "stream",
     "text": [
      "enter num1: 3\n",
      "enter num2: 3\n"
     ]
    },
    {
     "name": "stdout",
     "output_type": "stream",
     "text": [
      "1.0\n"
     ]
    }
   ],
   "source": [
    "try:\n",
    "    x = int(input(\"enter num1:\"))\n",
    "    y = int(input(\"enter num2:\"))\n",
    "\n",
    "    result = x/y\n",
    "    print(result)\n",
    "\n",
    "except ZeroDivisionError:\n",
    "    print('cannot divided by zero')\n",
    "except ValueError:\n",
    "    print('invalid integer')"
   ]
  },
  {
   "cell_type": "code",
   "execution_count": 27,
   "id": "ad95ce10-12b5-4e2c-b67c-38adfffe0393",
   "metadata": {},
   "outputs": [
    {
     "name": "stdin",
     "output_type": "stream",
     "text": [
      "enter num1: 1\n",
      "enter num2: 0\n"
     ]
    },
    {
     "name": "stdout",
     "output_type": "stream",
     "text": [
      "cannot divided by zero\n"
     ]
    }
   ],
   "source": [
    "try:\n",
    "    x = int(input(\"enter num1:\"))\n",
    "    y = int(input(\"enter num2:\"))\n",
    "\n",
    "    result = x/y\n",
    "    print(result)\n",
    "\n",
    "except ZeroDivisionError:\n",
    "    print('cannot divided by zero')\n",
    "except ValueError:\n",
    "    print('invalid integer')"
   ]
  },
  {
   "cell_type": "code",
   "execution_count": 28,
   "id": "b7af6f1f-8f00-4622-8a45-ede928694b79",
   "metadata": {},
   "outputs": [
    {
     "name": "stdin",
     "output_type": "stream",
     "text": [
      "enter num1: w\n"
     ]
    },
    {
     "name": "stdout",
     "output_type": "stream",
     "text": [
      "invalid integer\n"
     ]
    }
   ],
   "source": [
    "try:\n",
    "    x = int(input(\"enter num1:\"))\n",
    "    y = int(input(\"enter num2:\"))\n",
    "\n",
    "    result = x/y\n",
    "    print(result)\n",
    "\n",
    "except ZeroDivisionError:\n",
    "    print('cannot divided by zero')\n",
    "except ValueError:\n",
    "    print('invalid integer')"
   ]
  },
  {
   "cell_type": "code",
   "execution_count": 29,
   "id": "77bf6d9d-6e97-4f98-a534-0ca15bccfdd4",
   "metadata": {},
   "outputs": [
    {
     "name": "stdin",
     "output_type": "stream",
     "text": [
      "enter num1: 1\n",
      "enter num2: 5\n"
     ]
    },
    {
     "name": "stdout",
     "output_type": "stream",
     "text": [
      "0.2\n"
     ]
    }
   ],
   "source": [
    "#try\n",
    "#except\n",
    "#else\n",
    "try:\n",
    "    x = int(input(\"enter num1:\"))\n",
    "    y = int(input(\"enter num2:\"))\n",
    "\n",
    "    result = x/y\n",
    "    \n",
    "except ZeroDivisionError:\n",
    "    print('cannot divided by zero')\n",
    "except ValueError:\n",
    "    print('invalid integer')\n",
    "else: #optional\n",
    "    print(result)"
   ]
  },
  {
   "cell_type": "code",
   "execution_count": 32,
   "id": "976bd2b8-bb62-4830-b69e-191dc261d972",
   "metadata": {},
   "outputs": [
    {
     "name": "stdin",
     "output_type": "stream",
     "text": [
      "enter num1: 1\n",
      "enter num2: 0\n"
     ]
    },
    {
     "name": "stdout",
     "output_type": "stream",
     "text": [
      "cannot divided by zero\n",
      "program executed\n"
     ]
    }
   ],
   "source": [
    "#try\n",
    "#except\n",
    "#else\n",
    "#finally\n",
    "try:\n",
    "    x = int(input(\"enter num1:\"))\n",
    "    y = int(input(\"enter num2:\"))\n",
    "\n",
    "    result = x/y\n",
    "    \n",
    "except ZeroDivisionError:\n",
    "    print('cannot divided by zero')\n",
    "except ValueError:\n",
    "    print('invalid integer')\n",
    "else: #optional\n",
    "    print(result)\n",
    "finally:\n",
    "    print('program executed')"
   ]
  },
  {
   "cell_type": "code",
   "execution_count": null,
   "id": "bf6e50bb-8cd9-4569-84da-e589a3760636",
   "metadata": {},
   "outputs": [],
   "source": []
  },
  {
   "cell_type": "markdown",
   "id": "71cfb758-815b-4a57-a488-4230b5e15f23",
   "metadata": {},
   "source": [
    "Write a program that checks if a number is even or odd. If the user inputs a non-numeric value, display an error message. If the number is even, print \"Even\", otherwise print \"Odd\". Finally, always print \"Check complete\"."
   ]
  },
  {
   "cell_type": "code",
   "execution_count": null,
   "id": "f6d5b40c-277b-4569-b621-0edd2c9a3c4a",
   "metadata": {},
   "outputs": [],
   "source": []
  },
  {
   "cell_type": "code",
   "execution_count": null,
   "id": "043711df-dc36-4ad1-8b41-724775927841",
   "metadata": {},
   "outputs": [],
   "source": []
  },
  {
   "cell_type": "code",
   "execution_count": null,
   "id": "b2042d32-8fbe-443d-89c3-c5c8df82ad9d",
   "metadata": {},
   "outputs": [],
   "source": []
  },
  {
   "cell_type": "code",
   "execution_count": null,
   "id": "c37f2ed2-9b67-417b-88b4-7c1d8ab44ce1",
   "metadata": {},
   "outputs": [],
   "source": []
  },
  {
   "cell_type": "code",
   "execution_count": null,
   "id": "6c836003-ea34-448a-9a49-4e3ec6fb8acd",
   "metadata": {},
   "outputs": [],
   "source": []
  }
 ],
 "metadata": {
  "kernelspec": {
   "display_name": "Python 3 (ipykernel)",
   "language": "python",
   "name": "python3"
  },
  "language_info": {
   "codemirror_mode": {
    "name": "ipython",
    "version": 3
   },
   "file_extension": ".py",
   "mimetype": "text/x-python",
   "name": "python",
   "nbconvert_exporter": "python",
   "pygments_lexer": "ipython3",
   "version": "3.12.7"
  }
 },
 "nbformat": 4,
 "nbformat_minor": 5
}
