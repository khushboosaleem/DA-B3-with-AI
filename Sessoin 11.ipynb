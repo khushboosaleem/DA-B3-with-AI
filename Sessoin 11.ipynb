{
 "cells": [
  {
   "cell_type": "code",
   "execution_count": null,
   "id": "17138d9c-2810-4ac4-be5e-8eb915b93003",
   "metadata": {},
   "outputs": [],
   "source": [
    "# Nested For Loop\n",
    "# List Comprehension"
   ]
  },
  {
   "cell_type": "code",
   "execution_count": 21,
   "id": "548f4aa5-a2f8-46d7-9456-3148aa0e90b6",
   "metadata": {
    "scrolled": true
   },
   "outputs": [
    {
     "name": "stdout",
     "output_type": "stream",
     "text": [
      "karachi islamabad\n",
      "karachi multan\n",
      "karachi faisalabad\n",
      "karachi quetta\n",
      "karachi peshawar\n",
      "------------------------------------------------------------------------------------------\n",
      "hyderabad islamabad\n",
      "hyderabad multan\n",
      "hyderabad faisalabad\n",
      "hyderabad quetta\n",
      "hyderabad peshawar\n",
      "------------------------------------------------------------------------------------------\n",
      "islamabad islamabad\n",
      "islamabad multan\n",
      "islamabad faisalabad\n",
      "islamabad quetta\n",
      "islamabad peshawar\n",
      "------------------------------------------------------------------------------------------\n",
      "quetta islamabad\n",
      "quetta multan\n",
      "quetta faisalabad\n",
      "quetta quetta\n",
      "quetta peshawar\n",
      "------------------------------------------------------------------------------------------\n",
      "lahore islamabad\n",
      "lahore multan\n",
      "lahore faisalabad\n",
      "lahore quetta\n",
      "lahore peshawar\n",
      "------------------------------------------------------------------------------------------\n"
     ]
    }
   ],
   "source": [
    "cities = ['karachi', 'hyderabad', 'islamabad', 'quetta', 'lahore']\n",
    "visited_cities = ['islamabad', 'multan','faisalabad','quetta','peshawar']\n",
    "\n",
    "for city in cities:\n",
    "    for visit_city in visited_cities:\n",
    "        print(city, visit_city)\n",
    "    print('---------'*10)\n"
   ]
  },
  {
   "cell_type": "code",
   "execution_count": 23,
   "id": "0b6f6ebc-d310-4465-a787-c09ab4c83d0d",
   "metadata": {},
   "outputs": [
    {
     "name": "stdout",
     "output_type": "stream",
     "text": [
      "1-2-3-4-5-6-"
     ]
    }
   ],
   "source": [
    "x = 0\n",
    "y = 0\n",
    "\n",
    "while x < 4:\n",
    "    while y < 6:\n",
    "        y += 1\n",
    "        print(y,end=\"-\")\n",
    "    # print()\n",
    "    x += 1"
   ]
  },
  {
   "cell_type": "code",
   "execution_count": 59,
   "id": "3881071d-6835-4f52-b21e-83c69001bb16",
   "metadata": {},
   "outputs": [
    {
     "data": {
      "text/plain": [
       "26"
      ]
     },
     "execution_count": 59,
     "metadata": {},
     "output_type": "execute_result"
    }
   ],
   "source": [
    "name = 'sana'\n",
    "name\n",
    "age = 26\n",
    "age"
   ]
  },
  {
   "cell_type": "code",
   "execution_count": 71,
   "id": "db2b46bd-c2e9-4e64-88ac-2ad4fcffd505",
   "metadata": {},
   "outputs": [
    {
     "name": "stdout",
     "output_type": "stream",
     "text": [
      "This is sana ,  26\n"
     ]
    }
   ],
   "source": [
    "print(f\"This is {name} ,  {age}\")"
   ]
  },
  {
   "cell_type": "code",
   "execution_count": 67,
   "id": "adc89b84-8556-4289-9777-366b2571ca4c",
   "metadata": {},
   "outputs": [
    {
     "name": "stdout",
     "output_type": "stream",
     "text": [
      "this is sana 26\n"
     ]
    }
   ],
   "source": [
    "print(\"this is \"+ name +\" \"+ str(age))"
   ]
  },
  {
   "cell_type": "code",
   "execution_count": 76,
   "id": "5b8b1919-a674-424b-bcdb-33f80b3248c8",
   "metadata": {},
   "outputs": [
    {
     "name": "stdout",
     "output_type": "stream",
     "text": [
      "['Monday', 'Tuesday', 'Wednesday', 'Thursday', 'Friday']\n",
      "['9AM-10AM', '10AM-11AM', '11AM-12PM']\n"
     ]
    }
   ],
   "source": [
    "week_days = ['Monday', 'Tuesday', 'Wednesday', 'Thursday', 'Friday']\n",
    "time_slots = ['9AM-10AM', '10AM-11AM', '11AM-12PM']\n",
    "print(week_days)\n",
    "print(time_slots)"
   ]
  },
  {
   "cell_type": "raw",
   "id": "293cb53a-bffc-4b9c-9368-028a82c854da",
   "metadata": {},
   "source": [
    "Schedule for Monday\n",
    "class at 9AM-10AM\n",
    "class at 10AM-11AM\n",
    "class at 11AM-12AM\n",
    "\n",
    "Schedule for Tuesday\n",
    "class at 9AM-10AM\n",
    "class at 10AM-11AM\n",
    "class at 11AM-12AM"
   ]
  },
  {
   "cell_type": "code",
   "execution_count": 82,
   "id": "68ae00aa-8c93-4a10-b2eb-bee14fe652a2",
   "metadata": {},
   "outputs": [
    {
     "name": "stdout",
     "output_type": "stream",
     "text": [
      "Schedule for: Monday\n",
      "Class at: 9AM-10AM\n",
      "Class at: 10AM-11AM\n",
      "Class at: 11AM-12PM\n",
      "\n",
      "Schedule for: Tuesday\n",
      "Class at: 9AM-10AM\n",
      "Class at: 10AM-11AM\n",
      "Class at: 11AM-12PM\n",
      "\n",
      "Schedule for: Wednesday\n",
      "Class at: 9AM-10AM\n",
      "Class at: 10AM-11AM\n",
      "Class at: 11AM-12PM\n",
      "\n",
      "Schedule for: Thursday\n",
      "Class at: 9AM-10AM\n",
      "Class at: 10AM-11AM\n",
      "Class at: 11AM-12PM\n",
      "\n",
      "Schedule for: Friday\n",
      "Class at: 9AM-10AM\n",
      "Class at: 10AM-11AM\n",
      "Class at: 11AM-12PM\n",
      "\n"
     ]
    }
   ],
   "source": [
    "for week_day in week_days:\n",
    "    print(f\"Schedule for: {week_day}\")\n",
    "    for slot in time_slots:\n",
    "        print(f\"Class at: {slot}\")\n",
    "    print()"
   ]
  },
  {
   "cell_type": "code",
   "execution_count": 25,
   "id": "09a23e4b-33bf-4d5d-b56a-bf23a2a4c7f8",
   "metadata": {},
   "outputs": [
    {
     "data": {
      "text/plain": [
       "4"
      ]
     },
     "execution_count": 25,
     "metadata": {},
     "output_type": "execute_result"
    }
   ],
   "source": [
    "x"
   ]
  },
  {
   "cell_type": "code",
   "execution_count": 27,
   "id": "9533277d-f81d-441b-b822-610bcbe8e815",
   "metadata": {},
   "outputs": [
    {
     "data": {
      "text/plain": [
       "6"
      ]
     },
     "execution_count": 27,
     "metadata": {},
     "output_type": "execute_result"
    }
   ],
   "source": [
    "y"
   ]
  },
  {
   "cell_type": "code",
   "execution_count": 29,
   "id": "2d1a39dc-453c-407d-bab0-8ec97168064b",
   "metadata": {},
   "outputs": [
    {
     "data": {
      "text/plain": [
       "False"
      ]
     },
     "execution_count": 29,
     "metadata": {},
     "output_type": "execute_result"
    }
   ],
   "source": [
    "4<4"
   ]
  },
  {
   "cell_type": "code",
   "execution_count": 31,
   "id": "929b9401-76a8-4957-9e24-09dd1cea8c42",
   "metadata": {},
   "outputs": [
    {
     "name": "stdout",
     "output_type": "stream",
     "text": [
      "['karachi']\n",
      "['karachi', 'hyderabad']\n",
      "already visited\n",
      "['karachi', 'hyderabad']\n",
      "already visited\n",
      "['karachi', 'hyderabad']\n",
      "['karachi', 'hyderabad', 'lahore']\n"
     ]
    }
   ],
   "source": [
    "remaining_cities_visit = []\n",
    "\n",
    "for city in cities:\n",
    "    if city in visited_cities:\n",
    "        print('already visited')\n",
    "    else:\n",
    "        remaining_cities_visit.append(city)\n",
    "    print(remaining_cities_visit)"
   ]
  },
  {
   "cell_type": "code",
   "execution_count": 35,
   "id": "33290b69-0767-4cba-b43a-fc40acd701f0",
   "metadata": {},
   "outputs": [
    {
     "data": {
      "text/plain": [
       "['x', 'y']"
      ]
     },
     "execution_count": 35,
     "metadata": {},
     "output_type": "execute_result"
    }
   ],
   "source": [
    "cities_to_visit"
   ]
  },
  {
   "cell_type": "code",
   "execution_count": 43,
   "id": "9003c13a-0b67-4bdc-9b52-4578601516e0",
   "metadata": {},
   "outputs": [
    {
     "name": "stdin",
     "output_type": "stream",
     "text": [
      "Enter city to visit: karachi\n",
      "Enter city to visit: lahore\n",
      "Enter city to visit: multan\n",
      "Enter city to visit: quit\n"
     ]
    },
    {
     "name": "stdout",
     "output_type": "stream",
     "text": [
      "['x', 'y', 'karachi']\n"
     ]
    }
   ],
   "source": [
    "cities_to_visit1 = []\n",
    "user_input = ''\n",
    "\n",
    "while user_input != 'quit':\n",
    "    city = input('Enter city to visit:')\n",
    "    if city == 'quit':\n",
    "        user_input = 'quit'\n",
    "    else:\n",
    "        cities_to_visit1.append(city)\n",
    "    \n",
    "print(cities_to_visit)\n"
   ]
  },
  {
   "cell_type": "code",
   "execution_count": 45,
   "id": "d78c81f4-8514-4c72-bc11-8489bd8794f5",
   "metadata": {},
   "outputs": [
    {
     "data": {
      "text/plain": [
       "['karachi', 'lahore', 'multan']"
      ]
     },
     "execution_count": 45,
     "metadata": {},
     "output_type": "execute_result"
    }
   ],
   "source": [
    "cities_to_visit1"
   ]
  },
  {
   "cell_type": "code",
   "execution_count": 33,
   "id": "ddf445be-e9de-4525-8b59-0c44aa117667",
   "metadata": {},
   "outputs": [
    {
     "name": "stdin",
     "output_type": "stream",
     "text": [
      "Enter city to visit: x\n",
      "Enter city to visit: y\n",
      "Enter city to visit: quit\n"
     ]
    },
    {
     "name": "stdout",
     "output_type": "stream",
     "text": [
      "['x', 'y']\n"
     ]
    }
   ],
   "source": [
    "cities_to_visit = []\n",
    "user_input = ''\n",
    "\n",
    "while user_input != 'quit':\n",
    "    city = input('Enter city to visit:')\n",
    "    if city == 'quit':\n",
    "        user_input = 'quit'\n",
    "    else:\n",
    "        cities_to_visit.append(city)\n",
    "    \n",
    "print(cities_to_visit)"
   ]
  },
  {
   "cell_type": "code",
   "execution_count": 84,
   "id": "9ee45c3b-d9ea-4136-9979-beaf5a4729db",
   "metadata": {},
   "outputs": [
    {
     "data": {
      "text/plain": [
       "[2, 3, 4, 5]"
      ]
     },
     "execution_count": 84,
     "metadata": {},
     "output_type": "execute_result"
    }
   ],
   "source": [
    "numbers = [2,3,4,5]\n",
    "numbers"
   ]
  },
  {
   "cell_type": "code",
   "execution_count": 86,
   "id": "3b31351f-a287-4da2-91bd-36e5f198db60",
   "metadata": {},
   "outputs": [
    {
     "name": "stdout",
     "output_type": "stream",
     "text": [
      "4\n",
      "9\n",
      "16\n",
      "25\n"
     ]
    }
   ],
   "source": [
    "for num in numbers:\n",
    "    print(num ** 2)"
   ]
  },
  {
   "cell_type": "code",
   "execution_count": 92,
   "id": "879cd317-f30e-44e6-949e-1445c9f2355c",
   "metadata": {},
   "outputs": [],
   "source": [
    "number = []\n",
    "for num in numbers:\n",
    "    square = num ** 2\n",
    "    number.append(square)"
   ]
  },
  {
   "cell_type": "code",
   "execution_count": 94,
   "id": "bdffd295-b91a-4658-b5cf-95a343093b7a",
   "metadata": {},
   "outputs": [
    {
     "data": {
      "text/plain": [
       "[4, 9, 16, 25]"
      ]
     },
     "execution_count": 94,
     "metadata": {},
     "output_type": "execute_result"
    }
   ],
   "source": [
    "number"
   ]
  },
  {
   "cell_type": "code",
   "execution_count": 96,
   "id": "d6d9083a-9bd7-4a39-8dc3-11adf31c70ee",
   "metadata": {},
   "outputs": [
    {
     "name": "stdout",
     "output_type": "stream",
     "text": [
      "4\n",
      "9\n",
      "16\n",
      "25\n"
     ]
    }
   ],
   "source": [
    "number1 = []\n",
    "for num in numbers:\n",
    "    square = num ** 2\n",
    "    number1.append(square)\n",
    "    print(square)"
   ]
  },
  {
   "cell_type": "code",
   "execution_count": 98,
   "id": "5c555b02-ecf8-453f-a534-f0a0e47ffa9a",
   "metadata": {},
   "outputs": [
    {
     "data": {
      "text/plain": [
       "[4, 9, 16, 25]"
      ]
     },
     "execution_count": 98,
     "metadata": {},
     "output_type": "execute_result"
    }
   ],
   "source": [
    "number1"
   ]
  },
  {
   "cell_type": "code",
   "execution_count": 100,
   "id": "ab3f046c-86b8-42df-9702-de3fe090a38b",
   "metadata": {},
   "outputs": [
    {
     "data": {
      "text/plain": [
       "[2, 3, 4, 5]"
      ]
     },
     "execution_count": 100,
     "metadata": {},
     "output_type": "execute_result"
    }
   ],
   "source": [
    "numbers"
   ]
  },
  {
   "cell_type": "code",
   "execution_count": 102,
   "id": "58353662-8a61-4d67-8d0f-b750c82997a2",
   "metadata": {},
   "outputs": [
    {
     "data": {
      "text/plain": [
       "[2, 3, 4, 5]"
      ]
     },
     "execution_count": 102,
     "metadata": {},
     "output_type": "execute_result"
    }
   ],
   "source": [
    "number2 = [num for num in numbers]\n",
    "number2"
   ]
  },
  {
   "cell_type": "code",
   "execution_count": 104,
   "id": "416d839c-0dad-4a60-afde-3daf77fd82f7",
   "metadata": {},
   "outputs": [
    {
     "data": {
      "text/plain": [
       "[4, 9, 16, 25]"
      ]
     },
     "execution_count": 104,
     "metadata": {},
     "output_type": "execute_result"
    }
   ],
   "source": [
    "number2 = [num**2 for num in numbers]\n",
    "number2"
   ]
  },
  {
   "cell_type": "code",
   "execution_count": 106,
   "id": "5d61328f-169a-4160-af2d-49b42911a56d",
   "metadata": {},
   "outputs": [],
   "source": [
    "Ec_Store_Orders = [\n",
    "    {\"order_id\": 1, \"customer_name\": \"Ali\", \"total_amount\": 120, \"status\": \"Completed\"},\n",
    "    {\"order_id\": 2, \"customer_name\": \"Raheel\", \"total_amount\": 80, \"status\": \"Pending\"},\n",
    "    {\"order_id\": 3, \"customer_name\": \"Saleem\", \"total_amount\": 150, \"status\": \"Completed\"},\n",
    "    {\"order_id\": 4, \"customer_name\": \"khushnoor\", \"total_amount\": 95, \"status\": \"Completed\"},\n",
    "    {\"order_id\": 5, \"customer_name\": \"Alizy\", \"total_amount\": 200, \"status\": \"Pending\"},\n",
    "    {\"order_id\": 6, \"customer_name\": \"javaid\", \"total_amount\": 85, \"status\": \"Completed\"},\n",
    "    {\"order_id\": 7, \"customer_name\": \"Talha\", \"total_amount\": 150, \"status\": \"Pending\"},\n",
    "    {\"order_id\": 8, \"customer_name\": \"Naveed\", \"total_amount\": 200, \"status\": \"Completed\"},\n",
    "]"
   ]
  },
  {
   "cell_type": "code",
   "execution_count": 108,
   "id": "b39612d3-1dd2-4402-8ef2-32c1016eceed",
   "metadata": {},
   "outputs": [
    {
     "name": "stdout",
     "output_type": "stream",
     "text": [
      "{'order_id': 1, 'customer_name': 'Ali', 'total_amount': 120, 'status': 'Completed'}\n",
      "{'order_id': 2, 'customer_name': 'Raheel', 'total_amount': 80, 'status': 'Pending'}\n",
      "{'order_id': 3, 'customer_name': 'Saleem', 'total_amount': 150, 'status': 'Completed'}\n",
      "{'order_id': 4, 'customer_name': 'khushnoor', 'total_amount': 95, 'status': 'Completed'}\n",
      "{'order_id': 5, 'customer_name': 'Alizy', 'total_amount': 200, 'status': 'Pending'}\n",
      "{'order_id': 6, 'customer_name': 'javaid', 'total_amount': 85, 'status': 'Completed'}\n",
      "{'order_id': 7, 'customer_name': 'Talha', 'total_amount': 150, 'status': 'Pending'}\n",
      "{'order_id': 8, 'customer_name': 'Naveed', 'total_amount': 200, 'status': 'Completed'}\n"
     ]
    }
   ],
   "source": [
    "for order in Ec_Store_Orders:\n",
    "    print(order)"
   ]
  },
  {
   "cell_type": "code",
   "execution_count": 110,
   "id": "b2056257-3acb-411e-abf7-aa9d32205b46",
   "metadata": {},
   "outputs": [
    {
     "name": "stdout",
     "output_type": "stream",
     "text": [
      "1\n",
      "3\n",
      "8\n"
     ]
    }
   ],
   "source": [
    "for order in Ec_Store_Orders:\n",
    "    if order['total_amount'] > 100 and order['status'] == 'Completed':\n",
    "        print(order['order_id'])"
   ]
  },
  {
   "cell_type": "code",
   "execution_count": 112,
   "id": "44a85308-7425-4729-946e-18d91cc1d86d",
   "metadata": {},
   "outputs": [
    {
     "name": "stdout",
     "output_type": "stream",
     "text": [
      "{'order_id': 1, 'customer_name': 'Ali', 'total_amount': 120, 'status': 'Completed'}\n",
      "{'order_id': 3, 'customer_name': 'Saleem', 'total_amount': 150, 'status': 'Completed'}\n",
      "{'order_id': 8, 'customer_name': 'Naveed', 'total_amount': 200, 'status': 'Completed'}\n"
     ]
    }
   ],
   "source": [
    "for order in Ec_Store_Orders:\n",
    "    if order['total_amount'] > 100 and order['status'] == 'Completed':\n",
    "        print(order)"
   ]
  },
  {
   "cell_type": "code",
   "execution_count": 114,
   "id": "82836e94-f84f-4e18-9387-b6b4904e1559",
   "metadata": {},
   "outputs": [],
   "source": [
    "with_out_list_comp = []\n",
    "for order in Ec_Store_Orders:\n",
    "    if order['total_amount'] > 100 and order['status'] == 'Completed':\n",
    "        with_out_list_comp.append(order['order_id'])"
   ]
  },
  {
   "cell_type": "code",
   "execution_count": 116,
   "id": "e018c781-bd1c-4a42-aea8-0a9f222e60a0",
   "metadata": {},
   "outputs": [
    {
     "data": {
      "text/plain": [
       "[1, 3, 8]"
      ]
     },
     "execution_count": 116,
     "metadata": {},
     "output_type": "execute_result"
    }
   ],
   "source": [
    "with_out_list_comp"
   ]
  },
  {
   "cell_type": "code",
   "execution_count": 118,
   "id": "7484c520-1049-40a4-9d69-48d60e196350",
   "metadata": {},
   "outputs": [],
   "source": [
    "with_list_comp = [order['order_id'] for order in Ec_Store_Orders if order['total_amount'] > 100 and order['status'] == 'Completed' ]"
   ]
  },
  {
   "cell_type": "code",
   "execution_count": 120,
   "id": "b12f74e8-dd3e-42ea-8704-a4f59f9db9ae",
   "metadata": {},
   "outputs": [
    {
     "data": {
      "text/plain": [
       "[1, 3, 8]"
      ]
     },
     "execution_count": 120,
     "metadata": {},
     "output_type": "execute_result"
    }
   ],
   "source": [
    "with_list_comp"
   ]
  },
  {
   "cell_type": "code",
   "execution_count": null,
   "id": "b025a9cf-466b-480c-b3dd-d5817b6df4c6",
   "metadata": {},
   "outputs": [],
   "source": []
  }
 ],
 "metadata": {
  "kernelspec": {
   "display_name": "Python 3 (ipykernel)",
   "language": "python",
   "name": "python3"
  },
  "language_info": {
   "codemirror_mode": {
    "name": "ipython",
    "version": 3
   },
   "file_extension": ".py",
   "mimetype": "text/x-python",
   "name": "python",
   "nbconvert_exporter": "python",
   "pygments_lexer": "ipython3",
   "version": "3.12.4"
  }
 },
 "nbformat": 4,
 "nbformat_minor": 5
}
