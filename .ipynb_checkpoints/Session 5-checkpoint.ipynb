{
 "cells": [
  {
   "cell_type": "code",
   "execution_count": 1,
   "id": "da607900-4453-4da8-aa7d-2f3e887e8973",
   "metadata": {},
   "outputs": [
    {
     "data": {
      "text/plain": [
       "['20k', '30k', '45k', '36k', '65k', '100k']"
      ]
     },
     "execution_count": 1,
     "metadata": {},
     "output_type": "execute_result"
    }
   ],
   "source": [
    "salaries = [\"20k\",\"30k\",\"45k\",\"36k\",\"65k\",\"100k\"]\n",
    "salaries"
   ]
  },
  {
   "cell_type": "code",
   "execution_count": 2,
   "id": "5f9ce834-849e-4241-af53-9d5fa9d3a524",
   "metadata": {},
   "outputs": [
    {
     "ename": "SyntaxError",
     "evalue": "invalid decimal literal (3982459709.py, line 1)",
     "output_type": "error",
     "traceback": [
      "\u001b[1;36m  Cell \u001b[1;32mIn[2], line 1\u001b[1;36m\u001b[0m\n\u001b[1;33m    salary = [20k]\u001b[0m\n\u001b[1;37m               ^\u001b[0m\n\u001b[1;31mSyntaxError\u001b[0m\u001b[1;31m:\u001b[0m invalid decimal literal\n"
     ]
    }
   ],
   "source": [
    "salary = [20k]"
   ]
  },
  {
   "cell_type": "code",
   "execution_count": 48,
   "id": "ed36098c-eab2-41f4-a5cf-314b903256c6",
   "metadata": {},
   "outputs": [
    {
     "ename": "SyntaxError",
     "evalue": "invalid decimal literal (3003454862.py, line 1)",
     "output_type": "error",
     "traceback": [
      "\u001b[1;36m  Cell \u001b[1;32mIn[48], line 1\u001b[1;36m\u001b[0m\n\u001b[1;33m    20k\u001b[0m\n\u001b[1;37m     ^\u001b[0m\n\u001b[1;31mSyntaxError\u001b[0m\u001b[1;31m:\u001b[0m invalid decimal literal\n"
     ]
    }
   ],
   "source": [
    "20k"
   ]
  },
  {
   "cell_type": "code",
   "execution_count": 50,
   "id": "5146c45a-61c1-4fad-9ab3-990b8cbba40b",
   "metadata": {},
   "outputs": [
    {
     "data": {
      "text/plain": [
       "'20k'"
      ]
     },
     "execution_count": 50,
     "metadata": {},
     "output_type": "execute_result"
    }
   ],
   "source": [
    "'20k'"
   ]
  },
  {
   "cell_type": "code",
   "execution_count": 52,
   "id": "504ed93d-3866-452d-88d0-33bcbd5d4a2c",
   "metadata": {},
   "outputs": [
    {
     "data": {
      "text/plain": [
       "['20k', '30k', '45k', '36k', '65k', '100k']"
      ]
     },
     "execution_count": 52,
     "metadata": {},
     "output_type": "execute_result"
    }
   ],
   "source": [
    "salaries"
   ]
  },
  {
   "cell_type": "code",
   "execution_count": 54,
   "id": "9549c2c1-e1d4-4306-917d-b59ce9a9b7e2",
   "metadata": {},
   "outputs": [
    {
     "data": {
      "text/plain": [
       "'36k'"
      ]
     },
     "execution_count": 54,
     "metadata": {},
     "output_type": "execute_result"
    }
   ],
   "source": [
    "salaries[3]"
   ]
  },
  {
   "cell_type": "code",
   "execution_count": 56,
   "id": "0ffa5f20-cabf-4daf-99f6-a41aec42cf84",
   "metadata": {},
   "outputs": [
    {
     "data": {
      "text/plain": [
       "'100k'"
      ]
     },
     "execution_count": 56,
     "metadata": {},
     "output_type": "execute_result"
    }
   ],
   "source": [
    "salaries[5]"
   ]
  },
  {
   "cell_type": "code",
   "execution_count": 58,
   "id": "30af1c93-bd07-41d6-9cda-986c2833707b",
   "metadata": {},
   "outputs": [
    {
     "data": {
      "text/plain": [
       "'100k'"
      ]
     },
     "execution_count": 58,
     "metadata": {},
     "output_type": "execute_result"
    }
   ],
   "source": [
    "salaries[-1]"
   ]
  },
  {
   "cell_type": "code",
   "execution_count": 60,
   "id": "4740cc73-98a9-41da-a4f5-fd476cc0fbde",
   "metadata": {},
   "outputs": [
    {
     "data": {
      "text/plain": [
       "'36k'"
      ]
     },
     "execution_count": 60,
     "metadata": {},
     "output_type": "execute_result"
    }
   ],
   "source": [
    "salaries[-3]"
   ]
  },
  {
   "cell_type": "code",
   "execution_count": 62,
   "id": "317fab2e-d5cc-46a8-9916-08e4cb7c01bd",
   "metadata": {},
   "outputs": [
    {
     "ename": "TypeError",
     "evalue": "list indices must be integers or slices, not tuple",
     "output_type": "error",
     "traceback": [
      "\u001b[1;31m---------------------------------------------------------------------------\u001b[0m",
      "\u001b[1;31mTypeError\u001b[0m                                 Traceback (most recent call last)",
      "Cell \u001b[1;32mIn[62], line 1\u001b[0m\n\u001b[1;32m----> 1\u001b[0m salaries[\u001b[38;5;241m1\u001b[39m,\u001b[38;5;241m2\u001b[39m,\u001b[38;5;241m3\u001b[39m]\n",
      "\u001b[1;31mTypeError\u001b[0m: list indices must be integers or slices, not tuple"
     ]
    }
   ],
   "source": [
    "salaries[1,2,3]"
   ]
  },
  {
   "cell_type": "markdown",
   "id": "8c107b7c-5df9-4319-8d0b-2256e75234d3",
   "metadata": {},
   "source": [
    "# Slicing"
   ]
  },
  {
   "cell_type": "code",
   "execution_count": null,
   "id": "0a699513-2f78-4d8f-9e51-561896695903",
   "metadata": {},
   "outputs": [],
   "source": [
    "salaries"
   ]
  },
  {
   "cell_type": "code",
   "execution_count": null,
   "id": "47fd7fcd-1f93-478c-899f-acd90aedba37",
   "metadata": {},
   "outputs": [],
   "source": [
    "salaries[1:3]"
   ]
  },
  {
   "cell_type": "code",
   "execution_count": 66,
   "id": "49d0f8c3-2ba2-424d-bf53-f2eaf1ef7312",
   "metadata": {},
   "outputs": [
    {
     "data": {
      "text/plain": [
       "['30k', '45k', '36k']"
      ]
     },
     "execution_count": 66,
     "metadata": {},
     "output_type": "execute_result"
    }
   ],
   "source": [
    "salaries[1:4]"
   ]
  },
  {
   "cell_type": "code",
   "execution_count": 68,
   "id": "6b9e1ab8-4fe9-4d06-afe9-c7a0441bb698",
   "metadata": {},
   "outputs": [
    {
     "data": {
      "text/plain": [
       "['20k', '30k', '45k', '36k']"
      ]
     },
     "execution_count": 68,
     "metadata": {},
     "output_type": "execute_result"
    }
   ],
   "source": [
    "salaries[:4]"
   ]
  },
  {
   "cell_type": "code",
   "execution_count": 70,
   "id": "2c88ecac-f63a-409e-991c-22cc82249a78",
   "metadata": {},
   "outputs": [
    {
     "data": {
      "text/plain": [
       "['30k', '45k', '36k', '65k', '100k']"
      ]
     },
     "execution_count": 70,
     "metadata": {},
     "output_type": "execute_result"
    }
   ],
   "source": [
    "salaries[1:]"
   ]
  },
  {
   "cell_type": "code",
   "execution_count": 72,
   "id": "e1888d82-0426-4f77-89ea-35a7747f40a5",
   "metadata": {},
   "outputs": [
    {
     "data": {
      "text/plain": [
       "['20k', '30k', '45k', '36k', '65k', '100k']"
      ]
     },
     "execution_count": 72,
     "metadata": {},
     "output_type": "execute_result"
    }
   ],
   "source": [
    "salaries"
   ]
  },
  {
   "cell_type": "code",
   "execution_count": 74,
   "id": "0a8bc048-f3bc-4b25-be17-ce136741886b",
   "metadata": {},
   "outputs": [
    {
     "data": {
      "text/plain": [
       "['30k', '45k', '36k', '65k', '100k']"
      ]
     },
     "execution_count": 74,
     "metadata": {},
     "output_type": "execute_result"
    }
   ],
   "source": [
    "salaries[1:6]"
   ]
  },
  {
   "cell_type": "code",
   "execution_count": 76,
   "id": "ec0ee282-96d1-44b8-aa5a-e7d1fb49e97f",
   "metadata": {},
   "outputs": [
    {
     "ename": "IndexError",
     "evalue": "list index out of range",
     "output_type": "error",
     "traceback": [
      "\u001b[1;31m---------------------------------------------------------------------------\u001b[0m",
      "\u001b[1;31mIndexError\u001b[0m                                Traceback (most recent call last)",
      "Cell \u001b[1;32mIn[76], line 1\u001b[0m\n\u001b[1;32m----> 1\u001b[0m salaries[\u001b[38;5;241m6\u001b[39m]\n",
      "\u001b[1;31mIndexError\u001b[0m: list index out of range"
     ]
    }
   ],
   "source": [
    "salaries[6]"
   ]
  },
  {
   "cell_type": "code",
   "execution_count": 78,
   "id": "fa16160d-53b6-4f38-b95e-672350e51e34",
   "metadata": {},
   "outputs": [
    {
     "data": {
      "text/plain": [
       "['30k', '45k', '36k', '65k', '100k']"
      ]
     },
     "execution_count": 78,
     "metadata": {},
     "output_type": "execute_result"
    }
   ],
   "source": [
    "salaries[1:6]"
   ]
  },
  {
   "cell_type": "code",
   "execution_count": 80,
   "id": "32d6350c-02b7-43e6-b747-f74ad0bcfd00",
   "metadata": {},
   "outputs": [
    {
     "data": {
      "text/plain": [
       "['30k', '36k', '100k']"
      ]
     },
     "execution_count": 80,
     "metadata": {},
     "output_type": "execute_result"
    }
   ],
   "source": [
    "salaries[1:6:2]"
   ]
  },
  {
   "cell_type": "code",
   "execution_count": 82,
   "id": "ae42b975-dbf9-4f37-87d9-682422d45841",
   "metadata": {},
   "outputs": [
    {
     "data": {
      "text/plain": [
       "['30k', '65k']"
      ]
     },
     "execution_count": 82,
     "metadata": {},
     "output_type": "execute_result"
    }
   ],
   "source": [
    "salaries[1:6:3]"
   ]
  },
  {
   "cell_type": "code",
   "execution_count": 84,
   "id": "fe2950a9-c52c-43ec-89d5-ea4ba70d0127",
   "metadata": {},
   "outputs": [
    {
     "data": {
      "text/plain": [
       "['20k', '30k', '45k', '36k', '65k', '100k']"
      ]
     },
     "execution_count": 84,
     "metadata": {},
     "output_type": "execute_result"
    }
   ],
   "source": [
    "salaries"
   ]
  },
  {
   "cell_type": "code",
   "execution_count": 86,
   "id": "90cc6adb-9b37-40a9-a321-98b26379f837",
   "metadata": {},
   "outputs": [
    {
     "data": {
      "text/plain": [
       "[]"
      ]
     },
     "execution_count": 86,
     "metadata": {},
     "output_type": "execute_result"
    }
   ],
   "source": [
    "salaries[-1:-4]"
   ]
  },
  {
   "cell_type": "code",
   "execution_count": 88,
   "id": "2c2d45e2-5009-4cb4-bb21-3e067edd0341",
   "metadata": {},
   "outputs": [
    {
     "data": {
      "text/plain": [
       "['36k', '65k', '100k']"
      ]
     },
     "execution_count": 88,
     "metadata": {},
     "output_type": "execute_result"
    }
   ],
   "source": [
    "salaries[-3:]"
   ]
  },
  {
   "cell_type": "code",
   "execution_count": 90,
   "id": "73fa60c1-78e6-4651-b609-5529131baa88",
   "metadata": {},
   "outputs": [
    {
     "data": {
      "text/plain": [
       "['36k', '65k']"
      ]
     },
     "execution_count": 90,
     "metadata": {},
     "output_type": "execute_result"
    }
   ],
   "source": [
    "salaries[-3:-1]"
   ]
  },
  {
   "cell_type": "code",
   "execution_count": 92,
   "id": "d61126e7-5d7b-4ed4-b8cd-d8f9eda68ee6",
   "metadata": {
    "scrolled": true
   },
   "outputs": [
    {
     "data": {
      "text/plain": [
       "['__add__',\n",
       " '__class__',\n",
       " '__class_getitem__',\n",
       " '__contains__',\n",
       " '__delattr__',\n",
       " '__delitem__',\n",
       " '__dir__',\n",
       " '__doc__',\n",
       " '__eq__',\n",
       " '__format__',\n",
       " '__ge__',\n",
       " '__getattribute__',\n",
       " '__getitem__',\n",
       " '__getstate__',\n",
       " '__gt__',\n",
       " '__hash__',\n",
       " '__iadd__',\n",
       " '__imul__',\n",
       " '__init__',\n",
       " '__init_subclass__',\n",
       " '__iter__',\n",
       " '__le__',\n",
       " '__len__',\n",
       " '__lt__',\n",
       " '__mul__',\n",
       " '__ne__',\n",
       " '__new__',\n",
       " '__reduce__',\n",
       " '__reduce_ex__',\n",
       " '__repr__',\n",
       " '__reversed__',\n",
       " '__rmul__',\n",
       " '__setattr__',\n",
       " '__setitem__',\n",
       " '__sizeof__',\n",
       " '__str__',\n",
       " '__subclasshook__',\n",
       " 'append',\n",
       " 'clear',\n",
       " 'copy',\n",
       " 'count',\n",
       " 'extend',\n",
       " 'index',\n",
       " 'insert',\n",
       " 'pop',\n",
       " 'remove',\n",
       " 'reverse',\n",
       " 'sort']"
      ]
     },
     "execution_count": 92,
     "metadata": {},
     "output_type": "execute_result"
    }
   ],
   "source": [
    "dir([])"
   ]
  },
  {
   "cell_type": "code",
   "execution_count": 94,
   "id": "84e0e31d-9426-4e1d-8584-7e64108d7829",
   "metadata": {},
   "outputs": [
    {
     "data": {
      "text/plain": [
       "['20k', '30k', '45k', '36k', '65k', '100k']"
      ]
     },
     "execution_count": 94,
     "metadata": {},
     "output_type": "execute_result"
    }
   ],
   "source": [
    "# append\n",
    "salaries"
   ]
  },
  {
   "cell_type": "code",
   "execution_count": 96,
   "id": "506fce00-6e7b-410b-8f34-bdd852787ff9",
   "metadata": {},
   "outputs": [],
   "source": [
    "salaries.append('250k')"
   ]
  },
  {
   "cell_type": "code",
   "execution_count": 98,
   "id": "32411b89-f671-4f9c-bcc4-dbe932df2335",
   "metadata": {},
   "outputs": [
    {
     "data": {
      "text/plain": [
       "7"
      ]
     },
     "execution_count": 98,
     "metadata": {},
     "output_type": "execute_result"
    }
   ],
   "source": [
    "len(salaries)"
   ]
  },
  {
   "cell_type": "code",
   "execution_count": 100,
   "id": "74fa66eb-df9b-412f-b050-c8a21d8191d8",
   "metadata": {},
   "outputs": [
    {
     "data": {
      "text/plain": [
       "['20k', '30k', '45k', '36k', '65k', '100k', '250k']"
      ]
     },
     "execution_count": 100,
     "metadata": {},
     "output_type": "execute_result"
    }
   ],
   "source": [
    "salaries"
   ]
  },
  {
   "cell_type": "code",
   "execution_count": 102,
   "id": "b9fb8164-731f-4b53-a2fd-84e8e48403b7",
   "metadata": {},
   "outputs": [],
   "source": [
    "salaries.insert(2,\"48k\")"
   ]
  },
  {
   "cell_type": "code",
   "execution_count": 104,
   "id": "318d46a7-797b-4c8d-b7e5-abf10ea41996",
   "metadata": {},
   "outputs": [
    {
     "data": {
      "text/plain": [
       "['20k', '30k', '48k', '45k', '36k', '65k', '100k', '250k']"
      ]
     },
     "execution_count": 104,
     "metadata": {},
     "output_type": "execute_result"
    }
   ],
   "source": [
    "salaries"
   ]
  },
  {
   "cell_type": "code",
   "execution_count": 106,
   "id": "a5330854-9dfd-4035-a4df-a6c322d9540e",
   "metadata": {},
   "outputs": [],
   "source": [
    "salaries[3] = '50k'"
   ]
  },
  {
   "cell_type": "code",
   "execution_count": 108,
   "id": "2f7229c1-c706-4a5e-b138-40f6543356d9",
   "metadata": {},
   "outputs": [
    {
     "data": {
      "text/plain": [
       "['20k', '30k', '48k', '50k', '36k', '65k', '100k', '250k']"
      ]
     },
     "execution_count": 108,
     "metadata": {},
     "output_type": "execute_result"
    }
   ],
   "source": [
    "salaries"
   ]
  },
  {
   "cell_type": "code",
   "execution_count": 110,
   "id": "1abfa4fe-b417-43de-8b8c-ad2a24970dbb",
   "metadata": {},
   "outputs": [
    {
     "ename": "SyntaxError",
     "evalue": "invalid syntax (3808978240.py, line 1)",
     "output_type": "error",
     "traceback": [
      "\u001b[1;36m  Cell \u001b[1;32mIn[110], line 1\u001b[1;36m\u001b[0m\n\u001b[1;33m    salaries.insert(5:6,'20k')\u001b[0m\n\u001b[1;37m                     ^\u001b[0m\n\u001b[1;31mSyntaxError\u001b[0m\u001b[1;31m:\u001b[0m invalid syntax\n"
     ]
    }
   ],
   "source": [
    "salaries.insert(5:6,'20k')"
   ]
  },
  {
   "cell_type": "code",
   "execution_count": 112,
   "id": "4011a6ee-be8f-45f2-a94a-f70b906e6393",
   "metadata": {},
   "outputs": [
    {
     "data": {
      "text/plain": [
       "['__add__',\n",
       " '__class__',\n",
       " '__class_getitem__',\n",
       " '__contains__',\n",
       " '__delattr__',\n",
       " '__delitem__',\n",
       " '__dir__',\n",
       " '__doc__',\n",
       " '__eq__',\n",
       " '__format__',\n",
       " '__ge__',\n",
       " '__getattribute__',\n",
       " '__getitem__',\n",
       " '__getstate__',\n",
       " '__gt__',\n",
       " '__hash__',\n",
       " '__iadd__',\n",
       " '__imul__',\n",
       " '__init__',\n",
       " '__init_subclass__',\n",
       " '__iter__',\n",
       " '__le__',\n",
       " '__len__',\n",
       " '__lt__',\n",
       " '__mul__',\n",
       " '__ne__',\n",
       " '__new__',\n",
       " '__reduce__',\n",
       " '__reduce_ex__',\n",
       " '__repr__',\n",
       " '__reversed__',\n",
       " '__rmul__',\n",
       " '__setattr__',\n",
       " '__setitem__',\n",
       " '__sizeof__',\n",
       " '__str__',\n",
       " '__subclasshook__',\n",
       " 'append',\n",
       " 'clear',\n",
       " 'copy',\n",
       " 'count',\n",
       " 'extend',\n",
       " 'index',\n",
       " 'insert',\n",
       " 'pop',\n",
       " 'remove',\n",
       " 'reverse',\n",
       " 'sort']"
      ]
     },
     "execution_count": 112,
     "metadata": {},
     "output_type": "execute_result"
    }
   ],
   "source": [
    "direc = dir([])\n",
    "direc"
   ]
  },
  {
   "cell_type": "code",
   "execution_count": 114,
   "id": "1832c13a-5b9d-476e-9754-a2c16b4c59ab",
   "metadata": {},
   "outputs": [
    {
     "ename": "AttributeError",
     "evalue": "'list' object has no attribute 'Pop'",
     "output_type": "error",
     "traceback": [
      "\u001b[1;31m---------------------------------------------------------------------------\u001b[0m",
      "\u001b[1;31mAttributeError\u001b[0m                            Traceback (most recent call last)",
      "Cell \u001b[1;32mIn[114], line 1\u001b[0m\n\u001b[1;32m----> 1\u001b[0m salaries\u001b[38;5;241m.\u001b[39mPop()\n",
      "\u001b[1;31mAttributeError\u001b[0m: 'list' object has no attribute 'Pop'"
     ]
    }
   ],
   "source": [
    "salaries.Pop()"
   ]
  },
  {
   "cell_type": "code",
   "execution_count": 116,
   "id": "69d985fc-188e-4bcb-9c20-6b0162feffde",
   "metadata": {},
   "outputs": [
    {
     "data": {
      "text/plain": [
       "'250k'"
      ]
     },
     "execution_count": 116,
     "metadata": {},
     "output_type": "execute_result"
    }
   ],
   "source": [
    "salaries.pop()"
   ]
  },
  {
   "cell_type": "code",
   "execution_count": 118,
   "id": "a9162e28-bafb-42f0-b37c-1322be554329",
   "metadata": {},
   "outputs": [
    {
     "data": {
      "text/plain": [
       "['20k', '30k', '48k', '50k', '36k', '65k', '100k']"
      ]
     },
     "execution_count": 118,
     "metadata": {},
     "output_type": "execute_result"
    }
   ],
   "source": [
    "salaries"
   ]
  },
  {
   "cell_type": "code",
   "execution_count": 120,
   "id": "2d8d721b-83b5-4f3e-9a4a-52ed0d3917aa",
   "metadata": {},
   "outputs": [
    {
     "data": {
      "text/plain": [
       "'30k'"
      ]
     },
     "execution_count": 120,
     "metadata": {},
     "output_type": "execute_result"
    }
   ],
   "source": [
    "salaries.pop(1)"
   ]
  },
  {
   "cell_type": "code",
   "execution_count": 122,
   "id": "e94085c2-ba0e-47b4-b73c-f3314f5bc872",
   "metadata": {},
   "outputs": [
    {
     "data": {
      "text/plain": [
       "['20k', '48k', '50k', '36k', '65k', '100k']"
      ]
     },
     "execution_count": 122,
     "metadata": {},
     "output_type": "execute_result"
    }
   ],
   "source": [
    "salaries"
   ]
  },
  {
   "cell_type": "code",
   "execution_count": 124,
   "id": "b452fa98-919b-40ec-98f1-870bb9b32c9c",
   "metadata": {},
   "outputs": [
    {
     "data": {
      "text/plain": [
       "['__add__',\n",
       " '__class__',\n",
       " '__class_getitem__',\n",
       " '__contains__',\n",
       " '__delattr__',\n",
       " '__delitem__',\n",
       " '__dir__',\n",
       " '__doc__',\n",
       " '__eq__',\n",
       " '__format__',\n",
       " '__ge__',\n",
       " '__getattribute__',\n",
       " '__getitem__',\n",
       " '__getstate__',\n",
       " '__gt__',\n",
       " '__hash__',\n",
       " '__iadd__',\n",
       " '__imul__',\n",
       " '__init__',\n",
       " '__init_subclass__',\n",
       " '__iter__',\n",
       " '__le__',\n",
       " '__len__',\n",
       " '__lt__',\n",
       " '__mul__',\n",
       " '__ne__',\n",
       " '__new__',\n",
       " '__reduce__',\n",
       " '__reduce_ex__',\n",
       " '__repr__',\n",
       " '__reversed__',\n",
       " '__rmul__',\n",
       " '__setattr__',\n",
       " '__setitem__',\n",
       " '__sizeof__',\n",
       " '__str__',\n",
       " '__subclasshook__',\n",
       " 'append',\n",
       " 'clear',\n",
       " 'copy',\n",
       " 'count',\n",
       " 'extend',\n",
       " 'index',\n",
       " 'insert',\n",
       " 'pop',\n",
       " 'remove',\n",
       " 'reverse',\n",
       " 'sort']"
      ]
     },
     "execution_count": 124,
     "metadata": {},
     "output_type": "execute_result"
    }
   ],
   "source": [
    "direc"
   ]
  },
  {
   "cell_type": "code",
   "execution_count": 126,
   "id": "22cffb6b-e20d-4e0f-8b98-64b8069f7cb5",
   "metadata": {},
   "outputs": [
    {
     "data": {
      "text/plain": [
       "['20k', '48k', '50k', '36k', '65k', '100k']"
      ]
     },
     "execution_count": 126,
     "metadata": {},
     "output_type": "execute_result"
    }
   ],
   "source": [
    "salaries"
   ]
  },
  {
   "cell_type": "code",
   "execution_count": 128,
   "id": "c2b988b1-2cad-4aba-b71c-7c74aaef5781",
   "metadata": {},
   "outputs": [],
   "source": [
    "salaries.remove('50k')"
   ]
  },
  {
   "cell_type": "code",
   "execution_count": 130,
   "id": "85ab7f12-aac0-446f-8414-1cd40f6db78a",
   "metadata": {},
   "outputs": [
    {
     "data": {
      "text/plain": [
       "['20k', '48k', '36k', '65k', '100k']"
      ]
     },
     "execution_count": 130,
     "metadata": {},
     "output_type": "execute_result"
    }
   ],
   "source": [
    "salaries"
   ]
  },
  {
   "cell_type": "code",
   "execution_count": 132,
   "id": "632aa701-47a7-48ec-aa72-18e975865629",
   "metadata": {},
   "outputs": [
    {
     "data": {
      "text/plain": [
       "4"
      ]
     },
     "execution_count": 132,
     "metadata": {},
     "output_type": "execute_result"
    }
   ],
   "source": [
    "salaries.index('100k')"
   ]
  },
  {
   "cell_type": "code",
   "execution_count": 134,
   "id": "38e44f54-287f-41ea-9b93-d7ff53098b89",
   "metadata": {},
   "outputs": [],
   "source": [
    "sal1 = salaries.copy()"
   ]
  },
  {
   "cell_type": "code",
   "execution_count": 136,
   "id": "d6502e64-3b7d-4b48-9315-50e4314b1a13",
   "metadata": {},
   "outputs": [
    {
     "data": {
      "text/plain": [
       "['20k', '48k', '36k', '65k', '100k']"
      ]
     },
     "execution_count": 136,
     "metadata": {},
     "output_type": "execute_result"
    }
   ],
   "source": [
    "sal1"
   ]
  },
  {
   "cell_type": "code",
   "execution_count": 138,
   "id": "fdf92a91-1ac6-4ff1-8878-a955b49a3873",
   "metadata": {},
   "outputs": [],
   "source": [
    "sal1.clear()"
   ]
  },
  {
   "cell_type": "code",
   "execution_count": 140,
   "id": "1a0f0f3f-12dc-4461-b188-e13b9397398d",
   "metadata": {},
   "outputs": [
    {
     "data": {
      "text/plain": [
       "[]"
      ]
     },
     "execution_count": 140,
     "metadata": {},
     "output_type": "execute_result"
    }
   ],
   "source": [
    "sal1"
   ]
  },
  {
   "cell_type": "code",
   "execution_count": 142,
   "id": "8173ec42-a0dc-4a5a-bfcf-ee8642098380",
   "metadata": {},
   "outputs": [
    {
     "data": {
      "text/plain": [
       "[10, 5, 26, 3, 4]"
      ]
     },
     "execution_count": 142,
     "metadata": {},
     "output_type": "execute_result"
    }
   ],
   "source": [
    "num = [10,5,26,3,4]\n",
    "num"
   ]
  },
  {
   "cell_type": "code",
   "execution_count": 144,
   "id": "9f4ffd78-89a0-4771-8f04-3a8a550ae63b",
   "metadata": {},
   "outputs": [],
   "source": [
    "num.sort()"
   ]
  },
  {
   "cell_type": "code",
   "execution_count": 146,
   "id": "a80d6257-bad2-41e9-bd8f-47411e741c48",
   "metadata": {},
   "outputs": [
    {
     "data": {
      "text/plain": [
       "[3, 4, 5, 10, 26]"
      ]
     },
     "execution_count": 146,
     "metadata": {},
     "output_type": "execute_result"
    }
   ],
   "source": [
    "num"
   ]
  },
  {
   "cell_type": "code",
   "execution_count": 148,
   "id": "54d29b90-cb63-4d3a-a8c2-cab7262fd26e",
   "metadata": {},
   "outputs": [
    {
     "data": {
      "text/plain": [
       "['20k', '48k', '36k', '65k', '100k']"
      ]
     },
     "execution_count": 148,
     "metadata": {},
     "output_type": "execute_result"
    }
   ],
   "source": [
    "salaries"
   ]
  },
  {
   "cell_type": "code",
   "execution_count": 150,
   "id": "c57e2caf-5d32-45af-9e78-c958ab626df8",
   "metadata": {},
   "outputs": [],
   "source": [
    "salaries.sort()"
   ]
  },
  {
   "cell_type": "code",
   "execution_count": 152,
   "id": "f220fc5a-8412-46f9-94bd-86c64300e63e",
   "metadata": {},
   "outputs": [
    {
     "data": {
      "text/plain": [
       "['100k', '20k', '36k', '48k', '65k']"
      ]
     },
     "execution_count": 152,
     "metadata": {},
     "output_type": "execute_result"
    }
   ],
   "source": [
    "salaries"
   ]
  },
  {
   "cell_type": "code",
   "execution_count": 154,
   "id": "9da180fe-3557-4bbf-a87b-283100d625c2",
   "metadata": {},
   "outputs": [],
   "source": [
    "salaries.extend(num)"
   ]
  },
  {
   "cell_type": "code",
   "execution_count": 156,
   "id": "badf57a4-64fe-4c16-b238-812e652a8a2d",
   "metadata": {},
   "outputs": [
    {
     "data": {
      "text/plain": [
       "['100k', '20k', '36k', '48k', '65k', 3, 4, 5, 10, 26]"
      ]
     },
     "execution_count": 156,
     "metadata": {},
     "output_type": "execute_result"
    }
   ],
   "source": [
    "salaries"
   ]
  },
  {
   "cell_type": "code",
   "execution_count": 158,
   "id": "ea0d3a64-d811-4e67-9619-3eaaa612de8f",
   "metadata": {},
   "outputs": [
    {
     "data": {
      "text/plain": [
       "1"
      ]
     },
     "execution_count": 158,
     "metadata": {},
     "output_type": "execute_result"
    }
   ],
   "source": [
    "salaries.count('48k')"
   ]
  },
  {
   "cell_type": "code",
   "execution_count": 160,
   "id": "c2bda4ab-e43e-40cc-bc86-c77b677670da",
   "metadata": {},
   "outputs": [],
   "source": [
    "salaries.reverse()"
   ]
  },
  {
   "cell_type": "code",
   "execution_count": 162,
   "id": "db06b274-457a-4fef-ac01-8c40502af183",
   "metadata": {},
   "outputs": [
    {
     "data": {
      "text/plain": [
       "[26, 10, 5, 4, 3, '65k', '48k', '36k', '20k', '100k']"
      ]
     },
     "execution_count": 162,
     "metadata": {},
     "output_type": "execute_result"
    }
   ],
   "source": [
    "salaries"
   ]
  },
  {
   "cell_type": "code",
   "execution_count": 164,
   "id": "4b2c9cc8-7045-4e72-82a1-8e465b598a48",
   "metadata": {},
   "outputs": [],
   "source": [
    "salaries = [\"20k\",\"30k\",\"45k\",\"36k\",\"65k\",\"100k\"]\n"
   ]
  },
  {
   "cell_type": "code",
   "execution_count": 166,
   "id": "d429b89b-2efd-4490-b2cc-826b60d069ff",
   "metadata": {},
   "outputs": [
    {
     "data": {
      "text/plain": [
       "['20k', '30k', '45k', '36k', '65k', '100k']"
      ]
     },
     "execution_count": 166,
     "metadata": {},
     "output_type": "execute_result"
    }
   ],
   "source": [
    "salaries"
   ]
  },
  {
   "cell_type": "code",
   "execution_count": 168,
   "id": "025f679b-7908-4126-be55-87745ac15f80",
   "metadata": {},
   "outputs": [],
   "source": [
    "salaries.append('30k')"
   ]
  },
  {
   "cell_type": "code",
   "execution_count": 170,
   "id": "b507edb3-331c-4a6d-9877-236c5628a3a3",
   "metadata": {},
   "outputs": [
    {
     "data": {
      "text/plain": [
       "['20k', '30k', '45k', '36k', '65k', '100k', '30k']"
      ]
     },
     "execution_count": 170,
     "metadata": {},
     "output_type": "execute_result"
    }
   ],
   "source": [
    "salaries"
   ]
  },
  {
   "cell_type": "code",
   "execution_count": null,
   "id": "793b7a41-4021-4d57-bfdc-a6ffa5f0c552",
   "metadata": {},
   "outputs": [],
   "source": []
  },
  {
   "cell_type": "code",
   "execution_count": null,
   "id": "ba057f3e-44be-4fdb-a3dc-44f497818239",
   "metadata": {},
   "outputs": [],
   "source": []
  }
 ],
 "metadata": {
  "kernelspec": {
   "display_name": "Python 3 (ipykernel)",
   "language": "python",
   "name": "python3"
  },
  "language_info": {
   "codemirror_mode": {
    "name": "ipython",
    "version": 3
   },
   "file_extension": ".py",
   "mimetype": "text/x-python",
   "name": "python",
   "nbconvert_exporter": "python",
   "pygments_lexer": "ipython3",
   "version": "3.12.4"
  }
 },
 "nbformat": 4,
 "nbformat_minor": 5
}
