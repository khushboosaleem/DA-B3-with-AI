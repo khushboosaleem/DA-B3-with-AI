{
 "cells": [
  {
   "cell_type": "code",
   "execution_count": 1,
   "id": "4164c19b-7e5b-4e65-8a9c-31e2442996c2",
   "metadata": {},
   "outputs": [
    {
     "name": "stdout",
     "output_type": "stream",
     "text": [
      "Hello World\n"
     ]
    }
   ],
   "source": [
    "print(\"Hello World\")"
   ]
  },
  {
   "cell_type": "code",
   "execution_count": 3,
   "id": "d546e595-0733-408a-b681-f68969514202",
   "metadata": {},
   "outputs": [],
   "source": [
    "a = 5"
   ]
  },
  {
   "cell_type": "code",
   "execution_count": 5,
   "id": "dbaf5965-0280-4579-8628-c6c4b5f1814a",
   "metadata": {},
   "outputs": [],
   "source": [
    "b=10"
   ]
  },
  {
   "cell_type": "code",
   "execution_count": 7,
   "id": "536d9da2-b18b-4ffb-8ef3-e5be031c097e",
   "metadata": {},
   "outputs": [],
   "source": [
    "c=a+b"
   ]
  },
  {
   "cell_type": "code",
   "execution_count": 9,
   "id": "207ad527-897a-4162-b09e-64410455e10e",
   "metadata": {},
   "outputs": [
    {
     "name": "stdout",
     "output_type": "stream",
     "text": [
      "15\n"
     ]
    }
   ],
   "source": [
    "print(c)"
   ]
  },
  {
   "cell_type": "code",
   "execution_count": 11,
   "id": "dd6ab68b-5006-45db-be4d-f0888f2b308c",
   "metadata": {},
   "outputs": [
    {
     "name": "stdout",
     "output_type": "stream",
     "text": [
      "Hello World\n"
     ]
    }
   ],
   "source": [
    "print('Hello World')"
   ]
  },
  {
   "cell_type": "code",
   "execution_count": 17,
   "id": "b830c0cf-4fae-4ce6-8efc-60133a756633",
   "metadata": {},
   "outputs": [
    {
     "data": {
      "text/plain": [
       "'Hello World'"
      ]
     },
     "execution_count": 17,
     "metadata": {},
     "output_type": "execute_result"
    }
   ],
   "source": [
    "\"Hello World\""
   ]
  },
  {
   "cell_type": "code",
   "execution_count": null,
   "id": "035ad989-433d-48ac-be8c-3e00cc9a94f4",
   "metadata": {},
   "outputs": [],
   "source": [
    "print()"
   ]
  },
  {
   "cell_type": "code",
   "execution_count": 15,
   "id": "22acc100-1ee8-407c-8380-da9373ae90eb",
   "metadata": {},
   "outputs": [
    {
     "data": {
      "text/plain": [
       "5"
      ]
     },
     "execution_count": 15,
     "metadata": {},
     "output_type": "execute_result"
    }
   ],
   "source": [
    "2+3"
   ]
  },
  {
   "cell_type": "code",
   "execution_count": 25,
   "id": "e4facc90-ca3e-42c9-a761-6edd43d97314",
   "metadata": {},
   "outputs": [
    {
     "name": "stdout",
     "output_type": "stream",
     "text": [
      "2300\n"
     ]
    }
   ],
   "source": [
    "print(\"2300\")"
   ]
  },
  {
   "cell_type": "code",
   "execution_count": 27,
   "id": "beab36f4-fa83-4fa5-bd8d-057591ee4e58",
   "metadata": {},
   "outputs": [
    {
     "data": {
      "text/plain": [
       "str"
      ]
     },
     "execution_count": 27,
     "metadata": {},
     "output_type": "execute_result"
    }
   ],
   "source": [
    "type('1000')"
   ]
  },
  {
   "cell_type": "code",
   "execution_count": 29,
   "id": "ab677264-1210-47cc-8bbb-55ce73d81368",
   "metadata": {},
   "outputs": [
    {
     "name": "stdout",
     "output_type": "stream",
     "text": [
      "<class 'str'>\n"
     ]
    }
   ],
   "source": [
    "print(type('1000'))"
   ]
  },
  {
   "cell_type": "code",
   "execution_count": 31,
   "id": "5565e1bd-6ae4-40f8-9ec3-f250866762d0",
   "metadata": {},
   "outputs": [
    {
     "ename": "NameError",
     "evalue": "name 'khushboosaleem23' is not defined",
     "output_type": "error",
     "traceback": [
      "\u001b[1;31m---------------------------------------------------------------------------\u001b[0m",
      "\u001b[1;31mNameError\u001b[0m                                 Traceback (most recent call last)",
      "Cell \u001b[1;32mIn[31], line 2\u001b[0m\n\u001b[0;32m      1\u001b[0m \u001b[38;5;66;03m# string\u001b[39;00m\n\u001b[1;32m----> 2\u001b[0m khushboosaleem23\u001b[38;5;129m@gmail\u001b[39m\u001b[38;5;241m.\u001b[39mcom\n",
      "\u001b[1;31mNameError\u001b[0m: name 'khushboosaleem23' is not defined"
     ]
    }
   ],
   "source": [
    "# string\n",
    "khushboosaleem23@gmail.com"
   ]
  },
  {
   "cell_type": "code",
   "execution_count": 33,
   "id": "0f2e85a9-325d-4494-a413-53150082f824",
   "metadata": {},
   "outputs": [
    {
     "ename": "SyntaxError",
     "evalue": "unterminated string literal (detected at line 1) (1962035940.py, line 1)",
     "output_type": "error",
     "traceback": [
      "\u001b[1;36m  Cell \u001b[1;32mIn[33], line 1\u001b[1;36m\u001b[0m\n\u001b[1;33m    'khushboosaleem23@gmail.com\u001b[0m\n\u001b[1;37m    ^\u001b[0m\n\u001b[1;31mSyntaxError\u001b[0m\u001b[1;31m:\u001b[0m unterminated string literal (detected at line 1)\n"
     ]
    }
   ],
   "source": [
    "'khushboosaleem23@gmail.com"
   ]
  },
  {
   "cell_type": "code",
   "execution_count": 35,
   "id": "68733291-5868-4cb5-b54d-b26ecd1bde9b",
   "metadata": {},
   "outputs": [
    {
     "name": "stdout",
     "output_type": "stream",
     "text": [
      "khushboosaleem23@gmail.com\n"
     ]
    }
   ],
   "source": [
    "print('khushboosaleem23@gmail.com')"
   ]
  },
  {
   "cell_type": "code",
   "execution_count": 37,
   "id": "30a8a627-45f7-4bae-937c-e5ee5521c023",
   "metadata": {},
   "outputs": [
    {
     "data": {
      "text/plain": [
       "'khushboosaleem23@gmail.com'"
      ]
     },
     "execution_count": 37,
     "metadata": {},
     "output_type": "execute_result"
    }
   ],
   "source": [
    "'khushboosaleem23@gmail.com'"
   ]
  },
  {
   "cell_type": "code",
   "execution_count": 39,
   "id": "53971866-20d8-421e-a6ad-316a6d9f4e89",
   "metadata": {},
   "outputs": [
    {
     "data": {
      "text/plain": [
       "\"ali's House\""
      ]
     },
     "execution_count": 39,
     "metadata": {},
     "output_type": "execute_result"
    }
   ],
   "source": [
    "# ' '\n",
    "# \" \"\n",
    "\n",
    "\"ali's House\""
   ]
  },
  {
   "cell_type": "code",
   "execution_count": 41,
   "id": "f59fa259-afca-49bb-95b9-86cfee534a03",
   "metadata": {},
   "outputs": [
    {
     "ename": "SyntaxError",
     "evalue": "unterminated string literal (detected at line 1) (2396496701.py, line 1)",
     "output_type": "error",
     "traceback": [
      "\u001b[1;36m  Cell \u001b[1;32mIn[41], line 1\u001b[1;36m\u001b[0m\n\u001b[1;33m    'ali's House'\u001b[0m\n\u001b[1;37m                ^\u001b[0m\n\u001b[1;31mSyntaxError\u001b[0m\u001b[1;31m:\u001b[0m unterminated string literal (detected at line 1)\n"
     ]
    }
   ],
   "source": [
    "'ali's House'"
   ]
  },
  {
   "cell_type": "code",
   "execution_count": 47,
   "id": "b919bf82-8b85-4437-a51a-235bae76367f",
   "metadata": {},
   "outputs": [
    {
     "name": "stdout",
     "output_type": "stream",
     "text": [
      "<class 'int'>\n"
     ]
    }
   ],
   "source": [
    "# int\n",
    "print(type(123))"
   ]
  },
  {
   "cell_type": "code",
   "execution_count": 49,
   "id": "6f9b8e06-bb4d-4cdd-bdd8-0f910df9ddfe",
   "metadata": {},
   "outputs": [
    {
     "data": {
      "text/plain": [
       "125.45"
      ]
     },
     "execution_count": 49,
     "metadata": {},
     "output_type": "execute_result"
    }
   ],
   "source": [
    "# float\n",
    "125.45"
   ]
  },
  {
   "cell_type": "code",
   "execution_count": 51,
   "id": "77f74562-b6aa-47c5-9dd5-ec4d243bca44",
   "metadata": {},
   "outputs": [
    {
     "data": {
      "text/plain": [
       "float"
      ]
     },
     "execution_count": 51,
     "metadata": {},
     "output_type": "execute_result"
    }
   ],
   "source": [
    "type(125.45)"
   ]
  },
  {
   "cell_type": "code",
   "execution_count": 53,
   "id": "cf07099b-6605-4bcc-94f1-1c26d4545954",
   "metadata": {},
   "outputs": [
    {
     "name": "stdout",
     "output_type": "stream",
     "text": [
      "<class 'float'>\n"
     ]
    }
   ],
   "source": [
    "print(type(125.45))"
   ]
  },
  {
   "cell_type": "code",
   "execution_count": null,
   "id": "626b3de5-0285-4cb2-99ca-0b05d050346f",
   "metadata": {},
   "outputs": [],
   "source": []
  }
 ],
 "metadata": {
  "kernelspec": {
   "display_name": "Python 3 (ipykernel)",
   "language": "python",
   "name": "python3"
  },
  "language_info": {
   "codemirror_mode": {
    "name": "ipython",
    "version": 3
   },
   "file_extension": ".py",
   "mimetype": "text/x-python",
   "name": "python",
   "nbconvert_exporter": "python",
   "pygments_lexer": "ipython3",
   "version": "3.12.4"
  }
 },
 "nbformat": 4,
 "nbformat_minor": 5
}
