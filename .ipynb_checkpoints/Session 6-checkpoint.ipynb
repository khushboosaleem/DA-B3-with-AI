{
 "cells": [
  {
   "cell_type": "markdown",
   "id": "907d9ed1-26da-42b4-9018-a3576f3b1ff9",
   "metadata": {},
   "source": [
    "### String"
   ]
  },
  {
   "cell_type": "code",
   "execution_count": 2,
   "id": "1b13a988-8c66-41bd-808e-29d53f32ba41",
   "metadata": {},
   "outputs": [],
   "source": [
    "#concatenation\n",
    "\n",
    "first = 'ali'\n",
    "last = 'khan'\n",
    "name = first + last"
   ]
  },
  {
   "cell_type": "code",
   "execution_count": 3,
   "id": "1792d8c0-e0d9-4dd0-8895-a182826a337a",
   "metadata": {},
   "outputs": [
    {
     "data": {
      "text/plain": [
       "'ali'"
      ]
     },
     "execution_count": 3,
     "metadata": {},
     "output_type": "execute_result"
    }
   ],
   "source": [
    "first"
   ]
  },
  {
   "cell_type": "code",
   "execution_count": 4,
   "id": "56563c63-1855-4464-ac81-a2836cf4ed99",
   "metadata": {},
   "outputs": [
    {
     "data": {
      "text/plain": [
       "'khan'"
      ]
     },
     "execution_count": 4,
     "metadata": {},
     "output_type": "execute_result"
    }
   ],
   "source": [
    "last"
   ]
  },
  {
   "cell_type": "code",
   "execution_count": 5,
   "id": "6ebc3b56-6b03-419d-a6a1-4b273c25309f",
   "metadata": {},
   "outputs": [
    {
     "data": {
      "text/plain": [
       "'alikhan'"
      ]
     },
     "execution_count": 5,
     "metadata": {},
     "output_type": "execute_result"
    }
   ],
   "source": [
    "name"
   ]
  },
  {
   "cell_type": "code",
   "execution_count": 7,
   "id": "e6c95369-b8be-4102-9b06-887ed19748e5",
   "metadata": {},
   "outputs": [],
   "source": [
    "#concatenation\n",
    "\n",
    "first = 'ali'\n",
    "last = 'khan'\n",
    "name1 = first,last"
   ]
  },
  {
   "cell_type": "code",
   "execution_count": 8,
   "id": "767deaae-8399-49ea-b7d6-8bf8c4ba8a21",
   "metadata": {},
   "outputs": [
    {
     "name": "stdout",
     "output_type": "stream",
     "text": [
      "ali khan\n"
     ]
    }
   ],
   "source": [
    "print(name1)"
   ]
  },
  {
   "cell_type": "code",
   "execution_count": 10,
   "id": "e60ded6d-f5bc-4997-a845-d9fa6ce6c5f4",
   "metadata": {},
   "outputs": [
    {
     "data": {
      "text/plain": [
       "('ali', 'khan')"
      ]
     },
     "execution_count": 10,
     "metadata": {},
     "output_type": "execute_result"
    }
   ],
   "source": [
    "#concatenation\n",
    "\n",
    "first = 'ali'\n",
    "last = 'khan'\n",
    "name1 = first, last\n",
    "name1"
   ]
  },
  {
   "cell_type": "code",
   "execution_count": 11,
   "id": "67d85f42-b090-4d53-ad33-a00c80e9d976",
   "metadata": {},
   "outputs": [
    {
     "name": "stdout",
     "output_type": "stream",
     "text": [
      "ali khan\n"
     ]
    }
   ],
   "source": [
    "print(first,last)"
   ]
  },
  {
   "cell_type": "code",
   "execution_count": 13,
   "id": "8f122194-5e4e-4a91-bc95-62c70738e641",
   "metadata": {},
   "outputs": [
    {
     "data": {
      "text/plain": [
       "'alikhan'"
      ]
     },
     "execution_count": 13,
     "metadata": {},
     "output_type": "execute_result"
    }
   ],
   "source": [
    "first = 'ali'\n",
    "last = 'khan'\n",
    "name = first + last\n",
    "name"
   ]
  },
  {
   "cell_type": "code",
   "execution_count": 14,
   "id": "07b1e41b-5069-41f0-9e13-1fcbc726dd74",
   "metadata": {},
   "outputs": [
    {
     "ename": "TypeError",
     "evalue": "can only concatenate str (not \"int\") to str",
     "output_type": "error",
     "traceback": [
      "\u001b[1;31m---------------------------------------------------------------------------\u001b[0m",
      "\u001b[1;31mTypeError\u001b[0m                                 Traceback (most recent call last)",
      "Cell \u001b[1;32mIn[14], line 3\u001b[0m\n\u001b[0;32m      1\u001b[0m a \u001b[38;5;241m=\u001b[39m \u001b[38;5;124m'\u001b[39m\u001b[38;5;124mamjad\u001b[39m\u001b[38;5;124m'\u001b[39m\n\u001b[0;32m      2\u001b[0m b \u001b[38;5;241m=\u001b[39m \u001b[38;5;241m22\u001b[39m\n\u001b[1;32m----> 3\u001b[0m username \u001b[38;5;241m=\u001b[39m a \u001b[38;5;241m+\u001b[39m b\n\u001b[0;32m      4\u001b[0m username\n",
      "\u001b[1;31mTypeError\u001b[0m: can only concatenate str (not \"int\") to str"
     ]
    }
   ],
   "source": [
    "a = 'amjad'\n",
    "b = 22\n",
    "username = a + b\n",
    "username"
   ]
  },
  {
   "cell_type": "code",
   "execution_count": 15,
   "id": "02bbdac8-3353-4c3b-8bdc-58a931bc1fb0",
   "metadata": {},
   "outputs": [
    {
     "data": {
      "text/plain": [
       "'amjad22'"
      ]
     },
     "execution_count": 15,
     "metadata": {},
     "output_type": "execute_result"
    }
   ],
   "source": [
    "a = 'amjad'\n",
    "b = 22\n",
    "username1 = a + str(b)\n",
    "username1"
   ]
  },
  {
   "cell_type": "code",
   "execution_count": 16,
   "id": "2f21464f-855c-42a2-87fa-de156768a454",
   "metadata": {},
   "outputs": [
    {
     "ename": "NameError",
     "evalue": "name 'khan' is not defined",
     "output_type": "error",
     "traceback": [
      "\u001b[1;31m---------------------------------------------------------------------------\u001b[0m",
      "\u001b[1;31mNameError\u001b[0m                                 Traceback (most recent call last)",
      "Cell \u001b[1;32mIn[16], line 1\u001b[0m\n\u001b[1;32m----> 1\u001b[0m a \u001b[38;5;241m=\u001b[39m khan\n\u001b[0;32m      2\u001b[0m b \u001b[38;5;241m=\u001b[39m \u001b[38;5;241m21\u001b[39m\n\u001b[0;32m      3\u001b[0m username1 \u001b[38;5;241m=\u001b[39m a \u001b[38;5;241m+\u001b[39m \u001b[38;5;28mstr\u001b[39m(b)\n",
      "\u001b[1;31mNameError\u001b[0m: name 'khan' is not defined"
     ]
    }
   ],
   "source": [
    "a = khan\n",
    "b = 21\n",
    "username1 = a + str(b)\n",
    "username1"
   ]
  },
  {
   "cell_type": "code",
   "execution_count": 17,
   "id": "6db19d44-2b8e-4cee-9bcc-19958397bad5",
   "metadata": {},
   "outputs": [
    {
     "data": {
      "text/plain": [
       "'khan21'"
      ]
     },
     "execution_count": 17,
     "metadata": {},
     "output_type": "execute_result"
    }
   ],
   "source": [
    "a = 'khan'\n",
    "b = 21\n",
    "username3 = a + str(b)\n",
    "username3"
   ]
  },
  {
   "cell_type": "code",
   "execution_count": null,
   "id": "be11ee66-0735-4efb-9145-6f19c080fd98",
   "metadata": {},
   "outputs": [],
   "source": [
    "#print email\n",
    "\n"
   ]
  },
  {
   "cell_type": "code",
   "execution_count": null,
   "id": "a7c24de8-4e24-4bcb-a32b-23367d9c328d",
   "metadata": {},
   "outputs": [],
   "source": [
    "#print URL\n",
    "#practice\n",
    "\n"
   ]
  },
  {
   "cell_type": "code",
   "execution_count": 18,
   "id": "5af6fe59-d17f-4640-b7f0-70f48b9e4db5",
   "metadata": {},
   "outputs": [
    {
     "data": {
      "text/plain": [
       "'HiHiHi'"
      ]
     },
     "execution_count": 18,
     "metadata": {},
     "output_type": "execute_result"
    }
   ],
   "source": [
    "#Repetition\n",
    "\n",
    "greeting  = 'Hi' * 3\n",
    "greeting"
   ]
  },
  {
   "cell_type": "code",
   "execution_count": 21,
   "id": "72d14cee-d901-4ab2-80df-1a2258d12710",
   "metadata": {},
   "outputs": [
    {
     "ename": "NameError",
     "evalue": "name 'Welcome' is not defined",
     "output_type": "error",
     "traceback": [
      "\u001b[1;31m---------------------------------------------------------------------------\u001b[0m",
      "\u001b[1;31mNameError\u001b[0m                                 Traceback (most recent call last)",
      "Cell \u001b[1;32mIn[21], line 3\u001b[0m\n\u001b[0;32m      1\u001b[0m \u001b[38;5;66;03m#Repetition\u001b[39;00m\n\u001b[1;32m----> 3\u001b[0m greeting1  \u001b[38;5;241m=\u001b[39m Welcome \u001b[38;5;241m*\u001b[39m \u001b[38;5;241m3\u001b[39m\n\u001b[0;32m      4\u001b[0m greeting1\n",
      "\u001b[1;31mNameError\u001b[0m: name 'Welcome' is not defined"
     ]
    }
   ],
   "source": [
    "#Repetition\n",
    "\n",
    "greeting1  = Welcome * 3\n",
    "greeting1"
   ]
  },
  {
   "cell_type": "code",
   "execution_count": 6,
   "id": "2f814d58-4b8c-4d10-a2c7-c99fd8ca33de",
   "metadata": {},
   "outputs": [
    {
     "data": {
      "text/plain": [
       "'WelcomeWelcomeWelcome'"
      ]
     },
     "execution_count": 6,
     "metadata": {},
     "output_type": "execute_result"
    }
   ],
   "source": [
    "greeting3  = 'Welcome' * 3\n",
    "greeting3"
   ]
  },
  {
   "cell_type": "code",
   "execution_count": 2,
   "id": "fe3c380c-390e-4f40-9607-1f5255a04cac",
   "metadata": {},
   "outputs": [
    {
     "data": {
      "text/plain": [
       "'WelcomeWelcomeWelcome'"
      ]
     },
     "execution_count": 2,
     "metadata": {},
     "output_type": "execute_result"
    }
   ],
   "source": [
    "greeting4  = 'Welcome' * 3\n",
    "greeting4"
   ]
  },
  {
   "cell_type": "code",
   "execution_count": 9,
   "id": "7c237b4c-cc2b-431b-a5bb-7239ea2e1b8c",
   "metadata": {},
   "outputs": [
    {
     "name": "stdout",
     "output_type": "stream",
     "text": [
      "Welcome Welcome Welcome \n"
     ]
    }
   ],
   "source": [
    "greeting5  = 'Welcome '\n",
    "print(greeting5 * 3)"
   ]
  },
  {
   "cell_type": "code",
   "execution_count": 7,
   "id": "597c8424-2ea7-4c69-9ca0-1453742f3b0e",
   "metadata": {},
   "outputs": [
    {
     "name": "stdout",
     "output_type": "stream",
     "text": [
      "WelcomeWelcomeWelcomeWelcomeWelcomeWelcome\n"
     ]
    }
   ],
   "source": [
    "print(greeting3 * 2)"
   ]
  },
  {
   "cell_type": "code",
   "execution_count": 8,
   "id": "a7cb7e48-f43d-4591-a59f-b93a35eee2ad",
   "metadata": {},
   "outputs": [
    {
     "data": {
      "text/plain": [
       "'Welcome Welcome Welcome '"
      ]
     },
     "execution_count": 8,
     "metadata": {},
     "output_type": "execute_result"
    }
   ],
   "source": [
    "greeting4  = 'Welcome ' * 3\n",
    "greeting4"
   ]
  },
  {
   "cell_type": "code",
   "execution_count": null,
   "id": "8ccac9a5-3c8c-4fd6-9d02-3e2f83f6679e",
   "metadata": {},
   "outputs": [],
   "source": [
    "#print pattern\n",
    "#practice\n"
   ]
  },
  {
   "cell_type": "code",
   "execution_count": 27,
   "id": "a8a154e5-ee64-44fb-9582-5c5d5364ce42",
   "metadata": {},
   "outputs": [
    {
     "ename": "TypeError",
     "evalue": "object of type 'int' has no len()",
     "output_type": "error",
     "traceback": [
      "\u001b[1;31m---------------------------------------------------------------------------\u001b[0m",
      "\u001b[1;31mTypeError\u001b[0m                                 Traceback (most recent call last)",
      "Cell \u001b[1;32mIn[27], line 4\u001b[0m\n\u001b[0;32m      1\u001b[0m \u001b[38;5;66;03m#length\u001b[39;00m\n\u001b[0;32m      3\u001b[0m xyz \u001b[38;5;241m=\u001b[39m \u001b[38;5;241m121222\u001b[39m\n\u001b[1;32m----> 4\u001b[0m \u001b[38;5;28mlen\u001b[39m(xyz)\n",
      "\u001b[1;31mTypeError\u001b[0m: object of type 'int' has no len()"
     ]
    }
   ],
   "source": [
    "#length\n",
    "\n",
    "xyz = 121222\n",
    "len(xyz)"
   ]
  },
  {
   "cell_type": "code",
   "execution_count": 28,
   "id": "4b3f4239-e159-4cdb-903a-14c265d79b3a",
   "metadata": {},
   "outputs": [
    {
     "data": {
      "text/plain": [
       "6"
      ]
     },
     "execution_count": 28,
     "metadata": {},
     "output_type": "execute_result"
    }
   ],
   "source": [
    "#length\n",
    "\n",
    "pqr = '121222'\n",
    "len(pqr)"
   ]
  },
  {
   "cell_type": "code",
   "execution_count": 29,
   "id": "535a5646-a1d1-4c2b-8706-adf03acc31c4",
   "metadata": {},
   "outputs": [
    {
     "ename": "TypeError",
     "evalue": "object of type 'int' has no len()",
     "output_type": "error",
     "traceback": [
      "\u001b[1;31m---------------------------------------------------------------------------\u001b[0m",
      "\u001b[1;31mTypeError\u001b[0m                                 Traceback (most recent call last)",
      "Cell \u001b[1;32mIn[29], line 1\u001b[0m\n\u001b[1;32m----> 1\u001b[0m \u001b[38;5;28mlen\u001b[39m(\u001b[38;5;241m111222\u001b[39m)\n",
      "\u001b[1;31mTypeError\u001b[0m: object of type 'int' has no len()"
     ]
    }
   ],
   "source": [
    "len(111222)"
   ]
  },
  {
   "cell_type": "code",
   "execution_count": 30,
   "id": "e0865c6c-6076-4510-bdd6-66cb9a6d3de1",
   "metadata": {},
   "outputs": [
    {
     "data": {
      "text/plain": [
       "6"
      ]
     },
     "execution_count": 30,
     "metadata": {},
     "output_type": "execute_result"
    }
   ],
   "source": [
    "len('111222')"
   ]
  },
  {
   "cell_type": "code",
   "execution_count": 31,
   "id": "6b7d5304-0b89-43fe-b19d-7e495a5d2dc5",
   "metadata": {},
   "outputs": [
    {
     "data": {
      "text/plain": [
       "4"
      ]
     },
     "execution_count": 31,
     "metadata": {},
     "output_type": "execute_result"
    }
   ],
   "source": [
    "x = '22.2'\n",
    "len(x)"
   ]
  },
  {
   "cell_type": "code",
   "execution_count": null,
   "id": "1132d701-8e80-4289-a5ec-50abef497665",
   "metadata": {},
   "outputs": [],
   "source": [
    "#print length of CNIC\n",
    "#practice\n"
   ]
  },
  {
   "cell_type": "code",
   "execution_count": null,
   "id": "9eee209d-9781-4030-81bb-f10335feec25",
   "metadata": {},
   "outputs": [],
   "source": [
    "#print length of Phone #\n",
    "#practice\n"
   ]
  },
  {
   "cell_type": "code",
   "execution_count": 32,
   "id": "7127a018-4247-4763-9823-afe075e712fd",
   "metadata": {},
   "outputs": [
    {
     "data": {
      "text/plain": [
       "'i'"
      ]
     },
     "execution_count": 32,
     "metadata": {},
     "output_type": "execute_result"
    }
   ],
   "source": [
    "#indexing\n",
    "car = 'ferrari'\n",
    "car[6]\n",
    "\n"
   ]
  },
  {
   "cell_type": "code",
   "execution_count": 33,
   "id": "8ad34f32-1e8f-4e25-be97-60c6d0f8136a",
   "metadata": {},
   "outputs": [
    {
     "data": {
      "text/plain": [
       "'3'"
      ]
     },
     "execution_count": 33,
     "metadata": {},
     "output_type": "execute_result"
    }
   ],
   "source": [
    "#indexing\n",
    "car = 'ferrari 34'\n",
    "car[8]\n"
   ]
  },
  {
   "cell_type": "code",
   "execution_count": 34,
   "id": "b990d9bc-df62-415a-b2a0-6fdbf39168b5",
   "metadata": {},
   "outputs": [
    {
     "ename": "IndexError",
     "evalue": "string index out of range",
     "output_type": "error",
     "traceback": [
      "\u001b[1;31m---------------------------------------------------------------------------\u001b[0m",
      "\u001b[1;31mIndexError\u001b[0m                                Traceback (most recent call last)",
      "Cell \u001b[1;32mIn[34], line 2\u001b[0m\n\u001b[0;32m      1\u001b[0m car \u001b[38;5;241m=\u001b[39m \u001b[38;5;124m'\u001b[39m\u001b[38;5;124mferrari 34\u001b[39m\u001b[38;5;124m'\u001b[39m\n\u001b[1;32m----> 2\u001b[0m car[\u001b[38;5;241m66\u001b[39m]\n",
      "\u001b[1;31mIndexError\u001b[0m: string index out of range"
     ]
    }
   ],
   "source": [
    "car = 'ferrari 34'\n",
    "car[66]"
   ]
  },
  {
   "cell_type": "code",
   "execution_count": 35,
   "id": "f8e96f3d-acc9-4f52-8a0c-95c9b0cbf965",
   "metadata": {},
   "outputs": [
    {
     "data": {
      "text/plain": [
       "' '"
      ]
     },
     "execution_count": 35,
     "metadata": {},
     "output_type": "execute_result"
    }
   ],
   "source": [
    "truck = '   '\n",
    "truck[1]"
   ]
  },
  {
   "cell_type": "code",
   "execution_count": 36,
   "id": "5408f5b0-ca04-4f2f-9dc1-4f2815558b14",
   "metadata": {},
   "outputs": [
    {
     "ename": "TypeError",
     "evalue": "'str' object does not support item assignment",
     "output_type": "error",
     "traceback": [
      "\u001b[1;31m---------------------------------------------------------------------------\u001b[0m",
      "\u001b[1;31mTypeError\u001b[0m                                 Traceback (most recent call last)",
      "Cell \u001b[1;32mIn[36], line 2\u001b[0m\n\u001b[0;32m      1\u001b[0m city \u001b[38;5;241m=\u001b[39m \u001b[38;5;124m'\u001b[39m\u001b[38;5;124mkarachi\u001b[39m\u001b[38;5;124m'\u001b[39m\n\u001b[1;32m----> 2\u001b[0m city[\u001b[38;5;241m2\u001b[39m]\u001b[38;5;241m=\u001b[39m\u001b[38;5;124m'\u001b[39m\u001b[38;5;124mR\u001b[39m\u001b[38;5;124m'\u001b[39m\n",
      "\u001b[1;31mTypeError\u001b[0m: 'str' object does not support item assignment"
     ]
    }
   ],
   "source": [
    "city = 'karachi'\n",
    "city[2]='R'\n"
   ]
  },
  {
   "cell_type": "code",
   "execution_count": 37,
   "id": "f7f6250a-a9f4-454f-93a6-1d078bc596f5",
   "metadata": {},
   "outputs": [
    {
     "data": {
      "text/plain": [
       "['__add__',\n",
       " '__class__',\n",
       " '__contains__',\n",
       " '__delattr__',\n",
       " '__dir__',\n",
       " '__doc__',\n",
       " '__eq__',\n",
       " '__format__',\n",
       " '__ge__',\n",
       " '__getattribute__',\n",
       " '__getitem__',\n",
       " '__getnewargs__',\n",
       " '__getstate__',\n",
       " '__gt__',\n",
       " '__hash__',\n",
       " '__init__',\n",
       " '__init_subclass__',\n",
       " '__iter__',\n",
       " '__le__',\n",
       " '__len__',\n",
       " '__lt__',\n",
       " '__mod__',\n",
       " '__mul__',\n",
       " '__ne__',\n",
       " '__new__',\n",
       " '__reduce__',\n",
       " '__reduce_ex__',\n",
       " '__repr__',\n",
       " '__rmod__',\n",
       " '__rmul__',\n",
       " '__setattr__',\n",
       " '__sizeof__',\n",
       " '__str__',\n",
       " '__subclasshook__',\n",
       " 'capitalize',\n",
       " 'casefold',\n",
       " 'center',\n",
       " 'count',\n",
       " 'encode',\n",
       " 'endswith',\n",
       " 'expandtabs',\n",
       " 'find',\n",
       " 'format',\n",
       " 'format_map',\n",
       " 'index',\n",
       " 'isalnum',\n",
       " 'isalpha',\n",
       " 'isascii',\n",
       " 'isdecimal',\n",
       " 'isdigit',\n",
       " 'isidentifier',\n",
       " 'islower',\n",
       " 'isnumeric',\n",
       " 'isprintable',\n",
       " 'isspace',\n",
       " 'istitle',\n",
       " 'isupper',\n",
       " 'join',\n",
       " 'ljust',\n",
       " 'lower',\n",
       " 'lstrip',\n",
       " 'maketrans',\n",
       " 'partition',\n",
       " 'removeprefix',\n",
       " 'removesuffix',\n",
       " 'replace',\n",
       " 'rfind',\n",
       " 'rindex',\n",
       " 'rjust',\n",
       " 'rpartition',\n",
       " 'rsplit',\n",
       " 'rstrip',\n",
       " 'split',\n",
       " 'splitlines',\n",
       " 'startswith',\n",
       " 'strip',\n",
       " 'swapcase',\n",
       " 'title',\n",
       " 'translate',\n",
       " 'upper',\n",
       " 'zfill']"
      ]
     },
     "execution_count": 37,
     "metadata": {},
     "output_type": "execute_result"
    }
   ],
   "source": [
    "dir(str)"
   ]
  },
  {
   "cell_type": "code",
   "execution_count": 39,
   "id": "9c65996f-4ef0-418b-b69f-17b2d0232887",
   "metadata": {},
   "outputs": [
    {
     "data": {
      "text/plain": [
       "'kaRRRRachi'"
      ]
     },
     "execution_count": 39,
     "metadata": {},
     "output_type": "execute_result"
    }
   ],
   "source": [
    "city = 'karrrrachi'\n",
    "city.replace('r','R')\n"
   ]
  },
  {
   "cell_type": "code",
   "execution_count": 41,
   "id": "17e3aac6-cbcd-4c6d-b110-4f643815519f",
   "metadata": {},
   "outputs": [
    {
     "data": {
      "text/plain": [
       "'country'"
      ]
     },
     "execution_count": 41,
     "metadata": {},
     "output_type": "execute_result"
    }
   ],
   "source": [
    "#slicing\n",
    "\n",
    "country = 'Germany is the country of Europe'\n",
    "country[15:22]\n"
   ]
  },
  {
   "cell_type": "code",
   "execution_count": 42,
   "id": "7ee9e4d5-64af-48e7-a410-860d6b7a98a4",
   "metadata": {},
   "outputs": [
    {
     "data": {
      "text/plain": [
       "'Germany is the country'"
      ]
     },
     "execution_count": 42,
     "metadata": {},
     "output_type": "execute_result"
    }
   ],
   "source": [
    "country = 'Germany is the country of Europe'\n",
    "country[:22]\n"
   ]
  },
  {
   "cell_type": "code",
   "execution_count": 43,
   "id": "eed971a9-6f42-45fb-b62b-ba8e23e1bac0",
   "metadata": {},
   "outputs": [
    {
     "data": {
      "text/plain": [
       "'rnit uroEo'"
      ]
     },
     "execution_count": 43,
     "metadata": {},
     "output_type": "execute_result"
    }
   ],
   "source": [
    "#stepping\n",
    "country1 = 'Germany is the country of Europe'\n",
    "country1[2::3]"
   ]
  },
  {
   "cell_type": "code",
   "execution_count": 44,
   "id": "1d0246ff-fe6b-4922-a27d-f9f41c51e417",
   "metadata": {},
   "outputs": [
    {
     "data": {
      "text/plain": [
       "['__add__',\n",
       " '__class__',\n",
       " '__contains__',\n",
       " '__delattr__',\n",
       " '__dir__',\n",
       " '__doc__',\n",
       " '__eq__',\n",
       " '__format__',\n",
       " '__ge__',\n",
       " '__getattribute__',\n",
       " '__getitem__',\n",
       " '__getnewargs__',\n",
       " '__getstate__',\n",
       " '__gt__',\n",
       " '__hash__',\n",
       " '__init__',\n",
       " '__init_subclass__',\n",
       " '__iter__',\n",
       " '__le__',\n",
       " '__len__',\n",
       " '__lt__',\n",
       " '__mod__',\n",
       " '__mul__',\n",
       " '__ne__',\n",
       " '__new__',\n",
       " '__reduce__',\n",
       " '__reduce_ex__',\n",
       " '__repr__',\n",
       " '__rmod__',\n",
       " '__rmul__',\n",
       " '__setattr__',\n",
       " '__sizeof__',\n",
       " '__str__',\n",
       " '__subclasshook__',\n",
       " 'capitalize',\n",
       " 'casefold',\n",
       " 'center',\n",
       " 'count',\n",
       " 'encode',\n",
       " 'endswith',\n",
       " 'expandtabs',\n",
       " 'find',\n",
       " 'format',\n",
       " 'format_map',\n",
       " 'index',\n",
       " 'isalnum',\n",
       " 'isalpha',\n",
       " 'isascii',\n",
       " 'isdecimal',\n",
       " 'isdigit',\n",
       " 'isidentifier',\n",
       " 'islower',\n",
       " 'isnumeric',\n",
       " 'isprintable',\n",
       " 'isspace',\n",
       " 'istitle',\n",
       " 'isupper',\n",
       " 'join',\n",
       " 'ljust',\n",
       " 'lower',\n",
       " 'lstrip',\n",
       " 'maketrans',\n",
       " 'partition',\n",
       " 'removeprefix',\n",
       " 'removesuffix',\n",
       " 'replace',\n",
       " 'rfind',\n",
       " 'rindex',\n",
       " 'rjust',\n",
       " 'rpartition',\n",
       " 'rsplit',\n",
       " 'rstrip',\n",
       " 'split',\n",
       " 'splitlines',\n",
       " 'startswith',\n",
       " 'strip',\n",
       " 'swapcase',\n",
       " 'title',\n",
       " 'translate',\n",
       " 'upper',\n",
       " 'zfill']"
      ]
     },
     "execution_count": 44,
     "metadata": {},
     "output_type": "execute_result"
    }
   ],
   "source": [
    "dir(' ')"
   ]
  },
  {
   "cell_type": "code",
   "execution_count": 45,
   "id": "996c7e91-d8a8-4e1d-bc4d-6c7be113e93a",
   "metadata": {},
   "outputs": [
    {
     "data": {
      "text/plain": [
       "['__add__',\n",
       " '__class__',\n",
       " '__contains__',\n",
       " '__delattr__',\n",
       " '__dir__',\n",
       " '__doc__',\n",
       " '__eq__',\n",
       " '__format__',\n",
       " '__ge__',\n",
       " '__getattribute__',\n",
       " '__getitem__',\n",
       " '__getnewargs__',\n",
       " '__getstate__',\n",
       " '__gt__',\n",
       " '__hash__',\n",
       " '__init__',\n",
       " '__init_subclass__',\n",
       " '__iter__',\n",
       " '__le__',\n",
       " '__len__',\n",
       " '__lt__',\n",
       " '__mod__',\n",
       " '__mul__',\n",
       " '__ne__',\n",
       " '__new__',\n",
       " '__reduce__',\n",
       " '__reduce_ex__',\n",
       " '__repr__',\n",
       " '__rmod__',\n",
       " '__rmul__',\n",
       " '__setattr__',\n",
       " '__sizeof__',\n",
       " '__str__',\n",
       " '__subclasshook__',\n",
       " 'capitalize',\n",
       " 'casefold',\n",
       " 'center',\n",
       " 'count',\n",
       " 'encode',\n",
       " 'endswith',\n",
       " 'expandtabs',\n",
       " 'find',\n",
       " 'format',\n",
       " 'format_map',\n",
       " 'index',\n",
       " 'isalnum',\n",
       " 'isalpha',\n",
       " 'isascii',\n",
       " 'isdecimal',\n",
       " 'isdigit',\n",
       " 'isidentifier',\n",
       " 'islower',\n",
       " 'isnumeric',\n",
       " 'isprintable',\n",
       " 'isspace',\n",
       " 'istitle',\n",
       " 'isupper',\n",
       " 'join',\n",
       " 'ljust',\n",
       " 'lower',\n",
       " 'lstrip',\n",
       " 'maketrans',\n",
       " 'partition',\n",
       " 'removeprefix',\n",
       " 'removesuffix',\n",
       " 'replace',\n",
       " 'rfind',\n",
       " 'rindex',\n",
       " 'rjust',\n",
       " 'rpartition',\n",
       " 'rsplit',\n",
       " 'rstrip',\n",
       " 'split',\n",
       " 'splitlines',\n",
       " 'startswith',\n",
       " 'strip',\n",
       " 'swapcase',\n",
       " 'title',\n",
       " 'translate',\n",
       " 'upper',\n",
       " 'zfill']"
      ]
     },
     "execution_count": 45,
     "metadata": {},
     "output_type": "execute_result"
    }
   ],
   "source": [
    "dir(\"\")"
   ]
  },
  {
   "cell_type": "markdown",
   "id": "15986cb9-7da6-49a3-ab79-14edb27d7bc3",
   "metadata": {},
   "source": [
    "### Common Methods"
   ]
  },
  {
   "cell_type": "code",
   "execution_count": null,
   "id": "e9b3eebb-8a1b-426b-a743-de1d9b090210",
   "metadata": {},
   "outputs": [],
   "source": [
    "#Case Methods\n",
    "\n",
    "#upper\n",
    "#lower\n",
    "#swapcase\n",
    "#title\n",
    "#capitalize"
   ]
  },
  {
   "cell_type": "code",
   "execution_count": 46,
   "id": "9f05b579-8456-4cf9-a06b-f914ca1f5835",
   "metadata": {},
   "outputs": [
    {
     "ename": "NameError",
     "evalue": "name 'junaid' is not defined",
     "output_type": "error",
     "traceback": [
      "\u001b[1;31m---------------------------------------------------------------------------\u001b[0m",
      "\u001b[1;31mNameError\u001b[0m                                 Traceback (most recent call last)",
      "Cell \u001b[1;32mIn[46], line 2\u001b[0m\n\u001b[0;32m      1\u001b[0m student \u001b[38;5;241m=\u001b[39m \u001b[38;5;124m'\u001b[39m\u001b[38;5;124mjunaid\u001b[39m\u001b[38;5;124m'\u001b[39m\n\u001b[1;32m----> 2\u001b[0m junaid\u001b[38;5;241m.\u001b[39mupper()\n",
      "\u001b[1;31mNameError\u001b[0m: name 'junaid' is not defined"
     ]
    }
   ],
   "source": [
    "student = 'junaid'\n",
    "junaid.upper()"
   ]
  },
  {
   "cell_type": "code",
   "execution_count": 47,
   "id": "087c0726-e9bb-4457-b3c5-aa746742f345",
   "metadata": {},
   "outputs": [
    {
     "data": {
      "text/plain": [
       "'JUNAID'"
      ]
     },
     "execution_count": 47,
     "metadata": {},
     "output_type": "execute_result"
    }
   ],
   "source": [
    "student = 'junaid'\n",
    "student.upper()"
   ]
  },
  {
   "cell_type": "code",
   "execution_count": 49,
   "id": "62249716-a86b-4861-9d27-f65f74118f32",
   "metadata": {},
   "outputs": [
    {
     "data": {
      "text/plain": [
       "'JUNAID111'"
      ]
     },
     "execution_count": 49,
     "metadata": {},
     "output_type": "execute_result"
    }
   ],
   "source": [
    "student = 'junaid111'\n",
    "student.upper()"
   ]
  },
  {
   "cell_type": "code",
   "execution_count": 50,
   "id": "9f7f20ee-de4c-4dd2-8d0b-8dab1e4d58db",
   "metadata": {},
   "outputs": [
    {
     "ename": "AttributeError",
     "evalue": "'str' object has no attribute 'LOWER'",
     "output_type": "error",
     "traceback": [
      "\u001b[1;31m---------------------------------------------------------------------------\u001b[0m",
      "\u001b[1;31mAttributeError\u001b[0m                            Traceback (most recent call last)",
      "Cell \u001b[1;32mIn[50], line 2\u001b[0m\n\u001b[0;32m      1\u001b[0m student \u001b[38;5;241m=\u001b[39m \u001b[38;5;124m'\u001b[39m\u001b[38;5;124mKAMAL\u001b[39m\u001b[38;5;124m'\u001b[39m\n\u001b[1;32m----> 2\u001b[0m student\u001b[38;5;241m.\u001b[39mLOWER()\n",
      "\u001b[1;31mAttributeError\u001b[0m: 'str' object has no attribute 'LOWER'"
     ]
    }
   ],
   "source": [
    "student = 'KAMAL'\n",
    "student.LOWER()"
   ]
  },
  {
   "cell_type": "code",
   "execution_count": 51,
   "id": "b05ff545-0e70-46fb-b812-006caaf18a8b",
   "metadata": {},
   "outputs": [
    {
     "data": {
      "text/plain": [
       "'kamal'"
      ]
     },
     "execution_count": 51,
     "metadata": {},
     "output_type": "execute_result"
    }
   ],
   "source": [
    "student = 'KAMAL'\n",
    "student.lower()"
   ]
  },
  {
   "cell_type": "code",
   "execution_count": 52,
   "id": "eba9d89a-ce81-48b4-95f9-a03a2f290b17",
   "metadata": {},
   "outputs": [
    {
     "data": {
      "text/plain": [
       "'We are learning python'"
      ]
     },
     "execution_count": 52,
     "metadata": {},
     "output_type": "execute_result"
    }
   ],
   "source": [
    "topic = 'we are learning python'\n",
    "topic.capitalize()"
   ]
  },
  {
   "cell_type": "code",
   "execution_count": 53,
   "id": "37336734-4d78-42c9-83fc-9e817482ce6f",
   "metadata": {},
   "outputs": [
    {
     "data": {
      "text/plain": [
       "'We Are Learning Python'"
      ]
     },
     "execution_count": 53,
     "metadata": {},
     "output_type": "execute_result"
    }
   ],
   "source": [
    "topic = 'we are learning python'\n",
    "topic.title()"
   ]
  },
  {
   "cell_type": "code",
   "execution_count": 54,
   "id": "fa128eb5-1f06-418f-bebb-d255fcdecda1",
   "metadata": {},
   "outputs": [
    {
     "data": {
      "text/plain": [
       "'WE ARE LeARnING pyTHON'"
      ]
     },
     "execution_count": 54,
     "metadata": {},
     "output_type": "execute_result"
    }
   ],
   "source": [
    "topic1 = 'we are lEarNing PYthon'\n",
    "topic1.swapcase()"
   ]
  },
  {
   "cell_type": "code",
   "execution_count": 55,
   "id": "fcf0b54d-f58c-4c07-8932-771cb772ffc7",
   "metadata": {},
   "outputs": [
    {
     "ename": "SyntaxError",
     "evalue": "invalid syntax (2964967176.py, line 1)",
     "output_type": "error",
     "traceback": [
      "\u001b[1;36m  Cell \u001b[1;32mIn[55], line 1\u001b[1;36m\u001b[0m\n\u001b[1;33m    topic1 = we are lEarNing PYthon\u001b[0m\n\u001b[1;37m                ^\u001b[0m\n\u001b[1;31mSyntaxError\u001b[0m\u001b[1;31m:\u001b[0m invalid syntax\n"
     ]
    }
   ],
   "source": [
    "topic1 = we are lEarNing PYthon\n",
    "topic1.swapcase()"
   ]
  },
  {
   "cell_type": "code",
   "execution_count": null,
   "id": "a6251602-d659-40b6-b065-c5b259c75b9a",
   "metadata": {},
   "outputs": [],
   "source": [
    "#practice\n",
    "\n",
    "# Convert the sentence \"HELLO, HOW ARE YOU?\" to all lowercase.\n",
    "# Convert the word \"python\" to all uppercase.\n",
    "# Capitalize just the first letter of the string \"welcome to python\".\n",
    "# Format the string \"learning python is fun\" like a book title.\n",
    "# Flip the case of each letter in \"PyTHon Is AwEsoME\".\n"
   ]
  },
  {
   "cell_type": "code",
   "execution_count": null,
   "id": "066bbfa9-6378-47b9-82d8-60d948b6a4aa",
   "metadata": {},
   "outputs": [],
   "source": [
    "#trim and cleaning methods\n",
    "\n",
    "#strip\n",
    "#rstrip\n",
    "#lstrip\n",
    "#removesuffix\n",
    "#removeprefix\n",
    "#replace"
   ]
  },
  {
   "cell_type": "code",
   "execution_count": 56,
   "id": "f2da2299-03c1-433c-b5ad-67507ebf3285",
   "metadata": {},
   "outputs": [
    {
     "data": {
      "text/plain": [
       "'my name is khan'"
      ]
     },
     "execution_count": 56,
     "metadata": {},
     "output_type": "execute_result"
    }
   ],
   "source": [
    "text4 = '  my name is khan  '\n",
    "text4.strip()"
   ]
  },
  {
   "cell_type": "code",
   "execution_count": 58,
   "id": "fefa8814-3212-49e3-9e07-c4ccabb52d7d",
   "metadata": {},
   "outputs": [
    {
     "data": {
      "text/plain": [
       "'my name is khan'"
      ]
     },
     "execution_count": 58,
     "metadata": {},
     "output_type": "execute_result"
    }
   ],
   "source": [
    "text5 = 'my name is khan'\n",
    "text5.strip()"
   ]
  },
  {
   "cell_type": "code",
   "execution_count": 60,
   "id": "9a6567ee-cb29-4ba1-b6a5-97bfb33127d6",
   "metadata": {},
   "outputs": [
    {
     "data": {
      "text/plain": [
       "'my name is khan'"
      ]
     },
     "execution_count": 60,
     "metadata": {},
     "output_type": "execute_result"
    }
   ],
   "source": [
    "text6 = 'my name is khan    '\n",
    "text6.rstrip()"
   ]
  },
  {
   "cell_type": "code",
   "execution_count": 65,
   "id": "3ef4a497-24dd-479f-b7f8-33cbeb7b6200",
   "metadata": {},
   "outputs": [
    {
     "data": {
      "text/plain": [
       "'ing java'"
      ]
     },
     "execution_count": 65,
     "metadata": {},
     "output_type": "execute_result"
    }
   ],
   "source": [
    "suff = 'we are learning java'\n",
    "suff.removeprefix('we are learn')"
   ]
  },
  {
   "cell_type": "code",
   "execution_count": 67,
   "id": "07d3571e-d9c1-457b-81e3-55ddea95f4f9",
   "metadata": {},
   "outputs": [
    {
     "data": {
      "text/plain": [
       "'we are learning '"
      ]
     },
     "execution_count": 67,
     "metadata": {},
     "output_type": "execute_result"
    }
   ],
   "source": [
    "suff = 'we are learning java'\n",
    "suff.removesuffix('java')"
   ]
  },
  {
   "cell_type": "code",
   "execution_count": 68,
   "id": "00f91e18-8558-4ae3-9ab0-153d10750e96",
   "metadata": {},
   "outputs": [
    {
     "data": {
      "text/plain": [
       "'we are '"
      ]
     },
     "execution_count": 68,
     "metadata": {},
     "output_type": "execute_result"
    }
   ],
   "source": [
    "suff = 'we are learning java'\n",
    "suff.removesuffix('learning java')"
   ]
  },
  {
   "cell_type": "code",
   "execution_count": null,
   "id": "6cdcb2c9-08ca-4bac-88ee-4678a2697cf5",
   "metadata": {},
   "outputs": [],
   "source": [
    "# #practice\n",
    "\n",
    "# Remove the extra spaces from both ends of the string \" Hello World \".\n",
    "# Remove spaces only from the left side of \" Start now\".\n",
    "# Remove trailing spaces from \"Finish line \".\n",
    "# Replace \"apple\" with \"banana\" in the sentence \"I have an apple\".\n",
    "# Remove the .jpg suffix from \"picture.jpg\".\n",
    "# Remove the \"Mr. \" prefix from \"Mr. John\"."
   ]
  },
  {
   "cell_type": "code",
   "execution_count": null,
   "id": "9ceaffc3-7fbb-4223-ae41-35a2b5fbaa97",
   "metadata": {},
   "outputs": [],
   "source": [
    "#search method\n",
    "\n",
    "#count\n",
    "#find"
   ]
  },
  {
   "cell_type": "code",
   "execution_count": 69,
   "id": "ff89ed01-3223-4f52-850a-18848a4aa6d1",
   "metadata": {},
   "outputs": [
    {
     "data": {
      "text/plain": [
       "2"
      ]
     },
     "execution_count": 69,
     "metadata": {},
     "output_type": "execute_result"
    }
   ],
   "source": [
    "fruit = 'apple coconut'\n",
    "fruit.count('c')"
   ]
  },
  {
   "cell_type": "code",
   "execution_count": 70,
   "id": "8b420752-8c6c-449f-ae95-2c64409a5352",
   "metadata": {},
   "outputs": [
    {
     "data": {
      "text/plain": [
       "2"
      ]
     },
     "execution_count": 70,
     "metadata": {},
     "output_type": "execute_result"
    }
   ],
   "source": [
    "fruit1 = 'apple coconut apple'\n",
    "fruit1.count('apple')"
   ]
  },
  {
   "cell_type": "code",
   "execution_count": 71,
   "id": "87febd9a-acd2-49b9-8643-981bfb525862",
   "metadata": {},
   "outputs": [
    {
     "data": {
      "text/plain": [
       "5"
      ]
     },
     "execution_count": 71,
     "metadata": {},
     "output_type": "execute_result"
    }
   ],
   "source": [
    "drink = 'juice-milkshake'\n",
    "drink.find('-')"
   ]
  },
  {
   "cell_type": "code",
   "execution_count": 75,
   "id": "363bb386-2ffa-4666-ab25-bbf5f4c72912",
   "metadata": {},
   "outputs": [
    {
     "data": {
      "text/plain": [
       "0"
      ]
     },
     "execution_count": 75,
     "metadata": {},
     "output_type": "execute_result"
    }
   ],
   "source": [
    "drinkz = 'juice-milkshake'\n",
    "drinkz.find('juice')"
   ]
  },
  {
   "cell_type": "code",
   "execution_count": 76,
   "id": "a5c3c6c4-edf8-4369-a6f3-2c1bd9f27394",
   "metadata": {},
   "outputs": [
    {
     "data": {
      "text/plain": [
       "1"
      ]
     },
     "execution_count": 76,
     "metadata": {},
     "output_type": "execute_result"
    }
   ],
   "source": [
    "drink1 = 'juice-milkshake'\n",
    "drink1.find('uice')"
   ]
  },
  {
   "cell_type": "code",
   "execution_count": 77,
   "id": "ff905c81-e828-4b31-829c-9aa0e31109b5",
   "metadata": {},
   "outputs": [
    {
     "data": {
      "text/plain": [
       "2"
      ]
     },
     "execution_count": 77,
     "metadata": {},
     "output_type": "execute_result"
    }
   ],
   "source": [
    "drink2 = 'juice-milkshake'\n",
    "drink2.find('ice')"
   ]
  },
  {
   "cell_type": "code",
   "execution_count": 78,
   "id": "6d4fb007-5ce2-47ad-9f34-2efc6fe3b02e",
   "metadata": {},
   "outputs": [
    {
     "data": {
      "text/plain": [
       "6"
      ]
     },
     "execution_count": 78,
     "metadata": {},
     "output_type": "execute_result"
    }
   ],
   "source": [
    "drink2 = 'juice-milkshake'\n",
    "drink2.find('milk')"
   ]
  },
  {
   "cell_type": "code",
   "execution_count": 80,
   "id": "a1a3f643-9c14-4abb-a3a7-48e2fa1b6e0d",
   "metadata": {},
   "outputs": [
    {
     "data": {
      "text/plain": [
       "0"
      ]
     },
     "execution_count": 80,
     "metadata": {},
     "output_type": "execute_result"
    }
   ],
   "source": [
    "drinkx = 'aaaa'\n",
    "drinkx.find('aaaa')"
   ]
  },
  {
   "cell_type": "code",
   "execution_count": 81,
   "id": "ddf8f1ac-b8f9-4a42-a0fb-64ce4bcc7477",
   "metadata": {},
   "outputs": [
    {
     "data": {
      "text/plain": [
       "0"
      ]
     },
     "execution_count": 81,
     "metadata": {},
     "output_type": "execute_result"
    }
   ],
   "source": [
    "drinkx = 'aaaa'\n",
    "drinkx.find('aaa')"
   ]
  },
  {
   "cell_type": "code",
   "execution_count": null,
   "id": "5c8870d0-6302-4cd2-b0ca-8c4e2f7a5f5c",
   "metadata": {},
   "outputs": [],
   "source": [
    "# #practice \n",
    "\n",
    "# How many times does the letter \"e\" appear in \"experience\"?\n",
    "# Find the position of \"@\" in the email \"user@example.com\"."
   ]
  },
  {
   "cell_type": "code",
   "execution_count": null,
   "id": "a5600ec3-3df6-447d-9081-fb8112132ff2",
   "metadata": {},
   "outputs": [],
   "source": [
    "#spliting & joining\n",
    "\n",
    "#split\n",
    "#join"
   ]
  },
  {
   "cell_type": "code",
   "execution_count": 82,
   "id": "b5c0e7ed-b179-4fc5-a35b-1e01a8dd15e6",
   "metadata": {},
   "outputs": [
    {
     "data": {
      "text/plain": [
       "['south', 'east', 'west', 'north']"
      ]
     },
     "execution_count": 82,
     "metadata": {},
     "output_type": "execute_result"
    }
   ],
   "source": [
    "region = 'south east west north'\n",
    "region.split()"
   ]
  },
  {
   "cell_type": "code",
   "execution_count": 87,
   "id": "eabc6168-2e7b-469b-b77a-00b515c2559f",
   "metadata": {},
   "outputs": [
    {
     "data": {
      "text/plain": [
       "['south', 'east', 'west', 'north']"
      ]
     },
     "execution_count": 87,
     "metadata": {},
     "output_type": "execute_result"
    }
   ],
   "source": [
    "region1 = 'south-east-west-north'\n",
    "region1.split('-')"
   ]
  },
  {
   "cell_type": "code",
   "execution_count": 90,
   "id": "eefb7649-8a4a-4472-8961-18afae18f705",
   "metadata": {},
   "outputs": [
    {
     "data": {
      "text/plain": [
       "'2021-02-11'"
      ]
     },
     "execution_count": 90,
     "metadata": {},
     "output_type": "execute_result"
    }
   ],
   "source": [
    "job = ['2021', '02', '11']\n",
    "date = '-'.join(job)\n",
    "date"
   ]
  },
  {
   "cell_type": "code",
   "execution_count": 91,
   "id": "89f1ecb9-e4f6-4615-87c8-2674af759eb2",
   "metadata": {},
   "outputs": [
    {
     "data": {
      "text/plain": [
       "'south-east-west-north'"
      ]
     },
     "execution_count": 91,
     "metadata": {},
     "output_type": "execute_result"
    }
   ],
   "source": [
    "sales = ['south', 'east', 'west', 'north']\n",
    "'-'.join(sales)"
   ]
  },
  {
   "cell_type": "code",
   "execution_count": null,
   "id": "3bfed926-78db-44d9-a16c-0feaf4e9e92b",
   "metadata": {},
   "outputs": [],
   "source": [
    "#practice\n",
    "\n",
    "# Split the string \"apple,banana,cherry\" by comma.\n",
    "# Join the list ['one', 'two', 'three'] into a single string with - between each word."
   ]
  },
  {
   "cell_type": "code",
   "execution_count": null,
   "id": "0bcf59aa-d17e-4245-a9fe-38d54cac6179",
   "metadata": {},
   "outputs": [],
   "source": []
  },
  {
   "cell_type": "code",
   "execution_count": null,
   "id": "7a639cf7-d83d-48b1-9074-52a2d2798c2f",
   "metadata": {},
   "outputs": [],
   "source": []
  }
 ],
 "metadata": {
  "kernelspec": {
   "display_name": "Python 3 (ipykernel)",
   "language": "python",
   "name": "python3"
  },
  "language_info": {
   "codemirror_mode": {
    "name": "ipython",
    "version": 3
   },
   "file_extension": ".py",
   "mimetype": "text/x-python",
   "name": "python",
   "nbconvert_exporter": "python",
   "pygments_lexer": "ipython3",
   "version": "3.12.7"
  }
 },
 "nbformat": 4,
 "nbformat_minor": 5
}
