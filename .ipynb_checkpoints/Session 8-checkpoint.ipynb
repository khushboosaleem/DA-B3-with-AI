{
 "cells": [
  {
   "cell_type": "markdown",
   "id": "740ff32a-ce35-4dcc-9cc4-b13feb83c809",
   "metadata": {},
   "source": [
    "### IF-ELIF-ELSE"
   ]
  },
  {
   "cell_type": "code",
   "execution_count": 1,
   "id": "08f212e0-1ccb-40f7-a83f-3933bf8d707d",
   "metadata": {},
   "outputs": [
    {
     "ename": "SyntaxError",
     "evalue": "expected ':' (3451708828.py, line 5)",
     "output_type": "error",
     "traceback": [
      "\u001b[1;36m  Cell \u001b[1;32mIn[1], line 5\u001b[1;36m\u001b[0m\n\u001b[1;33m    if light == 'red'\u001b[0m\n\u001b[1;37m                     ^\u001b[0m\n\u001b[1;31mSyntaxError\u001b[0m\u001b[1;31m:\u001b[0m expected ':'\n"
     ]
    }
   ],
   "source": [
    "# signal light example\n",
    "\n",
    "light = 'red'\n",
    "\n",
    "if light == 'red'\n",
    "    print('stop')"
   ]
  },
  {
   "cell_type": "code",
   "execution_count": 2,
   "id": "1c2ab8cc-51d7-48f6-8111-8191a240b6a0",
   "metadata": {},
   "outputs": [
    {
     "ename": "IndentationError",
     "evalue": "expected an indented block after 'if' statement on line 3 (2244720522.py, line 4)",
     "output_type": "error",
     "traceback": [
      "\u001b[1;36m  Cell \u001b[1;32mIn[2], line 4\u001b[1;36m\u001b[0m\n\u001b[1;33m    print('stop')\u001b[0m\n\u001b[1;37m    ^\u001b[0m\n\u001b[1;31mIndentationError\u001b[0m\u001b[1;31m:\u001b[0m expected an indented block after 'if' statement on line 3\n"
     ]
    }
   ],
   "source": [
    "light = 'red'\n",
    "\n",
    "if light == 'red':\n",
    "print('stop')"
   ]
  },
  {
   "cell_type": "code",
   "execution_count": 3,
   "id": "020cd2fd-547e-4d7b-9681-7121fc561a28",
   "metadata": {},
   "outputs": [
    {
     "name": "stdout",
     "output_type": "stream",
     "text": [
      "stop\n"
     ]
    }
   ],
   "source": [
    "light = 'red'\n",
    "\n",
    "if light == 'red':\n",
    "    print('stop') #action required"
   ]
  },
  {
   "cell_type": "code",
   "execution_count": 5,
   "id": "9fa2ea3c-ec57-47e9-ad3d-f31522e003e8",
   "metadata": {},
   "outputs": [
    {
     "name": "stdout",
     "output_type": "stream",
     "text": [
      "wait\n"
     ]
    }
   ],
   "source": [
    "light = 'grey'\n",
    "\n",
    "if light == 'red':\n",
    "    print('stop') #action required\n",
    "else:\n",
    "    print('wait')"
   ]
  },
  {
   "cell_type": "code",
   "execution_count": 6,
   "id": "cbaf8b1c-c6d6-40e4-830f-fe9f64794b6b",
   "metadata": {},
   "outputs": [
    {
     "name": "stdout",
     "output_type": "stream",
     "text": [
      "wait\n"
     ]
    }
   ],
   "source": [
    "light = 'white'\n",
    "\n",
    "if light == 'red':\n",
    "    print('stop') #action required\n",
    "elif light == 'orange':\n",
    "    print('ready')\n",
    "elif light == 'green':\n",
    "    print('go')\n",
    "else:\n",
    "    print('wait')"
   ]
  },
  {
   "cell_type": "code",
   "execution_count": 7,
   "id": "f56a8e9a-fb35-4fe3-a6c9-e91cf12beb4f",
   "metadata": {},
   "outputs": [
    {
     "name": "stdout",
     "output_type": "stream",
     "text": [
      "go\n"
     ]
    }
   ],
   "source": [
    "light = 'green'\n",
    "\n",
    "if light == 'red':\n",
    "    print('stop') #action required\n",
    "elif light == 'orange':\n",
    "    print('ready')\n",
    "elif light == 'green':\n",
    "    print('go')\n",
    "else:\n",
    "    print('wait')"
   ]
  },
  {
   "cell_type": "code",
   "execution_count": null,
   "id": "28b55717-aea2-4cbf-ad81-8ad7acb4c2d8",
   "metadata": {},
   "outputs": [],
   "source": []
  },
  {
   "cell_type": "code",
   "execution_count": 4,
   "id": "e0049e84-e83a-458b-a32e-2021921e5b6f",
   "metadata": {},
   "outputs": [
    {
     "data": {
      "text/plain": [
       "True"
      ]
     },
     "execution_count": 4,
     "metadata": {},
     "output_type": "execute_result"
    }
   ],
   "source": [
    "light == 'red'"
   ]
  },
  {
   "cell_type": "code",
   "execution_count": 15,
   "id": "8bdaf048-f89d-4455-9b47-746612b98dd6",
   "metadata": {},
   "outputs": [
    {
     "ename": "TypeError",
     "evalue": "'>=' not supported between instances of 'str' and 'int'",
     "output_type": "error",
     "traceback": [
      "\u001b[1;31m---------------------------------------------------------------------------\u001b[0m",
      "\u001b[1;31mTypeError\u001b[0m                                 Traceback (most recent call last)",
      "Cell \u001b[1;32mIn[15], line 6\u001b[0m\n\u001b[0;32m      1\u001b[0m \u001b[38;5;66;03m#grading\u001b[39;00m\n\u001b[0;32m      2\u001b[0m \u001b[38;5;66;03m#practice\u001b[39;00m\n\u001b[0;32m      4\u001b[0m marks \u001b[38;5;241m=\u001b[39m \u001b[38;5;124m'\u001b[39m\u001b[38;5;124mabc\u001b[39m\u001b[38;5;124m'\u001b[39m\n\u001b[1;32m----> 6\u001b[0m \u001b[38;5;28;01mif\u001b[39;00m marks \u001b[38;5;241m>\u001b[39m\u001b[38;5;241m=\u001b[39m \u001b[38;5;241m90\u001b[39m:\n\u001b[0;32m      7\u001b[0m     \u001b[38;5;28mprint\u001b[39m(\u001b[38;5;124m'\u001b[39m\u001b[38;5;124mA+\u001b[39m\u001b[38;5;124m'\u001b[39m)\n\u001b[0;32m      8\u001b[0m \u001b[38;5;28;01melif\u001b[39;00m marks \u001b[38;5;241m>\u001b[39m \u001b[38;5;241m80\u001b[39m:\n",
      "\u001b[1;31mTypeError\u001b[0m: '>=' not supported between instances of 'str' and 'int'"
     ]
    }
   ],
   "source": [
    "#grading\n",
    "#practice\n",
    "\n",
    "marks = 'abc'\n",
    "\n",
    "if marks >= 90:\n",
    "    print('A+')\n",
    "elif marks > 80:\n",
    "    print('A')\n",
    "elif marks <= 79:\n",
    "    print('B')\n",
    "else:\n",
    "    print('enter number')"
   ]
  },
  {
   "cell_type": "code",
   "execution_count": 28,
   "id": "566db6f9-690b-49c3-a9e0-bcad81eda086",
   "metadata": {},
   "outputs": [],
   "source": [
    "visa = \"valid\"\n",
    "account_statement = 5000001\n",
    "purpose = \"education\"\n",
    "admission_letter = \"no\"\n",
    "job_recommendation = \"yes\"\n",
    "age = 33\n",
    "family_member = \"yes\"\n",
    "documents_submitted = \"yes\""
   ]
  },
  {
   "cell_type": "markdown",
   "id": "8a24ffc8-f2c3-4510-8f0e-106542dfb00d",
   "metadata": {},
   "source": [
    "### Nested IF"
   ]
  },
  {
   "cell_type": "code",
   "execution_count": 19,
   "id": "929ef3af-50b6-4155-b0d3-9a1496711193",
   "metadata": {},
   "outputs": [
    {
     "name": "stdout",
     "output_type": "stream",
     "text": [
      "eligible for education visa\n"
     ]
    }
   ],
   "source": [
    "#age\n",
    "    #purpose\n",
    "\n",
    "if age >= 18:\n",
    "    if purpose == 'education':\n",
    "        print('eligible for education visa')\n",
    "    else:\n",
    "        print('your purpose is not education')\n",
    "else:\n",
    "    print('underage')"
   ]
  },
  {
   "cell_type": "code",
   "execution_count": 25,
   "id": "42c8db17-8a5e-480f-b85f-bacd4bc0fcbe",
   "metadata": {},
   "outputs": [
    {
     "name": "stdout",
     "output_type": "stream",
     "text": [
      "underage\n"
     ]
    }
   ],
   "source": [
    "#age\n",
    "    #purpose\n",
    "\n",
    "if age >= 18:\n",
    "    if purpose == 'education':\n",
    "        print('eligible for education visa')\n",
    "    else:\n",
    "        print('your purpose is not education')\n",
    "else:\n",
    "    print('underage')"
   ]
  },
  {
   "cell_type": "code",
   "execution_count": 27,
   "id": "a71417b4-4d28-4ad8-8141-4d0c4265c7a0",
   "metadata": {},
   "outputs": [
    {
     "name": "stdout",
     "output_type": "stream",
     "text": [
      "your purpose is not education\n"
     ]
    }
   ],
   "source": [
    "#age\n",
    "    #purpose\n",
    "\n",
    "if age >= 18:\n",
    "    if purpose == 'job':\n",
    "        print('eligible for education visa')\n",
    "    else:\n",
    "        print('your purpose is not education')\n",
    "else:\n",
    "    print('underage')"
   ]
  },
  {
   "cell_type": "code",
   "execution_count": 29,
   "id": "2c856e47-73ba-4096-ac9e-95e1a95c6f37",
   "metadata": {},
   "outputs": [
    {
     "name": "stdout",
     "output_type": "stream",
     "text": [
      "eligible for visa\n"
     ]
    }
   ],
   "source": [
    "#age\n",
    "    #purpose\n",
    "        #family\n",
    "\n",
    "if age >= 18:\n",
    "    if purpose == 'education':\n",
    "        if family_member == 'yes':\n",
    "            print('eligible for visa')\n",
    "        else:\n",
    "            print('family member is mandatory')\n",
    "    else:\n",
    "        print('your purpose is not education')\n",
    "else:\n",
    "    print('underage')"
   ]
  },
  {
   "cell_type": "code",
   "execution_count": 34,
   "id": "eb2893cb-4e06-45da-896c-84a2a470aa65",
   "metadata": {},
   "outputs": [],
   "source": [
    "if age >= 18:\n",
    "    if purpose == 'job':\n",
    "        if family_member == 'yes':\n",
    "            print('eligible for visa')\n",
    "        else:\n",
    "            print('family member is mandatory')\n",
    "else:\n",
    "    print('underage')"
   ]
  },
  {
   "cell_type": "code",
   "execution_count": 32,
   "id": "96bbb6a6-2e48-4223-9a16-c3e51169999f",
   "metadata": {},
   "outputs": [],
   "source": [
    "#if\n",
    "    #if #purpose \n",
    "    #elif #purpose"
   ]
  },
  {
   "cell_type": "code",
   "execution_count": null,
   "id": "2c361024-689d-4a63-afc2-26363dc5a904",
   "metadata": {},
   "outputs": [],
   "source": [
    "# Check if a number is positive or negative:\n",
    "\n"
   ]
  },
  {
   "cell_type": "code",
   "execution_count": null,
   "id": "2da41506-e9eb-4af5-bb2b-8e83092b96bb",
   "metadata": {},
   "outputs": [],
   "source": [
    "# Check if a number is even or odd:\n",
    "\n"
   ]
  },
  {
   "cell_type": "code",
   "execution_count": 83,
   "id": "c9f04218-5882-42c4-a359-c2a940d948f7",
   "metadata": {},
   "outputs": [
    {
     "name": "stdin",
     "output_type": "stream",
     "text": [
      "enter letter:  y\n"
     ]
    },
    {
     "name": "stdout",
     "output_type": "stream",
     "text": [
      "conconant\n"
     ]
    }
   ],
   "source": [
    "# Check if a character is a vowel:\n",
    "\n",
    "letter = 'aeiouAEIOU'\n",
    "\n",
    "word = input('enter letter: ')\n",
    "\n",
    "if word in letter:\n",
    "    print('vowel')\n",
    "else:\n",
    "    print('conconant')"
   ]
  },
  {
   "cell_type": "markdown",
   "id": "64bff78d-206f-458f-a92a-5fb268281a9a",
   "metadata": {},
   "source": [
    "### TUPLE\n",
    "\n",
    " **tuple** is an immutable collection of elements in Python."
   ]
  },
  {
   "cell_type": "code",
   "execution_count": 36,
   "id": "200750c8-2e80-4611-a984-95a549a90595",
   "metadata": {},
   "outputs": [
    {
     "data": {
      "text/plain": [
       "'apple'"
      ]
     },
     "execution_count": 36,
     "metadata": {},
     "output_type": "execute_result"
    }
   ],
   "source": [
    "#Allow Duplicates\n",
    "x = ('apple')\n",
    "x"
   ]
  },
  {
   "cell_type": "code",
   "execution_count": 37,
   "id": "49deed51-b25e-4fd6-973c-1234a6351889",
   "metadata": {},
   "outputs": [
    {
     "data": {
      "text/plain": [
       "str"
      ]
     },
     "execution_count": 37,
     "metadata": {},
     "output_type": "execute_result"
    }
   ],
   "source": [
    "type(x)"
   ]
  },
  {
   "cell_type": "code",
   "execution_count": 41,
   "id": "86aa7fe5-0e1f-435a-8f83-b44b1a8416ed",
   "metadata": {},
   "outputs": [
    {
     "data": {
      "text/plain": [
       "('john cena', 44, 'USA', 89.2, 'New York')"
      ]
     },
     "execution_count": 41,
     "metadata": {},
     "output_type": "execute_result"
    }
   ],
   "source": [
    "bio = ('john cena', 44, 'USA', 89.2, 'New York')\n",
    "bio"
   ]
  },
  {
   "cell_type": "code",
   "execution_count": 42,
   "id": "6509905a-5c15-48eb-a316-9c9d32ecc130",
   "metadata": {},
   "outputs": [
    {
     "data": {
      "text/plain": [
       "('john cena', 44, 'New York', 89.2, 'New York')"
      ]
     },
     "execution_count": 42,
     "metadata": {},
     "output_type": "execute_result"
    }
   ],
   "source": [
    "bio = ('john cena', 44, 'New York', 89.2, 'New York')\n",
    "bio"
   ]
  },
  {
   "cell_type": "code",
   "execution_count": 43,
   "id": "0f94e933-97b8-4e73-a3f8-4fb0c1e5872c",
   "metadata": {},
   "outputs": [
    {
     "data": {
      "text/plain": [
       "('john cena', 44, [1, 2, 4], 89.2, 'New York')"
      ]
     },
     "execution_count": 43,
     "metadata": {},
     "output_type": "execute_result"
    }
   ],
   "source": [
    "bio1 = ('john cena', 44, [1,2,4], 89.2, 'New York')\n",
    "bio1"
   ]
  },
  {
   "cell_type": "code",
   "execution_count": 46,
   "id": "19f8af0b-7ceb-4aaa-b603-67d9ac31588c",
   "metadata": {},
   "outputs": [
    {
     "data": {
      "text/plain": [
       "4"
      ]
     },
     "execution_count": 46,
     "metadata": {},
     "output_type": "execute_result"
    }
   ],
   "source": [
    "bio2 = ('john cena', 44, [1,2,4], 89.2, 'New York')\n",
    "bio2[2][2]"
   ]
  },
  {
   "cell_type": "code",
   "execution_count": 44,
   "id": "6e50d7ae-02b3-44f6-b2ee-e83b6b2294a2",
   "metadata": {},
   "outputs": [],
   "source": [
    "#Store Mixed Data Types\n"
   ]
  },
  {
   "cell_type": "code",
   "execution_count": 44,
   "id": "a46b5244-42de-4755-8357-08c0350a9986",
   "metadata": {},
   "outputs": [
    {
     "data": {
      "text/plain": [
       "'New York'"
      ]
     },
     "execution_count": 44,
     "metadata": {},
     "output_type": "execute_result"
    }
   ],
   "source": [
    "# Indexing and Slicing\n",
    "bio2 = ('john cena', 44, 89.2, 'New York')\n",
    "bio2[3]"
   ]
  },
  {
   "cell_type": "code",
   "execution_count": 45,
   "id": "57487941-1bc7-4fe1-a570-f5c221619852",
   "metadata": {},
   "outputs": [
    {
     "data": {
      "text/plain": [
       "('john cena', 44, 89.2)"
      ]
     },
     "execution_count": 45,
     "metadata": {},
     "output_type": "execute_result"
    }
   ],
   "source": [
    "bio2 = ('john cena', 44, 89.2, 'New York')\n",
    "bio2[:3]"
   ]
  },
  {
   "cell_type": "code",
   "execution_count": 38,
   "id": "cea8b48c-e4f8-4d79-94b4-d10b19d9bf8c",
   "metadata": {},
   "outputs": [
    {
     "data": {
      "text/plain": [
       "('apple',)"
      ]
     },
     "execution_count": 38,
     "metadata": {},
     "output_type": "execute_result"
    }
   ],
   "source": [
    "# single_element_tuple = (5,)\n",
    "y=('apple',)\n",
    "y"
   ]
  },
  {
   "cell_type": "code",
   "execution_count": 39,
   "id": "13e858b2-6c01-4b59-9f74-7979ab09a2cb",
   "metadata": {},
   "outputs": [
    {
     "data": {
      "text/plain": [
       "tuple"
      ]
     },
     "execution_count": 39,
     "metadata": {},
     "output_type": "execute_result"
    }
   ],
   "source": [
    "type(y)"
   ]
  },
  {
   "cell_type": "code",
   "execution_count": 50,
   "id": "5002cd6c-0f48-473f-bea3-21197dbac803",
   "metadata": {},
   "outputs": [
    {
     "data": {
      "text/plain": [
       "[1, 2, 4]"
      ]
     },
     "execution_count": 50,
     "metadata": {},
     "output_type": "execute_result"
    }
   ],
   "source": [
    "#Access List\n",
    "a=(1,2,4,5,[1,2,4])\n",
    "a[-1]"
   ]
  },
  {
   "cell_type": "code",
   "execution_count": 51,
   "id": "d54fe83e-b33d-4e5b-b22a-09c58c8d2a36",
   "metadata": {},
   "outputs": [
    {
     "data": {
      "text/plain": [
       "4"
      ]
     },
     "execution_count": 51,
     "metadata": {},
     "output_type": "execute_result"
    }
   ],
   "source": [
    "a=(1,2,4,5,[1,2,4])\n",
    "a[-1][-1]"
   ]
  },
  {
   "cell_type": "code",
   "execution_count": 54,
   "id": "517330ad-80cf-4e3d-8470-d7050343b7dc",
   "metadata": {},
   "outputs": [
    {
     "data": {
      "text/plain": [
       "(1, 2, 4, 5, [1, 2, 'four'])"
      ]
     },
     "execution_count": 54,
     "metadata": {},
     "output_type": "execute_result"
    }
   ],
   "source": [
    "a=(1,2,4,5,[1,2,4])\n",
    "a[-1][-1]='four'\n",
    "a"
   ]
  },
  {
   "cell_type": "code",
   "execution_count": 47,
   "id": "3aad2eea-524d-460b-9435-ed011f1a593d",
   "metadata": {},
   "outputs": [
    {
     "data": {
      "text/plain": [
       "'john cena'"
      ]
     },
     "execution_count": 47,
     "metadata": {},
     "output_type": "execute_result"
    }
   ],
   "source": [
    "#Immutable\n",
    "bio4 = ('john cena', 44, 89.2, 'New York')\n",
    "bio4[0]"
   ]
  },
  {
   "cell_type": "code",
   "execution_count": 48,
   "id": "f0e4b1d7-6464-4a59-8817-3e9307f467cb",
   "metadata": {},
   "outputs": [
    {
     "ename": "TypeError",
     "evalue": "'tuple' object does not support item assignment",
     "output_type": "error",
     "traceback": [
      "\u001b[1;31m---------------------------------------------------------------------------\u001b[0m",
      "\u001b[1;31mTypeError\u001b[0m                                 Traceback (most recent call last)",
      "Cell \u001b[1;32mIn[48], line 2\u001b[0m\n\u001b[0;32m      1\u001b[0m bio4 \u001b[38;5;241m=\u001b[39m (\u001b[38;5;124m'\u001b[39m\u001b[38;5;124mjohn cena\u001b[39m\u001b[38;5;124m'\u001b[39m, \u001b[38;5;241m44\u001b[39m, \u001b[38;5;241m89.2\u001b[39m, \u001b[38;5;124m'\u001b[39m\u001b[38;5;124mNew York\u001b[39m\u001b[38;5;124m'\u001b[39m)\n\u001b[1;32m----> 2\u001b[0m bio4[\u001b[38;5;241m0\u001b[39m]\u001b[38;5;241m=\u001b[39m\u001b[38;5;124m'\u001b[39m\u001b[38;5;124mshahrukh khan\u001b[39m\u001b[38;5;124m'\u001b[39m\n",
      "\u001b[1;31mTypeError\u001b[0m: 'tuple' object does not support item assignment"
     ]
    }
   ],
   "source": [
    "bio4 = ('john cena', 44, 89.2, 'New York')\n",
    "bio4[0]='shahrukh khan'"
   ]
  },
  {
   "cell_type": "code",
   "execution_count": 59,
   "id": "3e726cf7-28a3-45f7-9f2d-f7ddaf761558",
   "metadata": {},
   "outputs": [
    {
     "data": {
      "text/plain": [
       "(1, 3, 4, 5)"
      ]
     },
     "execution_count": 59,
     "metadata": {},
     "output_type": "execute_result"
    }
   ],
   "source": [
    "#concatenation\n",
    "a = (1,3)\n",
    "b = (4,5)\n",
    "a+b"
   ]
  },
  {
   "cell_type": "code",
   "execution_count": 60,
   "id": "62875633-84dc-44cf-9056-2ac2eb6d8a65",
   "metadata": {},
   "outputs": [
    {
     "data": {
      "text/plain": [
       "(22, 22, 22, 22)"
      ]
     },
     "execution_count": 60,
     "metadata": {},
     "output_type": "execute_result"
    }
   ],
   "source": [
    "#repeatition\n",
    "c = (22,22) * 2\n",
    "c"
   ]
  },
  {
   "cell_type": "code",
   "execution_count": 55,
   "id": "b94daf1c-632a-492d-bb38-8d82000b0678",
   "metadata": {},
   "outputs": [
    {
     "data": {
      "text/plain": [
       "(1, 2, 4, 5, ('abc', 'xyz'), 22)"
      ]
     },
     "execution_count": 55,
     "metadata": {},
     "output_type": "execute_result"
    }
   ],
   "source": [
    "#nested tuple\n",
    "p = (1,2,4,5,('abc','xyz'),22)\n",
    "p"
   ]
  },
  {
   "cell_type": "code",
   "execution_count": 56,
   "id": "25878fd8-4354-493d-83af-fc4198e3622f",
   "metadata": {},
   "outputs": [
    {
     "data": {
      "text/plain": [
       "('abc', 'xyz')"
      ]
     },
     "execution_count": 56,
     "metadata": {},
     "output_type": "execute_result"
    }
   ],
   "source": [
    "p[4]"
   ]
  },
  {
   "cell_type": "code",
   "execution_count": 57,
   "id": "458a523d-d934-40b0-9511-9f3e6f54b7d7",
   "metadata": {},
   "outputs": [
    {
     "data": {
      "text/plain": [
       "'xyz'"
      ]
     },
     "execution_count": 57,
     "metadata": {},
     "output_type": "execute_result"
    }
   ],
   "source": [
    "p[4][1]"
   ]
  },
  {
   "cell_type": "code",
   "execution_count": 58,
   "id": "0871303b-3c44-4d6f-b8da-9c39b0743ec4",
   "metadata": {},
   "outputs": [
    {
     "ename": "TypeError",
     "evalue": "'tuple' object does not support item assignment",
     "output_type": "error",
     "traceback": [
      "\u001b[1;31m---------------------------------------------------------------------------\u001b[0m",
      "\u001b[1;31mTypeError\u001b[0m                                 Traceback (most recent call last)",
      "Cell \u001b[1;32mIn[58], line 1\u001b[0m\n\u001b[1;32m----> 1\u001b[0m p[\u001b[38;5;241m4\u001b[39m][\u001b[38;5;241m1\u001b[39m]\u001b[38;5;241m=\u001b[39m\u001b[38;5;124m'\u001b[39m\u001b[38;5;124mnot allowed\u001b[39m\u001b[38;5;124m'\u001b[39m\n",
      "\u001b[1;31mTypeError\u001b[0m: 'tuple' object does not support item assignment"
     ]
    }
   ],
   "source": [
    "p[4][1]='not allowed'"
   ]
  },
  {
   "cell_type": "code",
   "execution_count": 61,
   "id": "4db7e04d-6e74-410b-b744-c3130250ea07",
   "metadata": {},
   "outputs": [
    {
     "data": {
      "text/plain": [
       "['__add__',\n",
       " '__class__',\n",
       " '__class_getitem__',\n",
       " '__contains__',\n",
       " '__delattr__',\n",
       " '__dir__',\n",
       " '__doc__',\n",
       " '__eq__',\n",
       " '__format__',\n",
       " '__ge__',\n",
       " '__getattribute__',\n",
       " '__getitem__',\n",
       " '__getnewargs__',\n",
       " '__getstate__',\n",
       " '__gt__',\n",
       " '__hash__',\n",
       " '__init__',\n",
       " '__init_subclass__',\n",
       " '__iter__',\n",
       " '__le__',\n",
       " '__len__',\n",
       " '__lt__',\n",
       " '__mul__',\n",
       " '__ne__',\n",
       " '__new__',\n",
       " '__reduce__',\n",
       " '__reduce_ex__',\n",
       " '__repr__',\n",
       " '__rmul__',\n",
       " '__setattr__',\n",
       " '__sizeof__',\n",
       " '__str__',\n",
       " '__subclasshook__',\n",
       " 'count',\n",
       " 'index']"
      ]
     },
     "execution_count": 61,
     "metadata": {},
     "output_type": "execute_result"
    }
   ],
   "source": [
    "#methods\n",
    "dir(())"
   ]
  },
  {
   "cell_type": "code",
   "execution_count": 62,
   "id": "8a41290a-ffe7-4b4d-b915-5287e16a3df2",
   "metadata": {},
   "outputs": [
    {
     "data": {
      "text/plain": [
       "0"
      ]
     },
     "execution_count": 62,
     "metadata": {},
     "output_type": "execute_result"
    }
   ],
   "source": [
    "# Check if the value 25 exists in the tuple (10, 20, 30, 40).\n",
    "my_num = (10, 20, 30, 40)\n",
    "my_num.count(25)"
   ]
  },
  {
   "cell_type": "code",
   "execution_count": 63,
   "id": "9bfd948d-d2e0-42c8-85dc-9d6248b345e2",
   "metadata": {},
   "outputs": [
    {
     "ename": "ValueError",
     "evalue": "tuple.index(x): x not in tuple",
     "output_type": "error",
     "traceback": [
      "\u001b[1;31m---------------------------------------------------------------------------\u001b[0m",
      "\u001b[1;31mValueError\u001b[0m                                Traceback (most recent call last)",
      "Cell \u001b[1;32mIn[63], line 2\u001b[0m\n\u001b[0;32m      1\u001b[0m my_num \u001b[38;5;241m=\u001b[39m (\u001b[38;5;241m10\u001b[39m, \u001b[38;5;241m20\u001b[39m, \u001b[38;5;241m30\u001b[39m, \u001b[38;5;241m40\u001b[39m)\n\u001b[1;32m----> 2\u001b[0m my_num\u001b[38;5;241m.\u001b[39mindex(\u001b[38;5;241m25\u001b[39m)\n",
      "\u001b[1;31mValueError\u001b[0m: tuple.index(x): x not in tuple"
     ]
    }
   ],
   "source": [
    "my_num = (10, 20, 30, 40)\n",
    "my_num.index(25)"
   ]
  },
  {
   "cell_type": "code",
   "execution_count": null,
   "id": "273a2a5d-46e1-4b5c-a9bb-8f75759f5691",
   "metadata": {},
   "outputs": [],
   "source": [
    "# Create a tuple with a string, list, and float. Change the list inside the tuple.\n",
    "# mixed = (\"Python\", [1, 2, 3], 3.14)\n"
   ]
  },
  {
   "cell_type": "code",
   "execution_count": null,
   "id": "d4cd959b-2ece-43db-ac93-c63e450b61cb",
   "metadata": {},
   "outputs": [],
   "source": []
  },
  {
   "cell_type": "markdown",
   "id": "e08b03f7-4526-4b03-95f8-20920425f8bc",
   "metadata": {},
   "source": [
    "### Packing and Unpacking in Tuples\n"
   ]
  },
  {
   "cell_type": "markdown",
   "id": "c00a2d05-7987-4fbf-ac70-3e4e01b0eb93",
   "metadata": {},
   "source": [
    "Packing refers to the process of combining multiple values into a tuple, and Unpacking is extracting those values back from the tuple into individual variables.\n"
   ]
  },
  {
   "cell_type": "code",
   "execution_count": 64,
   "id": "c6a210d5-beeb-49c5-a36d-119dd37a579f",
   "metadata": {},
   "outputs": [],
   "source": [
    "#packing\n",
    "person_info = (\"John\", 25, \"Software Engineer\")\n"
   ]
  },
  {
   "cell_type": "code",
   "execution_count": 65,
   "id": "ab4cf1c1-6109-4577-a31f-4f2b3e2885e8",
   "metadata": {},
   "outputs": [],
   "source": [
    "#unpacking\n",
    "name, age, Jobtitle = person_info"
   ]
  },
  {
   "cell_type": "code",
   "execution_count": null,
   "id": "e46c6b4f-583b-4884-8d73-a7a5342a724e",
   "metadata": {},
   "outputs": [],
   "source": []
  },
  {
   "cell_type": "code",
   "execution_count": 66,
   "id": "5756d588-e0fb-4fe0-838a-bf1bad06e117",
   "metadata": {},
   "outputs": [
    {
     "data": {
      "text/plain": [
       "'John'"
      ]
     },
     "execution_count": 66,
     "metadata": {},
     "output_type": "execute_result"
    }
   ],
   "source": [
    "name"
   ]
  },
  {
   "cell_type": "code",
   "execution_count": 67,
   "id": "b64671e0-c02e-41b0-ba08-933ae802eae3",
   "metadata": {},
   "outputs": [
    {
     "data": {
      "text/plain": [
       "25"
      ]
     },
     "execution_count": 67,
     "metadata": {},
     "output_type": "execute_result"
    }
   ],
   "source": [
    "age"
   ]
  },
  {
   "cell_type": "code",
   "execution_count": 68,
   "id": "4d69171d-f0b5-442c-9d79-d71b2a73a2c2",
   "metadata": {},
   "outputs": [
    {
     "ename": "ValueError",
     "evalue": "not enough values to unpack (expected 4, got 3)",
     "output_type": "error",
     "traceback": [
      "\u001b[1;31m---------------------------------------------------------------------------\u001b[0m",
      "\u001b[1;31mValueError\u001b[0m                                Traceback (most recent call last)",
      "Cell \u001b[1;32mIn[68], line 1\u001b[0m\n\u001b[1;32m----> 1\u001b[0m name, age, Jobtitle, height \u001b[38;5;241m=\u001b[39m person_info\n",
      "\u001b[1;31mValueError\u001b[0m: not enough values to unpack (expected 4, got 3)"
     ]
    }
   ],
   "source": [
    "name, age, Jobtitle, height = person_info"
   ]
  },
  {
   "cell_type": "code",
   "execution_count": 69,
   "id": "dfa36a4e-b1bd-48cd-a215-1b2b11d571f4",
   "metadata": {},
   "outputs": [],
   "source": [
    "age1, name1, Jobtitle = person_info"
   ]
  },
  {
   "cell_type": "code",
   "execution_count": 70,
   "id": "5fd4b9b5-94ca-4c68-955f-892839784796",
   "metadata": {},
   "outputs": [
    {
     "data": {
      "text/plain": [
       "25"
      ]
     },
     "execution_count": 70,
     "metadata": {},
     "output_type": "execute_result"
    }
   ],
   "source": [
    "name1"
   ]
  },
  {
   "cell_type": "code",
   "execution_count": null,
   "id": "e4278dde-0092-4f0c-bb43-02ffb6e454e6",
   "metadata": {},
   "outputs": [],
   "source": []
  },
  {
   "cell_type": "code",
   "execution_count": 71,
   "id": "a6ebda4b-8eca-4e81-90ff-47e36e0a33b9",
   "metadata": {},
   "outputs": [],
   "source": [
    "values = (\"Apple\", \"Banana\", \"Cherry\", \"Grapes\")\n",
    "first, second, *others = values"
   ]
  },
  {
   "cell_type": "code",
   "execution_count": null,
   "id": "ec29ed67-e4a6-4a50-8dba-0a1cd6d30046",
   "metadata": {},
   "outputs": [],
   "source": []
  },
  {
   "cell_type": "code",
   "execution_count": 72,
   "id": "c23ecbe3-7351-4c06-a634-040b20888c8d",
   "metadata": {},
   "outputs": [
    {
     "data": {
      "text/plain": [
       "'Banana'"
      ]
     },
     "execution_count": 72,
     "metadata": {},
     "output_type": "execute_result"
    }
   ],
   "source": [
    "second"
   ]
  },
  {
   "cell_type": "code",
   "execution_count": 73,
   "id": "9d76aeac-64b8-413a-83ed-8e93f9342502",
   "metadata": {},
   "outputs": [
    {
     "data": {
      "text/plain": [
       "['Cherry', 'Grapes']"
      ]
     },
     "execution_count": 73,
     "metadata": {},
     "output_type": "execute_result"
    }
   ],
   "source": [
    "others"
   ]
  },
  {
   "cell_type": "code",
   "execution_count": 74,
   "id": "ed52b6ce-4d50-4879-9930-92707379b5dc",
   "metadata": {},
   "outputs": [
    {
     "ename": "SyntaxError",
     "evalue": "can't use starred expression here (1689828719.py, line 1)",
     "output_type": "error",
     "traceback": [
      "\u001b[1;36m  Cell \u001b[1;32mIn[74], line 1\u001b[1;36m\u001b[0m\n\u001b[1;33m    *others\u001b[0m\n\u001b[1;37m    ^\u001b[0m\n\u001b[1;31mSyntaxError\u001b[0m\u001b[1;31m:\u001b[0m can't use starred expression here\n"
     ]
    }
   ],
   "source": [
    "*others"
   ]
  },
  {
   "cell_type": "code",
   "execution_count": 75,
   "id": "3639a194-c21f-47dd-b723-f1a84dbb43cd",
   "metadata": {},
   "outputs": [],
   "source": [
    "values = (\"Apple\", \"Banana\", \"Cherry\", \"Grapes\")\n",
    "first, *others = values"
   ]
  },
  {
   "cell_type": "code",
   "execution_count": 76,
   "id": "5b1dd925-cf9b-4e3e-a1f5-fe1d7625affd",
   "metadata": {},
   "outputs": [
    {
     "data": {
      "text/plain": [
       "'Apple'"
      ]
     },
     "execution_count": 76,
     "metadata": {},
     "output_type": "execute_result"
    }
   ],
   "source": [
    "first"
   ]
  },
  {
   "cell_type": "code",
   "execution_count": 77,
   "id": "50563877-f697-4c85-aebc-45cfa2e3d82b",
   "metadata": {},
   "outputs": [
    {
     "data": {
      "text/plain": [
       "['Banana', 'Cherry', 'Grapes']"
      ]
     },
     "execution_count": 77,
     "metadata": {},
     "output_type": "execute_result"
    }
   ],
   "source": [
    "others"
   ]
  },
  {
   "cell_type": "code",
   "execution_count": 78,
   "id": "3767c908-879e-4419-b93b-8611924fa10b",
   "metadata": {},
   "outputs": [],
   "source": [
    "values = (\"Apple\", \"Banana\", \"Cherry\", \"Grapes\")\n",
    "first, *others, last = values"
   ]
  },
  {
   "cell_type": "code",
   "execution_count": 79,
   "id": "3a08bf2f-66c9-4f33-a9fd-1fc42a23e31d",
   "metadata": {},
   "outputs": [
    {
     "data": {
      "text/plain": [
       "'Grapes'"
      ]
     },
     "execution_count": 79,
     "metadata": {},
     "output_type": "execute_result"
    }
   ],
   "source": [
    "last"
   ]
  },
  {
   "cell_type": "code",
   "execution_count": 80,
   "id": "72fba2fd-7811-4ae2-93cf-0cf2d1da779c",
   "metadata": {},
   "outputs": [
    {
     "data": {
      "text/plain": [
       "['Banana', 'Cherry']"
      ]
     },
     "execution_count": 80,
     "metadata": {},
     "output_type": "execute_result"
    }
   ],
   "source": [
    "others"
   ]
  },
  {
   "cell_type": "code",
   "execution_count": null,
   "id": "9e9c8697-4ec1-452c-9611-851a1d4c742f",
   "metadata": {},
   "outputs": [],
   "source": [
    "# Unpack the tuple (1, 2, 3) into three variables.\n",
    "\n"
   ]
  },
  {
   "cell_type": "code",
   "execution_count": null,
   "id": "42d6dc76-49d6-4840-8ea0-237498d0ed36",
   "metadata": {},
   "outputs": [],
   "source": []
  },
  {
   "cell_type": "code",
   "execution_count": null,
   "id": "c2e2b318-f413-48d3-8d53-8abe2788bf24",
   "metadata": {},
   "outputs": [],
   "source": []
  }
 ],
 "metadata": {
  "kernelspec": {
   "display_name": "Python 3 (ipykernel)",
   "language": "python",
   "name": "python3"
  },
  "language_info": {
   "codemirror_mode": {
    "name": "ipython",
    "version": 3
   },
   "file_extension": ".py",
   "mimetype": "text/x-python",
   "name": "python",
   "nbconvert_exporter": "python",
   "pygments_lexer": "ipython3",
   "version": "3.12.7"
  }
 },
 "nbformat": 4,
 "nbformat_minor": 5
}
