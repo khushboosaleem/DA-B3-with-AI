{
 "cells": [
  {
   "cell_type": "markdown",
   "id": "c6d51434-8cdc-49b8-8291-e68d8280fe65",
   "metadata": {},
   "source": [
    "### loop\n",
    "\n",
    "A loop allows a program to execute a set of instructions repeatedly.\n",
    "\n",
    "Loops help in reducing the amount of code you need to write"
   ]
  },
  {
   "cell_type": "code",
   "execution_count": null,
   "id": "34e03830-fb8d-402c-bab7-08a6d5216e24",
   "metadata": {},
   "outputs": [],
   "source": [
    "fruits2 = [\"apple\", \"banana\", \"cherry\",'mango','orange']\n",
    "index = 0\n",
    "print(fruits2[index])\n"
   ]
  },
  {
   "cell_type": "code",
   "execution_count": null,
   "id": "e2b4ade8-407c-4388-ad00-856e2351f2cf",
   "metadata": {},
   "outputs": [],
   "source": [
    "fruits2 = [\"apple\", \"banana\", \"cherry\",'mango','orange']\n",
    "index = 0\n",
    "print(fruits2[index])\n",
    "index += 1"
   ]
  },
  {
   "cell_type": "code",
   "execution_count": null,
   "id": "b6f50c28-bafb-412a-ac68-e2304909f4ca",
   "metadata": {},
   "outputs": [],
   "source": [
    "index"
   ]
  },
  {
   "cell_type": "code",
   "execution_count": null,
   "id": "c6921a38-7a32-4b91-b0f4-5ca8afa67bcb",
   "metadata": {},
   "outputs": [],
   "source": [
    "print(fruits2[index])\n",
    "index += 1"
   ]
  },
  {
   "cell_type": "code",
   "execution_count": null,
   "id": "ae919ec8-3da9-4b32-ab35-25bfb2b75389",
   "metadata": {},
   "outputs": [],
   "source": [
    "index"
   ]
  },
  {
   "cell_type": "code",
   "execution_count": null,
   "id": "6cff633f-c3d3-44b5-960e-652956d39b02",
   "metadata": {},
   "outputs": [],
   "source": [
    "print(fruits2[index])\n",
    "index += 1"
   ]
  },
  {
   "cell_type": "code",
   "execution_count": null,
   "id": "9ec0ee75-cd9f-48d2-a4f5-577c7ace4869",
   "metadata": {},
   "outputs": [],
   "source": [
    "index"
   ]
  },
  {
   "cell_type": "code",
   "execution_count": null,
   "id": "20ed25d4-5546-49df-97fe-fcb3cf785dde",
   "metadata": {},
   "outputs": [],
   "source": [
    "print(fruits2[index])\n",
    "index += 1"
   ]
  },
  {
   "cell_type": "code",
   "execution_count": null,
   "id": "a0534fe5-0aa1-49f5-8028-012c718b1fd1",
   "metadata": {},
   "outputs": [],
   "source": [
    "print(fruits2[index])\n",
    "index += 1"
   ]
  },
  {
   "cell_type": "code",
   "execution_count": null,
   "id": "f6ea7ea3-0055-458b-a408-5ac8df1966b4",
   "metadata": {},
   "outputs": [],
   "source": [
    "print(fruits2[index])\n",
    "index += 1"
   ]
  },
  {
   "cell_type": "code",
   "execution_count": null,
   "id": "082c8825-8c19-4aaf-baf7-ab0cd3ea2e9c",
   "metadata": {},
   "outputs": [],
   "source": [
    "fruits = [\"apple\", \"banana\", \"cherry\",'mango','orange']"
   ]
  },
  {
   "cell_type": "code",
   "execution_count": null,
   "id": "b97c3456-a333-4b97-b131-479947a05b5c",
   "metadata": {},
   "outputs": [],
   "source": [
    "print(fruits[0])\n",
    "print(fruits[1])\n",
    "print(fruits[2])\n",
    "print(fruits[3])\n",
    "print(fruits[4])"
   ]
  },
  {
   "cell_type": "code",
   "execution_count": null,
   "id": "0da6fd88-1109-4f17-b10d-a70a5ab2e3ae",
   "metadata": {},
   "outputs": [],
   "source": [
    "for i in fruits: #i is loop name\n",
    "    print(i)"
   ]
  },
  {
   "cell_type": "code",
   "execution_count": null,
   "id": "46aafb0d-18f2-4bff-a9f8-85f66ed0d5cb",
   "metadata": {},
   "outputs": [],
   "source": [
    "fruits1 = [\"apple\", \"banana\", \"cherry\",'mango','orange']"
   ]
  },
  {
   "cell_type": "code",
   "execution_count": null,
   "id": "06890280-6aad-4a09-8d49-d6a60e113b36",
   "metadata": {},
   "outputs": [],
   "source": [
    "for x in fruits1: #i is loop name\n",
    "    print(x)"
   ]
  },
  {
   "cell_type": "markdown",
   "id": "cbb77a6a-a663-4c35-8c17-eaf420f3115e",
   "metadata": {},
   "source": [
    "### while loop: \n",
    "\n",
    "while loop continues to execute as long as a certain condition is true. Once the condition becomes false, the loop stops."
   ]
  },
  {
   "cell_type": "code",
   "execution_count": null,
   "id": "4814a9c9-8fd1-4681-a92b-e1fe68f577c5",
   "metadata": {},
   "outputs": [],
   "source": [
    "# while condition:\n",
    "#     #code block to execute\n",
    "\n",
    "# #infinite loop\n"
   ]
  },
  {
   "cell_type": "code",
   "execution_count": null,
   "id": "2f49285a-0cce-4e8a-8443-b7ea98e44666",
   "metadata": {},
   "outputs": [],
   "source": [
    "counter = 0\n",
    "while counter < 5:\n",
    "    print(counter)\n",
    "    counter += 1"
   ]
  },
  {
   "cell_type": "code",
   "execution_count": null,
   "id": "881d6e0d-fdb9-4844-8a52-efda62617b21",
   "metadata": {},
   "outputs": [],
   "source": [
    "# counter = 0\n",
    "# while counter < 5:\n",
    "#     print(counter)"
   ]
  },
  {
   "cell_type": "code",
   "execution_count": null,
   "id": "1b760eaf-9ad5-409b-821e-1aba08298913",
   "metadata": {},
   "outputs": [],
   "source": [
    "5<5"
   ]
  },
  {
   "cell_type": "code",
   "execution_count": null,
   "id": "8529735e-83d0-4cb7-967a-b7c49af9adc0",
   "metadata": {},
   "outputs": [],
   "source": [
    "counter = 0\n",
    "while counter < 5\n",
    "    print(counter)\n",
    "    counter += 1"
   ]
  },
  {
   "cell_type": "code",
   "execution_count": null,
   "id": "aa672a90-7bb4-452c-99cb-d9835cab5dce",
   "metadata": {},
   "outputs": [],
   "source": [
    "counter = 0\n",
    "while counter < 5:\n",
    "print(counter)\n",
    "    counter += 1"
   ]
  },
  {
   "cell_type": "code",
   "execution_count": null,
   "id": "d65a4b66-cf31-4f8f-a7ad-d68e78d90339",
   "metadata": {},
   "outputs": [],
   "source": [
    "#end\n",
    "counter = 0\n",
    "while counter < 7:\n",
    "    print(counter, end=\" \")\n",
    "    counter += 1"
   ]
  },
  {
   "cell_type": "code",
   "execution_count": null,
   "id": "dd3ee8dc-2662-4d4a-a2ea-1499b097864e",
   "metadata": {},
   "outputs": [],
   "source": [
    "counter = 0\n",
    "while counter < 7:\n",
    "    print(counter, end=\"--\")\n",
    "    counter += 1"
   ]
  },
  {
   "cell_type": "code",
   "execution_count": null,
   "id": "780a89a2-8343-41cf-b2c5-37e54a9fb0fa",
   "metadata": {},
   "outputs": [],
   "source": [
    "string = 'python'\n",
    "index = 0\n",
    "\n",
    "while index < len(string):\n",
    "    print(string)\n",
    "    index += 1"
   ]
  },
  {
   "cell_type": "code",
   "execution_count": null,
   "id": "c41f4e8b-30ef-4b20-a031-df7072b8122c",
   "metadata": {},
   "outputs": [],
   "source": [
    "len(string)"
   ]
  },
  {
   "cell_type": "code",
   "execution_count": null,
   "id": "21ed3432-d6c1-4c54-97b2-2d0c778ac774",
   "metadata": {},
   "outputs": [],
   "source": [
    "6<6"
   ]
  },
  {
   "cell_type": "code",
   "execution_count": null,
   "id": "bd1d1246-a4c1-42b9-998a-358f710dbde5",
   "metadata": {},
   "outputs": [],
   "source": [
    "fruits4 = [\"apple\", \"banana\", \"cherry\", \"date\"]\n",
    "index = 0\n",
    "\n",
    "while index < len(fruits4):\n",
    "    print(fruits4)\n",
    "    index += 1"
   ]
  },
  {
   "cell_type": "code",
   "execution_count": null,
   "id": "090d5ae4-37f9-4534-afba-73b8be9ed6fb",
   "metadata": {},
   "outputs": [],
   "source": [
    "fruits4 = [\"apple\", \"banana\", \"cherry\", \"date\"]\n",
    "index = 0\n",
    "\n",
    "while index < len(fruits4):\n",
    "    print(fruits4,index)\n",
    "    index += 1"
   ]
  },
  {
   "cell_type": "code",
   "execution_count": null,
   "id": "a3063f3e-0281-4aa9-9020-04a288c55c36",
   "metadata": {},
   "outputs": [],
   "source": [
    "fruits5 = [\"apple\", \"banana\", \"cherry\", \"date\"]\n",
    "index = 0\n",
    "\n",
    "while index < len(fruits5):\n",
    "    print(fruits5[index])\n",
    "    index += 1"
   ]
  },
  {
   "cell_type": "code",
   "execution_count": null,
   "id": "f5ad8697-537e-4e7b-80d2-b4888cda95a3",
   "metadata": {},
   "outputs": [],
   "source": [
    "#inner loop\n",
    "j = 0\n",
    "while j < 6:\n",
    "    print(j)\n",
    "    j += 1"
   ]
  },
  {
   "cell_type": "code",
   "execution_count": null,
   "id": "512c7023-4ce0-45dc-999c-ae56db90ff39",
   "metadata": {},
   "outputs": [],
   "source": [
    "j = 0\n",
    "while j < 6:\n",
    "    print(j,end=\" \")\n",
    "    j += 1"
   ]
  },
  {
   "cell_type": "code",
   "execution_count": 2,
   "id": "29b074a6-e489-4df4-a136-76728e0c35ee",
   "metadata": {},
   "outputs": [
    {
     "name": "stdout",
     "output_type": "stream",
     "text": [
      "0 1 2 3 4 5 \n",
      "0 1 2 3 4 5 \n",
      "0 1 2 3 4 5 \n",
      "0 1 2 3 4 5 \n"
     ]
    }
   ],
   "source": [
    "\n",
    "i = 0\n",
    "while i < 4:\n",
    "    j = 0\n",
    "    while j < 6:\n",
    "        print(j,end=\" \")\n",
    "        j += 1\n",
    "    print()\n",
    "    i += 1"
   ]
  },
  {
   "cell_type": "code",
   "execution_count": 3,
   "id": "ae246bc9-78fd-4719-a5dd-2f2d77a0a1ba",
   "metadata": {},
   "outputs": [
    {
     "name": "stdout",
     "output_type": "stream",
     "text": [
      "0 1 2 3 4 5 \n",
      "0 1 2 3 4 5 \n",
      "0 1 2 3 4 5 \n",
      "0 1 2 3 4 5 \n",
      "0 1 2 3 4 5 \n"
     ]
    }
   ],
   "source": [
    "i = 0\n",
    "while i < 5:\n",
    "    j = 0\n",
    "    while j < 6:\n",
    "        print(j,end=\" \")\n",
    "        j += 1\n",
    "    print()\n",
    "    i += 1"
   ]
  },
  {
   "cell_type": "code",
   "execution_count": 1,
   "id": "5d5b8557-8cda-4684-9e67-3778626a30cd",
   "metadata": {},
   "outputs": [
    {
     "name": "stdout",
     "output_type": "stream",
     "text": [
      "0 1 2 3 4 5 \n",
      "\n",
      "\n",
      "\n"
     ]
    }
   ],
   "source": [
    "x = 0\n",
    "y = 0\n",
    "\n",
    "while x < 4:\n",
    "    while y < 6:\n",
    "        print(y,end=\" \")\n",
    "        y += 1\n",
    "    print()\n",
    "    x += 1"
   ]
  },
  {
   "cell_type": "code",
   "execution_count": null,
   "id": "d872c9e4-b730-4bd6-9540-8feb1a62f4cb",
   "metadata": {},
   "outputs": [],
   "source": [
    "# Nested While Loop\n",
    "#pattern\n",
    "# 0 1 2 3 4 5\n",
    "# 0 1 2 3 4 5\n",
    "# 0 1 2 3 4 5\n",
    "\n"
   ]
  },
  {
   "cell_type": "code",
   "execution_count": null,
   "id": "416d5616-cda6-47b4-94c8-fe594eae0bac",
   "metadata": {},
   "outputs": [],
   "source": [
    "#Check numbers even or odd from 1 to 10\n",
    "for example:\n",
    "output:\n",
    "1: odd\n",
    "2: even\n"
   ]
  },
  {
   "cell_type": "code",
   "execution_count": null,
   "id": "008a4177-75e3-47a3-af14-8106baf764fc",
   "metadata": {},
   "outputs": [],
   "source": [
    "#Check numbers divisble by 3 from 3 to 15\n",
    "for example:\n",
    "output:\n",
    "3: divisble\n",
    "5: not divisible"
   ]
  },
  {
   "cell_type": "code",
   "execution_count": null,
   "id": "3878a672-8e6c-43dc-8712-ea9ec5a39dcb",
   "metadata": {},
   "outputs": [],
   "source": [
    "# Counts down from a number n to 1, printing each number. For example, if n = 5, the output should be 5 4 3 2 1.\n",
    "\n"
   ]
  },
  {
   "cell_type": "code",
   "execution_count": null,
   "id": "763d2905-5de5-4073-a705-b135681f82bf",
   "metadata": {},
   "outputs": [],
   "source": []
  },
  {
   "cell_type": "markdown",
   "id": "d0cb27b6-9b19-4455-ae05-fe3ec368d565",
   "metadata": {},
   "source": [
    "### for loop: \n",
    "\n",
    "for loop is used to iterate over a sequence (like a list, tuple, or range) and execute the block of code once for each item in the sequence."
   ]
  },
  {
   "cell_type": "code",
   "execution_count": null,
   "id": "7180a4b4-2fc3-494c-a2a8-d11d54fd5b79",
   "metadata": {},
   "outputs": [],
   "source": [
    "# for item in iterable:\n",
    "#     # code block to execute"
   ]
  },
  {
   "cell_type": "code",
   "execution_count": 4,
   "id": "a86ae144-798e-4952-a861-47cac93cce24",
   "metadata": {},
   "outputs": [
    {
     "name": "stdout",
     "output_type": "stream",
     "text": [
      "apple\n",
      "banana\n",
      "cherry\n"
     ]
    }
   ],
   "source": [
    "vegetables = [\"apple\", \"banana\", \"cherry\"]\n",
    "for u in vegetables:\n",
    "    print(u)"
   ]
  },
  {
   "cell_type": "code",
   "execution_count": 5,
   "id": "dfeb4177-c355-48e2-9b81-9c97c1645a1d",
   "metadata": {},
   "outputs": [
    {
     "name": "stdout",
     "output_type": "stream",
     "text": [
      "P\n",
      "y\n",
      "t\n",
      "h\n",
      "o\n",
      "n\n"
     ]
    }
   ],
   "source": [
    "word = \"Python\"\n",
    "for words in word:\n",
    "    print(words)"
   ]
  },
  {
   "cell_type": "code",
   "execution_count": 6,
   "id": "e7e2d1d9-4e0b-4b5f-8a76-71876b534734",
   "metadata": {},
   "outputs": [
    {
     "name": "stdout",
     "output_type": "stream",
     "text": [
      "1\n",
      "2\n",
      "3\n",
      "4\n",
      "5\n"
     ]
    }
   ],
   "source": [
    "# The range() function generates a sequence\n",
    "\n",
    "for x in range(1,6):\n",
    "    print(x)"
   ]
  },
  {
   "cell_type": "code",
   "execution_count": 7,
   "id": "10dbdd76-7cd9-42de-8344-4403c5f23926",
   "metadata": {},
   "outputs": [
    {
     "name": "stdout",
     "output_type": "stream",
     "text": [
      "1\n",
      "3\n",
      "5\n",
      "7\n",
      "9\n",
      "11\n",
      "13\n"
     ]
    }
   ],
   "source": [
    "for x in range(1,15,2):\n",
    "    print(x)"
   ]
  },
  {
   "cell_type": "code",
   "execution_count": 9,
   "id": "6fac6eb5-a24f-4821-b3f4-5ccdb2ee5702",
   "metadata": {},
   "outputs": [
    {
     "name": "stdout",
     "output_type": "stream",
     "text": [
      "hello world\n",
      "hello world\n",
      "hello world\n",
      "hello world\n",
      "hello world\n",
      "hello world\n"
     ]
    }
   ],
   "source": [
    "#print hello world 5 times\n",
    "\n",
    "for count in range(6):\n",
    "    print('hello world')"
   ]
  },
  {
   "cell_type": "code",
   "execution_count": 10,
   "id": "6886680c-0eda-45a0-a55e-9033097ad93c",
   "metadata": {},
   "outputs": [
    {
     "name": "stdout",
     "output_type": "stream",
     "text": [
      "0 hello world\n",
      "1 hello world\n",
      "2 hello world\n",
      "3 hello world\n",
      "4 hello world\n",
      "5 hello world\n"
     ]
    }
   ],
   "source": [
    "\n",
    "for count in range(6):\n",
    "    print(count,'hello world')"
   ]
  },
  {
   "cell_type": "code",
   "execution_count": null,
   "id": "f57977e7-d1ff-4e1c-a36f-cc730cadd505",
   "metadata": {},
   "outputs": [],
   "source": [
    "#start, #end\n"
   ]
  },
  {
   "cell_type": "code",
   "execution_count": null,
   "id": "bf6186c6-4d1a-4e12-9594-a1593f85f514",
   "metadata": {},
   "outputs": [],
   "source": []
  },
  {
   "cell_type": "code",
   "execution_count": 11,
   "id": "c059d199-2b6a-4aab-8298-7dfced4ebef4",
   "metadata": {},
   "outputs": [
    {
     "name": "stdout",
     "output_type": "stream",
     "text": [
      "1\n",
      "2\n",
      "3\n",
      "4\n",
      "5\n",
      "6\n"
     ]
    }
   ],
   "source": [
    "#break\n",
    "\n",
    "for i in range(1,10):\n",
    "    if i == 7:\n",
    "        break\n",
    "    print(i)\n"
   ]
  },
  {
   "cell_type": "code",
   "execution_count": 12,
   "id": "c2ae25bd-ac4e-4a2f-b2b8-02aef4199fa7",
   "metadata": {},
   "outputs": [
    {
     "name": "stdout",
     "output_type": "stream",
     "text": [
      "1\n",
      "2\n",
      "3\n",
      "4\n",
      "5\n",
      "6\n",
      "8\n",
      "9\n"
     ]
    }
   ],
   "source": [
    "#continue\n",
    "for i in range(1,10):\n",
    "    if i == 7:\n",
    "        continue\n",
    "    print(i)"
   ]
  },
  {
   "cell_type": "code",
   "execution_count": null,
   "id": "27cd7525-071b-4dc9-b466-b05d94fe81da",
   "metadata": {},
   "outputs": [],
   "source": [
    "#print table of 5\n",
    "for example:\n",
    "output:\n",
    "5 x 1 = 5\n",
    "5 x 2 = 2"
   ]
  },
  {
   "cell_type": "code",
   "execution_count": null,
   "id": "05165050-f985-4927-ae88-d63be4dd28f1",
   "metadata": {},
   "outputs": [],
   "source": [
    "#factorial\n",
    "#find factorial of number provided by user using input method\n"
   ]
  },
  {
   "cell_type": "code",
   "execution_count": null,
   "id": "43eb432d-a7d9-4580-84b0-c33208ce9d1f",
   "metadata": {},
   "outputs": [],
   "source": []
  },
  {
   "cell_type": "code",
   "execution_count": null,
   "id": "c26ae308-e229-4801-a492-39ff30eb617b",
   "metadata": {},
   "outputs": [],
   "source": []
  }
 ],
 "metadata": {
  "kernelspec": {
   "display_name": "Python 3 (ipykernel)",
   "language": "python",
   "name": "python3"
  },
  "language_info": {
   "codemirror_mode": {
    "name": "ipython",
    "version": 3
   },
   "file_extension": ".py",
   "mimetype": "text/x-python",
   "name": "python",
   "nbconvert_exporter": "python",
   "pygments_lexer": "ipython3",
   "version": "3.12.7"
  }
 },
 "nbformat": 4,
 "nbformat_minor": 5
}
