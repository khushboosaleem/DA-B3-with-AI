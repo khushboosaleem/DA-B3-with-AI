{
 "cells": [
  {
   "cell_type": "markdown",
   "id": "8b234b75-6ea3-43c7-962f-9ad211d30bc7",
   "metadata": {},
   "source": [
    "### Dictionary {key:value}"
   ]
  },
  {
   "cell_type": "markdown",
   "id": "6cfa6cb3-1d25-46d7-b6ad-6fe7d60034eb",
   "metadata": {},
   "source": [
    "In Python, a dictionary is mutable collection of key-value pairs. It is one of the most versatile data structures in Python, allowing you to efficiently store and retrieve data based on custom keys."
   ]
  },
  {
   "cell_type": "code",
   "execution_count": 1,
   "id": "870248d6-cdc9-4355-b971-6ec98338af85",
   "metadata": {},
   "outputs": [],
   "source": [
    "#mutable\n",
    "#indexed by key\n",
    "#no duplicates\n",
    "\n"
   ]
  },
  {
   "cell_type": "code",
   "execution_count": 2,
   "id": "c7e685e3-95ae-4a08-8d37-76964fbb2eba",
   "metadata": {},
   "outputs": [
    {
     "data": {
      "text/plain": [
       "{'name': 'ali', 'age': 22, 'student': True}"
      ]
     },
     "execution_count": 2,
     "metadata": {},
     "output_type": "execute_result"
    }
   ],
   "source": [
    "#dict syntax\n",
    "#key 'name'\n",
    "#value 'ali'\n",
    "\n",
    "my_dict = {\n",
    "    'name' : 'ali', #item\n",
    "    'age' : 22,\n",
    "    'student' : True\n",
    "}\n",
    "\n",
    "my_dict"
   ]
  },
  {
   "cell_type": "code",
   "execution_count": 3,
   "id": "dcdcf4a8-6e5c-4a1d-a916-6663c5e868ad",
   "metadata": {},
   "outputs": [
    {
     "ename": "SyntaxError",
     "evalue": "invalid syntax. Perhaps you forgot a comma? (804099910.py, line 3)",
     "output_type": "error",
     "traceback": [
      "\u001b[1;36m  Cell \u001b[1;32mIn[3], line 3\u001b[1;36m\u001b[0m\n\u001b[1;33m    'age' : 22\u001b[0m\n\u001b[1;37m            ^\u001b[0m\n\u001b[1;31mSyntaxError\u001b[0m\u001b[1;31m:\u001b[0m invalid syntax. Perhaps you forgot a comma?\n"
     ]
    }
   ],
   "source": [
    "my_dict = {\n",
    "    'name' : 'ali',\n",
    "    'age' : 22\n",
    "    'student' : True\n",
    "}\n",
    "\n",
    "my_dict"
   ]
  },
  {
   "cell_type": "code",
   "execution_count": 4,
   "id": "650a2049-db02-4d0c-872a-0ab35acc7a64",
   "metadata": {},
   "outputs": [
    {
     "ename": "NameError",
     "evalue": "name 'name' is not defined",
     "output_type": "error",
     "traceback": [
      "\u001b[1;31m---------------------------------------------------------------------------\u001b[0m",
      "\u001b[1;31mNameError\u001b[0m                                 Traceback (most recent call last)",
      "Cell \u001b[1;32mIn[4], line 2\u001b[0m\n\u001b[0;32m      1\u001b[0m my_dict \u001b[38;5;241m=\u001b[39m {\n\u001b[1;32m----> 2\u001b[0m     name : \u001b[38;5;124m'\u001b[39m\u001b[38;5;124mali\u001b[39m\u001b[38;5;124m'\u001b[39m,\n\u001b[0;32m      3\u001b[0m     \u001b[38;5;124m'\u001b[39m\u001b[38;5;124mage\u001b[39m\u001b[38;5;124m'\u001b[39m : \u001b[38;5;241m22\u001b[39m,\n\u001b[0;32m      4\u001b[0m     \u001b[38;5;124m'\u001b[39m\u001b[38;5;124mstudent\u001b[39m\u001b[38;5;124m'\u001b[39m : \u001b[38;5;28;01mTrue\u001b[39;00m\n\u001b[0;32m      5\u001b[0m }\n\u001b[0;32m      7\u001b[0m my_dict\n",
      "\u001b[1;31mNameError\u001b[0m: name 'name' is not defined"
     ]
    }
   ],
   "source": [
    "my_dict = {\n",
    "    name : 'ali',\n",
    "    'age' : 22,\n",
    "    'student' : True\n",
    "}\n",
    "\n",
    "my_dict"
   ]
  },
  {
   "cell_type": "code",
   "execution_count": null,
   "id": "6e7a039c-390a-4f7d-ab81-6c4e7c5aaa08",
   "metadata": {},
   "outputs": [],
   "source": [
    "my_dict = {\n",
    "    'name' = 'ali',\n",
    "    'age' : 22,\n",
    "    'student' : True\n",
    "}\n",
    "my_dict"
   ]
  },
  {
   "cell_type": "code",
   "execution_count": null,
   "id": "39cfeb26-41c7-40e5-bad7-54d2258386a5",
   "metadata": {},
   "outputs": [],
   "source": [
    "my_dict1 = {\n",
    "    'name' : ['ali', 'khan', 'john'],\n",
    "    'age' : 22,\n",
    "    'student' : True\n",
    "}\n",
    "\n",
    "my_dict1"
   ]
  },
  {
   "cell_type": "code",
   "execution_count": 5,
   "id": "6da32c86-da1a-4648-9bf1-a544f0fa416e",
   "metadata": {},
   "outputs": [
    {
     "data": {
      "text/plain": [
       "{'name': ('ali', 'khan', 'john'), 'age': 22, 'student': True}"
      ]
     },
     "execution_count": 5,
     "metadata": {},
     "output_type": "execute_result"
    }
   ],
   "source": [
    "my_dict1 = {\n",
    "    'name' : ('ali', 'khan', 'john'),\n",
    "    'age' : 22,\n",
    "    'student' : True\n",
    "}\n",
    "\n",
    "my_dict1"
   ]
  },
  {
   "cell_type": "code",
   "execution_count": 6,
   "id": "e44ef663-291c-4e52-a099-8e122488bf84",
   "metadata": {},
   "outputs": [
    {
     "data": {
      "text/plain": [
       "{1: 'ahmed', 2: 22, 3: True}"
      ]
     },
     "execution_count": 6,
     "metadata": {},
     "output_type": "execute_result"
    }
   ],
   "source": [
    "my_dict3 = {\n",
    "    1 : 'ahmed',\n",
    "    2 : 22,\n",
    "    3 : True\n",
    "}\n",
    "\n",
    "my_dict3"
   ]
  },
  {
   "cell_type": "code",
   "execution_count": 7,
   "id": "66d20622-c1f7-4d7f-943a-8101079bc786",
   "metadata": {},
   "outputs": [
    {
     "ename": "SyntaxError",
     "evalue": "expression expected after dictionary key and ':' (3301878339.py, line 2)",
     "output_type": "error",
     "traceback": [
      "\u001b[1;36m  Cell \u001b[1;32mIn[7], line 2\u001b[1;36m\u001b[0m\n\u001b[1;33m    'name' : ,\u001b[0m\n\u001b[1;37m           ^\u001b[0m\n\u001b[1;31mSyntaxError\u001b[0m\u001b[1;31m:\u001b[0m expression expected after dictionary key and ':'\n"
     ]
    }
   ],
   "source": [
    "my_dict = {\n",
    "    'name' : ,\n",
    "    'age' : ,\n",
    "    'student' : \n",
    "}\n",
    "my_dict"
   ]
  },
  {
   "cell_type": "code",
   "execution_count": 8,
   "id": "ff49978b-ebba-4865-9f04-f91c3bff8190",
   "metadata": {},
   "outputs": [
    {
     "ename": "SyntaxError",
     "evalue": "expression expected after dictionary key and ':' (2893454930.py, line 2)",
     "output_type": "error",
     "traceback": [
      "\u001b[1;36m  Cell \u001b[1;32mIn[8], line 2\u001b[1;36m\u001b[0m\n\u001b[1;33m    'name' :\u001b[0m\n\u001b[1;37m           ^\u001b[0m\n\u001b[1;31mSyntaxError\u001b[0m\u001b[1;31m:\u001b[0m expression expected after dictionary key and ':'\n"
     ]
    }
   ],
   "source": [
    "my_dict = {\n",
    "    'name' :  \n",
    "}\n",
    "my_dict"
   ]
  },
  {
   "cell_type": "code",
   "execution_count": 9,
   "id": "a07e3883-594f-4266-890e-c85185ad8d1b",
   "metadata": {},
   "outputs": [
    {
     "data": {
      "text/plain": [
       "{1: 'ali', 'age': 22, 'student': True}"
      ]
     },
     "execution_count": 9,
     "metadata": {},
     "output_type": "execute_result"
    }
   ],
   "source": [
    "#ordered\n",
    "my_dictx = {\n",
    "    1 : 'ali',\n",
    "    'age' : 22,\n",
    "    'student' : True\n",
    "}\n",
    "\n",
    "my_dictx"
   ]
  },
  {
   "cell_type": "code",
   "execution_count": 10,
   "id": "4d1a1d98-4911-4fc7-935a-3f3a259187ee",
   "metadata": {},
   "outputs": [
    {
     "data": {
      "text/plain": [
       "{'age': 22, 'student': True, 1: 'ali'}"
      ]
     },
     "execution_count": 10,
     "metadata": {},
     "output_type": "execute_result"
    }
   ],
   "source": [
    "my_dictx = {\n",
    "    'age' : 22,\n",
    "    'student' : True,\n",
    "    1 : 'ali',\n",
    "}\n",
    "\n",
    "my_dictx"
   ]
  },
  {
   "cell_type": "code",
   "execution_count": 11,
   "id": "c2d1d962-ee72-481a-88ad-592259b6f737",
   "metadata": {},
   "outputs": [
    {
     "data": {
      "text/plain": [
       "22"
      ]
     },
     "execution_count": 11,
     "metadata": {},
     "output_type": "execute_result"
    }
   ],
   "source": [
    "#indexed by key\n",
    "# Unlike lists, which are indexed by numbers, dictionaries use keys to access values.\n",
    "my_dict = {\n",
    "    'name' : 'ali',\n",
    "    'age' : 22,\n",
    "    'student' : True\n",
    "}\n",
    "\n",
    "my_dict['age']"
   ]
  },
  {
   "cell_type": "code",
   "execution_count": 12,
   "id": "ba2d867e-ddd3-4927-9185-aac6bb2239c3",
   "metadata": {},
   "outputs": [
    {
     "data": {
      "text/plain": [
       "{'name': 'sagar', 'age': 11, 'student': True}"
      ]
     },
     "execution_count": 12,
     "metadata": {},
     "output_type": "execute_result"
    }
   ],
   "source": [
    "#no duplicates\n",
    "# Each key in a dictionary must be unique, but different keys can have the same value.\n",
    "my_dict6 = {\n",
    "    'name' : 'ali',\n",
    "    'age' : 22,\n",
    "    'student' : True,\n",
    "    'name' : 'sagar',\n",
    "    'age' : 11\n",
    "}\n",
    "my_dict6"
   ]
  },
  {
   "cell_type": "code",
   "execution_count": 13,
   "id": "4449cf56-e6e9-4c44-9ddc-db09c6ec9669",
   "metadata": {},
   "outputs": [],
   "source": [
    "# # Accessing Values in a Dictionary\n",
    "# my_dict['name']"
   ]
  },
  {
   "cell_type": "code",
   "execution_count": 14,
   "id": "5c32e0b8-be15-4e1c-bedf-155517838092",
   "metadata": {},
   "outputs": [
    {
     "data": {
      "text/plain": [
       "{'name': 'ali', 'age': 33, 'student': True}"
      ]
     },
     "execution_count": 14,
     "metadata": {},
     "output_type": "execute_result"
    }
   ],
   "source": [
    "# #Modifying a Dictionary\n",
    "my_dictt = {\n",
    "    'name' : 'ali',\n",
    "    'age' : 22,\n",
    "    'student' : True\n",
    "}\n",
    "my_dictt['age']=33\n",
    "my_dictt"
   ]
  },
  {
   "cell_type": "code",
   "execution_count": 15,
   "id": "32e12a69-087c-427f-b0b4-3dd2445d426c",
   "metadata": {},
   "outputs": [],
   "source": [
    "# my_dict['age']=33\n",
    "# my_dict\n"
   ]
  },
  {
   "cell_type": "code",
   "execution_count": 16,
   "id": "507afacd-9a46-4d21-aca9-31876340bf4b",
   "metadata": {},
   "outputs": [
    {
     "ename": "KeyError",
     "evalue": "'grade'",
     "output_type": "error",
     "traceback": [
      "\u001b[1;31m---------------------------------------------------------------------------\u001b[0m",
      "\u001b[1;31mKeyError\u001b[0m                                  Traceback (most recent call last)",
      "Cell \u001b[1;32mIn[16], line 2\u001b[0m\n\u001b[0;32m      1\u001b[0m \u001b[38;5;66;03m# #errors\u001b[39;00m\n\u001b[1;32m----> 2\u001b[0m my_dict[\u001b[38;5;124m'\u001b[39m\u001b[38;5;124mgrade\u001b[39m\u001b[38;5;124m'\u001b[39m]\n",
      "\u001b[1;31mKeyError\u001b[0m: 'grade'"
     ]
    }
   ],
   "source": [
    "# #errors\n",
    "my_dict['grade']"
   ]
  },
  {
   "cell_type": "code",
   "execution_count": 17,
   "id": "a74d4043-c049-4dea-91dc-9a8d48464944",
   "metadata": {},
   "outputs": [
    {
     "data": {
      "text/plain": [
       "{'color': 'white', 'name': 'alto', 'model': 2001}"
      ]
     },
     "execution_count": 17,
     "metadata": {},
     "output_type": "execute_result"
    }
   ],
   "source": [
    "car = {\n",
    "    'color' : 'white',\n",
    "    'name' : 'alto',\n",
    "    'model' : 2001,\n",
    "}\n",
    "car"
   ]
  },
  {
   "cell_type": "code",
   "execution_count": 18,
   "id": "69921fab-47cd-4ee1-9ec6-d9ed479f486d",
   "metadata": {},
   "outputs": [
    {
     "data": {
      "text/plain": [
       "{101: {'name': 'khan', 'age': 22, 'Salary': 2222222},\n",
       " 102: {'name': 'alice', 'age': 33, 'Salary': 2222},\n",
       " 103: {'name': 'john cena', 'age': 11, 'Salary': 22}}"
      ]
     },
     "execution_count": 18,
     "metadata": {},
     "output_type": "execute_result"
    }
   ],
   "source": [
    "# # Nesting Dictionaries\n",
    "employee = {\n",
    "    101 : {'name': 'khan', 'age' : 22, 'Salary' : 2222222},\n",
    "    102 : {'name': 'alice', 'age' : 33, 'Salary' : 2222},\n",
    "    103 : {'name': 'john cena', 'age' : 11, 'Salary' : 22}\n",
    "}\n",
    "employee"
   ]
  },
  {
   "cell_type": "code",
   "execution_count": 19,
   "id": "7ea24a43-5b33-4101-b1cb-6986621e0771",
   "metadata": {},
   "outputs": [
    {
     "data": {
      "text/plain": [
       "{'name': 'john cena', 'age': 11, 'Salary': 22}"
      ]
     },
     "execution_count": 19,
     "metadata": {},
     "output_type": "execute_result"
    }
   ],
   "source": [
    "employee[103]"
   ]
  },
  {
   "cell_type": "code",
   "execution_count": 20,
   "id": "42d6dc76-49d6-4840-8ea0-237498d0ed36",
   "metadata": {},
   "outputs": [
    {
     "data": {
      "text/plain": [
       "22"
      ]
     },
     "execution_count": 20,
     "metadata": {},
     "output_type": "execute_result"
    }
   ],
   "source": [
    "employee[103]['Salary']"
   ]
  },
  {
   "cell_type": "code",
   "execution_count": 21,
   "id": "660f9101-8f14-43e2-838c-ab2e5845ef25",
   "metadata": {},
   "outputs": [
    {
     "ename": "KeyError",
     "evalue": "slice(None, 2, None)",
     "output_type": "error",
     "traceback": [
      "\u001b[1;31m---------------------------------------------------------------------------\u001b[0m",
      "\u001b[1;31mKeyError\u001b[0m                                  Traceback (most recent call last)",
      "Cell \u001b[1;32mIn[21], line 1\u001b[0m\n\u001b[1;32m----> 1\u001b[0m employee[:\u001b[38;5;241m2\u001b[39m]\n",
      "\u001b[1;31mKeyError\u001b[0m: slice(None, 2, None)"
     ]
    }
   ],
   "source": [
    "employee[:2]"
   ]
  },
  {
   "cell_type": "code",
   "execution_count": 22,
   "id": "79352a2f-6775-4aec-88f4-6b3698f76e1d",
   "metadata": {},
   "outputs": [
    {
     "data": {
      "text/plain": [
       "['__class__',\n",
       " '__class_getitem__',\n",
       " '__contains__',\n",
       " '__delattr__',\n",
       " '__delitem__',\n",
       " '__dir__',\n",
       " '__doc__',\n",
       " '__eq__',\n",
       " '__format__',\n",
       " '__ge__',\n",
       " '__getattribute__',\n",
       " '__getitem__',\n",
       " '__getstate__',\n",
       " '__gt__',\n",
       " '__hash__',\n",
       " '__init__',\n",
       " '__init_subclass__',\n",
       " '__ior__',\n",
       " '__iter__',\n",
       " '__le__',\n",
       " '__len__',\n",
       " '__lt__',\n",
       " '__ne__',\n",
       " '__new__',\n",
       " '__or__',\n",
       " '__reduce__',\n",
       " '__reduce_ex__',\n",
       " '__repr__',\n",
       " '__reversed__',\n",
       " '__ror__',\n",
       " '__setattr__',\n",
       " '__setitem__',\n",
       " '__sizeof__',\n",
       " '__str__',\n",
       " '__subclasshook__',\n",
       " 'clear',\n",
       " 'copy',\n",
       " 'fromkeys',\n",
       " 'get',\n",
       " 'items',\n",
       " 'keys',\n",
       " 'pop',\n",
       " 'popitem',\n",
       " 'setdefault',\n",
       " 'update',\n",
       " 'values']"
      ]
     },
     "execution_count": 22,
     "metadata": {},
     "output_type": "execute_result"
    }
   ],
   "source": [
    "#methods\n",
    "#dict\n",
    "dir({})"
   ]
  },
  {
   "cell_type": "code",
   "execution_count": 23,
   "id": "5f98b56b-9021-4e93-940c-2f2466818647",
   "metadata": {},
   "outputs": [
    {
     "data": {
      "text/plain": [
       "dict"
      ]
     },
     "execution_count": 23,
     "metadata": {},
     "output_type": "execute_result"
    }
   ],
   "source": [
    "type(my_dict)"
   ]
  },
  {
   "cell_type": "code",
   "execution_count": 24,
   "id": "c2325e45-6f1e-4b40-94d2-684a9edce94e",
   "metadata": {},
   "outputs": [
    {
     "data": {
      "text/plain": [
       "['__class__',\n",
       " '__class_getitem__',\n",
       " '__contains__',\n",
       " '__delattr__',\n",
       " '__delitem__',\n",
       " '__dir__',\n",
       " '__doc__',\n",
       " '__eq__',\n",
       " '__format__',\n",
       " '__ge__',\n",
       " '__getattribute__',\n",
       " '__getitem__',\n",
       " '__getstate__',\n",
       " '__gt__',\n",
       " '__hash__',\n",
       " '__init__',\n",
       " '__init_subclass__',\n",
       " '__ior__',\n",
       " '__iter__',\n",
       " '__le__',\n",
       " '__len__',\n",
       " '__lt__',\n",
       " '__ne__',\n",
       " '__new__',\n",
       " '__or__',\n",
       " '__reduce__',\n",
       " '__reduce_ex__',\n",
       " '__repr__',\n",
       " '__reversed__',\n",
       " '__ror__',\n",
       " '__setattr__',\n",
       " '__setitem__',\n",
       " '__sizeof__',\n",
       " '__str__',\n",
       " '__subclasshook__',\n",
       " 'clear',\n",
       " 'copy',\n",
       " 'fromkeys',\n",
       " 'get',\n",
       " 'items',\n",
       " 'keys',\n",
       " 'pop',\n",
       " 'popitem',\n",
       " 'setdefault',\n",
       " 'update',\n",
       " 'values']"
      ]
     },
     "execution_count": 24,
     "metadata": {},
     "output_type": "execute_result"
    }
   ],
   "source": [
    "dir(dict)"
   ]
  },
  {
   "cell_type": "code",
   "execution_count": 25,
   "id": "3e3d4a70-987a-4759-911a-643a3201a965",
   "metadata": {},
   "outputs": [
    {
     "data": {
      "text/plain": [
       "dict_keys(['name', 'age', 'student'])"
      ]
     },
     "execution_count": 25,
     "metadata": {},
     "output_type": "execute_result"
    }
   ],
   "source": [
    "my_dict.keys()"
   ]
  },
  {
   "cell_type": "code",
   "execution_count": 26,
   "id": "a8ed5c4d-c753-4419-a0eb-eaa41d336add",
   "metadata": {},
   "outputs": [
    {
     "data": {
      "text/plain": [
       "'ali'"
      ]
     },
     "execution_count": 26,
     "metadata": {},
     "output_type": "execute_result"
    }
   ],
   "source": [
    "my_dict11 = {\n",
    "    'name' : 'ali',\n",
    "    'age' : 22,\n",
    "    'student' : True\n",
    "}\n",
    "\n",
    "my_dict11.get('name')"
   ]
  },
  {
   "cell_type": "code",
   "execution_count": 27,
   "id": "55d9d053-3610-4f85-9ea4-8cd6256b1546",
   "metadata": {},
   "outputs": [
    {
     "data": {
      "text/plain": [
       "22"
      ]
     },
     "execution_count": 27,
     "metadata": {},
     "output_type": "execute_result"
    }
   ],
   "source": [
    "my_dict11 = {\n",
    "    'name' : 'ali',\n",
    "    'age' : 22,\n",
    "    'student' : True\n",
    "}\n",
    "\n",
    "my_dict11.get('age')"
   ]
  },
  {
   "cell_type": "code",
   "execution_count": 28,
   "id": "4089a57c-4709-4bc9-91bf-a8323a20f41d",
   "metadata": {},
   "outputs": [
    {
     "ename": "SyntaxError",
     "evalue": "cannot assign to function call here. Maybe you meant '==' instead of '='? (3884728723.py, line 7)",
     "output_type": "error",
     "traceback": [
      "\u001b[1;36m  Cell \u001b[1;32mIn[28], line 7\u001b[1;36m\u001b[0m\n\u001b[1;33m    my_dict11.get('age')=33\u001b[0m\n\u001b[1;37m    ^\u001b[0m\n\u001b[1;31mSyntaxError\u001b[0m\u001b[1;31m:\u001b[0m cannot assign to function call here. Maybe you meant '==' instead of '='?\n"
     ]
    }
   ],
   "source": [
    "my_dict11 = {\n",
    "    'name' : 'ali',\n",
    "    'age' : 22,\n",
    "    'student' : True\n",
    "}\n",
    "\n",
    "my_dict11.get('age')=33"
   ]
  },
  {
   "cell_type": "code",
   "execution_count": 29,
   "id": "a36345e4-2ad8-4021-8df3-0f3e82d5807f",
   "metadata": {},
   "outputs": [
    {
     "data": {
      "text/plain": [
       "False"
      ]
     },
     "execution_count": 29,
     "metadata": {},
     "output_type": "execute_result"
    }
   ],
   "source": [
    "my_dict11 = {\n",
    "    'name' : 'ali',\n",
    "    'age' : 22,\n",
    "    'student' : True\n",
    "}\n",
    "\n",
    "my_dict11.get('age')==33"
   ]
  },
  {
   "cell_type": "code",
   "execution_count": 30,
   "id": "99357fdb-ab2d-4487-bf83-148387da64da",
   "metadata": {},
   "outputs": [],
   "source": [
    "my_dict12 = {\n",
    "    'name' : 'ali',\n",
    "    'age' : 22,\n",
    "    'student' : True\n",
    "}\n",
    "\n",
    "my_dict12.get('grade')"
   ]
  },
  {
   "cell_type": "code",
   "execution_count": null,
   "id": "99efae23-7f01-4c27-811d-7e02d7c223b3",
   "metadata": {},
   "outputs": [],
   "source": []
  },
  {
   "cell_type": "code",
   "execution_count": null,
   "id": "231ec07e-e448-4f5b-80d1-ab701e933967",
   "metadata": {},
   "outputs": [],
   "source": []
  },
  {
   "cell_type": "code",
   "execution_count": 31,
   "id": "2fd82140-8bf0-4fcd-ad24-9c53e953d525",
   "metadata": {},
   "outputs": [
    {
     "ename": "SyntaxError",
     "evalue": "invalid syntax (3433791490.py, line 7)",
     "output_type": "error",
     "traceback": [
      "\u001b[1;36m  Cell \u001b[1;32mIn[31], line 7\u001b[1;36m\u001b[0m\n\u001b[1;33m    my_dict11.update('grade': 'A')\u001b[0m\n\u001b[1;37m                            ^\u001b[0m\n\u001b[1;31mSyntaxError\u001b[0m\u001b[1;31m:\u001b[0m invalid syntax\n"
     ]
    }
   ],
   "source": [
    "my_dict11 = {\n",
    "    'name' : 'ali',\n",
    "    'age' : 22,\n",
    "    'student' : True\n",
    "}\n",
    "\n",
    "my_dict11.update('grade': 'A')"
   ]
  },
  {
   "cell_type": "code",
   "execution_count": 32,
   "id": "26445e5f-1620-45bb-a399-bf38a6cc425b",
   "metadata": {},
   "outputs": [
    {
     "ename": "SyntaxError",
     "evalue": "cannot assign to function call here. Maybe you meant '==' instead of '='? (3274640866.py, line 7)",
     "output_type": "error",
     "traceback": [
      "\u001b[1;36m  Cell \u001b[1;32mIn[32], line 7\u001b[1;36m\u001b[0m\n\u001b[1;33m    my_dict11.update('grade')='A'\u001b[0m\n\u001b[1;37m    ^\u001b[0m\n\u001b[1;31mSyntaxError\u001b[0m\u001b[1;31m:\u001b[0m cannot assign to function call here. Maybe you meant '==' instead of '='?\n"
     ]
    }
   ],
   "source": [
    "my_dict11 = {\n",
    "    'name' : 'ali',\n",
    "    'age' : 22,\n",
    "    'student' : True\n",
    "}\n",
    "\n",
    "my_dict11.update('grade')='A'"
   ]
  },
  {
   "cell_type": "code",
   "execution_count": 33,
   "id": "d0467f97-959d-4b64-87cc-e3cd09744328",
   "metadata": {},
   "outputs": [
    {
     "data": {
      "text/plain": [
       "{'name': 'ali', 'age': 22, 'student': True, 'grade': 'A+'}"
      ]
     },
     "execution_count": 33,
     "metadata": {},
     "output_type": "execute_result"
    }
   ],
   "source": [
    "my_dict11 = {\n",
    "    'name' : 'ali',\n",
    "    'age' : 22,\n",
    "    'student' : True\n",
    "}\n",
    "\n",
    "my_dict11.update({'grade':'A+'})\n",
    "my_dict11"
   ]
  },
  {
   "cell_type": "code",
   "execution_count": 34,
   "id": "68eb18c3-f379-4aec-b926-f6b7407ce87a",
   "metadata": {},
   "outputs": [
    {
     "data": {
      "text/plain": [
       "{'name': 'ali khan', 'age': 22, 'student': True}"
      ]
     },
     "execution_count": 34,
     "metadata": {},
     "output_type": "execute_result"
    }
   ],
   "source": [
    "my_dict112 = {\n",
    "    'name' : 'ali',\n",
    "    'age' : 22,\n",
    "    'student' : True\n",
    "}\n",
    "\n",
    "my_dict112.update({'name':'ali khan'})\n",
    "my_dict112"
   ]
  },
  {
   "cell_type": "code",
   "execution_count": 35,
   "id": "52545d9f-388b-4315-af01-a166f8a71157",
   "metadata": {},
   "outputs": [],
   "source": [
    "#Practice\n",
    "# Store employee details using employee IDs as keys\n",
    "#find name of 101, position of 102\n",
    "\n",
    "employees = {\n",
    "    101: {\"name\": \"Alice\", \"position\": \"Manager\", \"salary\": 5000},\n",
    "    102: {\"name\": \"Bob\", \"position\": \"Developer\", \"salary\": 4000},\n",
    "    103: {\"name\": \"Charlie\", \"position\": \"HR\", \"salary\": 3500}\n",
    "}"
   ]
  },
  {
   "cell_type": "code",
   "execution_count": 36,
   "id": "e52cbbe3-e881-4f7b-af36-92f438b11b46",
   "metadata": {},
   "outputs": [],
   "source": [
    "# Convert a list of tuples to a dictionary\n",
    "pairs = [(\"name\", \"Alice\"), (\"age\", 30), (\"city\", \"New York\")]\n"
   ]
  },
  {
   "cell_type": "code",
   "execution_count": 37,
   "id": "ca7e1600-17cd-46f7-a5bb-f63098861ac7",
   "metadata": {},
   "outputs": [],
   "source": [
    "# Track inventory in a store\n",
    "inventory = {\n",
    "    \"laptop\": 10,\n",
    "    \"phone\": 25,\n",
    "    \"tablet\": 7\n",
    "}\n",
    "\n",
    "#customer bought two laptops update laptops in inventory withour using method (use assginment operator)\n"
   ]
  },
  {
   "cell_type": "markdown",
   "id": "46accae2-1924-4b31-b9ce-06adac77feb1",
   "metadata": {},
   "source": [
    "## SET\n",
    "\n",
    "A set in Python is an unordered collection of unique elements. This means that a set cannot contain duplicate values, and the elements are stored in no specific order."
   ]
  },
  {
   "cell_type": "code",
   "execution_count": 38,
   "id": "277cf921-9344-415c-ad61-f152f8dfeb0f",
   "metadata": {},
   "outputs": [
    {
     "data": {
      "text/plain": [
       "{1, 2, 3, 'apple'}"
      ]
     },
     "execution_count": 38,
     "metadata": {},
     "output_type": "execute_result"
    }
   ],
   "source": [
    "#ordering\n",
    "#duplicate\n",
    "set1 = {1,2,3,'apple'}\n",
    "set1"
   ]
  },
  {
   "cell_type": "code",
   "execution_count": 39,
   "id": "5a4a162f-9d14-4220-9d47-25bfe4688dc2",
   "metadata": {},
   "outputs": [
    {
     "data": {
      "text/plain": [
       "{1, 2, 2.2, 3, 'apple'}"
      ]
     },
     "execution_count": 39,
     "metadata": {},
     "output_type": "execute_result"
    }
   ],
   "source": [
    "set2 = {1,2,3,'apple',2.2}\n",
    "set2"
   ]
  },
  {
   "cell_type": "code",
   "execution_count": 40,
   "id": "1ed44b43-6fa8-4e21-b091-2c649e844a3a",
   "metadata": {},
   "outputs": [
    {
     "data": {
      "text/plain": [
       "{1, 2, 2.2, 3, 4, 6, 7, 'Cycle', 'apple', 'mango'}"
      ]
     },
     "execution_count": 40,
     "metadata": {},
     "output_type": "execute_result"
    }
   ],
   "source": [
    "set3 = {1,'mango',2,3,'apple',2.2,3,4,6,7,'Cycle'}\n",
    "set3"
   ]
  },
  {
   "cell_type": "code",
   "execution_count": 41,
   "id": "0e4305aa-88e4-4eb2-97fe-d4531ab77ecb",
   "metadata": {},
   "outputs": [
    {
     "data": {
      "text/plain": [
       "{1, 2, 2.2, 3, 4, 6, 7, 'Cycle', False, 'apple', 'mango'}"
      ]
     },
     "execution_count": 41,
     "metadata": {},
     "output_type": "execute_result"
    }
   ],
   "source": [
    "set5 = {1,'mango','mango','mango','mango',True,2,3,'apple',False,2.2,3,4,6,7,'Cycle',}\n",
    "set5"
   ]
  },
  {
   "cell_type": "code",
   "execution_count": 45,
   "id": "750d1b4e-d92e-44fa-ae8a-07b9083e7334",
   "metadata": {},
   "outputs": [
    {
     "data": {
      "text/plain": [
       "{2, 2.2, 3, 4, 6, 7, 'Cycle', False, True, 'apple', 'mango'}"
      ]
     },
     "execution_count": 45,
     "metadata": {},
     "output_type": "execute_result"
    }
   ],
   "source": [
    "set6 = {'mango','mango','mango',True,'mango',True,2,3,'apple',False,2.2,3,4,6,7,'Cycle',}\n",
    "set6"
   ]
  },
  {
   "cell_type": "code",
   "execution_count": 48,
   "id": "69b40f81-2409-4efe-a3f9-faa5f7c2a1d6",
   "metadata": {},
   "outputs": [
    {
     "name": "stdout",
     "output_type": "stream",
     "text": [
      "[50, 40, 30]\n",
      "{40, 50, 30}\n"
     ]
    }
   ],
   "source": [
    "#unordered\n",
    "\n",
    "#list\n",
    "num1 = [50,40,30]\n",
    "print(num1)\n",
    "\n",
    "#set\n",
    "num2 = {50,40,30}\n",
    "print(num2)\n"
   ]
  },
  {
   "cell_type": "code",
   "execution_count": 49,
   "id": "ea4b0bec-6c20-49fe-ac7b-eaf43e27aa8b",
   "metadata": {},
   "outputs": [
    {
     "ename": "TypeError",
     "evalue": "'set' object is not subscriptable",
     "output_type": "error",
     "traceback": [
      "\u001b[1;31m---------------------------------------------------------------------------\u001b[0m",
      "\u001b[1;31mTypeError\u001b[0m                                 Traceback (most recent call last)",
      "Cell \u001b[1;32mIn[49], line 1\u001b[0m\n\u001b[1;32m----> 1\u001b[0m num2[\u001b[38;5;241m1\u001b[39m]\n",
      "\u001b[1;31mTypeError\u001b[0m: 'set' object is not subscriptable"
     ]
    }
   ],
   "source": [
    "#indexing\n",
    "num2[1]"
   ]
  },
  {
   "cell_type": "code",
   "execution_count": 50,
   "id": "7cafdb47-e39b-4a7d-bf52-6f2871f1c6d8",
   "metadata": {},
   "outputs": [
    {
     "data": {
      "text/plain": [
       "set"
      ]
     },
     "execution_count": 50,
     "metadata": {},
     "output_type": "execute_result"
    }
   ],
   "source": [
    "type(num2)"
   ]
  },
  {
   "cell_type": "code",
   "execution_count": 51,
   "id": "fbfeca30-1d63-49b7-87da-95ae09dc4355",
   "metadata": {},
   "outputs": [
    {
     "data": {
      "text/plain": [
       "['__and__',\n",
       " '__class__',\n",
       " '__class_getitem__',\n",
       " '__contains__',\n",
       " '__delattr__',\n",
       " '__dir__',\n",
       " '__doc__',\n",
       " '__eq__',\n",
       " '__format__',\n",
       " '__ge__',\n",
       " '__getattribute__',\n",
       " '__getstate__',\n",
       " '__gt__',\n",
       " '__hash__',\n",
       " '__iand__',\n",
       " '__init__',\n",
       " '__init_subclass__',\n",
       " '__ior__',\n",
       " '__isub__',\n",
       " '__iter__',\n",
       " '__ixor__',\n",
       " '__le__',\n",
       " '__len__',\n",
       " '__lt__',\n",
       " '__ne__',\n",
       " '__new__',\n",
       " '__or__',\n",
       " '__rand__',\n",
       " '__reduce__',\n",
       " '__reduce_ex__',\n",
       " '__repr__',\n",
       " '__ror__',\n",
       " '__rsub__',\n",
       " '__rxor__',\n",
       " '__setattr__',\n",
       " '__sizeof__',\n",
       " '__str__',\n",
       " '__sub__',\n",
       " '__subclasshook__',\n",
       " '__xor__',\n",
       " 'add',\n",
       " 'clear',\n",
       " 'copy',\n",
       " 'difference',\n",
       " 'difference_update',\n",
       " 'discard',\n",
       " 'intersection',\n",
       " 'intersection_update',\n",
       " 'isdisjoint',\n",
       " 'issubset',\n",
       " 'issuperset',\n",
       " 'pop',\n",
       " 'remove',\n",
       " 'symmetric_difference',\n",
       " 'symmetric_difference_update',\n",
       " 'union',\n",
       " 'update']"
      ]
     },
     "execution_count": 51,
     "metadata": {},
     "output_type": "execute_result"
    }
   ],
   "source": [
    "dir(set)"
   ]
  },
  {
   "cell_type": "code",
   "execution_count": 52,
   "id": "a70cacf9-161e-459d-ac62-d634f6a063ee",
   "metadata": {},
   "outputs": [
    {
     "data": {
      "text/plain": [
       "{1, 2, 3, 5, 10, 20, 30, 40, 50}"
      ]
     },
     "execution_count": 52,
     "metadata": {},
     "output_type": "execute_result"
    }
   ],
   "source": [
    "#methods\n",
    "num2 = {50,40,30,20,10}\n",
    "num1 = {1,2,3,5}\n",
    "\n",
    "num1.union(num2)"
   ]
  },
  {
   "cell_type": "code",
   "execution_count": null,
   "id": "2f461eca-6e4b-44eb-b3c2-4fe5addd31b6",
   "metadata": {},
   "outputs": [],
   "source": []
  },
  {
   "cell_type": "code",
   "execution_count": null,
   "id": "d86e4996-4486-481f-bbc9-023a348b30bf",
   "metadata": {},
   "outputs": [],
   "source": [
    "# #operation on set using symbols\n",
    "\n",
    "set1 = {1, 2, 3, 4}\n",
    "set2 = {3, 4, 5, 6}\n",
    "\n",
    "\n",
    "# union_set = set1 | set2\n",
    "# print(union_set)\n",
    "\n",
    "# intersection_set = set1 & set2\n",
    "# print(intersection_set)\n",
    "\n",
    "# difference_set = set1 - set2\n",
    "# print(difference_set)\n",
    "\n",
    "# sym_diff_set = set1 ^ set2 #returns except commmon\n",
    "# print(sym_diff_set)"
   ]
  },
  {
   "cell_type": "code",
   "execution_count": null,
   "id": "72c9c474-cfa1-4ed3-aee9-30051b93c90a",
   "metadata": {},
   "outputs": [],
   "source": [
    "#PRACTICE\n",
    "\n",
    "# Remove duplicates from a list\n",
    "names = [\"Alice\", \"Bob\", \"Alice\", \"Eve\", \"Bob\"]"
   ]
  },
  {
   "cell_type": "code",
   "execution_count": null,
   "id": "c7636ea5-fff6-4532-b2f1-f8e41d95c2dd",
   "metadata": {},
   "outputs": [],
   "source": [
    "# Find common items between two lists (intersection)\n",
    "\n",
    "math_students = [\"Alice\", \"Bob\", \"Charlie\"]\n",
    "science_students = [\"Bob\", \"David\", \"Charlie\"]\n"
   ]
  },
  {
   "cell_type": "code",
   "execution_count": null,
   "id": "86df047d-e2cb-4682-aea9-1c810b8a2e92",
   "metadata": {},
   "outputs": [],
   "source": [
    "# Keep only unique words from a sentence\n",
    "sentence = \"the cat and the dog and the mouse\"\n"
   ]
  },
  {
   "cell_type": "code",
   "execution_count": null,
   "id": "e909fa41-fa80-4aa9-86f3-d1796ab10c64",
   "metadata": {},
   "outputs": [],
   "source": []
  },
  {
   "cell_type": "code",
   "execution_count": null,
   "id": "0c5fb28a-850f-48e5-a744-3a1c07cabeb9",
   "metadata": {},
   "outputs": [],
   "source": []
  }
 ],
 "metadata": {
  "kernelspec": {
   "display_name": "Python 3 (ipykernel)",
   "language": "python",
   "name": "python3"
  },
  "language_info": {
   "codemirror_mode": {
    "name": "ipython",
    "version": 3
   },
   "file_extension": ".py",
   "mimetype": "text/x-python",
   "name": "python",
   "nbconvert_exporter": "python",
   "pygments_lexer": "ipython3",
   "version": "3.12.7"
  }
 },
 "nbformat": 4,
 "nbformat_minor": 5
}
