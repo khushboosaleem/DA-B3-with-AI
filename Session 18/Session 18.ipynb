{
 "cells": [
  {
   "cell_type": "code",
   "execution_count": null,
   "id": "c3e964f6-989d-4847-ab2b-37cea6201f7c",
   "metadata": {},
   "outputs": [],
   "source": [
    "!pip install pandas"
   ]
  },
  {
   "cell_type": "code",
   "execution_count": null,
   "id": "361e4eda-7565-4539-bac9-6fe96b441519",
   "metadata": {},
   "outputs": [],
   "source": [
    "import pandas as pd"
   ]
  },
  {
   "cell_type": "code",
   "execution_count": null,
   "id": "96d263a7-1c8f-4d7a-ae16-e6c80b6ce846",
   "metadata": {},
   "outputs": [],
   "source": [
    "dir(pd)"
   ]
  },
  {
   "cell_type": "code",
   "execution_count": null,
   "id": "c4034ca7-e325-45e6-8e37-bec24b9de06f",
   "metadata": {},
   "outputs": [],
   "source": [
    "df = pd.read_csv('retail supermarket.csv')\n",
    "df"
   ]
  },
  {
   "cell_type": "code",
   "execution_count": null,
   "id": "d7034d3a-f8b9-44af-86dc-d63fc4607b48",
   "metadata": {},
   "outputs": [],
   "source": [
    "df.shape"
   ]
  },
  {
   "cell_type": "code",
   "execution_count": null,
   "id": "d941b7f2-6eff-47fd-a8e6-c0e4ede623ed",
   "metadata": {},
   "outputs": [],
   "source": [
    "df.shape[0]"
   ]
  },
  {
   "cell_type": "code",
   "execution_count": null,
   "id": "867c5bbf-73d6-441a-bf17-06180bca0068",
   "metadata": {},
   "outputs": [],
   "source": [
    "df.shape[1]"
   ]
  },
  {
   "cell_type": "code",
   "execution_count": null,
   "id": "ed23c39c-5283-4f3b-ac81-4d9464e17364",
   "metadata": {},
   "outputs": [],
   "source": [
    "df.shape[2]"
   ]
  },
  {
   "cell_type": "code",
   "execution_count": null,
   "id": "0c9e427d-532d-4e4b-ade3-0cbd23c3bb44",
   "metadata": {},
   "outputs": [],
   "source": [
    "df"
   ]
  },
  {
   "cell_type": "code",
   "execution_count": null,
   "id": "0c3a1387-318b-49de-98ad-8d6b41962e39",
   "metadata": {},
   "outputs": [],
   "source": [
    "df.info()"
   ]
  },
  {
   "cell_type": "code",
   "execution_count": null,
   "id": "4ba6d363-3e1f-4f9d-8580-af16039cf57c",
   "metadata": {},
   "outputs": [],
   "source": [
    "df.dtypes"
   ]
  },
  {
   "cell_type": "code",
   "execution_count": null,
   "id": "d842e814-286c-4366-8cd1-523967d93255",
   "metadata": {},
   "outputs": [],
   "source": [
    "df.head()"
   ]
  },
  {
   "cell_type": "code",
   "execution_count": null,
   "id": "7b77e871-0e68-4d83-968c-273a22f8bfc0",
   "metadata": {},
   "outputs": [],
   "source": [
    "df.head(10)"
   ]
  },
  {
   "cell_type": "code",
   "execution_count": null,
   "id": "666bb4b0-7488-4f21-ac04-9a910b9ef8c9",
   "metadata": {},
   "outputs": [],
   "source": [
    "df.tail()"
   ]
  },
  {
   "cell_type": "code",
   "execution_count": null,
   "id": "370508c2-17e8-4f5d-ab1e-f8485b646325",
   "metadata": {},
   "outputs": [],
   "source": [
    "df.tail(100)"
   ]
  },
  {
   "cell_type": "code",
   "execution_count": null,
   "id": "4ee7e5ea-5f33-4cc5-8492-a42a7aadca69",
   "metadata": {},
   "outputs": [],
   "source": [
    "df['Region']"
   ]
  },
  {
   "cell_type": "code",
   "execution_count": null,
   "id": "1a2a9934-7fdb-4716-b72f-fd5c9b0bd219",
   "metadata": {},
   "outputs": [],
   "source": [
    "# pd.options.display.max_rows = None"
   ]
  },
  {
   "cell_type": "code",
   "execution_count": null,
   "id": "8b140874-219a-407c-844d-2f1ad50b9cb1",
   "metadata": {},
   "outputs": [],
   "source": [
    "df['Region']"
   ]
  },
  {
   "cell_type": "code",
   "execution_count": null,
   "id": "4e62b876-4e00-405a-b0be-2b82819d9a4c",
   "metadata": {},
   "outputs": [],
   "source": [
    "df"
   ]
  },
  {
   "cell_type": "code",
   "execution_count": null,
   "id": "5b65c3eb-430b-4833-a282-77f9530861cf",
   "metadata": {},
   "outputs": [],
   "source": [
    "df[['Region','Couontry','Sales']]"
   ]
  },
  {
   "cell_type": "code",
   "execution_count": null,
   "id": "21d8e168-a1fa-4861-a599-b5b1d887580d",
   "metadata": {},
   "outputs": [],
   "source": [
    "df[['Region','Country','Sales']]"
   ]
  },
  {
   "cell_type": "code",
   "execution_count": null,
   "id": "d56b5775-c289-4647-bfe2-efc27e0ec1f5",
   "metadata": {},
   "outputs": [],
   "source": [
    "df"
   ]
  },
  {
   "cell_type": "markdown",
   "id": "3b082dff-4e31-492f-938d-ec56af72b400",
   "metadata": {},
   "source": [
    "**loc (Label-based indexing)** \n",
    "Syntax: `df.loc[row_label, column_label]`"
   ]
  },
  {
   "cell_type": "code",
   "execution_count": null,
   "id": "be2d492a-7aaf-4143-8ade-45dbdeae0337",
   "metadata": {},
   "outputs": [],
   "source": [
    "df.loc[2]"
   ]
  },
  {
   "cell_type": "code",
   "execution_count": null,
   "id": "3d9a21ea-99c7-43f8-a4c5-795d0d74bdb1",
   "metadata": {},
   "outputs": [],
   "source": [
    "df.loc[2,'State']"
   ]
  },
  {
   "cell_type": "markdown",
   "id": "fc46d82d-c0ac-466f-94d2-78e20ed4251d",
   "metadata": {},
   "source": [
    "**iloc (Integer-based indexing)** `Syntax: df.iloc[row_index, column_index]`"
   ]
  },
  {
   "cell_type": "code",
   "execution_count": null,
   "id": "41d54650-7f44-4b3d-9442-60234a4ce2e3",
   "metadata": {},
   "outputs": [],
   "source": [
    "df.iloc[2]"
   ]
  },
  {
   "cell_type": "code",
   "execution_count": null,
   "id": "d2c5b018-daf5-4218-9283-2ede63a097e3",
   "metadata": {},
   "outputs": [],
   "source": [
    "df.iloc[2,4]"
   ]
  },
  {
   "cell_type": "code",
   "execution_count": null,
   "id": "070e9c4e-15cc-4e41-bc45-482dec88c775",
   "metadata": {},
   "outputs": [],
   "source": [
    "df.loc[2:20]"
   ]
  },
  {
   "cell_type": "code",
   "execution_count": null,
   "id": "1c461ac9-73e8-4bc7-b196-104d74af99ab",
   "metadata": {},
   "outputs": [],
   "source": [
    "df.iloc[2:20]"
   ]
  },
  {
   "cell_type": "code",
   "execution_count": null,
   "id": "47fc4fee-47bd-4814-88ad-4929e67a0314",
   "metadata": {},
   "outputs": [],
   "source": [
    "df.loc[2:20,['Region','Sales']]"
   ]
  },
  {
   "cell_type": "code",
   "execution_count": null,
   "id": "3628f4a7-4ea4-4258-a2ce-d30da4280e3f",
   "metadata": {},
   "outputs": [],
   "source": [
    "df.iloc[2:20,[6,9]]"
   ]
  },
  {
   "cell_type": "code",
   "execution_count": null,
   "id": "3e909d0a-dcab-40a4-bc39-b12f1da06d05",
   "metadata": {},
   "outputs": [],
   "source": [
    "df.iloc[2,4,100]"
   ]
  },
  {
   "cell_type": "code",
   "execution_count": null,
   "id": "7615a61b-809c-4be8-8cca-c0f12af03fb0",
   "metadata": {},
   "outputs": [],
   "source": [
    "df.iloc[[2,4,100]]"
   ]
  },
  {
   "cell_type": "code",
   "execution_count": null,
   "id": "a02fdf3e-8272-48d4-b30f-e6f7069e46c4",
   "metadata": {},
   "outputs": [],
   "source": [
    "df.iloc[[2,4,100],3:10]"
   ]
  },
  {
   "cell_type": "code",
   "execution_count": null,
   "id": "9c27cc55-4cb3-44f8-8398-98c97e5ec63d",
   "metadata": {},
   "outputs": [],
   "source": [
    "df.loc[[2,4,100],'City':'Sales']"
   ]
  },
  {
   "cell_type": "markdown",
   "id": "c0d9ddfb-8eaa-4b68-be6f-61b07ce69874",
   "metadata": {},
   "source": [
    "# Logical Operators in Pandas:\n",
    "    * & (and)\n",
    "    * | (or)\n",
    "    * ~ (not)    tilde"
   ]
  },
  {
   "cell_type": "code",
   "execution_count": null,
   "id": "bd2bfef6-2c4c-4889-a260-f0ee89f66bf4",
   "metadata": {},
   "outputs": [],
   "source": [
    "df"
   ]
  },
  {
   "cell_type": "code",
   "execution_count": null,
   "id": "8ad8c1e1-03cf-4035-b8d2-65437b702353",
   "metadata": {},
   "outputs": [],
   "source": [
    "df['Region']"
   ]
  },
  {
   "cell_type": "code",
   "execution_count": null,
   "id": "b2aee574-eab7-47e4-8e68-053f735eb2e6",
   "metadata": {},
   "outputs": [],
   "source": [
    "df.Region"
   ]
  },
  {
   "cell_type": "code",
   "execution_count": null,
   "id": "1ebc8c9d-a244-4a76-830b-8759939102ca",
   "metadata": {},
   "outputs": [],
   "source": [
    "df.Region.unique()"
   ]
  },
  {
   "cell_type": "code",
   "execution_count": null,
   "id": "77093b6d-b721-4f8d-a52a-a88abe74765a",
   "metadata": {},
   "outputs": [],
   "source": [
    "df"
   ]
  },
  {
   "cell_type": "code",
   "execution_count": null,
   "id": "c0e24630-d0d6-4ded-bbbf-1eac7e9c275a",
   "metadata": {},
   "outputs": [],
   "source": [
    "df['Region'] == 'Central'"
   ]
  },
  {
   "cell_type": "code",
   "execution_count": null,
   "id": "597e0a4a-2e47-4125-8355-5a0c10006868",
   "metadata": {},
   "outputs": [],
   "source": [
    "Central = df[df['Region'] == 'Central']\n",
    "Central"
   ]
  },
  {
   "cell_type": "code",
   "execution_count": null,
   "id": "224ec348-0628-49e0-8b55-8e46a979e36a",
   "metadata": {},
   "outputs": [],
   "source": [
    "Central.to_csv('central1.csv',index=False)"
   ]
  },
  {
   "cell_type": "code",
   "execution_count": null,
   "id": "5e984517-f7f0-4d7e-b2d0-8aad9afc5659",
   "metadata": {},
   "outputs": [],
   "source": [
    "df"
   ]
  },
  {
   "cell_type": "code",
   "execution_count": null,
   "id": "aaf9e1f5-3856-4b12-9bb3-c36de2f51a18",
   "metadata": {},
   "outputs": [],
   "source": [
    "df['Category'].unique()"
   ]
  },
  {
   "cell_type": "code",
   "execution_count": null,
   "id": "1a9d9546-e149-40bb-a847-a3b7ecab9be4",
   "metadata": {
    "scrolled": true
   },
   "outputs": [],
   "source": [
    "df[df['Region'] == 'South']"
   ]
  },
  {
   "cell_type": "code",
   "execution_count": null,
   "id": "25407dfe-8db8-4fcf-aff2-c58a61d2cae9",
   "metadata": {},
   "outputs": [],
   "source": [
    "df[df['Category'] == 'Furniture']"
   ]
  },
  {
   "cell_type": "code",
   "execution_count": null,
   "id": "9e8f136c-352a-4d66-b7ca-4a4e29b9de5f",
   "metadata": {},
   "outputs": [],
   "source": [
    "(df['Region'] == 'South') & (df['Category'] == 'Furniture')"
   ]
  },
  {
   "cell_type": "code",
   "execution_count": null,
   "id": "4d3c0857-ce84-4a19-be3d-c25f66fe47dd",
   "metadata": {},
   "outputs": [],
   "source": [
    "df[(df['Region'] == 'South') & (df['Category'] == 'Furniture')]\n"
   ]
  },
  {
   "cell_type": "code",
   "execution_count": null,
   "id": "23544a92-5b3a-4d47-a6e3-d7a83008f374",
   "metadata": {
    "scrolled": true
   },
   "outputs": [],
   "source": [
    "df[~(df['Region'] == 'South') & (df['Category'] == 'Furniture')]\n"
   ]
  },
  {
   "cell_type": "code",
   "execution_count": null,
   "id": "04205d52-9454-4c05-ba5a-f7a444fb49e0",
   "metadata": {},
   "outputs": [],
   "source": [
    "df[(df['Category'] == 'Furniture') & ~(df['Region'] == 'South') ]"
   ]
  },
  {
   "cell_type": "code",
   "execution_count": null,
   "id": "1a3f0ef6-7b0a-4dba-93d2-5512f753d0f4",
   "metadata": {},
   "outputs": [],
   "source": [
    "df['Segment'].unique()"
   ]
  },
  {
   "cell_type": "code",
   "execution_count": null,
   "id": "05b45484-c6e8-4f4e-866e-e6b013eb2d51",
   "metadata": {},
   "outputs": [],
   "source": [
    "df['Segment'] == 'Consumer'"
   ]
  },
  {
   "cell_type": "code",
   "execution_count": null,
   "id": "eba7c737-d8d7-42a3-8581-122a050ea90f",
   "metadata": {},
   "outputs": [],
   "source": [
    "df['Segment'] == 'Home Office'"
   ]
  },
  {
   "cell_type": "code",
   "execution_count": null,
   "id": "aeb27941-41c6-4d98-911d-bf9b46815245",
   "metadata": {},
   "outputs": [],
   "source": [
    "df[(df['Segment'] == 'Consumer') & (df['Segment'] == 'Home Office')]"
   ]
  },
  {
   "cell_type": "code",
   "execution_count": null,
   "id": "b80ea52d-b0b7-4950-88e7-02be0f880bc3",
   "metadata": {},
   "outputs": [],
   "source": [
    "df[(df['Segment'] == 'Consumer') | (df['Segment'] == 'Home Office')]"
   ]
  },
  {
   "cell_type": "raw",
   "id": "58f920b0-de22-4e3b-930f-5431016ef993",
   "metadata": {},
   "source": [
    "show the records where the Sales column has values greater than 600,\n",
    "and the Region column contains only 'West'."
   ]
  },
  {
   "cell_type": "raw",
   "id": "a7fa288e-fc2e-47cf-ae52-9f89db4ec6f6",
   "metadata": {},
   "source": [
    "# shows the records where the Region 'Central' or 'East'."
   ]
  }
 ],
 "metadata": {
  "kernelspec": {
   "display_name": "Python [conda env:base] *",
   "language": "python",
   "name": "conda-base-py"
  },
  "language_info": {
   "codemirror_mode": {
    "name": "ipython",
    "version": 3
   },
   "file_extension": ".py",
   "mimetype": "text/x-python",
   "name": "python",
   "nbconvert_exporter": "python",
   "pygments_lexer": "ipython3",
   "version": "3.12.4"
  }
 },
 "nbformat": 4,
 "nbformat_minor": 5
}
