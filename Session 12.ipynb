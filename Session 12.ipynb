{
 "cells": [
  {
   "cell_type": "markdown",
   "id": "76df218b-3de9-4090-b7aa-82aa429275bd",
   "metadata": {},
   "source": [
    "### Functions\n",
    "\n",
    "A function is a reusable block of code that performs a specific task. \n",
    "\n",
    "- Reusability: Once a function is defined, you can call it multiple times without having to rewrite the same code.\n",
    "\n",
    "- Abstraction: Functions can hide complex implementation details, exposing only what’s necessary."
   ]
  },
  {
   "cell_type": "code",
   "execution_count": 1,
   "id": "93e88137-ee64-449d-a2ee-642494a5a5a6",
   "metadata": {},
   "outputs": [],
   "source": [
    "a = 'string'"
   ]
  },
  {
   "cell_type": "code",
   "execution_count": 2,
   "id": "32c0db0f-1800-4a7e-a5b9-eb1b5553d21c",
   "metadata": {},
   "outputs": [
    {
     "data": {
      "text/plain": [
       "str"
      ]
     },
     "execution_count": 2,
     "metadata": {},
     "output_type": "execute_result"
    }
   ],
   "source": [
    "type(a) #comments\n",
    "# dir()\n",
    "# len()"
   ]
  },
  {
   "cell_type": "code",
   "execution_count": 3,
   "id": "2dc7ce3d-8895-41a5-9180-495ea272ab0e",
   "metadata": {},
   "outputs": [
    {
     "data": {
      "text/plain": [
       "6"
      ]
     },
     "execution_count": 3,
     "metadata": {},
     "output_type": "execute_result"
    }
   ],
   "source": [
    "len(a)"
   ]
  },
  {
   "cell_type": "code",
   "execution_count": 4,
   "id": "83d2e4b7-60ab-426d-b16a-11bdc26e0486",
   "metadata": {},
   "outputs": [
    {
     "name": "stdout",
     "output_type": "stream",
     "text": [
      "\n"
     ]
    }
   ],
   "source": [
    "print()"
   ]
  },
  {
   "cell_type": "code",
   "execution_count": 5,
   "id": "5c342bcb-735f-45d4-af5d-4894778db380",
   "metadata": {},
   "outputs": [],
   "source": [
    "# dir(a)"
   ]
  },
  {
   "cell_type": "code",
   "execution_count": 6,
   "id": "1bfb7e7e-5950-4fa5-a641-01c9d11579e1",
   "metadata": {},
   "outputs": [
    {
     "name": "stdout",
     "output_type": "stream",
     "text": [
      "my first function\n",
      "congratulation\n",
      "great\n"
     ]
    }
   ],
   "source": [
    "# Defining a Function\n",
    "#sytax\n",
    "def my_func(): #initialize\n",
    "    print('my first function') #action\n",
    "    print('congratulation')\n",
    "    print('great')\n",
    "\n",
    "my_func() #calling function"
   ]
  },
  {
   "cell_type": "code",
   "execution_count": 7,
   "id": "0dfee6c7-e654-4c03-aca3-a3ec5189df3f",
   "metadata": {},
   "outputs": [
    {
     "name": "stdout",
     "output_type": "stream",
     "text": [
      "my first function\n",
      "congratulation\n",
      "great\n",
      "None\n"
     ]
    }
   ],
   "source": [
    "print(my_func())"
   ]
  },
  {
   "cell_type": "code",
   "execution_count": 8,
   "id": "d1969c4e-8469-42f5-90d9-9919b79aed6f",
   "metadata": {},
   "outputs": [
    {
     "name": "stdout",
     "output_type": "stream",
     "text": [
      "my first function\n",
      "congratulation\n",
      "great\n"
     ]
    }
   ],
   "source": [
    "my_func()"
   ]
  },
  {
   "cell_type": "code",
   "execution_count": 9,
   "id": "21a0c8f3-e265-4baa-b99e-1d0f7f0665ff",
   "metadata": {},
   "outputs": [
    {
     "ename": "SyntaxError",
     "evalue": "expected '(' (1702941639.py, line 1)",
     "output_type": "error",
     "traceback": [
      "\u001b[1;36m  Cell \u001b[1;32mIn[9], line 1\u001b[1;36m\u001b[0m\n\u001b[1;33m    def first_func:\u001b[0m\n\u001b[1;37m                  ^\u001b[0m\n\u001b[1;31mSyntaxError\u001b[0m\u001b[1;31m:\u001b[0m expected '('\n"
     ]
    }
   ],
   "source": [
    "def first_func:\n",
    "    print('checking')\n",
    "\n",
    "first_func"
   ]
  },
  {
   "cell_type": "code",
   "execution_count": 10,
   "id": "061646f8-e402-4c1d-8f4d-cd8578cdd033",
   "metadata": {},
   "outputs": [
    {
     "ename": "IndentationError",
     "evalue": "expected an indented block after function definition on line 1 (2453589542.py, line 3)",
     "output_type": "error",
     "traceback": [
      "\u001b[1;36m  Cell \u001b[1;32mIn[10], line 3\u001b[1;36m\u001b[0m\n\u001b[1;33m    print('checking')\u001b[0m\n\u001b[1;37m    ^\u001b[0m\n\u001b[1;31mIndentationError\u001b[0m\u001b[1;31m:\u001b[0m expected an indented block after function definition on line 1\n"
     ]
    }
   ],
   "source": [
    "def second_func():\n",
    "\n",
    "print('checking')\n",
    "\n",
    "second_func()"
   ]
  },
  {
   "cell_type": "code",
   "execution_count": null,
   "id": "1affc687-0b5e-4ede-b889-cb0420aa2e3b",
   "metadata": {},
   "outputs": [],
   "source": []
  },
  {
   "cell_type": "markdown",
   "id": "93d38de8-1d3d-4f4a-bacc-8b7ce33ce826",
   "metadata": {},
   "source": [
    "Function with Parameters"
   ]
  },
  {
   "cell_type": "code",
   "execution_count": 11,
   "id": "1960f21b-c501-4e54-b01d-2a0f000fba6e",
   "metadata": {},
   "outputs": [],
   "source": [
    "def add(a,b): #parameters a,b\n",
    "    print(a+b)"
   ]
  },
  {
   "cell_type": "code",
   "execution_count": 12,
   "id": "300afcda-5824-4d6b-acb3-779df6cef888",
   "metadata": {},
   "outputs": [
    {
     "ename": "TypeError",
     "evalue": "add() missing 2 required positional arguments: 'a' and 'b'",
     "output_type": "error",
     "traceback": [
      "\u001b[1;31m---------------------------------------------------------------------------\u001b[0m",
      "\u001b[1;31mTypeError\u001b[0m                                 Traceback (most recent call last)",
      "Cell \u001b[1;32mIn[12], line 1\u001b[0m\n\u001b[1;32m----> 1\u001b[0m add()\n",
      "\u001b[1;31mTypeError\u001b[0m: add() missing 2 required positional arguments: 'a' and 'b'"
     ]
    }
   ],
   "source": [
    "add()"
   ]
  },
  {
   "cell_type": "code",
   "execution_count": null,
   "id": "564c9bb0-ac0d-4b09-aa7e-a586a36575d5",
   "metadata": {},
   "outputs": [],
   "source": [
    "add(1,4) #arguments"
   ]
  },
  {
   "cell_type": "code",
   "execution_count": 13,
   "id": "71279cc2-65e5-49c0-a8a9-b8b4abadb181",
   "metadata": {},
   "outputs": [
    {
     "ename": "TypeError",
     "evalue": "add() takes 2 positional arguments but 3 were given",
     "output_type": "error",
     "traceback": [
      "\u001b[1;31m---------------------------------------------------------------------------\u001b[0m",
      "\u001b[1;31mTypeError\u001b[0m                                 Traceback (most recent call last)",
      "Cell \u001b[1;32mIn[13], line 1\u001b[0m\n\u001b[1;32m----> 1\u001b[0m add(\u001b[38;5;241m1\u001b[39m,\u001b[38;5;241m2\u001b[39m,\u001b[38;5;241m5\u001b[39m)\n",
      "\u001b[1;31mTypeError\u001b[0m: add() takes 2 positional arguments but 3 were given"
     ]
    }
   ],
   "source": [
    "add(1,2,5)"
   ]
  },
  {
   "cell_type": "code",
   "execution_count": 14,
   "id": "6ed2b416-5319-4108-bdb8-631e2e3a9b55",
   "metadata": {},
   "outputs": [],
   "source": [
    "#Default Parameter\n",
    "def multiply(x,y=2):\n",
    "    print(x*y)"
   ]
  },
  {
   "cell_type": "code",
   "execution_count": 15,
   "id": "6733dad8-c00e-48a7-8cf5-7b8a840332e0",
   "metadata": {},
   "outputs": [
    {
     "name": "stdout",
     "output_type": "stream",
     "text": [
      "6\n"
     ]
    }
   ],
   "source": [
    "multiply(3)"
   ]
  },
  {
   "cell_type": "code",
   "execution_count": 16,
   "id": "8977dec3-c0bd-47f4-b65d-9862ea2a50b5",
   "metadata": {},
   "outputs": [
    {
     "name": "stdout",
     "output_type": "stream",
     "text": [
      "12\n"
     ]
    }
   ],
   "source": [
    "multiply(3,4)"
   ]
  },
  {
   "cell_type": "code",
   "execution_count": 17,
   "id": "fdff4dfe-09b1-4504-b17a-3ab8414afd97",
   "metadata": {},
   "outputs": [
    {
     "name": "stdout",
     "output_type": "stream",
     "text": [
      "16\n"
     ]
    }
   ],
   "source": [
    "multiply(4,4)"
   ]
  },
  {
   "cell_type": "code",
   "execution_count": 18,
   "id": "82b07e5d-8d30-40fb-b24b-e4b47b0df5b1",
   "metadata": {},
   "outputs": [],
   "source": [
    "# multiply(3,)"
   ]
  },
  {
   "cell_type": "code",
   "execution_count": 19,
   "id": "5ad9d3dd-8ce2-4ff0-b93e-563e8b9c1867",
   "metadata": {},
   "outputs": [],
   "source": [
    "def welcome(y='Guest'):\n",
    "    print('Hi',y)"
   ]
  },
  {
   "cell_type": "code",
   "execution_count": 20,
   "id": "58abf56a-73df-4340-a5b1-5954e2443646",
   "metadata": {},
   "outputs": [
    {
     "name": "stdout",
     "output_type": "stream",
     "text": [
      "Hi Guest\n"
     ]
    }
   ],
   "source": [
    "welcome()"
   ]
  },
  {
   "cell_type": "code",
   "execution_count": 21,
   "id": "4fd587cb-4b50-4378-90a5-cfba2b460950",
   "metadata": {},
   "outputs": [
    {
     "name": "stdout",
     "output_type": "stream",
     "text": [
      "Hi shahmir\n"
     ]
    }
   ],
   "source": [
    "welcome('shahmir')"
   ]
  },
  {
   "cell_type": "code",
   "execution_count": 22,
   "id": "e0e758aa-11e6-4c38-8952-80e5ceb28e98",
   "metadata": {},
   "outputs": [],
   "source": [
    "# Positional Argument\n",
    "def name(first, last):\n",
    "    print(last,first)"
   ]
  },
  {
   "cell_type": "code",
   "execution_count": 23,
   "id": "097fe099-c406-4a65-8801-580d7d2651a9",
   "metadata": {},
   "outputs": [
    {
     "name": "stdout",
     "output_type": "stream",
     "text": [
      "khan ali\n"
     ]
    }
   ],
   "source": [
    "name('ali','khan')"
   ]
  },
  {
   "cell_type": "code",
   "execution_count": 24,
   "id": "1742977c-7c86-414e-8488-13d2e7fe179c",
   "metadata": {},
   "outputs": [
    {
     "name": "stdout",
     "output_type": "stream",
     "text": [
      "2.0\n"
     ]
    }
   ],
   "source": [
    "def div(u,y):\n",
    "    print(y/u)\n",
    "\n",
    "div(2,4)"
   ]
  },
  {
   "cell_type": "code",
   "execution_count": null,
   "id": "6b682a81-2ccb-4959-9aa2-b90beb3dcd34",
   "metadata": {},
   "outputs": [],
   "source": []
  },
  {
   "cell_type": "code",
   "execution_count": 25,
   "id": "ac0ee164-96d1-4ea1-a72a-16e4975c547a",
   "metadata": {},
   "outputs": [],
   "source": [
    "# Keyword Argument\n",
    "def addi(k=2, t=3):\n",
    "    print(k+t)"
   ]
  },
  {
   "cell_type": "code",
   "execution_count": 26,
   "id": "547dca20-1d80-4d5a-80f4-11b8a31c8adb",
   "metadata": {},
   "outputs": [
    {
     "name": "stdout",
     "output_type": "stream",
     "text": [
      "5\n"
     ]
    }
   ],
   "source": [
    "addi() "
   ]
  },
  {
   "cell_type": "code",
   "execution_count": 27,
   "id": "957eef9a-517f-4244-8473-926e1e1d42f3",
   "metadata": {},
   "outputs": [
    {
     "name": "stdout",
     "output_type": "stream",
     "text": [
      "4\n"
     ]
    }
   ],
   "source": [
    "addi(2,2)"
   ]
  },
  {
   "cell_type": "code",
   "execution_count": 28,
   "id": "20b46851-844e-45c4-8784-e6be8570c157",
   "metadata": {},
   "outputs": [
    {
     "name": "stdout",
     "output_type": "stream",
     "text": [
      "25\n"
     ]
    }
   ],
   "source": [
    "addi(t=22,k=3)"
   ]
  },
  {
   "cell_type": "code",
   "execution_count": 29,
   "id": "e8b5543e-c443-4f56-b3c3-fab5f8a207ee",
   "metadata": {},
   "outputs": [
    {
     "name": "stdout",
     "output_type": "stream",
     "text": [
      "khan apple\n"
     ]
    }
   ],
   "source": [
    "def name(first, last):\n",
    "    print(first,last)\n",
    "\n",
    "name(last='apple', first='khan')"
   ]
  },
  {
   "cell_type": "code",
   "execution_count": 30,
   "id": "9b1a9651-bb52-410b-a203-fc7a13c39c9c",
   "metadata": {},
   "outputs": [
    {
     "name": "stdout",
     "output_type": "stream",
     "text": [
      "james kamal\n"
     ]
    }
   ],
   "source": [
    "name('james','kamal')"
   ]
  },
  {
   "cell_type": "code",
   "execution_count": 31,
   "id": "27240662-dd2d-4eda-a80a-3c804c1f1cb7",
   "metadata": {},
   "outputs": [
    {
     "ename": "SyntaxError",
     "evalue": "positional argument follows keyword argument (2351712794.py, line 4)",
     "output_type": "error",
     "traceback": [
      "\u001b[1;36m  Cell \u001b[1;32mIn[31], line 4\u001b[1;36m\u001b[0m\n\u001b[1;33m    name(last='apple','mango')\u001b[0m\n\u001b[1;37m                             ^\u001b[0m\n\u001b[1;31mSyntaxError\u001b[0m\u001b[1;31m:\u001b[0m positional argument follows keyword argument\n"
     ]
    }
   ],
   "source": [
    "def name(first,last):\n",
    "    print(first,last)\n",
    "\n",
    "name(last='apple','mango')"
   ]
  },
  {
   "cell_type": "code",
   "execution_count": 32,
   "id": "d8648588-5b4e-4835-b860-c7cebf9dfe5e",
   "metadata": {},
   "outputs": [
    {
     "name": "stdout",
     "output_type": "stream",
     "text": [
      "mango apple\n"
     ]
    }
   ],
   "source": [
    "def name(first,last):\n",
    "    print(first,last)\n",
    "\n",
    "name('mango',last='apple')"
   ]
  },
  {
   "cell_type": "code",
   "execution_count": 33,
   "id": "0a3122bf-c649-4252-9272-926bda5279b6",
   "metadata": {},
   "outputs": [
    {
     "ename": "TypeError",
     "evalue": "name() got multiple values for argument 'first'",
     "output_type": "error",
     "traceback": [
      "\u001b[1;31m---------------------------------------------------------------------------\u001b[0m",
      "\u001b[1;31mTypeError\u001b[0m                                 Traceback (most recent call last)",
      "Cell \u001b[1;32mIn[33], line 4\u001b[0m\n\u001b[0;32m      1\u001b[0m \u001b[38;5;28;01mdef\u001b[39;00m \u001b[38;5;21mname\u001b[39m(first,last):\n\u001b[0;32m      2\u001b[0m     \u001b[38;5;28mprint\u001b[39m(first,last)\n\u001b[1;32m----> 4\u001b[0m name(\u001b[38;5;124m'\u001b[39m\u001b[38;5;124mmango\u001b[39m\u001b[38;5;124m'\u001b[39m,first\u001b[38;5;241m=\u001b[39m\u001b[38;5;124m'\u001b[39m\u001b[38;5;124mapple\u001b[39m\u001b[38;5;124m'\u001b[39m)\n",
      "\u001b[1;31mTypeError\u001b[0m: name() got multiple values for argument 'first'"
     ]
    }
   ],
   "source": [
    "def name(first,last):\n",
    "    print(first,last)\n",
    "\n",
    "name('mango',first='apple')"
   ]
  },
  {
   "cell_type": "code",
   "execution_count": 34,
   "id": "56170c2e-721c-4bb6-88d3-e455985fe186",
   "metadata": {},
   "outputs": [
    {
     "ename": "SyntaxError",
     "evalue": "parameter without a default follows parameter with a default (1176047238.py, line 1)",
     "output_type": "error",
     "traceback": [
      "\u001b[1;36m  Cell \u001b[1;32mIn[34], line 1\u001b[1;36m\u001b[0m\n\u001b[1;33m    def name(first='coconut',last):\u001b[0m\n\u001b[1;37m                             ^\u001b[0m\n\u001b[1;31mSyntaxError\u001b[0m\u001b[1;31m:\u001b[0m parameter without a default follows parameter with a default\n"
     ]
    }
   ],
   "source": [
    "def name(first='coconut',last):\n",
    "    print(first,last)\n",
    "\n",
    "name(last='fruit')"
   ]
  },
  {
   "cell_type": "code",
   "execution_count": 35,
   "id": "3c52d804-b538-4c77-b95c-1735e0d47c69",
   "metadata": {},
   "outputs": [
    {
     "name": "stdout",
     "output_type": "stream",
     "text": [
      "coconut fruit\n"
     ]
    }
   ],
   "source": [
    "def name(last,first='coconut'):\n",
    "    print(first,last)\n",
    "\n",
    "name(last='fruit') \n",
    "\n",
    "#when defining a function, any parameter that has a default value must come after parameters that do not have a default value"
   ]
  },
  {
   "cell_type": "code",
   "execution_count": 36,
   "id": "b3b185d3-bbcf-4e9a-8443-08d4792a5616",
   "metadata": {},
   "outputs": [
    {
     "name": "stdout",
     "output_type": "stream",
     "text": [
      "('oil', 'ghee', 'sugar', 'salt')\n"
     ]
    }
   ],
   "source": [
    "# Arbitary number positional arguments\n",
    "def grocery(*args):\n",
    "    print(args)\n",
    "\n",
    "grocery('oil','ghee','sugar','salt')"
   ]
  },
  {
   "cell_type": "code",
   "execution_count": 37,
   "id": "bc9900ca-febc-4312-bce5-031a79f2377e",
   "metadata": {},
   "outputs": [
    {
     "name": "stdout",
     "output_type": "stream",
     "text": [
      "oil ghee sugar salt\n"
     ]
    }
   ],
   "source": [
    "# Arbitary number positional arguments\n",
    "def grocery(*args):\n",
    "    print(*args)\n",
    "\n",
    "grocery('oil','ghee','sugar','salt')"
   ]
  },
  {
   "cell_type": "code",
   "execution_count": null,
   "id": "7d108f7b-cd5e-4ced-a081-20b128e9d9f3",
   "metadata": {},
   "outputs": [],
   "source": [
    "def maximum(*xyz):\n",
    "    print(max(xyz))\n",
    "\n",
    "maximum(1,4,6,8,6,8,977)"
   ]
  },
  {
   "cell_type": "code",
   "execution_count": null,
   "id": "ce621ceb-8ab6-4be3-815d-5ea257df79eb",
   "metadata": {},
   "outputs": [],
   "source": [
    "# Arbitary number of keyword arguments\n",
    "def bio(name, age, **kwargs):\n",
    "    print(name)\n",
    "    print(age)\n",
    "    print(kwargs)\n",
    "\n",
    "bio('ahmed',33,address='Karachi',education='Msc',gender='Male')"
   ]
  },
  {
   "cell_type": "code",
   "execution_count": 40,
   "id": "2be26d96-69b7-455a-848c-8fdabb3c3215",
   "metadata": {},
   "outputs": [
    {
     "ename": "TypeError",
     "evalue": "'address' is an invalid keyword argument for print()",
     "output_type": "error",
     "traceback": [
      "\u001b[1;31m---------------------------------------------------------------------------\u001b[0m",
      "\u001b[1;31mTypeError\u001b[0m                                 Traceback (most recent call last)",
      "Cell \u001b[1;32mIn[40], line 5\u001b[0m\n\u001b[0;32m      2\u001b[0m \u001b[38;5;28;01mdef\u001b[39;00m \u001b[38;5;21mbio\u001b[39m(\u001b[38;5;241m*\u001b[39m\u001b[38;5;241m*\u001b[39mkwargs):\n\u001b[0;32m      3\u001b[0m     \u001b[38;5;28mprint\u001b[39m(\u001b[38;5;241m*\u001b[39m\u001b[38;5;241m*\u001b[39mkwargs)\n\u001b[1;32m----> 5\u001b[0m bio(address\u001b[38;5;241m=\u001b[39m\u001b[38;5;124m'\u001b[39m\u001b[38;5;124mKarachi\u001b[39m\u001b[38;5;124m'\u001b[39m,education\u001b[38;5;241m=\u001b[39m\u001b[38;5;124m'\u001b[39m\u001b[38;5;124mMsc\u001b[39m\u001b[38;5;124m'\u001b[39m,gender\u001b[38;5;241m=\u001b[39m\u001b[38;5;124m'\u001b[39m\u001b[38;5;124mMale\u001b[39m\u001b[38;5;124m'\u001b[39m)\n",
      "Cell \u001b[1;32mIn[40], line 3\u001b[0m, in \u001b[0;36mbio\u001b[1;34m(**kwargs)\u001b[0m\n\u001b[0;32m      2\u001b[0m \u001b[38;5;28;01mdef\u001b[39;00m \u001b[38;5;21mbio\u001b[39m(\u001b[38;5;241m*\u001b[39m\u001b[38;5;241m*\u001b[39mkwargs):\n\u001b[1;32m----> 3\u001b[0m     \u001b[38;5;28mprint\u001b[39m(\u001b[38;5;241m*\u001b[39m\u001b[38;5;241m*\u001b[39mkwargs)\n",
      "\u001b[1;31mTypeError\u001b[0m: 'address' is an invalid keyword argument for print()"
     ]
    }
   ],
   "source": [
    "# Arbitary number of keyword arguments\n",
    "def bio(**kwargs):\n",
    "    print(**kwargs)\n",
    "\n",
    "bio(address='Karachi',education='Msc',gender='Male')\n"
   ]
  },
  {
   "cell_type": "code",
   "execution_count": 41,
   "id": "b9463e63-3044-42b6-ba4a-7eb0ee1ade1e",
   "metadata": {},
   "outputs": [
    {
     "name": "stdout",
     "output_type": "stream",
     "text": [
      "positional arguments ('ahmed', 22, 'clifton')\n",
      "keyword arguments {'gender': 'Male', 'Salary': 20000000}\n"
     ]
    }
   ],
   "source": [
    "#Combination of *args and **kwargs\n",
    "def combo(*args, **kwargs):\n",
    "    print('positional arguments', args)\n",
    "    print('keyword arguments', kwargs)\n",
    "\n",
    "combo('ahmed',22,'clifton',gender='Male',Salary=20000000)"
   ]
  },
  {
   "cell_type": "code",
   "execution_count": 42,
   "id": "c151cc29-7ac6-4dc6-94eb-4656d3e1e1f5",
   "metadata": {},
   "outputs": [
    {
     "ename": "SyntaxError",
     "evalue": "arguments cannot follow var-keyword argument (3391732267.py, line 1)",
     "output_type": "error",
     "traceback": [
      "\u001b[1;36m  Cell \u001b[1;32mIn[42], line 1\u001b[1;36m\u001b[0m\n\u001b[1;33m    def combo(**kwargs,*args):\u001b[0m\n\u001b[1;37m                       ^\u001b[0m\n\u001b[1;31mSyntaxError\u001b[0m\u001b[1;31m:\u001b[0m arguments cannot follow var-keyword argument\n"
     ]
    }
   ],
   "source": [
    "def combo(**kwargs,*args):\n",
    "    print('positional arguments', args)\n",
    "    print('keyword arguments', kwargs)\n",
    "\n",
    "combo('ahmed',22,'clifton',gender='Male',Salary=20000000)"
   ]
  },
  {
   "cell_type": "code",
   "execution_count": null,
   "id": "c37f2ed2-9b67-417b-88b4-7c1d8ab44ce1",
   "metadata": {},
   "outputs": [],
   "source": []
  },
  {
   "cell_type": "code",
   "execution_count": null,
   "id": "6c836003-ea34-448a-9a49-4e3ec6fb8acd",
   "metadata": {},
   "outputs": [],
   "source": []
  }
 ],
 "metadata": {
  "kernelspec": {
   "display_name": "Python 3 (ipykernel)",
   "language": "python",
   "name": "python3"
  },
  "language_info": {
   "codemirror_mode": {
    "name": "ipython",
    "version": 3
   },
   "file_extension": ".py",
   "mimetype": "text/x-python",
   "name": "python",
   "nbconvert_exporter": "python",
   "pygments_lexer": "ipython3",
   "version": "3.12.7"
  }
 },
 "nbformat": 4,
 "nbformat_minor": 5
}
